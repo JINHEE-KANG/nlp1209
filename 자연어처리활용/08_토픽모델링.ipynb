{
 "cells": [
  {
   "cell_type": "markdown",
   "metadata": {},
   "source": [
    "# 토픽 모델링(Topic Modeling)"
   ]
  },
  {
   "cell_type": "markdown",
   "metadata": {},
   "source": [
    "## [1] TF-IDF(Term Frequency-Inverse Document Frequency) : 단어 빈도-역 문서 빈도"
   ]
  },
  {
   "cell_type": "code",
   "execution_count": 1,
   "metadata": {},
   "outputs": [],
   "source": [
    "import pandas as pd # 데이터프레임 사용을 위해\n",
    "import numpy as np\n",
    "from math import log # IDF 계산을 위해"
   ]
  },
  {
   "cell_type": "code",
   "execution_count": 2,
   "metadata": {},
   "outputs": [],
   "source": [
    "docs = [\n",
    "  '먹고 싶은 사과',\n",
    "  '먹고 싶은 바나나',\n",
    "  '길고 노란 바나나 바나나',\n",
    "  '저는 과일이 좋아요'\n",
    "] \n",
    "vocab = list(set(w for doc in docs for w in doc.split()))\n",
    "vocab.sort()"
   ]
  },
  {
   "cell_type": "code",
   "execution_count": 3,
   "metadata": {},
   "outputs": [],
   "source": [
    "N = len(docs) # 총 문서의 수\n",
    "\n",
    "def tf(t, d):  # 특정 문서 d에서의 특정 단어 t의 등장 횟수\n",
    "    return d.count(t)\n",
    "\n",
    "def idf(t):  # df(t):특정 단어 t가 등장한 문서의 수,idf(t):df(t)의 역수, log는 N이 커지면 값이 기하급수로 늘어나는걸 방지,분모 1은 df가 0일 경우 대비\n",
    "    df = 0\n",
    "    for doc in docs:\n",
    "        df += t in doc\n",
    "    return log(N/(df + 1))\n",
    "\n",
    "def tfidf(t, d): # tf(t,d)와 idf(t)를 곱한 값\n",
    "    return tf(t,d)* idf(t)"
   ]
  },
  {
   "cell_type": "code",
   "execution_count": 4,
   "metadata": {},
   "outputs": [
    {
     "data": {
      "text/html": [
       "<div>\n",
       "<style scoped>\n",
       "    .dataframe tbody tr th:only-of-type {\n",
       "        vertical-align: middle;\n",
       "    }\n",
       "\n",
       "    .dataframe tbody tr th {\n",
       "        vertical-align: top;\n",
       "    }\n",
       "\n",
       "    .dataframe thead th {\n",
       "        text-align: right;\n",
       "    }\n",
       "</style>\n",
       "<table border=\"1\" class=\"dataframe\">\n",
       "  <thead>\n",
       "    <tr style=\"text-align: right;\">\n",
       "      <th></th>\n",
       "      <th>과일이</th>\n",
       "      <th>길고</th>\n",
       "      <th>노란</th>\n",
       "      <th>먹고</th>\n",
       "      <th>바나나</th>\n",
       "      <th>사과</th>\n",
       "      <th>싶은</th>\n",
       "      <th>저는</th>\n",
       "      <th>좋아요</th>\n",
       "    </tr>\n",
       "  </thead>\n",
       "  <tbody>\n",
       "    <tr>\n",
       "      <th>0</th>\n",
       "      <td>0</td>\n",
       "      <td>0</td>\n",
       "      <td>0</td>\n",
       "      <td>1</td>\n",
       "      <td>0</td>\n",
       "      <td>1</td>\n",
       "      <td>1</td>\n",
       "      <td>0</td>\n",
       "      <td>0</td>\n",
       "    </tr>\n",
       "    <tr>\n",
       "      <th>1</th>\n",
       "      <td>0</td>\n",
       "      <td>0</td>\n",
       "      <td>0</td>\n",
       "      <td>1</td>\n",
       "      <td>1</td>\n",
       "      <td>0</td>\n",
       "      <td>1</td>\n",
       "      <td>0</td>\n",
       "      <td>0</td>\n",
       "    </tr>\n",
       "    <tr>\n",
       "      <th>2</th>\n",
       "      <td>0</td>\n",
       "      <td>1</td>\n",
       "      <td>1</td>\n",
       "      <td>0</td>\n",
       "      <td>2</td>\n",
       "      <td>0</td>\n",
       "      <td>0</td>\n",
       "      <td>0</td>\n",
       "      <td>0</td>\n",
       "    </tr>\n",
       "    <tr>\n",
       "      <th>3</th>\n",
       "      <td>1</td>\n",
       "      <td>0</td>\n",
       "      <td>0</td>\n",
       "      <td>0</td>\n",
       "      <td>0</td>\n",
       "      <td>0</td>\n",
       "      <td>0</td>\n",
       "      <td>1</td>\n",
       "      <td>1</td>\n",
       "    </tr>\n",
       "  </tbody>\n",
       "</table>\n",
       "</div>"
      ],
      "text/plain": [
       "   과일이  길고  노란  먹고  바나나  사과  싶은  저는  좋아요\n",
       "0    0   0   0   1    0   1   1   0    0\n",
       "1    0   0   0   1    1   0   1   0    0\n",
       "2    0   1   1   0    2   0   0   0    0\n",
       "3    1   0   0   0    0   0   0   1    1"
      ]
     },
     "execution_count": 4,
     "metadata": {},
     "output_type": "execute_result"
    }
   ],
   "source": [
    "# Document-Term Matrix(DTM) : 문서에서 등장하는 각 단어들의 빈도를 행렬로 표현\n",
    "result = []\n",
    "for i in range(N):\n",
    "    result.append([])\n",
    "    d = docs[i]\n",
    "    for j in range(len(vocab)):\n",
    "        t = vocab[j]        \n",
    "        result[-1].append(tf(t, d))\n",
    "\n",
    "tf_ = pd.DataFrame(result, columns = vocab)\n",
    "tf_"
   ]
  },
  {
   "cell_type": "code",
   "execution_count": 5,
   "metadata": {},
   "outputs": [
    {
     "data": {
      "text/html": [
       "<div>\n",
       "<style scoped>\n",
       "    .dataframe tbody tr th:only-of-type {\n",
       "        vertical-align: middle;\n",
       "    }\n",
       "\n",
       "    .dataframe tbody tr th {\n",
       "        vertical-align: top;\n",
       "    }\n",
       "\n",
       "    .dataframe thead th {\n",
       "        text-align: right;\n",
       "    }\n",
       "</style>\n",
       "<table border=\"1\" class=\"dataframe\">\n",
       "  <thead>\n",
       "    <tr style=\"text-align: right;\">\n",
       "      <th></th>\n",
       "      <th>IDF</th>\n",
       "    </tr>\n",
       "  </thead>\n",
       "  <tbody>\n",
       "    <tr>\n",
       "      <th>과일이</th>\n",
       "      <td>0.693147</td>\n",
       "    </tr>\n",
       "    <tr>\n",
       "      <th>길고</th>\n",
       "      <td>0.693147</td>\n",
       "    </tr>\n",
       "    <tr>\n",
       "      <th>노란</th>\n",
       "      <td>0.693147</td>\n",
       "    </tr>\n",
       "    <tr>\n",
       "      <th>먹고</th>\n",
       "      <td>0.287682</td>\n",
       "    </tr>\n",
       "    <tr>\n",
       "      <th>바나나</th>\n",
       "      <td>0.287682</td>\n",
       "    </tr>\n",
       "    <tr>\n",
       "      <th>사과</th>\n",
       "      <td>0.693147</td>\n",
       "    </tr>\n",
       "    <tr>\n",
       "      <th>싶은</th>\n",
       "      <td>0.287682</td>\n",
       "    </tr>\n",
       "    <tr>\n",
       "      <th>저는</th>\n",
       "      <td>0.693147</td>\n",
       "    </tr>\n",
       "    <tr>\n",
       "      <th>좋아요</th>\n",
       "      <td>0.693147</td>\n",
       "    </tr>\n",
       "  </tbody>\n",
       "</table>\n",
       "</div>"
      ],
      "text/plain": [
       "          IDF\n",
       "과일이  0.693147\n",
       "길고   0.693147\n",
       "노란   0.693147\n",
       "먹고   0.287682\n",
       "바나나  0.287682\n",
       "사과   0.693147\n",
       "싶은   0.287682\n",
       "저는   0.693147\n",
       "좋아요  0.693147"
      ]
     },
     "execution_count": 5,
     "metadata": {},
     "output_type": "execute_result"
    }
   ],
   "source": [
    "result = []\n",
    "for j in range(len(vocab)):\n",
    "    t = vocab[j]\n",
    "    result.append(idf(t))\n",
    "\n",
    "idf_ = pd.DataFrame(result, index = vocab, columns = [\"IDF\"])\n",
    "idf_"
   ]
  },
  {
   "cell_type": "code",
   "execution_count": 6,
   "metadata": {},
   "outputs": [
    {
     "data": {
      "text/html": [
       "<div>\n",
       "<style scoped>\n",
       "    .dataframe tbody tr th:only-of-type {\n",
       "        vertical-align: middle;\n",
       "    }\n",
       "\n",
       "    .dataframe tbody tr th {\n",
       "        vertical-align: top;\n",
       "    }\n",
       "\n",
       "    .dataframe thead th {\n",
       "        text-align: right;\n",
       "    }\n",
       "</style>\n",
       "<table border=\"1\" class=\"dataframe\">\n",
       "  <thead>\n",
       "    <tr style=\"text-align: right;\">\n",
       "      <th></th>\n",
       "      <th>과일이</th>\n",
       "      <th>길고</th>\n",
       "      <th>노란</th>\n",
       "      <th>먹고</th>\n",
       "      <th>바나나</th>\n",
       "      <th>사과</th>\n",
       "      <th>싶은</th>\n",
       "      <th>저는</th>\n",
       "      <th>좋아요</th>\n",
       "    </tr>\n",
       "  </thead>\n",
       "  <tbody>\n",
       "    <tr>\n",
       "      <th>0</th>\n",
       "      <td>0.000000</td>\n",
       "      <td>0.000000</td>\n",
       "      <td>0.000000</td>\n",
       "      <td>0.287682</td>\n",
       "      <td>0.000000</td>\n",
       "      <td>0.693147</td>\n",
       "      <td>0.287682</td>\n",
       "      <td>0.000000</td>\n",
       "      <td>0.000000</td>\n",
       "    </tr>\n",
       "    <tr>\n",
       "      <th>1</th>\n",
       "      <td>0.000000</td>\n",
       "      <td>0.000000</td>\n",
       "      <td>0.000000</td>\n",
       "      <td>0.287682</td>\n",
       "      <td>0.287682</td>\n",
       "      <td>0.000000</td>\n",
       "      <td>0.287682</td>\n",
       "      <td>0.000000</td>\n",
       "      <td>0.000000</td>\n",
       "    </tr>\n",
       "    <tr>\n",
       "      <th>2</th>\n",
       "      <td>0.000000</td>\n",
       "      <td>0.693147</td>\n",
       "      <td>0.693147</td>\n",
       "      <td>0.000000</td>\n",
       "      <td>0.575364</td>\n",
       "      <td>0.000000</td>\n",
       "      <td>0.000000</td>\n",
       "      <td>0.000000</td>\n",
       "      <td>0.000000</td>\n",
       "    </tr>\n",
       "    <tr>\n",
       "      <th>3</th>\n",
       "      <td>0.693147</td>\n",
       "      <td>0.000000</td>\n",
       "      <td>0.000000</td>\n",
       "      <td>0.000000</td>\n",
       "      <td>0.000000</td>\n",
       "      <td>0.000000</td>\n",
       "      <td>0.000000</td>\n",
       "      <td>0.693147</td>\n",
       "      <td>0.693147</td>\n",
       "    </tr>\n",
       "  </tbody>\n",
       "</table>\n",
       "</div>"
      ],
      "text/plain": [
       "        과일이        길고        노란        먹고       바나나        사과        싶은  \\\n",
       "0  0.000000  0.000000  0.000000  0.287682  0.000000  0.693147  0.287682   \n",
       "1  0.000000  0.000000  0.000000  0.287682  0.287682  0.000000  0.287682   \n",
       "2  0.000000  0.693147  0.693147  0.000000  0.575364  0.000000  0.000000   \n",
       "3  0.693147  0.000000  0.000000  0.000000  0.000000  0.000000  0.000000   \n",
       "\n",
       "         저는       좋아요  \n",
       "0  0.000000  0.000000  \n",
       "1  0.000000  0.000000  \n",
       "2  0.000000  0.000000  \n",
       "3  0.693147  0.693147  "
      ]
     },
     "execution_count": 6,
     "metadata": {},
     "output_type": "execute_result"
    }
   ],
   "source": [
    "result = []\n",
    "for i in range(N):\n",
    "    result.append([])\n",
    "    d = docs[i]\n",
    "    for j in range(len(vocab)):\n",
    "        t = vocab[j]\n",
    "\n",
    "        result[-1].append(tfidf(t,d))\n",
    "\n",
    "tfidf_ = pd.DataFrame(result, columns = vocab)\n",
    "tfidf_"
   ]
  },
  {
   "cell_type": "markdown",
   "metadata": {},
   "source": [
    "### 사이킷런을 이용한 DTM과 TF-IDF"
   ]
  },
  {
   "cell_type": "code",
   "execution_count": 7,
   "metadata": {},
   "outputs": [
    {
     "name": "stdout",
     "output_type": "stream",
     "text": [
      "[[0 1 0 1 0 1 0 1 1]\n",
      " [0 0 1 0 0 0 0 1 0]\n",
      " [1 0 0 0 1 0 1 0 0]]\n",
      "{'you': 7, 'know': 1, 'want': 5, 'your': 8, 'love': 3, 'like': 2, 'what': 6, 'should': 4, 'do': 0}\n"
     ]
    }
   ],
   "source": [
    "from sklearn.feature_extraction.text import CountVectorizer\n",
    "corpus = [\n",
    "    'you know I want your love',\n",
    "    'I like you',\n",
    "    'what should I do ',    \n",
    "]\n",
    "vector = CountVectorizer()\n",
    "print(vector.fit_transform(corpus).toarray()) # 코퍼스로부터 각 단어의 빈도 수를 기록한다.\n",
    "print(vector.vocabulary_) # 각 단어의 인덱스가 어떻게 부여되었는지를 보여준다"
   ]
  },
  {
   "cell_type": "code",
   "execution_count": 8,
   "metadata": {},
   "outputs": [
    {
     "name": "stdout",
     "output_type": "stream",
     "text": [
      "[[0.         0.46735098 0.         0.46735098 0.         0.46735098\n",
      "  0.         0.35543247 0.46735098]\n",
      " [0.         0.         0.79596054 0.         0.         0.\n",
      "  0.         0.60534851 0.        ]\n",
      " [0.57735027 0.         0.         0.         0.57735027 0.\n",
      "  0.57735027 0.         0.        ]]\n",
      "{'you': 7, 'know': 1, 'want': 5, 'your': 8, 'love': 3, 'like': 2, 'what': 6, 'should': 4, 'do': 0}\n"
     ]
    }
   ],
   "source": [
    "from sklearn.feature_extraction.text import TfidfVectorizer\n",
    "corpus = [\n",
    "    'you know I want your love',\n",
    "    'I like you',\n",
    "    'what should I do ',    \n",
    "]\n",
    "tfidfv = TfidfVectorizer().fit(corpus)\n",
    "print(tfidfv.transform(corpus).toarray())\n",
    "print(tfidfv.vocabulary_)"
   ]
  },
  {
   "cell_type": "markdown",
   "metadata": {},
   "source": [
    "## [2] 잠재 의미 분석(Latent Semantic Analysis, LSA)"
   ]
  },
  {
   "cell_type": "code",
   "execution_count": 9,
   "metadata": {},
   "outputs": [],
   "source": [
    "from sklearn.datasets import fetch_20newsgroups"
   ]
  },
  {
   "cell_type": "code",
   "execution_count": 10,
   "metadata": {},
   "outputs": [
    {
     "data": {
      "text/plain": [
       "11314"
      ]
     },
     "execution_count": 10,
     "metadata": {},
     "output_type": "execute_result"
    }
   ],
   "source": [
    "# wenty Newsgroups 뉴스 그룹 데이터 읽어오기 \n",
    "dataset = fetch_20newsgroups(shuffle=True, random_state=1, remove=('headers', 'footers', 'quotes'))\n",
    "documents = dataset.data   # list\n",
    "len(documents) "
   ]
  },
  {
   "cell_type": "code",
   "execution_count": 11,
   "metadata": {},
   "outputs": [
    {
     "data": {
      "text/plain": [
       "\"\\n\\n\\n\\n\\n\\n\\nYeah, do you expect people to read the FAQ, etc. and actually accept hard\\natheism?  No, you need a little leap of faith, Jimmy.  Your logic runs out\\nof steam!\\n\\n\\n\\n\\n\\n\\n\\nJim,\\n\\nSorry I can't pity you, Jim.  And I'm sorry that you have these feelings of\\ndenial about the faith you need to get by.  Oh well, just pretend that it will\\nall end happily ever after anyway.  Maybe if you start a new newsgroup,\\nalt.atheist.hard, you won't be bummin' so much?\\n\\n\\n\\n\\n\\n\\nBye-Bye, Big Jim.  Don't forget your Flintstone's Chewables!  :) \\n--\\nBake Timmons, III\""
      ]
     },
     "execution_count": 11,
     "metadata": {},
     "output_type": "execute_result"
    }
   ],
   "source": [
    "documents[1]"
   ]
  },
  {
   "cell_type": "code",
   "execution_count": 12,
   "metadata": {},
   "outputs": [
    {
     "name": "stdout",
     "output_type": "stream",
     "text": [
      "['alt.atheism', 'comp.graphics', 'comp.os.ms-windows.misc', 'comp.sys.ibm.pc.hardware', 'comp.sys.mac.hardware', 'comp.windows.x', 'misc.forsale', 'rec.autos', 'rec.motorcycles', 'rec.sport.baseball', 'rec.sport.hockey', 'sci.crypt', 'sci.electronics', 'sci.med', 'sci.space', 'soc.religion.christian', 'talk.politics.guns', 'talk.politics.mideast', 'talk.politics.misc', 'talk.religion.misc']\n"
     ]
    }
   ],
   "source": [
    "print(dataset.target_names)"
   ]
  },
  {
   "cell_type": "markdown",
   "metadata": {},
   "source": [
    "### 텍스트 전처리"
   ]
  },
  {
   "cell_type": "code",
   "execution_count": 13,
   "metadata": {},
   "outputs": [],
   "source": [
    "news_df = pd.DataFrame({'document':documents})\n",
    "# 특수 문자 제거\n",
    "news_df['clean_doc'] = news_df['document'].str.replace(\"[^a-zA-Z]\", \" \")\n",
    "# 길이가 3이하인 단어는 제거 (길이가 짧은 단어 제거)\n",
    "news_df['clean_doc'] = news_df['clean_doc'].apply(lambda x: ' '.join([w for w in x.split() if len(w)>3]))\n",
    "# 전체 단어에 대한 소문자 변환\n",
    "news_df['clean_doc'] = news_df['clean_doc'].apply(lambda x: x.lower())"
   ]
  },
  {
   "cell_type": "code",
   "execution_count": 14,
   "metadata": {},
   "outputs": [
    {
     "data": {
      "text/plain": [
       "'yeah expect people read actually accept hard atheism need little leap faith jimmy your logic runs steam sorry pity sorry that have these feelings denial about faith need well just pretend that will happily ever after anyway maybe start newsgroup atheist hard bummin much forget your flintstone chewables bake timmons'"
      ]
     },
     "execution_count": 14,
     "metadata": {},
     "output_type": "execute_result"
    }
   ],
   "source": [
    "news_df['clean_doc'][1]"
   ]
  },
  {
   "cell_type": "code",
   "execution_count": 15,
   "metadata": {},
   "outputs": [],
   "source": [
    "from nltk.corpus import stopwords\n",
    "stop_words = stopwords.words('english') # NLTK로부터 불용어를 받아옵니다.\n",
    "tokenized_doc = news_df['clean_doc'].apply(lambda x: x.split()) # 토큰화\n",
    "tokenized_doc = tokenized_doc.apply(lambda x: [item for item in x if item not in stop_words])\n",
    "# 불용어를 제거"
   ]
  },
  {
   "cell_type": "code",
   "execution_count": 16,
   "metadata": {},
   "outputs": [
    {
     "name": "stdout",
     "output_type": "stream",
     "text": [
      "['yeah', 'expect', 'people', 'read', 'actually', 'accept', 'hard', 'atheism', 'need', 'little', 'leap', 'faith', 'jimmy', 'logic', 'runs', 'steam', 'sorry', 'pity', 'sorry', 'feelings', 'denial', 'faith', 'need', 'well', 'pretend', 'happily', 'ever', 'anyway', 'maybe', 'start', 'newsgroup', 'atheist', 'hard', 'bummin', 'much', 'forget', 'flintstone', 'chewables', 'bake', 'timmons']\n"
     ]
    }
   ],
   "source": [
    "print(tokenized_doc[1])"
   ]
  },
  {
   "cell_type": "markdown",
   "metadata": {},
   "source": [
    "### TF-IDF 행렬 만들기"
   ]
  },
  {
   "cell_type": "code",
   "execution_count": 17,
   "metadata": {},
   "outputs": [],
   "source": [
    "# 역토큰화 (토큰화 작업을 역으로 되돌림)\n",
    "detokenized_doc = []\n",
    "for i in range(len(news_df)):\n",
    "    t = ' '.join(tokenized_doc[i])\n",
    "    detokenized_doc.append(t)\n",
    "\n",
    "news_df['clean_doc'] = detokenized_doc"
   ]
  },
  {
   "cell_type": "code",
   "execution_count": 18,
   "metadata": {},
   "outputs": [
    {
     "data": {
      "text/plain": [
       "'yeah expect people read actually accept hard atheism need little leap faith jimmy logic runs steam sorry pity sorry feelings denial faith need well pretend happily ever anyway maybe start newsgroup atheist hard bummin much forget flintstone chewables bake timmons'"
      ]
     },
     "execution_count": 18,
     "metadata": {},
     "output_type": "execute_result"
    }
   ],
   "source": [
    "news_df['clean_doc'][1]"
   ]
  },
  {
   "cell_type": "code",
   "execution_count": 19,
   "metadata": {},
   "outputs": [
    {
     "data": {
      "text/plain": [
       "(11314, 1000)"
      ]
     },
     "execution_count": 19,
     "metadata": {},
     "output_type": "execute_result"
    }
   ],
   "source": [
    "from sklearn.feature_extraction.text import TfidfVectorizer\n",
    "\n",
    "vectorizer = TfidfVectorizer(stop_words='english', \n",
    "max_features= 1000, # 상위 1,000개의 단어를 보존 \n",
    "max_df = 0.5, \n",
    "smooth_idf=True)\n",
    "\n",
    "X = vectorizer.fit_transform(news_df['clean_doc'])\n",
    "X.shape # TF-IDF 행렬의 크기 확인"
   ]
  },
  {
   "cell_type": "markdown",
   "metadata": {},
   "source": [
    "### 토픽 모델링(Topic Modeling)"
   ]
  },
  {
   "cell_type": "code",
   "execution_count": 20,
   "metadata": {},
   "outputs": [
    {
     "data": {
      "text/plain": [
       "20"
      ]
     },
     "execution_count": 20,
     "metadata": {},
     "output_type": "execute_result"
    }
   ],
   "source": [
    "from sklearn.decomposition import TruncatedSVD\n",
    "svd_model = TruncatedSVD(n_components=20, algorithm='randomized', n_iter=100, random_state=122)\n",
    "svd_model.fit(X)\n",
    "len(svd_model.components_)"
   ]
  },
  {
   "cell_type": "code",
   "execution_count": 21,
   "metadata": {},
   "outputs": [
    {
     "data": {
      "text/plain": [
       "(20, 1000)"
      ]
     },
     "execution_count": 21,
     "metadata": {},
     "output_type": "execute_result"
    }
   ],
   "source": [
    "np.shape(svd_model.components_)"
   ]
  },
  {
   "cell_type": "code",
   "execution_count": 22,
   "metadata": {},
   "outputs": [
    {
     "name": "stdout",
     "output_type": "stream",
     "text": [
      "Topic 1: [('like', 0.21378), ('know', 0.20032), ('people', 0.19317), ('think', 0.17807), ('good', 0.15105)]\n",
      "Topic 2: [('thanks', 0.3292), ('windows', 0.29094), ('card', 0.18016), ('drive', 0.1739), ('mail', 0.15126)]\n",
      "Topic 3: [('game', 0.37161), ('team', 0.32553), ('year', 0.28204), ('games', 0.25416), ('season', 0.18464)]\n",
      "Topic 4: [('drive', 0.52804), ('scsi', 0.20035), ('disk', 0.15514), ('hard', 0.15506), ('card', 0.14041)]\n",
      "Topic 5: [('windows', 0.4052), ('file', 0.25609), ('window', 0.18057), ('files', 0.1619), ('program', 0.1401)]\n",
      "Topic 6: [('chip', 0.16138), ('government', 0.16026), ('mail', 0.15625), ('space', 0.1505), ('information', 0.13575)]\n",
      "Topic 7: [('like', 0.67109), ('bike', 0.14268), ('know', 0.11428), ('chip', 0.11058), ('sounds', 0.10398)]\n",
      "Topic 8: [('card', 0.45115), ('sale', 0.21607), ('video', 0.21391), ('monitor', 0.14913), ('offer', 0.14872)]\n",
      "Topic 9: [('know', 0.44979), ('card', 0.35491), ('chip', 0.17206), ('video', 0.15184), ('government', 0.15053)]\n",
      "Topic 10: [('good', 0.41591), ('know', 0.23083), ('time', 0.18988), ('bike', 0.11332), ('jesus', 0.09419)]\n",
      "Topic 11: [('think', 0.78338), ('chip', 0.10778), ('good', 0.10654), ('thanks', 0.08962), ('clipper', 0.07873)]\n",
      "Topic 12: [('thanks', 0.37328), ('problem', 0.21778), ('right', 0.21728), ('good', 0.21301), ('bike', 0.21102)]\n",
      "Topic 13: [('good', 0.3669), ('people', 0.33724), ('windows', 0.28297), ('know', 0.25208), ('file', 0.18138)]\n",
      "Topic 14: [('space', 0.39916), ('think', 0.23326), ('know', 0.17933), ('nasa', 0.15226), ('problem', 0.12932)]\n",
      "Topic 15: [('space', 0.30963), ('good', 0.30091), ('card', 0.2162), ('people', 0.20295), ('time', 0.15889)]\n",
      "Topic 16: [('people', 0.46931), ('problem', 0.20916), ('window', 0.16015), ('time', 0.13971), ('game', 0.13578)]\n",
      "Topic 17: [('time', 0.34532), ('bike', 0.26907), ('right', 0.26148), ('windows', 0.19697), ('file', 0.19177)]\n",
      "Topic 18: [('time', 0.60055), ('problem', 0.15235), ('file', 0.13682), ('think', 0.13024), ('israel', 0.1093)]\n",
      "Topic 19: [('file', 0.45058), ('need', 0.25892), ('card', 0.18726), ('files', 0.1769), ('problem', 0.15143)]\n",
      "Topic 20: [('problem', 0.32669), ('file', 0.2618), ('thanks', 0.23506), ('used', 0.19363), ('space', 0.13747)]\n"
     ]
    }
   ],
   "source": [
    "terms = vectorizer.get_feature_names() # 단어 집합. 1,000개의 단어가 저장됨.\n",
    "\n",
    "# 값이 큰 5개의 값을 찾아서 단어로 출력\n",
    "def get_topics(components, feature_names, n=5):\n",
    "    for idx, topic in enumerate(components):\n",
    "        print(\"Topic %d:\" % (idx+1), [(feature_names[i], topic[i].round(5)) for i in topic.argsort()[:-n - 1:-1]])\n",
    "\n",
    "get_topics(svd_model.components_,terms)"
   ]
  },
  {
   "cell_type": "code",
   "execution_count": 23,
   "metadata": {},
   "outputs": [
    {
     "data": {
      "text/plain": [
       "\"\\n\\n\\n\\n\\tI'd like to see this info as well.  As for wavelength, I think\\nyou're primarily going to find two - 880 nM +/- a bit, and/or 950 nM\\n+/- a bit.  Usually it is about 10 nM either way.  The two most common\\nI have seen were 880 and 950 but I have also heard of 890 and 940.\\nI'm not sure that the 10 nM one way or another will make a great deal of\\ndifference.\\n\\n\\tAnother suggestion - find a brand of TV that uses an IR remote,\\nand go look at the SAMS photofact for it.  You can often find some very\\ndetailed schematics and parts list for not only the receiver but the\\ntransmitter as well, including carrier freq. specs. and tone decoding\\nspecs. if the system uses that.\""
      ]
     },
     "execution_count": 23,
     "metadata": {},
     "output_type": "execute_result"
    }
   ],
   "source": [
    "documents[20]"
   ]
  },
  {
   "cell_type": "markdown",
   "metadata": {},
   "source": [
    "## [3] 잠재 디리클레 할당(Latent Dirichlet Allocation, LDA)]"
   ]
  },
  {
   "cell_type": "code",
   "execution_count": 24,
   "metadata": {},
   "outputs": [
    {
     "name": "stdout",
     "output_type": "stream",
     "text": [
      "[(52, 1), (55, 1), (56, 1), (57, 1), (58, 1), (59, 1), (60, 1), (61, 1), (62, 1), (63, 1), (64, 1), (65, 1), (66, 2), (67, 1), (68, 1), (69, 1), (70, 1), (71, 2), (72, 1), (73, 1), (74, 1), (75, 1), (76, 1), (77, 1), (78, 2), (79, 1), (80, 1), (81, 1), (82, 1), (83, 1), (84, 1), (85, 2), (86, 1), (87, 1), (88, 1), (89, 1)]\n"
     ]
    }
   ],
   "source": [
    "# ! pip install gensim\n",
    "from gensim import corpora\n",
    "dictionary = corpora.Dictionary(tokenized_doc)\n",
    "corpus = [dictionary.doc2bow(text) for text in tokenized_doc]\n",
    "print(corpus[1]) # 수행된 결과에서 두번째 뉴스 출력. 첫번째 문서의 인덱스는 0"
   ]
  },
  {
   "cell_type": "code",
   "execution_count": 25,
   "metadata": {},
   "outputs": [
    {
     "name": "stdout",
     "output_type": "stream",
     "text": [
      "faith\n"
     ]
    }
   ],
   "source": [
    "print(dictionary[66])"
   ]
  },
  {
   "cell_type": "code",
   "execution_count": 26,
   "metadata": {},
   "outputs": [
    {
     "data": {
      "text/plain": [
       "64281"
      ]
     },
     "execution_count": 26,
     "metadata": {},
     "output_type": "execute_result"
    }
   ],
   "source": [
    "len(dictionary)"
   ]
  },
  {
   "cell_type": "markdown",
   "metadata": {},
   "source": [
    "#### LDA 모델 훈련시키기"
   ]
  },
  {
   "cell_type": "code",
   "execution_count": 27,
   "metadata": {},
   "outputs": [
    {
     "name": "stdout",
     "output_type": "stream",
     "text": [
      "(0, '0.018*\"game\" + 0.016*\"team\" + 0.012*\"year\" + 0.012*\"games\"')\n",
      "(1, '0.011*\"file\" + 0.011*\"available\" + 0.011*\"files\" + 0.009*\"window\"')\n",
      "(2, '0.014*\"would\" + 0.012*\"people\" + 0.009*\"think\" + 0.007*\"like\"')\n",
      "(3, '0.022*\"food\" + 0.019*\"tobacco\" + 0.015*\"radar\" + 0.010*\"detector\"')\n",
      "(4, '0.023*\"jesus\" + 0.015*\"christian\" + 0.013*\"bible\" + 0.012*\"church\"')\n",
      "(5, '0.016*\"drive\" + 0.015*\"thanks\" + 0.012*\"card\" + 0.011*\"please\"')\n",
      "(6, '0.011*\"people\" + 0.010*\"state\" + 0.009*\"government\" + 0.008*\"rights\"')\n",
      "(7, '0.045*\"space\" + 0.016*\"nasa\" + 0.015*\"data\" + 0.009*\"printf\"')\n",
      "(8, '0.007*\"chip\" + 0.007*\"used\" + 0.006*\"system\" + 0.006*\"encryption\"')\n",
      "(9, '0.041*\"file\" + 0.038*\"output\" + 0.032*\"entry\" + 0.020*\"program\"')\n",
      "(10, '0.018*\"mail\" + 0.015*\"information\" + 0.013*\"send\" + 0.013*\"list\"')\n",
      "(11, '0.027*\"period\" + 0.015*\"power\" + 0.014*\"filename\" + 0.012*\"play\"')\n",
      "(12, '0.016*\"israel\" + 0.013*\"said\" + 0.010*\"israeli\" + 0.010*\"armenians\"')\n",
      "(13, '0.010*\"cluster\" + 0.009*\"offset\" + 0.008*\"init\" + 0.008*\"echo\"')\n",
      "(14, '0.012*\"pixmap\" + 0.011*\"swap\" + 0.011*\"linked\" + 0.009*\"terminals\"')\n",
      "(15, '0.010*\"health\" + 0.008*\"medical\" + 0.006*\"water\" + 0.006*\"study\"')\n",
      "(16, '0.009*\"turkish\" + 0.009*\"president\" + 0.008*\"armenian\" + 0.007*\"government\"')\n",
      "(17, '0.012*\"plane\" + 0.009*\"mask\" + 0.008*\"tube\" + 0.008*\"lines\"')\n",
      "(18, '0.031*\"guns\" + 0.019*\"weapons\" + 0.018*\"firearms\" + 0.014*\"amendment\"')\n",
      "(19, '0.016*\"would\" + 0.012*\"like\" + 0.010*\"know\" + 0.010*\"time\"')\n"
     ]
    }
   ],
   "source": [
    "import gensim\n",
    "NUM_TOPICS = 20 #20개의 토픽, k=20\n",
    "ldamodel = gensim.models.ldamodel.LdaModel(corpus, num_topics = NUM_TOPICS, id2word=dictionary, passes=15)\n",
    "topics = ldamodel.print_topics(num_words=4)\n",
    "for topic in topics:\n",
    "    print(topic)"
   ]
  },
  {
   "cell_type": "code",
   "execution_count": 28,
   "metadata": {},
   "outputs": [
    {
     "name": "stdout",
     "output_type": "stream",
     "text": [
      "[(0, '0.018*\"game\" + 0.016*\"team\" + 0.012*\"year\" + 0.012*\"games\" + 0.010*\"season\" + 0.008*\"play\" + 0.008*\"players\" + 0.008*\"league\" + 0.008*\"hockey\" + 0.007*\"last\"'), (1, '0.011*\"file\" + 0.011*\"available\" + 0.011*\"files\" + 0.009*\"window\" + 0.009*\"program\" + 0.009*\"windows\" + 0.009*\"version\" + 0.008*\"software\" + 0.008*\"image\" + 0.008*\"server\"'), (2, '0.014*\"would\" + 0.012*\"people\" + 0.009*\"think\" + 0.007*\"like\" + 0.007*\"many\" + 0.007*\"even\" + 0.006*\"know\" + 0.006*\"well\" + 0.005*\"question\" + 0.005*\"believe\"'), (3, '0.022*\"food\" + 0.019*\"tobacco\" + 0.015*\"radar\" + 0.010*\"detector\" + 0.009*\"navy\" + 0.008*\"eating\" + 0.007*\"foods\" + 0.006*\"detectors\" + 0.006*\"astros\" + 0.006*\"robert\"'), (4, '0.023*\"jesus\" + 0.015*\"christian\" + 0.013*\"bible\" + 0.012*\"church\" + 0.011*\"christians\" + 0.010*\"faith\" + 0.010*\"christ\" + 0.006*\"also\" + 0.006*\"believe\" + 0.006*\"christianity\"'), (5, '0.016*\"drive\" + 0.015*\"thanks\" + 0.012*\"card\" + 0.011*\"please\" + 0.010*\"anyone\" + 0.010*\"know\" + 0.010*\"would\" + 0.009*\"scsi\" + 0.009*\"disk\" + 0.009*\"system\"'), (6, '0.011*\"people\" + 0.010*\"state\" + 0.009*\"government\" + 0.008*\"rights\" + 0.007*\"public\" + 0.006*\"laws\" + 0.005*\"case\" + 0.005*\"court\" + 0.005*\"crime\" + 0.005*\"ripem\"'), (7, '0.045*\"space\" + 0.016*\"nasa\" + 0.015*\"data\" + 0.009*\"printf\" + 0.009*\"launch\" + 0.008*\"null\" + 0.008*\"earth\" + 0.007*\"satellite\" + 0.007*\"shuttle\" + 0.006*\"orbit\"'), (8, '0.007*\"chip\" + 0.007*\"used\" + 0.006*\"system\" + 0.006*\"encryption\" + 0.005*\"power\" + 0.005*\"would\" + 0.005*\"keys\" + 0.005*\"clipper\" + 0.005*\"government\" + 0.004*\"data\"'), (9, '0.041*\"file\" + 0.038*\"output\" + 0.032*\"entry\" + 0.020*\"program\" + 0.014*\"build\" + 0.014*\"line\" + 0.012*\"section\" + 0.012*\"stream\" + 0.011*\"entries\" + 0.011*\"rules\"'), (10, '0.018*\"mail\" + 0.015*\"information\" + 0.013*\"send\" + 0.013*\"list\" + 0.011*\"please\" + 0.011*\"internet\" + 0.010*\"address\" + 0.010*\"email\" + 0.008*\"book\" + 0.008*\"computer\"'), (11, '0.027*\"period\" + 0.015*\"power\" + 0.014*\"filename\" + 0.012*\"play\" + 0.011*\"scorer\" + 0.008*\"pittsburgh\" + 0.008*\"judges\" + 0.007*\"second\" + 0.007*\"third\" + 0.006*\"first\"'), (12, '0.016*\"israel\" + 0.013*\"said\" + 0.010*\"israeli\" + 0.010*\"armenians\" + 0.009*\"people\" + 0.007*\"went\" + 0.007*\"killed\" + 0.006*\"arab\" + 0.006*\"women\" + 0.006*\"left\"'), (13, '0.010*\"cluster\" + 0.009*\"offset\" + 0.008*\"init\" + 0.008*\"echo\" + 0.007*\"label\" + 0.007*\"toshiba\" + 0.006*\"receiver\" + 0.006*\"reactions\" + 0.006*\"premises\" + 0.006*\"qemm\"'), (14, '0.012*\"pixmap\" + 0.011*\"swap\" + 0.011*\"linked\" + 0.009*\"terminals\" + 0.009*\"hash\" + 0.008*\"cross\" + 0.008*\"sequences\" + 0.007*\"vitamin\" + 0.007*\"stewart\" + 0.007*\"math\"'), (15, '0.010*\"health\" + 0.008*\"medical\" + 0.006*\"water\" + 0.006*\"study\" + 0.006*\"disease\" + 0.005*\"research\" + 0.005*\"among\" + 0.005*\"cause\" + 0.005*\"pain\" + 0.005*\"rate\"'), (16, '0.009*\"turkish\" + 0.009*\"president\" + 0.008*\"armenian\" + 0.007*\"government\" + 0.007*\"world\" + 0.006*\"american\" + 0.006*\"russian\" + 0.006*\"people\" + 0.005*\"united\" + 0.005*\"jews\"'), (17, '0.012*\"plane\" + 0.009*\"mask\" + 0.008*\"tube\" + 0.008*\"lines\" + 0.007*\"tires\" + 0.007*\"radius\" + 0.007*\"tire\" + 0.007*\"outlet\" + 0.007*\"cylinder\" + 0.006*\"rubber\"'), (18, '0.031*\"guns\" + 0.019*\"weapons\" + 0.018*\"firearms\" + 0.014*\"amendment\" + 0.014*\"weapon\" + 0.013*\"militia\" + 0.012*\"arms\" + 0.010*\"second\" + 0.010*\"right\" + 0.009*\"control\"'), (19, '0.016*\"would\" + 0.012*\"like\" + 0.010*\"know\" + 0.010*\"time\" + 0.010*\"think\" + 0.008*\"well\" + 0.007*\"people\" + 0.007*\"going\" + 0.007*\"could\" + 0.007*\"good\"')]\n"
     ]
    }
   ],
   "source": [
    "print(ldamodel.print_topics())"
   ]
  },
  {
   "cell_type": "markdown",
   "metadata": {},
   "source": [
    "#### 시각화"
   ]
  },
  {
   "cell_type": "code",
   "execution_count": 29,
   "metadata": {},
   "outputs": [],
   "source": [
    "# ! pip install pyLDAvis"
   ]
  },
  {
   "cell_type": "code",
   "execution_count": 30,
   "metadata": {},
   "outputs": [
    {
     "data": {
      "text/html": [
       "\n",
       "<link rel=\"stylesheet\" type=\"text/css\" href=\"https://cdn.rawgit.com/bmabey/pyLDAvis/files/ldavis.v1.0.0.css\">\n",
       "\n",
       "\n",
       "<div id=\"ldavis_el5118425184921623764522781221\"></div>\n",
       "<script type=\"text/javascript\">\n",
       "\n",
       "var ldavis_el5118425184921623764522781221_data = {\"mdsDat\": {\"x\": [0.2552338592827619, 0.2586247983418416, 0.18515770849320132, 0.1838469058041251, 0.19054321334871566, 0.059028390245352114, 0.07854580892062335, 0.02531754037093174, 0.03242993406302768, 0.09456071819406986, 0.04231438220157178, 0.06124892165278221, -0.027854078867857048, -0.039740400717246056, -0.19151285266667117, -0.22467460599148, -0.23413806553767966, -0.2330016327091797, -0.2544947403120796, -0.26143580411681044], \"y\": [0.10448808825643881, 0.056764569237091694, -0.20758397653905405, -0.07820830179897274, -0.14356988385866587, 0.12054654586009901, 0.10947243384253087, 0.09109034552617762, -0.1485201745659519, 0.14985602872456866, -0.04985480897045322, 0.2230126996301365, -0.15030351331090255, -0.12793584031635527, 0.05032675279391471, 0.03442340795774227, -0.0078466171497068, -0.022759951011154, -0.004393378100174637, 0.0009955737926904352], \"topics\": [1, 2, 3, 4, 5, 6, 7, 8, 9, 10, 11, 12, 13, 14, 15, 16, 17, 18, 19, 20], \"cluster\": [1, 1, 1, 1, 1, 1, 1, 1, 1, 1, 1, 1, 1, 1, 1, 1, 1, 1, 1, 1], \"Freq\": [17.052040100097656, 15.241085052490234, 9.226081848144531, 9.11575984954834, 6.742447853088379, 5.992697715759277, 5.299030780792236, 5.04831075668335, 4.451393127441406, 4.2227654457092285, 4.149592876434326, 3.8432013988494873, 3.1123905181884766, 2.4763810634613037, 1.0668824911117554, 0.9866820573806763, 0.6237245202064514, 0.5086894035339355, 0.49656248092651367, 0.34428179264068604]}, \"tinfo\": {\"Term\": [\"file\", \"space\", \"people\", \"output\", \"program\", \"jesus\", \"entry\", \"drive\", \"mail\", \"data\", \"said\", \"know\", \"please\", \"game\", \"would\", \"year\", \"right\", \"think\", \"windows\", \"team\", \"thanks\", \"power\", \"files\", \"card\", \"government\", \"information\", \"line\", \"like\", \"second\", \"system\", \"ride\", \"karina\", \"warrant\", \"smokeless\", \"weekend\", \"helmet\", \"income\", \"weaver\", \"cops\", \"phillies\", \"senator\", \"cooper\", \"cure\", \"lately\", \"figured\", \"risks\", \"myers\", \"innings\", \"paranoid\", \"balloon\", \"chamber\", \"laptop\", \"stopping\", \"inning\", \"pitched\", \"laughter\", \"davidians\", \"garage\", \"thumb\", \"aunt\", \"morning\", \"riding\", \"money\", \"going\", \"kids\", \"raise\", \"paying\", \"tomorrow\", \"bike\", \"gone\", \"yeah\", \"flame\", \"weeks\", \"remember\", \"taxes\", \"getting\", \"wanted\", \"back\", \"maybe\", \"couple\", \"time\", \"really\", \"take\", \"little\", \"think\", \"like\", \"know\", \"would\", \"well\", \"around\", \"much\", \"could\", \"something\", \"good\", \"still\", \"right\", \"thing\", \"enough\", \"sure\", \"want\", \"even\", \"last\", \"make\", \"people\", \"said\", \"first\", \"years\", \"work\", \"also\", \"long\", \"argument\", \"universe\", \"morality\", \"merely\", \"homosexuality\", \"homosexual\", \"mistakes\", \"fallacy\", \"subjective\", \"arrogant\", \"decenso\", \"behaviour\", \"assumptions\", \"cryptanalysis\", \"tyre\", \"plaintext\", \"confusing\", \"riders\", \"arrogance\", \"abortion\", \"explaining\", \"miracle\", \"enemies\", \"texts\", \"thou\", \"cryptosystem\", \"namely\", \"premise\", \"ingr\", \"contradictory\", \"absolute\", \"humans\", \"convincing\", \"conclusions\", \"imply\", \"homosexuals\", \"phrase\", \"claim\", \"conclusion\", \"objective\", \"arguments\", \"reasoning\", \"convince\", \"existence\", \"exist\", \"moral\", \"sense\", \"explanation\", \"evidence\", \"atheism\", \"explain\", \"atheists\", \"statement\", \"question\", \"accept\", \"context\", \"disagree\", \"true\", \"exists\", \"cannot\", \"agree\", \"reason\", \"mean\", \"believe\", \"wrong\", \"people\", \"think\", \"different\", \"would\", \"many\", \"example\", \"must\", \"even\", \"point\", \"whether\", \"understand\", \"seems\", \"truth\", \"well\", \"make\", \"however\", \"things\", \"might\", \"fact\", \"know\", \"like\", \"something\", \"could\", \"much\", \"time\", \"since\", \"find\", \"good\", \"server\", \"motif\", \"widget\", \"directory\", \"jpeg\", \"contrib\", \"xterm\", \"client\", \"font\", \"uuencode\", \"widgets\", \"formats\", \"servers\", \"clients\", \"libraries\", \"routines\", \"toolkit\", \"patch\", \"displays\", \"binaries\", \"compile\", \"pixel\", \"shareware\", \"header\", \"menu\", \"binary\", \"openwindows\", \"compiled\", \"sunos\", \"patches\", \"files\", \"window\", \"visual\", \"unix\", \"image\", \"application\", \"format\", \"display\", \"version\", \"export\", \"graphics\", \"comp\", \"user\", \"resource\", \"string\", \"software\", \"available\", \"code\", \"windows\", \"programs\", \"file\", \"program\", \"color\", \"images\", \"screen\", \"using\", \"based\", \"source\", \"also\", \"data\", \"system\", \"information\", \"encryption\", \"clipper\", \"escrow\", \"lock\", \"encrypted\", \"wiring\", \"electrical\", \"scheme\", \"gateway\", \"crypt\", \"wiretap\", \"rear\", \"phones\", \"honda\", \"sector\", \"compass\", \"ford\", \"cipher\", \"metal\", \"circuits\", \"spare\", \"cellular\", \"classified\", \"wires\", \"initiative\", \"cables\", \"messiah\", \"toyota\", \"jumpers\", \"decrypt\", \"wire\", \"secure\", \"voltage\", \"circuit\", \"keys\", \"engine\", \"chip\", \"devices\", \"communications\", \"ground\", \"crypto\", \"algorithm\", \"enforcement\", \"cars\", \"secret\", \"security\", \"technology\", \"privacy\", \"market\", \"companies\", \"agencies\", \"power\", \"private\", \"used\", \"system\", \"phone\", \"government\", \"unit\", \"data\", \"using\", \"high\", \"need\", \"would\", \"current\", \"public\", \"also\", \"like\", \"number\", \"card\", \"scsi\", \"keyboard\", \"drives\", \"controller\", \"motherboard\", \"bios\", \"simms\", \"cache\", \"shipping\", \"adapter\", \"graphic\", \"vesa\", \"stereo\", \"adaptec\", \"quadra\", \"macs\", \"svga\", \"diamond\", \"slots\", \"vram\", \"eisa\", \"jumper\", \"warranty\", \"centris\", \"ethernet\", \"modem\", \"config\", \"megs\", \"financial\", \"floppy\", \"monitor\", \"sale\", \"drive\", \"printer\", \"apple\", \"video\", \"disk\", \"drivers\", \"port\", \"upgrade\", \"memory\", \"advance\", \"cards\", \"thanks\", \"hello\", \"appreciated\", \"driver\", \"board\", \"price\", \"offer\", \"please\", \"tape\", \"anyone\", \"hard\", \"windows\", \"system\", \"know\", \"problem\", \"would\", \"like\", \"need\", \"computer\", \"also\", \"mail\", \"used\", \"help\", \"work\", \"turkish\", \"turks\", \"genocide\", \"russia\", \"nazi\", \"greece\", \"nazis\", \"argic\", \"ottoman\", \"serdar\", \"ethnic\", \"skepticism\", \"intellect\", \"sleeve\", \"minister\", \"cyprus\", \"shameful\", \"cadre\", \"france\", \"chastity\", \"rockefeller\", \"london\", \"greeks\", \"kurds\", \"surrender\", \"istanbul\", \"iran\", \"italy\", \"sdpa\", \"aerospace\", \"russian\", \"holocaust\", \"republic\", \"eastern\", \"german\", \"germany\", \"turkey\", \"president\", \"british\", \"armenian\", \"united\", \"europe\", \"soviet\", \"south\", \"senior\", \"greek\", \"island\", \"million\", \"american\", \"history\", \"press\", \"international\", \"washington\", \"jews\", \"western\", \"states\", \"april\", \"government\", \"world\", \"national\", \"armenians\", \"administration\", \"people\", \"years\", \"military\", \"university\", \"also\", \"today\", \"ripem\", \"koresh\", \"criminal\", \"crimes\", \"marriage\", \"married\", \"batf\", \"liar\", \"rkba\", \"courts\", \"mormons\", \"blacks\", \"laws\", \"consensus\", \"contracts\", \"commit\", \"retail\", \"baptism\", \"gerard\", \"deletion\", \"deadly\", \"infallible\", \"apostles\", \"trinity\", \"smoked\", \"promo\", \"ending\", \"hong\", \"declare\", \"jury\", \"waco\", \"prison\", \"rights\", \"reserve\", \"property\", \"violation\", \"deaths\", \"compound\", \"court\", \"murder\", \"crime\", \"civil\", \"guilty\", \"federal\", \"suicide\", \"state\", \"legal\", \"justice\", \"freedom\", \"citizens\", \"public\", \"government\", \"threat\", \"self\", \"nist\", \"members\", \"children\", \"people\", \"police\", \"death\", \"case\", \"person\", \"order\", \"states\", \"control\", \"without\", \"would\", \"right\", \"season\", \"players\", \"hockey\", \"teams\", \"baseball\", \"montreal\", \"fans\", \"minnesota\", \"puck\", \"score\", \"pitching\", \"playoffs\", \"scored\", \"cubs\", \"quebec\", \"flyers\", \"braves\", \"leafs\", \"morris\", \"islanders\", \"hartford\", \"pens\", \"espn\", \"playoff\", \"defensive\", \"coach\", \"ottawa\", \"sharks\", \"gary\", \"league\", \"team\", \"game\", \"games\", \"jersey\", \"player\", \"played\", \"ball\", \"kings\", \"toronto\", \"play\", \"boston\", \"division\", \"year\", \"detroit\", \"chicago\", \"playing\", \"flames\", \"runs\", \"last\", \"points\", \"series\", \"first\", \"best\", \"good\", \"lost\", \"mark\", \"john\", \"better\", \"programmer\", \"borland\", \"bitnet\", \"script\", \"allah\", \"hotel\", \"paradox\", \"unto\", \"toolkits\", \"consortium\", \"menus\", \"vpic\", \"mailing\", \"wordperfect\", \"intentional\", \"tutorial\", \"believer\", \"invalid\", \"lotus\", \"gamma\", \"jonathan\", \"morgan\", \"debugger\", \"auth\", \"oxford\", \"mailbox\", \"methanol\", \"relates\", \"protocols\", \"huntsville\", \"internet\", \"usenet\", \"proceedings\", \"newsgroups\", \"cryptology\", \"karl\", \"addresses\", \"subscribe\", \"guide\", \"monthly\", \"mail\", \"address\", \"send\", \"anonymous\", \"request\", \"uucp\", \"topics\", \"list\", \"email\", \"posting\", \"newsgroup\", \"requests\", \"information\", \"technical\", \"news\", \"book\", \"university\", \"books\", \"electronic\", \"computer\", \"please\", \"articles\", \"posted\", \"group\", \"name\", \"phone\", \"service\", \"post\", \"message\", \"interested\", \"article\", \"available\", \"jesus\", \"bible\", \"church\", \"christians\", \"christ\", \"faith\", \"lord\", \"matthew\", \"heaven\", \"christian\", \"judas\", \"catholic\", \"scripture\", \"biblical\", \"doctrine\", \"worship\", \"passages\", \"divine\", \"resurrection\", \"revelation\", \"soul\", \"testament\", \"sabbath\", \"gospel\", \"orthodox\", \"easter\", \"luke\", \"prophet\", \"churches\", \"salvation\", \"eternal\", \"christianity\", \"holy\", \"spirit\", \"satan\", \"islam\", \"hell\", \"father\", \"religion\", \"paul\", \"religions\", \"love\", \"john\", \"belief\", \"word\", \"life\", \"death\", \"believe\", \"also\", \"would\", \"world\", \"jewish\", \"name\", \"disease\", \"patients\", \"medicine\", \"cancer\", \"newsletter\", \"diseases\", \"dept\", \"aids\", \"candida\", \"patient\", \"syndrome\", \"doctors\", \"hicnet\", \"infections\", \"outlets\", \"infection\", \"prevention\", \"exhaust\", \"genetic\", \"illness\", \"electric\", \"clinical\", \"therapy\", \"belt\", \"advertising\", \"chronic\", \"alomar\", \"courses\", \"plants\", \"kidney\", \"medical\", \"plastic\", \"health\", \"water\", \"symptoms\", \"treatment\", \"pain\", \"study\", \"drug\", \"drugs\", \"effects\", \"rate\", \"rates\", \"insurance\", \"higher\", \"among\", \"research\", \"cause\", \"lower\", \"doctor\", \"reported\", \"center\", \"years\", \"high\", \"number\", \"volume\", \"also\", \"year\", \"cases\", \"arab\", \"apartment\", \"israeli\", \"henrik\", \"azerbaijani\", \"palestinian\", \"sumgait\", \"arabs\", \"karabakh\", \"mamma\", \"baku\", \"lebanon\", \"azerbaijanis\", \"azeris\", \"palestinians\", \"israelis\", \"lebanese\", \"ships\", \"gaza\", \"wounded\", \"lyuda\", \"karabagh\", \"zionist\", \"marina\", \"israel\", \"shouting\", \"massacres\", \"nagorno\", \"hulk\", \"bury\", \"soldiers\", \"civilians\", \"azerbaijan\", \"islamic\", \"troops\", \"daughter\", \"azeri\", \"armenians\", \"killed\", \"land\", \"women\", \"went\", \"said\", \"came\", \"peace\", \"jews\", \"armenian\", \"left\", \"cover\", \"children\", \"dead\", \"people\", \"told\", \"home\", \"started\", \"says\", \"took\", \"nasa\", \"space\", \"printf\", \"launch\", \"null\", \"shuttle\", \"orbit\", \"lunar\", \"solar\", \"satellites\", \"spacecraft\", \"nubus\", \"prog\", \"mars\", \"missions\", \"planetary\", \"telescope\", \"astronomy\", \"ames\", \"chinese\", \"propulsion\", \"orbital\", \"baud\", \"novell\", \"floppies\", \"venus\", \"observatory\", \"parity\", \"astro\", \"launches\", \"satellite\", \"moon\", \"launched\", \"flight\", \"mission\", \"sony\", \"earth\", \"data\", \"surface\", \"rocket\", \"model\", \"station\", \"center\", \"system\", \"program\", \"technology\", \"science\", \"high\", \"systems\", \"cost\", \"stream\", \"char\", \"entries\", \"contest\", \"bytes\", \"exit\", \"entry\", \"argv\", \"prompt\", \"handler\", \"skip\", \"stimulus\", \"interrupt\", \"argc\", \"flags\", \"dole\", \"transfers\", \"truetype\", \"gifs\", \"prisoners\", \"duke\", \"emulation\", \"volvo\", \"bullpen\", \"viola\", \"nintendo\", \"adjusted\", \"chars\", \"midi\", \"sega\", \"output\", \"xlib\", \"temp\", \"remark\", \"expose\", \"bits\", \"width\", \"byte\", \"title\", \"file\", \"build\", \"rules\", \"define\", \"remarks\", \"section\", \"input\", \"size\", \"check\", \"program\", \"return\", \"count\", \"line\", \"author\", \"enter\", \"info\", \"open\", \"write\", \"number\", \"name\", \"read\", \"must\", \"year\", \"firearms\", \"weapon\", \"militia\", \"firearm\", \"handgun\", \"handguns\", \"homicide\", \"concealed\", \"regulated\", \"males\", \"documentary\", \"schism\", \"pistol\", \"challenges\", \"hunting\", \"shotgun\", \"gangs\", \"rifle\", \"federalist\", \"proceeds\", \"wipe\", \"vatican\", \"archbishop\", \"strangers\", \"schismatic\", \"zinc\", \"tyranny\", \"amendments\", \"shah\", \"phrases\", \"guns\", \"amendment\", \"copper\", \"weapons\", \"knife\", \"arms\", \"bear\", \"semi\", \"constitution\", \"criminals\", \"carry\", \"armed\", \"congress\", \"bill\", \"control\", \"second\", \"defense\", \"shall\", \"states\", \"right\", \"police\", \"section\", \"united\", \"military\", \"safety\", \"filename\", \"scorer\", \"allocation\", \"jagr\", \"stevens\", \"ctrl\", \"neck\", \"sockets\", \"darren\", \"tocchet\", \"amour\", \"fleury\", \"carson\", \"unassisted\", \"brind\", \"smythe\", \"recchi\", \"babies\", \"lyme\", \"dineen\", \"courtnall\", \"mullen\", \"cassels\", \"shanahan\", \"sandstrom\", \"roenick\", \"bronx\", \"juneau\", \"galley\", \"suter\", \"lemieux\", \"period\", \"judges\", \"murphy\", \"vernon\", \"calgary\", \"adams\", \"pittsburgh\", \"winnipeg\", \"doug\", \"play\", \"power\", \"shots\", \"third\", \"louis\", \"saves\", \"brown\", \"second\", \"scoring\", \"first\", \"goals\", \"philadelphia\", \"detroit\", \"vancouver\", \"chicago\", \"cylinder\", \"rubber\", \"atoms\", \"cage\", \"throttle\", \"ghetto\", \"palette\", \"wales\", \"sphere\", \"speedstar\", \"theist\", \"xputimage\", \"fitting\", \"smokers\", \"foreground\", \"steer\", \"washer\", \"warsaw\", \"envelope\", \"beware\", \"traction\", \"cmap\", \"mahan\", \"workspace\", \"therapies\", \"pulse\", \"carb\", \"gxxor\", \"sqrt\", \"conclusive\", \"treatments\", \"plane\", \"outlet\", \"tire\", \"mask\", \"radius\", \"tube\", \"electricity\", \"tires\", \"meter\", \"steel\", \"brake\", \"adjust\", \"corner\", \"lines\", \"points\", \"draw\", \"colors\", \"line\", \"foods\", \"detectors\", \"astros\", \"erzurum\", \"bounced\", \"bethesda\", \"sugar\", \"seminar\", \"lens\", \"seizure\", \"restaurants\", \"rickey\", \"telepathy\", \"lipman\", \"lance\", \"accusing\", \"klein\", \"lenses\", \"cigarette\", \"override\", \"amino\", \"diabetes\", \"tray\", \"ermeni\", \"cereals\", \"inject\", \"imperfect\", \"lung\", \"coated\", \"diskettes\", \"detector\", \"restaurant\", \"tobacco\", \"presentations\", \"seizures\", \"radar\", \"eating\", \"food\", \"navy\", \"hewlett\", \"bath\", \"eaten\", \"taste\", \"packard\", \"robert\", \"fruit\", \"virtual\", \"reality\", \"diet\", \"presentation\", \"swap\", \"pixmap\", \"terminals\", \"hash\", \"sequences\", \"vitamin\", \"stewart\", \"loading\", \"disc\", \"bolt\", \"freeware\", \"coprocessor\", \"parliament\", \"fluke\", \"accessed\", \"deciding\", \"shearson\", \"laserwriter\", \"flood\", \"alice\", \"algorythm\", \"metzger\", \"snail\", \"pmetzger\", \"rutgers\", \"capacitor\", \"panicking\", \"smartdrive\", \"rectangular\", \"garrett\", \"linked\", \"expo\", \"adobe\", \"drain\", \"publisher\", \"partition\", \"perry\", \"math\", \"cross\", \"audio\", \"compressed\", \"spectrum\", \"edge\", \"cluster\", \"init\", \"toshiba\", \"premises\", \"qemm\", \"cobra\", \"heterosexual\", \"goddess\", \"darn\", \"passover\", \"feast\", \"bloom\", \"berryhill\", \"composite\", \"worker\", \"rack\", \"scrolling\", \"seller\", \"decoder\", \"projector\", \"xxxxx\", \"pinouts\", \"freeman\", \"pierce\", \"colormaps\", \"dubious\", \"macx\", \"pathogens\", \"deluxe\", \"claremont\", \"offset\", \"label\", \"reactions\", \"oscillator\", \"allocated\", \"hudson\", \"receiver\", \"echo\", \"cells\", \"packaging\", \"blue\"], \"Freq\": [1986.0, 1336.0, 4354.0, 924.0, 1693.0, 933.0, 764.0, 1086.0, 1261.0, 1334.0, 1884.0, 3680.0, 1571.0, 890.0, 6476.0, 1614.0, 1926.0, 3221.0, 1317.0, 815.0, 1296.0, 1124.0, 943.0, 783.0, 1271.0, 1612.0, 1081.0, 4215.0, 996.0, 2079.0, 150.51271057128906, 129.99839782714844, 99.49637603759766, 97.4898452758789, 96.47550201416016, 95.2581558227539, 81.42516326904297, 77.8148193359375, 69.26073455810547, 65.72686767578125, 65.38591003417969, 59.597076416015625, 57.18241882324219, 55.25054168701172, 50.63325500488281, 50.13215637207031, 168.9628143310547, 47.98457717895508, 47.19551467895508, 47.025115966796875, 46.83628845214844, 46.78803634643555, 46.33366012573242, 45.86329650878906, 44.129188537597656, 43.519004821777344, 43.3483772277832, 43.08342361450195, 42.87698745727539, 41.761512756347656, 159.2664031982422, 115.19305419921875, 517.5928344726562, 1209.1844482421875, 127.6474380493164, 93.5779800415039, 102.07884216308594, 68.74561309814453, 289.0032043457031, 173.45040893554688, 166.99766540527344, 125.84540557861328, 232.39010620117188, 476.7192687988281, 97.56124114990234, 482.7710266113281, 319.7501220703125, 999.6331176757812, 525.1682739257812, 308.5436096191406, 1689.28369140625, 918.172119140625, 857.6373291015625, 668.2611083984375, 1644.48779296875, 1975.1063232421875, 1705.7200927734375, 2653.104736328125, 1288.957275390625, 642.7276611328125, 1037.9549560546875, 1186.4287109375, 844.5771484375, 1146.7132568359375, 739.0736694335938, 876.934326171875, 568.9321899414062, 517.8261108398438, 634.7933959960938, 824.5678100585938, 925.7958984375, 647.29248046875, 813.6102294921875, 1209.8389892578125, 741.8829345703125, 774.6360473632812, 633.2572021484375, 661.7390747070312, 763.887451171875, 582.5271606445312, 415.98321533203125, 171.19036865234375, 167.9776611328125, 142.96853637695312, 77.93614959716797, 76.63514709472656, 67.53289031982422, 65.68521118164062, 62.59634017944336, 59.415008544921875, 54.404151916503906, 53.79315185546875, 53.50748825073242, 51.986114501953125, 49.780460357666016, 69.8444595336914, 48.61250686645508, 48.16891098022461, 48.066383361816406, 52.238590240478516, 46.466793060302734, 45.505855560302734, 44.83644485473633, 43.996089935302734, 44.29145431518555, 41.78800582885742, 41.56759262084961, 41.560272216796875, 41.18878936767578, 41.19685745239258, 144.666748046875, 148.46885681152344, 50.05921936035156, 77.23481750488281, 82.13960266113281, 70.81993865966797, 78.0593490600586, 396.2088317871094, 179.86782836914062, 220.2788543701172, 170.79981994628906, 101.04576873779297, 97.55896759033203, 222.41989135742188, 354.189697265625, 242.31301879882812, 324.90289306640625, 110.87017059326172, 455.6734619140625, 165.98194885253906, 221.18099975585938, 154.6154327392578, 278.69842529296875, 799.7635498046875, 243.33255004882812, 199.53456115722656, 128.2599639892578, 700.7724609375, 189.22860717773438, 446.7820129394531, 352.6690979003906, 493.1833190917969, 508.38861083984375, 780.22314453125, 442.1650390625, 1806.6805419921875, 1338.4747314453125, 550.3767700195312, 2070.615234375, 978.4894409179688, 490.3212585449219, 687.4413452148438, 966.495361328125, 646.47802734375, 396.8293151855469, 332.45758056640625, 487.50921630859375, 307.21392822265625, 854.5902709960938, 758.5978393554688, 533.6937255859375, 559.7122192382812, 556.6793823242188, 497.98724365234375, 930.9481201171875, 989.8146362304688, 614.7347412109375, 738.6298828125, 649.265869140625, 728.1328735351562, 568.0044555664062, 537.4286499023438, 576.3676147460938, 661.045166015625, 472.43853759765625, 415.9351501464844, 378.13214111328125, 283.95782470703125, 261.7244873046875, 211.73118591308594, 191.7751922607422, 190.75132751464844, 153.36056518554688, 142.5126190185547, 140.18563842773438, 129.82521057128906, 126.68450164794922, 125.16566467285156, 121.74571228027344, 116.48255157470703, 115.47248077392578, 113.27699279785156, 111.59640502929688, 107.55795288085938, 106.88312530517578, 106.8631362915039, 104.13922882080078, 103.47615051269531, 100.29883575439453, 97.08663177490234, 93.98143005371094, 91.58782958984375, 91.37747192382812, 925.8045043945312, 836.5096435546875, 148.29774475097656, 360.4881896972656, 665.3499145507812, 446.2293395996094, 383.0315856933594, 547.5150756835938, 784.8235473632812, 294.30145263671875, 536.1156005859375, 326.2688903808594, 424.78912353515625, 181.93934631347656, 171.17916870117188, 727.6896362304688, 942.9014282226562, 514.9785766601562, 807.0001831054688, 417.86175537109375, 995.5928344726562, 830.0537109375, 368.56195068359375, 247.38787841796875, 305.5457458496094, 654.8657836914062, 435.17254638671875, 360.7861022949219, 658.7237548828125, 447.913330078125, 421.1282958984375, 352.7911071777344, 551.0491943359375, 413.13232421875, 202.79135131835938, 157.87657165527344, 154.33091735839844, 131.9229736328125, 127.03983306884766, 123.46842193603516, 107.21821594238281, 105.27613830566406, 104.31851196289062, 102.37028503417969, 101.52667236328125, 100.02235412597656, 95.6956558227539, 91.79183197021484, 91.11888885498047, 90.58197784423828, 90.81423950195312, 78.63579559326172, 76.5080337524414, 73.8705062866211, 72.897216796875, 76.94419860839844, 67.21739959716797, 63.9405517578125, 63.32291030883789, 61.127384185791016, 60.13212966918945, 59.65115737915039, 226.4666290283203, 238.48045349121094, 109.39583587646484, 146.94955444335938, 419.48236083984375, 251.07101440429688, 583.16259765625, 193.4198760986328, 185.41424560546875, 280.4448547363281, 136.6404266357422, 227.9985809326172, 178.7873992919922, 221.36253356933594, 213.85218811035156, 335.0364990234375, 318.98883056640625, 247.40452575683594, 221.48416137695312, 161.77479553222656, 154.6496124267578, 469.1011962890625, 234.6234893798828, 579.85009765625, 563.9293823242188, 256.5741271972656, 399.1578369140625, 196.63204956054688, 369.00457763671875, 351.6929931640625, 281.0151062011719, 341.96038818359375, 468.7160949707031, 242.29898071289062, 253.36074829101562, 331.32647705078125, 282.84478759765625, 243.92364501953125, 782.7887573242188, 610.5943603515625, 366.1532897949219, 324.1952209472656, 304.6927185058594, 168.53953552246094, 167.7505645751953, 143.85391235351562, 117.93441772460938, 297.91302490234375, 109.3787841796875, 95.60665893554688, 95.17765045166016, 91.68266296386719, 89.94990539550781, 85.23619842529297, 82.77867126464844, 81.71556091308594, 79.97785186767578, 77.73528289794922, 77.5575942993164, 75.8433837890625, 72.54969787597656, 72.06512451171875, 70.3865966796875, 69.04322814941406, 284.3412170410156, 64.16703796386719, 59.30774688720703, 57.94336700439453, 239.1404571533203, 361.4402770996094, 340.58355712890625, 1022.499267578125, 221.41798400878906, 394.3713684082031, 429.00830078125, 608.499755859375, 326.9913024902344, 244.8878631591797, 132.68453979492188, 470.392578125, 305.8655090332031, 242.12876892089844, 936.5979614257812, 163.36268615722656, 248.96942138671875, 323.911376953125, 282.8136901855469, 403.31268310546875, 277.0155944824219, 700.5611572265625, 247.8500213623047, 666.1864013671875, 428.7977294921875, 497.3385009765625, 548.384765625, 656.6163330078125, 483.7259826660156, 621.2792358398438, 536.9486083984375, 414.0787048339844, 328.27801513671875, 418.2906494140625, 350.0241394042969, 370.6861877441406, 334.7987365722656, 334.8039245605469, 503.4283752441406, 235.66558837890625, 211.24600219726562, 205.86476135253906, 181.59228515625, 116.80443572998047, 109.11318969726562, 104.12005615234375, 100.97687530517578, 99.77446746826172, 95.94483184814453, 93.6905288696289, 85.66972351074219, 85.5094223022461, 85.26702880859375, 83.2976303100586, 82.21847534179688, 81.42023468017578, 80.05601501464844, 79.82660675048828, 79.54752349853516, 76.4154281616211, 75.08674621582031, 66.72773742675781, 110.39317321777344, 65.4089584350586, 64.42597961425781, 55.51251220703125, 53.16789245605469, 52.44987106323242, 332.41522216796875, 68.92278289794922, 103.73583984375, 91.27157592773438, 175.52655029296875, 180.4399871826172, 259.6447448730469, 491.0631408691406, 147.85426330566406, 480.11822509765625, 285.5083312988281, 168.2998504638672, 174.18634033203125, 194.41737365722656, 110.32283782958984, 243.43551635742188, 134.14613342285156, 241.83267211914062, 343.95098876953125, 272.06304931640625, 243.60594177246094, 213.95433044433594, 229.79226684570312, 284.21063232421875, 160.17005920410156, 273.60302734375, 265.47955322265625, 394.707763671875, 373.90863037109375, 262.5288391113281, 237.7310791015625, 188.43115234375, 328.09344482421875, 228.67584228515625, 188.52610778808594, 195.2095184326172, 215.98538208007812, 191.32835388183594, 235.99118041992188, 195.1300506591797, 177.55540466308594, 103.92858123779297, 80.72479248046875, 71.79346466064453, 105.2162094116211, 68.46170043945312, 58.96642303466797, 58.43666076660156, 51.24002456665039, 50.47825241088867, 325.4820556640625, 47.71916580200195, 43.28693771362305, 42.999351501464844, 42.205989837646484, 41.656639099121094, 39.9630126953125, 39.71662521362305, 39.235511779785156, 38.15130615234375, 37.88329315185547, 37.77766799926758, 37.572608947753906, 37.41261672973633, 52.47719955444336, 35.16984939575195, 34.701541900634766, 34.55373764038086, 70.47513580322266, 65.3905258178711, 408.4874572753906, 55.38013458251953, 158.810791015625, 56.161346435546875, 83.05157470703125, 94.97108459472656, 258.9563903808594, 134.6738739013672, 239.95077514648438, 152.82923889160156, 88.11138153076172, 222.04833984375, 64.27236938476562, 506.6375427246094, 196.1011962890625, 129.7933807373047, 149.90785217285156, 151.28408813476562, 376.4586486816406, 453.83056640625, 99.59623718261719, 185.4384307861328, 96.73155212402344, 155.5536651611328, 217.65452575683594, 576.743408203125, 163.67710876464844, 162.27279663085938, 265.0331726074219, 208.70074462890625, 210.34490966796875, 175.89947509765625, 185.65003967285156, 181.5768585205078, 217.87179565429688, 160.47433471679688, 461.0345458984375, 396.065673828125, 382.9233093261719, 282.9553527832031, 208.59405517578125, 154.14158630371094, 143.6885986328125, 142.10340881347656, 140.3019256591797, 117.56857299804688, 113.02791595458984, 112.60842895507812, 105.84736633300781, 103.41275787353516, 99.6217269897461, 99.45836639404297, 99.44471740722656, 97.47962951660156, 96.73821258544922, 96.45594787597656, 91.615234375, 88.6086196899414, 86.58552551269531, 86.44149780273438, 85.76290893554688, 83.75015258789062, 82.47278594970703, 79.57906341552734, 77.3482437133789, 386.1951904296875, 795.1448974609375, 849.6223754882812, 570.581787109375, 91.8111801147461, 264.976318359375, 181.3665313720703, 142.73184204101562, 154.20384216308594, 173.4597625732422, 400.885009765625, 155.0311279296875, 189.37545776367188, 601.9140014648438, 143.9146270751953, 168.4865264892578, 139.91993713378906, 137.55137634277344, 202.80130004882812, 340.09271240234375, 175.80709838867188, 173.16970825195312, 267.2752685546875, 190.8343048095703, 219.55023193359375, 157.1725311279297, 152.8829345703125, 155.0081024169922, 159.92625427246094, 98.00714111328125, 86.91146087646484, 79.98509216308594, 67.21823120117188, 64.18829345703125, 52.30130386352539, 49.84579849243164, 48.08950424194336, 45.31474685668945, 42.84734344482422, 42.02024841308594, 41.61533737182617, 184.92572021484375, 38.65361022949219, 38.112396240234375, 38.064208984375, 37.961273193359375, 37.61626434326172, 37.59629821777344, 36.271331787109375, 35.867088317871094, 33.36526107788086, 32.5917854309082, 31.6092529296875, 30.57241439819336, 30.546472549438477, 30.315500259399414, 29.5339298248291, 31.830957412719727, 29.226572036743164, 453.844482421875, 218.4860382080078, 83.84326171875, 135.30270385742188, 57.60392761230469, 48.71792984008789, 101.63574981689453, 64.8116683959961, 182.34115600585938, 68.28131866455078, 756.9263916015625, 426.3380126953125, 556.3999633789062, 299.28179931640625, 278.407470703125, 88.0670166015625, 66.78435516357422, 533.5525512695312, 424.0520935058594, 294.1802673339844, 188.40232849121094, 119.42719268798828, 647.9044799804688, 175.44485473632812, 329.95343017578125, 335.9595031738281, 310.2266540527344, 201.1316680908203, 141.52976989746094, 333.3999328613281, 488.223388671875, 142.1043243408203, 192.4026336669922, 267.84405517578125, 307.41912841796875, 200.54025268554688, 188.69671630859375, 230.59300231933594, 201.30300903320312, 189.8968048095703, 192.8037109375, 191.165283203125, 932.9064331054688, 536.6683349609375, 467.6808776855469, 429.9315490722656, 386.0971374511719, 387.0074462890625, 203.08949279785156, 190.0784454345703, 158.3565216064453, 588.701171875, 142.24172973632812, 136.61903381347656, 131.23475646972656, 110.84510803222656, 104.60726928710938, 95.7754135131836, 92.42716217041016, 89.41984558105469, 87.43103790283203, 83.67022705078125, 82.99683380126953, 81.28023529052734, 77.49349975585938, 77.07964324951172, 76.45435333251953, 73.54791259765625, 69.39138793945312, 68.77054595947266, 67.16377258300781, 65.4106674194336, 137.26705932617188, 230.34097290039062, 181.0864715576172, 192.2606201171875, 87.25301361083984, 162.3388214111328, 225.3985595703125, 197.4781951904297, 224.6565704345703, 187.1160888671875, 111.5421371459961, 207.9250030517578, 226.6898193359375, 133.0654296875, 211.76016235351562, 222.97352600097656, 163.8729705810547, 250.75498962402344, 255.31265258789062, 186.28623962402344, 156.6597900390625, 138.83551025390625, 137.94927978515625, 218.3015594482422, 178.16957092285156, 138.55833435058594, 117.65303802490234, 118.44720458984375, 113.34458923339844, 102.84810638427734, 88.63508605957031, 87.80099487304688, 85.20504760742188, 70.76624298095703, 96.2577133178711, 67.73103332519531, 67.39878845214844, 66.2357406616211, 64.58641815185547, 62.02977752685547, 59.68603515625, 59.01293182373047, 58.89061737060547, 58.044677734375, 56.591590881347656, 53.58011245727539, 53.54311752319336, 50.699432373046875, 49.93376159667969, 49.65895080566406, 48.201499938964844, 46.5699348449707, 46.338619232177734, 318.67327880859375, 105.34184265136719, 400.77764892578125, 231.08555603027344, 75.86735534667969, 127.5817642211914, 185.7379608154297, 221.0149383544922, 160.28866577148438, 128.60247802734375, 99.17446899414062, 180.08074951171875, 110.53909301757812, 112.8901596069336, 145.72769165039062, 190.0390167236328, 200.97503662109375, 185.8190460205078, 115.87590789794922, 111.35306549072266, 113.59514617919922, 139.07180786132812, 169.7763214111328, 149.794677734375, 144.44505310058594, 111.40569305419922, 135.4771270751953, 122.96927642822266, 111.88033294677734, 236.56903076171875, 170.1152801513672, 356.4991149902344, 149.89651489257812, 127.32450866699219, 123.33000183105469, 120.99578857421875, 111.91146850585938, 99.30457305908203, 87.3369369506836, 85.73326873779297, 81.05184173583984, 79.24725341796875, 75.5214614868164, 75.25557708740234, 73.52316284179688, 68.06807708740234, 63.23039245605469, 62.156429290771484, 56.39363479614258, 56.210182189941406, 52.63998031616211, 51.08152770996094, 48.85546875, 573.431884765625, 46.581268310546875, 42.03128433227539, 41.95399475097656, 39.784095764160156, 37.09625244140625, 195.51937866210938, 91.56117248535156, 158.4554443359375, 115.73699188232422, 116.1400146484375, 104.30029296875, 81.9764404296875, 355.34625244140625, 242.06019592285156, 174.0573272705078, 218.9711151123047, 269.8992004394531, 479.4771728515625, 210.041015625, 139.03160095214844, 202.75794982910156, 212.3413543701172, 215.85653686523438, 141.88497924804688, 178.21592712402344, 148.45123291015625, 346.26971435546875, 170.77969360351562, 148.30210876464844, 141.04429626464844, 143.35630798339844, 118.60883331298828, 479.7132873535156, 1333.8857421875, 267.9079284667969, 264.7668151855469, 246.7630615234375, 195.24740600585938, 187.40591430664062, 170.2303466796875, 131.2865447998047, 114.89442443847656, 110.87837219238281, 90.959716796875, 90.74771881103516, 88.58700561523438, 83.70213317871094, 80.60956573486328, 80.59954833984375, 76.4145278930664, 73.39212036132812, 68.84394073486328, 67.24794006347656, 67.01663208007812, 65.11974334716797, 58.175811767578125, 57.03593444824219, 53.991355895996094, 50.35321807861328, 50.163734436035156, 49.2187614440918, 48.09539794921875, 219.4738311767578, 157.6194610595703, 88.62871551513672, 148.6021728515625, 153.37425231933594, 93.4530258178711, 239.9339599609375, 454.2123107910156, 110.48759460449219, 95.23991394042969, 143.48678588867188, 115.42668914794922, 146.71449279785156, 162.1122283935547, 137.08567810058594, 109.45476531982422, 105.88072967529297, 101.7326889038086, 96.85753631591797, 91.75499725341797, 277.4077453613281, 259.94573974609375, 266.747802734375, 203.0451202392578, 178.515869140625, 98.04430389404297, 757.2031860351562, 68.04674530029297, 55.614280700683594, 54.13847351074219, 53.42809295654297, 46.60039520263672, 45.04012680053711, 44.881568908691406, 41.18899154663086, 39.21476364135742, 36.74592971801758, 36.701416015625, 34.21520233154297, 34.14044952392578, 33.758644104003906, 32.8692741394043, 29.17810821533203, 29.1141414642334, 28.517169952392578, 28.179317474365234, 27.36031723022461, 27.210975646972656, 26.9901123046875, 26.42170524597168, 888.5235595703125, 148.0520782470703, 55.4288444519043, 171.29153442382812, 67.1522216796875, 245.89627075195312, 65.41352844238281, 116.23926544189453, 234.5166473388672, 976.7402954101562, 323.02496337890625, 260.22454833984375, 180.9694061279297, 85.6462631225586, 278.21240234375, 233.3957061767578, 233.22549438476562, 258.6370544433594, 467.7244873046875, 196.30856323242188, 132.2427215576172, 322.1733703613281, 148.40403747558594, 93.36717987060547, 230.56040954589844, 204.8814697265625, 153.5323944091797, 217.41065979003906, 188.15626525878906, 189.40997314453125, 176.52638244628906, 178.7969970703125, 182.49696350097656, 139.36181640625, 136.66802978515625, 77.46399688720703, 72.76947021484375, 62.2177848815918, 61.395721435546875, 53.681007385253906, 49.54296112060547, 38.23081970214844, 30.7564640045166, 28.87144660949707, 27.823015213012695, 26.832487106323242, 27.785322189331055, 24.5312557220459, 24.07430648803711, 23.616975784301758, 22.55228042602539, 22.392290115356445, 21.333480834960938, 20.702951431274414, 18.750276565551758, 16.215850830078125, 16.173065185546875, 15.85478687286377, 15.831283569335938, 15.598350524902344, 15.25210952758789, 15.065735816955566, 312.4405212402344, 139.94467163085938, 28.7885684967041, 188.7633514404297, 45.10660171508789, 117.29906463623047, 82.27716827392578, 60.3310546875, 78.2945327758789, 69.90813446044922, 77.57189178466797, 50.509220123291016, 72.52225494384766, 78.37059783935547, 95.42253875732422, 102.18839263916016, 68.66657257080078, 57.58250427246094, 73.08405303955078, 98.33068084716797, 58.64255142211914, 60.44967269897461, 54.55384063720703, 54.01449966430664, 51.735958099365234, 128.1232147216797, 100.24742126464844, 52.48787307739258, 46.29045104980469, 38.41111755371094, 35.06529998779297, 33.3988151550293, 33.169063568115234, 32.89826583862305, 31.722291946411133, 30.183197021484375, 29.002079010009766, 28.863433837890625, 28.471281051635742, 28.313385009765625, 28.271150588989258, 40.87589645385742, 27.085620880126953, 26.638927459716797, 26.099157333374023, 25.650175094604492, 25.4897403717041, 24.90993881225586, 24.869104385375977, 24.766950607299805, 24.006214141845703, 23.903076171875, 23.79096031188965, 23.636959075927734, 22.489959716796875, 52.893550872802734, 257.3803405761719, 72.85050964355469, 50.19432067871094, 31.153478622436523, 55.877952575683594, 38.88791275024414, 74.31055450439453, 41.96231460571289, 51.32171630859375, 113.00550079345703, 141.6088104248047, 49.010162353515625, 63.63887405395508, 43.64347457885742, 36.422027587890625, 41.13811492919922, 65.2301025390625, 37.169189453125, 58.42500686645508, 39.04484939575195, 36.50307083129883, 35.19247817993164, 35.06298065185547, 35.35514831542969, 38.736724853515625, 35.72758865356445, 28.109251022338867, 28.00799560546875, 27.721303939819336, 26.118257522583008, 25.51837158203125, 25.177413940429688, 24.798328399658203, 22.957229614257812, 20.704265594482422, 20.097732543945312, 19.41215705871582, 18.62721061706543, 18.291501998901367, 18.177505493164062, 17.62810516357422, 17.39821434020996, 16.194351196289062, 16.12075424194336, 15.656414985656738, 15.60181713104248, 15.207983016967773, 15.204948425292969, 15.16401481628418, 14.931183815002441, 14.447980880737305, 14.365913391113281, 13.923702239990234, 13.739291191101074, 25.088428497314453, 70.27409362792969, 39.5421028137207, 40.09535598754883, 53.39860534667969, 40.766265869140625, 45.55635070800781, 21.029863357543945, 41.30183410644531, 22.54300308227539, 26.607540130615234, 27.095083236694336, 19.543048858642578, 26.997297286987305, 45.399253845214844, 34.59922790527344, 20.896472930908203, 20.366777420043945, 20.787761688232422, 34.04243087768555, 30.498504638671875, 30.093080520629883, 28.08206558227539, 21.948755264282227, 20.826820373535156, 20.743741989135742, 20.57119369506836, 17.184284210205078, 16.07217025756836, 16.043861389160156, 14.271347045898438, 14.20612907409668, 13.621932983398438, 13.597620010375977, 13.380184173583984, 13.215460777282715, 13.105127334594727, 12.414229393005371, 12.248347282409668, 11.87222957611084, 11.460243225097656, 11.43004035949707, 11.427650451660156, 11.05289363861084, 10.929766654968262, 10.862112045288086, 10.712235450744629, 10.657784461975098, 10.580134391784668, 49.391578674316406, 28.142898559570312, 90.29486846923828, 24.576889038085938, 17.392295837402344, 72.14324951171875, 38.851654052734375, 109.01969146728516, 44.57136535644531, 18.168560028076172, 16.428489685058594, 17.73264503479004, 22.308696746826172, 18.215320587158203, 28.153087615966797, 15.912043571472168, 23.295425415039062, 26.09762954711914, 19.512592315673828, 16.926156997680664, 52.4290885925293, 56.299415588378906, 43.52243423461914, 42.75527572631836, 35.75522994995117, 32.52846145629883, 32.057979583740234, 30.767621994018555, 26.862506866455078, 26.624523162841797, 26.0528564453125, 25.529508590698242, 20.291820526123047, 18.946796417236328, 17.132164001464844, 16.316421508789062, 16.016742706298828, 15.337639808654785, 14.586456298828125, 14.286493301391602, 14.201157569885254, 14.013671875, 13.840217590332031, 13.601847648620605, 13.189912796020508, 13.134655952453613, 13.1167631149292, 12.97233772277832, 12.886398315429688, 12.442678451538086, 51.939449310302734, 23.406156539916992, 27.30447006225586, 18.79657745361328, 21.720157623291016, 18.435443878173828, 21.812496185302734, 31.713340759277344, 37.36642837524414, 26.45417022705078, 17.65227699279785, 16.329254150390625, 15.396835327148438, 31.806379318237305, 26.604433059692383, 22.091703414916992, 20.4613094329834, 19.944454193115234, 19.8798885345459, 14.891683578491211, 13.38491439819336, 13.104158401489258, 13.100502967834473, 12.76871395111084, 12.740769386291504, 12.112922668457031, 11.872727394104004, 11.168641090393066, 11.16653060913086, 10.997344970703125, 10.469598770141602, 10.062919616699219, 9.96066665649414, 9.876851081848145, 9.52801513671875, 9.260255813598633, 8.830607414245605, 8.720593452453613, 8.398457527160645, 8.389078140258789, 8.149435043334961, 8.004587173461914, 7.5291218757629395, 28.052499771118164, 24.422407150268555, 20.60297393798828, 11.268930435180664, 16.603343963623047, 16.934843063354492, 20.900142669677734, 26.160526275634766, 17.97431182861328, 11.853727340698242, 11.469155311584473], \"Total\": [1986.0, 1336.0, 4354.0, 924.0, 1693.0, 933.0, 764.0, 1086.0, 1261.0, 1334.0, 1884.0, 3680.0, 1571.0, 890.0, 6476.0, 1614.0, 1926.0, 3221.0, 1317.0, 815.0, 1296.0, 1124.0, 943.0, 783.0, 1271.0, 1612.0, 1081.0, 4215.0, 996.0, 2079.0, 151.4395751953125, 130.91549682617188, 100.4134750366211, 98.40694427490234, 97.3926010131836, 96.17525482177734, 82.3422622680664, 78.73192596435547, 70.1778335571289, 66.64396667480469, 66.30300903320312, 60.51420211791992, 58.099937438964844, 56.199832916259766, 51.55057144165039, 51.04928207397461, 172.05735778808594, 48.901702880859375, 48.112640380859375, 47.94224166870117, 47.753414154052734, 47.705162048339844, 47.25080871582031, 46.78042221069336, 45.04631423950195, 44.43613052368164, 44.2655029296875, 44.00054931640625, 43.79411697387695, 42.67863845825195, 167.7373809814453, 122.10589599609375, 595.3236694335938, 1468.1619873046875, 138.0043487548828, 100.37342071533203, 110.62857055664062, 72.4836654663086, 360.1249694824219, 205.97412109375, 197.41062927246094, 143.9712371826172, 286.8581848144531, 654.4314575195312, 108.51179504394531, 675.3133544921875, 422.50872802734375, 1569.762939453125, 756.0513305664062, 418.60595703125, 3190.2939453125, 1548.977294921875, 1426.818603515625, 1062.2672119140625, 3221.398193359375, 4215.30908203125, 3680.96142578125, 6476.9697265625, 2660.105224609375, 1119.994873046875, 2215.2509765625, 2675.398193359375, 1701.65576171875, 2620.267822265625, 1491.8515625, 1926.623779296875, 1057.3427734375, 939.4325561523438, 1270.1358642578125, 1880.71923828125, 2434.0205078125, 1419.1812744140625, 2166.82861328125, 4354.67529296875, 1884.474609375, 2311.663330078125, 1489.2044677734375, 1760.5855712890625, 3595.8623046875, 1226.4512939453125, 416.9234313964844, 172.10719299316406, 168.8944854736328, 143.9273681640625, 78.85299682617188, 77.55199432373047, 68.44974517822266, 66.60205078125, 63.513206481933594, 60.33186721801758, 55.32101058959961, 54.710208892822266, 54.424354553222656, 52.90297317504883, 50.69731903076172, 71.1359634399414, 49.529632568359375, 49.08576965332031, 48.98324203491211, 53.24225616455078, 47.3836555480957, 46.42271423339844, 45.75330352783203, 44.91294860839844, 45.21951675415039, 42.704864501953125, 42.48445129394531, 42.4771614074707, 42.105648040771484, 42.114036560058594, 148.98046875, 153.1658935546875, 51.21770477294922, 79.49234771728516, 84.74064636230469, 73.15327453613281, 81.0193862915039, 435.8136901855469, 193.18931579589844, 239.1286163330078, 184.88748168945312, 106.65100860595703, 103.42230987548828, 249.11643981933594, 412.5984191894531, 274.9679260253906, 382.81695556640625, 120.07440185546875, 560.9192504882812, 187.0995330810547, 256.92669677734375, 175.55772399902344, 343.1278076171875, 1148.800537109375, 296.9393615722656, 239.3813934326172, 143.5044403076172, 1039.8603515625, 226.39825439453125, 654.2905883789062, 494.50213623046875, 757.4051513671875, 822.9517822265625, 1417.806640625, 700.1580200195312, 4354.67529296875, 3221.398193359375, 998.0341796875, 6476.9697265625, 2275.171630859375, 869.4605102539062, 1441.298583984375, 2434.0205078125, 1372.5418701171875, 652.66455078125, 501.2920227050781, 936.4371948242188, 443.2636413574219, 2660.105224609375, 2166.82861328125, 1183.6861572265625, 1313.5791015625, 1303.363525390625, 1059.345947265625, 3680.96142578125, 4215.30908203125, 1701.65576171875, 2675.398193359375, 2215.2509765625, 3190.2939453125, 1606.9864501953125, 1424.98486328125, 2620.267822265625, 661.963623046875, 473.35699462890625, 416.8536071777344, 379.05059814453125, 284.87628173828125, 262.6429443359375, 212.64962768554688, 192.69363403320312, 191.66976928710938, 154.2790069580078, 143.43106079101562, 141.1040802001953, 130.74365234375, 127.60295104980469, 126.08411407470703, 122.6641616821289, 117.4010009765625, 116.39093017578125, 114.19544219970703, 112.51485443115234, 108.47640228271484, 107.80157470703125, 107.78158569335938, 105.05767822265625, 104.39459991455078, 101.21728515625, 98.00508117675781, 94.8998794555664, 92.50627899169922, 92.2959213256836, 943.1768188476562, 878.5584106445312, 151.0213165283203, 374.78265380859375, 709.6992797851562, 474.493896484375, 413.54632568359375, 613.7741088867188, 977.8818359375, 329.474609375, 643.4746704101562, 375.2555847167969, 513.86669921875, 196.19235229492188, 183.86386108398438, 1074.970947265625, 1497.8204345703125, 728.9131469726562, 1317.77734375, 607.5487670898438, 1986.1409912109375, 1693.42431640625, 567.587158203125, 318.71697998046875, 445.95330810546875, 1578.6134033203125, 996.5462036132812, 761.4694213867188, 3595.8623046875, 1334.6351318359375, 2079.86279296875, 1612.106689453125, 551.9653930664062, 414.0484924316406, 203.70748901367188, 158.8117218017578, 155.24705505371094, 132.8392333984375, 127.95598602294922, 124.3846206665039, 108.13436889648438, 106.19229888916016, 105.23466491699219, 103.28643798828125, 102.44282531738281, 100.93850708007812, 96.61180877685547, 92.7079849243164, 92.03504180908203, 91.49813079833984, 91.84369659423828, 79.55194854736328, 77.42418670654297, 74.78665924072266, 73.81336975097656, 77.9709243774414, 68.13355255126953, 64.85670471191406, 64.23906707763672, 62.04356002807617, 61.04830551147461, 60.56733322143555, 230.19264221191406, 243.40663146972656, 111.5626449584961, 150.9999542236328, 459.83123779296875, 272.46160888671875, 702.3508911132812, 218.10086059570312, 212.6226043701172, 362.6462097167969, 154.29562377929688, 294.81317138671875, 221.19479370117188, 294.256103515625, 281.8237609863281, 515.5667724609375, 497.3595275878906, 349.5042419433594, 301.3235778808594, 195.6453857421875, 188.4349822998047, 1124.4898681640625, 375.5871887207031, 2044.721923828125, 2079.86279296875, 521.3644409179688, 1271.6654052734375, 310.63250732421875, 1334.6351318359375, 1578.6134033203125, 894.534423828125, 1749.559326171875, 6476.9697265625, 730.0266723632812, 911.8683471679688, 3595.8623046875, 4215.30908203125, 1452.8226318359375, 783.7078247070312, 611.7838745117188, 367.0727233886719, 325.1143493652344, 305.6120300292969, 169.45855712890625, 168.66958618164062, 144.77293395996094, 118.85344696044922, 300.2669372558594, 110.29781341552734, 96.52568817138672, 96.0966796875, 92.60169219970703, 90.86893463134766, 86.15522766113281, 83.69770050048828, 82.63459014892578, 80.89688110351562, 78.65431213378906, 78.47662353515625, 76.76241302490234, 73.4687271118164, 72.9841537475586, 71.30562591552734, 69.9622573852539, 288.29205322265625, 65.08606719970703, 60.226802825927734, 58.862422943115234, 243.32598876953125, 370.8597412109375, 352.82275390625, 1086.891845703125, 231.0485382080078, 431.292236328125, 475.4031982421875, 702.7224731445312, 368.6864929199219, 274.1778259277344, 140.69972229003906, 571.5999755859375, 358.4443664550781, 277.7300720214844, 1296.498291015625, 180.65350341796875, 296.8027648925781, 417.57806396484375, 376.86767578125, 623.5247192382812, 388.9515075683594, 1571.418212890625, 337.5536804199219, 1678.7940673828125, 841.790771484375, 1317.77734375, 2079.86279296875, 3680.96142578125, 1681.2242431640625, 6476.9697265625, 4215.30908203125, 1749.559326171875, 816.5402221679688, 3595.8623046875, 1261.5587158203125, 2044.721923828125, 1254.2303466796875, 1760.5855712890625, 504.3443603515625, 236.58157348632812, 212.1619873046875, 206.78074645996094, 182.50827026367188, 117.72042846679688, 110.02918243408203, 105.03604888916016, 101.89286804199219, 100.69046020507812, 96.86082458496094, 94.60652160644531, 86.5857162475586, 86.4254150390625, 86.1830825805664, 84.213623046875, 83.13446807861328, 82.33622741699219, 80.97200775146484, 80.74259948730469, 80.46351623535156, 77.3314208984375, 76.00282287597656, 67.64373016357422, 111.93645477294922, 66.324951171875, 65.34606170654297, 56.428524017333984, 54.08390426635742, 53.365882873535156, 361.6553039550781, 70.76710510253906, 109.37956237792969, 96.12255859375, 198.42417907714844, 206.7877197265625, 312.67987060546875, 670.661865234375, 169.25535583496094, 693.3262329101562, 385.7767333984375, 204.13131713867188, 213.9692840576172, 254.3418731689453, 121.91185760498047, 345.93670654296875, 158.0911102294922, 358.6956481933594, 610.8743896484375, 488.4564208984375, 415.4244384765625, 347.42974853515625, 406.50897216796875, 610.9735107421875, 228.2880096435547, 619.3053588867188, 588.1834106445312, 1271.6654052734375, 1193.629638671875, 642.718994140625, 593.9439697265625, 353.99542236328125, 4354.67529296875, 1489.2044677734375, 393.6001892089844, 640.8464965820312, 3595.8623046875, 624.01171875, 236.9089813232422, 196.0483856201172, 178.4736785888672, 104.84638977050781, 81.6426010131836, 72.71127319335938, 106.62528228759766, 69.37950897216797, 59.88425064086914, 59.35448455810547, 52.1578483581543, 51.39607620239258, 331.5838317871094, 48.63698959350586, 44.20476150512695, 43.91717529296875, 43.12381362915039, 42.574462890625, 40.880836486816406, 40.63444900512695, 40.15333557128906, 39.069129943847656, 38.801116943359375, 38.695491790771484, 38.490482330322266, 38.330440521240234, 53.77014923095703, 36.08767318725586, 35.61936569213867, 35.47197341918945, 72.49473571777344, 67.71343994140625, 471.87640380859375, 57.91752243041992, 177.12083435058594, 58.82064437866211, 89.70396423339844, 105.60993194580078, 323.64404296875, 158.58506774902344, 310.64703369140625, 187.72958374023438, 102.51374053955078, 309.3392028808594, 71.65797424316406, 953.0438232421875, 313.23870849609375, 184.31031799316406, 237.26718139648438, 242.76280212402344, 911.8683471679688, 1271.6654052734375, 136.97161865234375, 370.7791442871094, 133.4502716064453, 320.1393737792969, 617.6690673828125, 4354.67529296875, 387.9722595214844, 402.7104797363281, 1203.618408203125, 742.2777099609375, 841.1685180664062, 619.3053588867188, 755.1278686523438, 1244.636962890625, 6476.9697265625, 1926.623779296875, 461.953125, 396.9842529296875, 383.8418884277344, 283.8739318847656, 209.5126190185547, 155.06015014648438, 144.60716247558594, 143.02197265625, 141.22048950195312, 118.48714447021484, 113.94648742675781, 113.5270004272461, 106.76593780517578, 104.33132934570312, 100.54029846191406, 100.37693786621094, 100.36328887939453, 98.39820098876953, 97.65678405761719, 97.37451934814453, 92.53380584716797, 89.52719116210938, 87.50409698486328, 87.36006927490234, 86.68148040771484, 84.6687240600586, 83.391357421875, 80.49763488769531, 78.27491760253906, 390.9499206542969, 815.9032592773438, 890.4686889648438, 613.2188110351562, 93.3294448852539, 288.76953125, 206.00279235839844, 156.3749237060547, 171.439697265625, 204.42332458496094, 617.566650390625, 194.49879455566406, 265.2044982910156, 1614.870849609375, 179.9837646484375, 234.1611328125, 179.3012237548828, 185.467529296875, 414.1684265136719, 1419.1812744140625, 355.37493896484375, 368.3280029296875, 2311.663330078125, 1027.5013427734375, 2620.267822265625, 361.1973571777344, 395.31280517578125, 561.8568725585938, 1255.674560546875, 98.92286682128906, 87.82718658447266, 80.90208435058594, 68.13395690917969, 65.10401916503906, 53.217044830322266, 50.761539459228516, 49.005245208740234, 46.23048782348633, 43.77701187133789, 42.935997009277344, 42.53107833862305, 189.09201049804688, 39.56935119628906, 39.02813720703125, 38.979949951171875, 38.87701416015625, 38.532005310058594, 38.51203918457031, 37.18707275390625, 36.78282928466797, 34.281002044677734, 33.50752639770508, 32.524993896484375, 31.488149642944336, 31.462207794189453, 31.23123550415039, 30.449665069580078, 32.8228874206543, 30.142322540283203, 470.6103820800781, 227.13717651367188, 86.70558166503906, 141.08425903320312, 60.147613525390625, 50.916561126708984, 112.28607177734375, 70.01702117919922, 214.49118041992188, 76.88084411621094, 1261.5587158203125, 659.546875, 910.2662963867188, 440.3856506347656, 420.2618713378906, 105.83806610107422, 76.77910614013672, 1032.3565673828125, 817.312255859375, 520.6073608398438, 292.3006896972656, 165.3453826904297, 1612.106689453125, 280.73651123046875, 672.4617309570312, 690.0459594726562, 640.8464965820312, 351.09857177734375, 215.84930419921875, 816.5402221679688, 1571.418212890625, 228.95018005371094, 417.0053405761719, 825.7047119140625, 1178.0146484375, 521.3644409179688, 470.23211669921875, 850.4705810546875, 625.6406860351562, 554.9860229492188, 629.6659545898438, 1497.8204345703125, 933.825927734375, 537.5878295898438, 468.60369873046875, 430.85540771484375, 387.0166320800781, 387.9461669921875, 204.0089874267578, 190.99794006347656, 159.2760009765625, 592.24658203125, 143.16122436523438, 137.53851318359375, 132.15423583984375, 111.76459503173828, 105.52680206298828, 96.69490051269531, 93.34664916992188, 90.33934020996094, 88.35052490234375, 84.58971405029297, 83.91638946533203, 82.19972229003906, 78.4129867553711, 77.99913024902344, 77.37384033203125, 74.46739959716797, 70.31087493896484, 69.69003295898438, 68.08325958251953, 66.33015441894531, 142.9882049560547, 246.4031219482422, 192.50392150878906, 206.63946533203125, 91.59252166748047, 195.6305389404297, 369.7171630859375, 308.95062255859375, 431.19305419921875, 330.9603271484375, 138.933349609375, 411.6509704589844, 561.8568725585938, 221.81072998046875, 647.0894165039062, 833.0033569335938, 402.7104797363281, 1417.806640625, 3595.8623046875, 6476.9697265625, 1193.629638671875, 378.34417724609375, 1178.0146484375, 219.21951293945312, 179.0875244140625, 139.4763641357422, 118.5710220336914, 119.37409210205078, 114.2625503540039, 103.7660903930664, 89.55304718017578, 88.71895599365234, 86.12347412109375, 71.6842041015625, 97.56190490722656, 68.64899444580078, 68.3167495727539, 67.15370178222656, 65.50437927246094, 62.94775390625, 60.6040153503418, 59.930908203125, 59.80859375, 58.96273422241211, 57.50956726074219, 54.49808883666992, 54.46109390258789, 51.617408752441406, 50.85173797607422, 50.576927185058594, 49.119476318359375, 47.487918853759766, 47.256595611572266, 335.3138427734375, 110.17082977294922, 461.9835205078125, 286.1458435058594, 81.67914581298828, 161.09725952148438, 266.0902404785156, 346.56890869140625, 234.50086975097656, 190.9447784423828, 135.30259704589844, 364.0654602050781, 169.77134704589844, 182.6183624267578, 295.4599609375, 496.62060546875, 562.252685546875, 492.7171325683594, 227.08822631835938, 214.7793731689453, 235.52488708496094, 502.7068176269531, 1489.2044677734375, 894.534423828125, 1452.8226318359375, 273.9117736816406, 3595.8623046875, 1614.870849609375, 376.1150207519531, 237.4900665283203, 171.03631591796875, 358.6502990722656, 150.88296508789062, 128.24554443359375, 124.25103759765625, 121.91681671142578, 112.8324966430664, 100.22561645507812, 88.25796508789062, 86.654296875, 81.97286987304688, 80.16828155517578, 76.44248962402344, 76.17660522460938, 74.4441909790039, 68.98910522460938, 64.15142059326172, 63.07747268676758, 57.315032958984375, 57.1312255859375, 53.5610237121582, 52.00257110595703, 49.776512145996094, 584.4025268554688, 47.5023193359375, 42.952327728271484, 42.87504196166992, 40.70513916015625, 38.017295837402344, 203.86402893066406, 95.22583770751953, 172.22308349609375, 125.67597961425781, 128.7329864501953, 115.79147338867188, 88.91578674316406, 593.9439697265625, 379.898193359375, 261.76947021484375, 382.3102111816406, 611.6553955078125, 1884.474609375, 608.87841796875, 266.5200500488281, 610.9735107421875, 693.3262329101562, 737.8966674804688, 294.3128356933594, 617.6690673828125, 383.7205505371094, 4354.67529296875, 625.9055786132812, 626.369873046875, 494.9627990722656, 716.4232177734375, 503.2423400878906, 480.62890625, 1336.432373046875, 268.82354736328125, 265.68243408203125, 247.67868041992188, 196.16302490234375, 188.321533203125, 171.14596557617188, 132.20216369628906, 115.81004333496094, 111.79399108886719, 91.87533569335938, 91.66333770751953, 89.50262451171875, 84.61775207519531, 81.52518463134766, 81.51516723632812, 77.33014678955078, 74.3077392578125, 69.75955963134766, 68.16355895996094, 67.9322509765625, 66.03536224365234, 59.091461181640625, 57.951568603515625, 54.90699005126953, 51.26885223388672, 51.079368591308594, 50.134395599365234, 49.01103210449219, 224.09530639648438, 167.49342346191406, 94.14085388183594, 170.80079650878906, 188.2997283935547, 111.65958404541016, 394.63739013671875, 1334.6351318359375, 166.90252685546875, 131.89797973632812, 379.20941162109375, 250.2191162109375, 502.7068176269531, 2079.86279296875, 1693.42431640625, 497.3595275878906, 503.49603271484375, 894.534423828125, 679.6531372070312, 488.63018798828125, 278.32427978515625, 260.8621520996094, 267.7377014160156, 203.96153259277344, 179.43316650390625, 98.96070861816406, 764.4730834960938, 68.96315002441406, 56.53070068359375, 55.054893493652344, 54.344512939453125, 47.516815185546875, 45.9565544128418, 45.79798889160156, 42.105411529541016, 40.13118362426758, 37.662349700927734, 37.617835998535156, 35.13166427612305, 35.05686950683594, 34.67506408691406, 33.78569412231445, 30.09452247619629, 30.030555725097656, 29.433584213256836, 29.095731735229492, 28.276731491088867, 28.127389907836914, 27.906526565551758, 27.338119506835938, 924.4632568359375, 153.2176513671875, 57.46421813964844, 180.46072387695312, 70.73173522949219, 301.098388671875, 72.79713439941406, 146.45468139648438, 334.0421142578125, 1986.1409912109375, 538.1137084960938, 426.1882019042969, 281.7087097167969, 109.96057891845703, 501.3486633300781, 410.16162109375, 564.9161376953125, 666.7810668945312, 1693.42431640625, 449.8037414550781, 242.91891479492188, 1081.4891357421875, 317.8162841796875, 145.71018981933594, 878.8447875976562, 700.0322875976562, 533.967529296875, 1452.8226318359375, 1178.0146484375, 1229.2921142578125, 1441.298583984375, 1614.870849609375, 183.43946838378906, 140.28546142578125, 137.5916748046875, 78.38764190673828, 73.693115234375, 63.14144515991211, 62.31938171386719, 54.60466766357422, 50.46662139892578, 39.15447998046875, 31.68012046813965, 29.795103073120117, 28.746671676635742, 27.75614356994629, 28.74590301513672, 25.454914093017578, 24.997962951660156, 24.556276321411133, 23.475936889648438, 23.315946578979492, 22.257137298583984, 21.62660789489746, 19.673933029174805, 17.139507293701172, 17.096721649169922, 16.778444290161133, 16.754940032958984, 16.52200698852539, 16.175765991210938, 15.989392280578613, 335.61639404296875, 174.84207153320312, 32.288597106933594, 269.70294189453125, 60.110538482666016, 216.62982177734375, 152.02174377441406, 102.25919342041016, 164.0802001953125, 191.39920043945312, 267.9241943359375, 126.69010162353516, 276.2275085449219, 401.27996826171875, 755.1278686523438, 996.98095703125, 354.3865051269531, 232.80784606933594, 619.3053588867188, 1926.623779296875, 387.9722595214844, 501.3486633300781, 385.7767333984375, 393.6001892089844, 241.51600646972656, 129.0517120361328, 101.17591857910156, 53.416378021240234, 47.218955993652344, 39.339622497558594, 35.993804931640625, 34.32732009887695, 34.09756851196289, 33.8267707824707, 32.65079879760742, 31.112009048461914, 29.930583953857422, 29.79193878173828, 29.3997859954834, 29.242029190063477, 29.199655532836914, 42.274173736572266, 28.01412582397461, 27.567432403564453, 27.02766227722168, 26.57868003845215, 26.418245315551758, 25.838443756103516, 25.797609329223633, 25.69545555114746, 24.93471908569336, 24.831581115722656, 24.719465255737305, 24.56546401977539, 23.41846466064453, 66.84241485595703, 471.76904296875, 101.70325469970703, 66.43563079833984, 35.611148834228516, 117.63380432128906, 60.24095153808594, 216.66726684570312, 74.18468475341797, 113.21309661865234, 617.566650390625, 1124.4898681640625, 121.02936553955078, 457.1737365722656, 133.1278533935547, 69.83956909179688, 129.884033203125, 996.98095703125, 112.66816711425781, 2311.663330078125, 162.15164184570312, 157.1258087158203, 179.9837646484375, 164.48574829101562, 234.1611328125, 39.66770553588867, 36.6584587097168, 29.04012107849121, 28.938865661621094, 28.65217399597168, 27.04912757873535, 26.449241638183594, 26.10845184326172, 25.729198455810547, 23.888099670410156, 21.635135650634766, 21.028602600097656, 20.343080520629883, 19.558080673217773, 19.22237205505371, 19.108375549316406, 18.558975219726562, 18.329084396362305, 17.125221252441406, 17.051624298095703, 16.587284088134766, 16.532686233520508, 16.138853073120117, 16.135818481445312, 16.09488296508789, 15.862059593200684, 15.378849983215332, 15.296781539916992, 14.85511589050293, 14.670159339904785, 26.95229721069336, 86.38951873779297, 49.459720611572266, 50.461891174316406, 72.81717681884766, 54.76966857910156, 62.9429931640625, 24.28948974609375, 66.21134185791016, 29.942283630371094, 47.054683685302734, 49.32327651977539, 26.007431030273438, 69.30107116699219, 430.7616271972656, 355.37493896484375, 197.7167205810547, 169.487548828125, 1081.4891357421875, 34.97792434692383, 31.433998107910156, 31.028573989868164, 29.017559051513672, 22.884248733520508, 21.762313842773438, 21.67923927307129, 21.50668716430664, 18.11977767944336, 17.00766372680664, 16.979354858398438, 15.206838607788086, 15.141620635986328, 14.557424545288086, 14.533111572265625, 14.315675735473633, 14.150952339172363, 14.040618896484375, 13.34972095489502, 13.183838844299316, 12.807721138000488, 12.395734786987305, 12.365674018859863, 12.363142013549805, 11.988385200500488, 11.86525821685791, 11.797603607177734, 11.647727012634277, 11.593276023864746, 11.515625953674316, 55.59452438354492, 31.551504135131836, 112.52677154541016, 29.483667373657227, 20.003787994384766, 105.00965118408203, 56.62943649291992, 257.5670166015625, 94.2379379272461, 25.215255737304688, 21.765422821044922, 26.134750366210938, 42.01216506958008, 28.18214225769043, 157.00645446777344, 25.881248474121094, 123.46622467041016, 214.07882690429688, 75.25228881835938, 42.69538116455078, 53.364646911621094, 57.33683776855469, 44.45799255371094, 43.69084167480469, 36.69078826904297, 33.464019775390625, 32.99353790283203, 31.70317840576172, 27.798063278198242, 27.56007957458496, 26.988412857055664, 26.465065002441406, 21.22737693786621, 19.882352828979492, 18.067720413208008, 17.251977920532227, 16.952299118041992, 16.273197174072266, 15.522012710571289, 15.222049713134766, 15.136713981628418, 14.949228286743164, 14.775774002075195, 14.53740406036377, 14.125469207763672, 14.070212364196777, 14.052319526672363, 13.907894134521484, 13.821954727172852, 13.37823486328125, 67.35616302490234, 28.456562042236328, 34.37790298461914, 22.040863037109375, 27.947385787963867, 22.49167251586914, 28.89715576171875, 108.80571746826172, 198.37559509277344, 132.15652465820312, 52.103878021240234, 60.97315216064453, 138.4364776611328, 32.74369430541992, 27.541748046875, 23.02901840209961, 21.398624420166016, 20.88176918029785, 20.817203521728516, 15.828999519348145, 14.322286605834961, 14.041474342346191, 14.037818908691406, 13.706029891967773, 13.678085327148438, 13.050238609313965, 12.810043334960938, 12.10595703125, 12.103898048400879, 11.934660911560059, 11.406914710998535, 11.000238418579102, 10.897982597351074, 10.814167022705078, 10.465331077575684, 10.197571754455566, 9.767923355102539, 9.657909393310547, 9.335773468017578, 9.326394081115723, 9.086750984191895, 8.941903114318848, 8.466437339782715, 39.747222900390625, 36.032745361328125, 30.898754119873047, 14.035138130187988, 25.528736114501953, 29.747295379638672, 61.27166748046875, 113.36862182617188, 58.08148193359375, 40.58183670043945, 171.80894470214844], \"Category\": [\"Default\", \"Default\", \"Default\", \"Default\", \"Default\", \"Default\", \"Default\", \"Default\", \"Default\", \"Default\", \"Default\", \"Default\", \"Default\", \"Default\", \"Default\", \"Default\", \"Default\", \"Default\", \"Default\", \"Default\", \"Default\", \"Default\", \"Default\", \"Default\", \"Default\", \"Default\", \"Default\", \"Default\", \"Default\", \"Default\", \"Topic1\", \"Topic1\", \"Topic1\", \"Topic1\", \"Topic1\", \"Topic1\", \"Topic1\", \"Topic1\", \"Topic1\", \"Topic1\", \"Topic1\", \"Topic1\", \"Topic1\", \"Topic1\", \"Topic1\", \"Topic1\", \"Topic1\", \"Topic1\", \"Topic1\", \"Topic1\", \"Topic1\", \"Topic1\", \"Topic1\", \"Topic1\", \"Topic1\", \"Topic1\", \"Topic1\", \"Topic1\", \"Topic1\", \"Topic1\", \"Topic1\", \"Topic1\", \"Topic1\", \"Topic1\", \"Topic1\", \"Topic1\", \"Topic1\", \"Topic1\", \"Topic1\", \"Topic1\", \"Topic1\", \"Topic1\", \"Topic1\", \"Topic1\", \"Topic1\", \"Topic1\", \"Topic1\", \"Topic1\", \"Topic1\", \"Topic1\", \"Topic1\", \"Topic1\", \"Topic1\", \"Topic1\", \"Topic1\", \"Topic1\", \"Topic1\", \"Topic1\", \"Topic1\", \"Topic1\", \"Topic1\", \"Topic1\", \"Topic1\", \"Topic1\", \"Topic1\", \"Topic1\", \"Topic1\", \"Topic1\", \"Topic1\", \"Topic1\", \"Topic1\", \"Topic1\", \"Topic1\", \"Topic1\", \"Topic1\", \"Topic1\", \"Topic1\", \"Topic1\", \"Topic1\", \"Topic1\", \"Topic2\", \"Topic2\", \"Topic2\", \"Topic2\", \"Topic2\", \"Topic2\", \"Topic2\", \"Topic2\", \"Topic2\", \"Topic2\", \"Topic2\", \"Topic2\", \"Topic2\", \"Topic2\", \"Topic2\", \"Topic2\", \"Topic2\", \"Topic2\", \"Topic2\", \"Topic2\", \"Topic2\", \"Topic2\", \"Topic2\", \"Topic2\", \"Topic2\", \"Topic2\", \"Topic2\", \"Topic2\", \"Topic2\", \"Topic2\", \"Topic2\", \"Topic2\", \"Topic2\", \"Topic2\", \"Topic2\", \"Topic2\", \"Topic2\", \"Topic2\", \"Topic2\", \"Topic2\", \"Topic2\", \"Topic2\", \"Topic2\", \"Topic2\", \"Topic2\", \"Topic2\", \"Topic2\", \"Topic2\", \"Topic2\", \"Topic2\", \"Topic2\", \"Topic2\", \"Topic2\", \"Topic2\", \"Topic2\", \"Topic2\", \"Topic2\", \"Topic2\", \"Topic2\", \"Topic2\", \"Topic2\", \"Topic2\", \"Topic2\", \"Topic2\", \"Topic2\", \"Topic2\", \"Topic2\", \"Topic2\", \"Topic2\", \"Topic2\", \"Topic2\", \"Topic2\", \"Topic2\", \"Topic2\", \"Topic2\", \"Topic2\", \"Topic2\", \"Topic2\", \"Topic2\", \"Topic2\", \"Topic2\", \"Topic2\", \"Topic2\", \"Topic2\", \"Topic2\", \"Topic2\", \"Topic2\", \"Topic2\", \"Topic2\", \"Topic2\", \"Topic2\", \"Topic2\", \"Topic2\", \"Topic3\", \"Topic3\", \"Topic3\", \"Topic3\", \"Topic3\", \"Topic3\", \"Topic3\", \"Topic3\", \"Topic3\", \"Topic3\", \"Topic3\", \"Topic3\", \"Topic3\", \"Topic3\", \"Topic3\", \"Topic3\", \"Topic3\", \"Topic3\", \"Topic3\", \"Topic3\", \"Topic3\", \"Topic3\", \"Topic3\", \"Topic3\", \"Topic3\", \"Topic3\", \"Topic3\", \"Topic3\", \"Topic3\", \"Topic3\", \"Topic3\", \"Topic3\", \"Topic3\", \"Topic3\", \"Topic3\", \"Topic3\", \"Topic3\", \"Topic3\", \"Topic3\", \"Topic3\", \"Topic3\", \"Topic3\", \"Topic3\", \"Topic3\", \"Topic3\", \"Topic3\", \"Topic3\", \"Topic3\", \"Topic3\", \"Topic3\", \"Topic3\", \"Topic3\", \"Topic3\", \"Topic3\", \"Topic3\", \"Topic3\", \"Topic3\", \"Topic3\", \"Topic3\", \"Topic3\", \"Topic3\", \"Topic3\", \"Topic4\", \"Topic4\", \"Topic4\", \"Topic4\", \"Topic4\", \"Topic4\", \"Topic4\", \"Topic4\", \"Topic4\", \"Topic4\", \"Topic4\", \"Topic4\", \"Topic4\", \"Topic4\", \"Topic4\", \"Topic4\", \"Topic4\", \"Topic4\", \"Topic4\", \"Topic4\", \"Topic4\", \"Topic4\", \"Topic4\", \"Topic4\", \"Topic4\", \"Topic4\", \"Topic4\", \"Topic4\", \"Topic4\", \"Topic4\", \"Topic4\", \"Topic4\", \"Topic4\", \"Topic4\", \"Topic4\", \"Topic4\", \"Topic4\", \"Topic4\", \"Topic4\", \"Topic4\", \"Topic4\", \"Topic4\", \"Topic4\", \"Topic4\", \"Topic4\", \"Topic4\", \"Topic4\", \"Topic4\", \"Topic4\", \"Topic4\", \"Topic4\", \"Topic4\", \"Topic4\", \"Topic4\", \"Topic4\", \"Topic4\", \"Topic4\", \"Topic4\", \"Topic4\", \"Topic4\", \"Topic4\", \"Topic4\", \"Topic4\", \"Topic4\", \"Topic4\", \"Topic4\", \"Topic4\", \"Topic4\", \"Topic5\", \"Topic5\", \"Topic5\", \"Topic5\", \"Topic5\", \"Topic5\", \"Topic5\", \"Topic5\", \"Topic5\", \"Topic5\", \"Topic5\", \"Topic5\", \"Topic5\", \"Topic5\", \"Topic5\", \"Topic5\", \"Topic5\", \"Topic5\", \"Topic5\", \"Topic5\", \"Topic5\", \"Topic5\", \"Topic5\", \"Topic5\", \"Topic5\", \"Topic5\", \"Topic5\", \"Topic5\", \"Topic5\", \"Topic5\", \"Topic5\", \"Topic5\", \"Topic5\", \"Topic5\", \"Topic5\", \"Topic5\", \"Topic5\", \"Topic5\", \"Topic5\", \"Topic5\", \"Topic5\", \"Topic5\", \"Topic5\", \"Topic5\", \"Topic5\", \"Topic5\", \"Topic5\", \"Topic5\", \"Topic5\", \"Topic5\", \"Topic5\", \"Topic5\", \"Topic5\", \"Topic5\", \"Topic5\", \"Topic5\", \"Topic5\", \"Topic5\", \"Topic5\", \"Topic5\", \"Topic5\", \"Topic5\", \"Topic5\", \"Topic5\", \"Topic5\", \"Topic5\", \"Topic5\", \"Topic5\", \"Topic6\", \"Topic6\", \"Topic6\", \"Topic6\", \"Topic6\", \"Topic6\", \"Topic6\", \"Topic6\", \"Topic6\", \"Topic6\", \"Topic6\", \"Topic6\", \"Topic6\", \"Topic6\", \"Topic6\", \"Topic6\", \"Topic6\", \"Topic6\", \"Topic6\", \"Topic6\", \"Topic6\", \"Topic6\", \"Topic6\", \"Topic6\", \"Topic6\", \"Topic6\", \"Topic6\", \"Topic6\", \"Topic6\", \"Topic6\", \"Topic6\", \"Topic6\", \"Topic6\", \"Topic6\", \"Topic6\", \"Topic6\", \"Topic6\", \"Topic6\", \"Topic6\", \"Topic6\", \"Topic6\", \"Topic6\", \"Topic6\", \"Topic6\", \"Topic6\", \"Topic6\", \"Topic6\", \"Topic6\", \"Topic6\", \"Topic6\", \"Topic6\", \"Topic6\", \"Topic6\", \"Topic6\", \"Topic6\", \"Topic6\", \"Topic6\", \"Topic6\", \"Topic6\", \"Topic6\", \"Topic6\", \"Topic6\", \"Topic6\", \"Topic6\", \"Topic6\", \"Topic6\", \"Topic6\", \"Topic6\", \"Topic7\", \"Topic7\", \"Topic7\", \"Topic7\", \"Topic7\", \"Topic7\", \"Topic7\", \"Topic7\", \"Topic7\", \"Topic7\", \"Topic7\", \"Topic7\", \"Topic7\", \"Topic7\", \"Topic7\", \"Topic7\", \"Topic7\", \"Topic7\", \"Topic7\", \"Topic7\", \"Topic7\", \"Topic7\", \"Topic7\", \"Topic7\", \"Topic7\", \"Topic7\", \"Topic7\", \"Topic7\", \"Topic7\", \"Topic7\", \"Topic7\", \"Topic7\", \"Topic7\", \"Topic7\", \"Topic7\", \"Topic7\", \"Topic7\", \"Topic7\", \"Topic7\", \"Topic7\", \"Topic7\", \"Topic7\", \"Topic7\", \"Topic7\", \"Topic7\", \"Topic7\", \"Topic7\", \"Topic7\", \"Topic7\", \"Topic7\", \"Topic7\", \"Topic7\", \"Topic7\", \"Topic7\", \"Topic7\", \"Topic7\", \"Topic7\", \"Topic7\", \"Topic7\", \"Topic7\", \"Topic7\", \"Topic7\", \"Topic7\", \"Topic7\", \"Topic7\", \"Topic7\", \"Topic7\", \"Topic7\", \"Topic8\", \"Topic8\", \"Topic8\", \"Topic8\", \"Topic8\", \"Topic8\", \"Topic8\", \"Topic8\", \"Topic8\", \"Topic8\", \"Topic8\", \"Topic8\", \"Topic8\", \"Topic8\", \"Topic8\", \"Topic8\", \"Topic8\", \"Topic8\", \"Topic8\", \"Topic8\", \"Topic8\", \"Topic8\", \"Topic8\", \"Topic8\", \"Topic8\", \"Topic8\", \"Topic8\", \"Topic8\", \"Topic8\", \"Topic8\", \"Topic8\", \"Topic8\", \"Topic8\", \"Topic8\", \"Topic8\", \"Topic8\", \"Topic8\", \"Topic8\", \"Topic8\", \"Topic8\", \"Topic8\", \"Topic8\", \"Topic8\", \"Topic8\", \"Topic8\", \"Topic8\", \"Topic8\", \"Topic8\", \"Topic8\", \"Topic8\", \"Topic8\", \"Topic8\", \"Topic8\", \"Topic8\", \"Topic8\", \"Topic8\", \"Topic8\", \"Topic8\", \"Topic9\", \"Topic9\", \"Topic9\", \"Topic9\", \"Topic9\", \"Topic9\", \"Topic9\", \"Topic9\", \"Topic9\", \"Topic9\", \"Topic9\", \"Topic9\", \"Topic9\", \"Topic9\", \"Topic9\", \"Topic9\", \"Topic9\", \"Topic9\", \"Topic9\", \"Topic9\", \"Topic9\", \"Topic9\", \"Topic9\", \"Topic9\", \"Topic9\", \"Topic9\", \"Topic9\", \"Topic9\", \"Topic9\", \"Topic9\", \"Topic9\", \"Topic9\", \"Topic9\", \"Topic9\", \"Topic9\", \"Topic9\", \"Topic9\", \"Topic9\", \"Topic9\", \"Topic9\", \"Topic9\", \"Topic9\", \"Topic9\", \"Topic9\", \"Topic9\", \"Topic9\", \"Topic9\", \"Topic9\", \"Topic9\", \"Topic9\", \"Topic9\", \"Topic9\", \"Topic9\", \"Topic9\", \"Topic9\", \"Topic9\", \"Topic9\", \"Topic9\", \"Topic9\", \"Topic9\", \"Topic9\", \"Topic9\", \"Topic9\", \"Topic9\", \"Topic9\", \"Topic9\", \"Topic9\", \"Topic9\", \"Topic9\", \"Topic9\", \"Topic9\", \"Topic9\", \"Topic10\", \"Topic10\", \"Topic10\", \"Topic10\", \"Topic10\", \"Topic10\", \"Topic10\", \"Topic10\", \"Topic10\", \"Topic10\", \"Topic10\", \"Topic10\", \"Topic10\", \"Topic10\", \"Topic10\", \"Topic10\", \"Topic10\", \"Topic10\", \"Topic10\", \"Topic10\", \"Topic10\", \"Topic10\", \"Topic10\", \"Topic10\", \"Topic10\", \"Topic10\", \"Topic10\", \"Topic10\", \"Topic10\", \"Topic10\", \"Topic10\", \"Topic10\", \"Topic10\", \"Topic10\", \"Topic10\", \"Topic10\", \"Topic10\", \"Topic10\", \"Topic10\", \"Topic10\", \"Topic10\", \"Topic10\", \"Topic10\", \"Topic10\", \"Topic10\", \"Topic10\", \"Topic10\", \"Topic10\", \"Topic10\", \"Topic10\", \"Topic10\", \"Topic10\", \"Topic10\", \"Topic11\", \"Topic11\", \"Topic11\", \"Topic11\", \"Topic11\", \"Topic11\", \"Topic11\", \"Topic11\", \"Topic11\", \"Topic11\", \"Topic11\", \"Topic11\", \"Topic11\", \"Topic11\", \"Topic11\", \"Topic11\", \"Topic11\", \"Topic11\", \"Topic11\", \"Topic11\", \"Topic11\", \"Topic11\", \"Topic11\", \"Topic11\", \"Topic11\", \"Topic11\", \"Topic11\", \"Topic11\", \"Topic11\", \"Topic11\", \"Topic11\", \"Topic11\", \"Topic11\", \"Topic11\", \"Topic11\", \"Topic11\", \"Topic11\", \"Topic11\", \"Topic11\", \"Topic11\", \"Topic11\", \"Topic11\", \"Topic11\", \"Topic11\", \"Topic11\", \"Topic11\", \"Topic11\", \"Topic11\", \"Topic11\", \"Topic11\", \"Topic11\", \"Topic11\", \"Topic11\", \"Topic11\", \"Topic11\", \"Topic11\", \"Topic11\", \"Topic11\", \"Topic11\", \"Topic12\", \"Topic12\", \"Topic12\", \"Topic12\", \"Topic12\", \"Topic12\", \"Topic12\", \"Topic12\", \"Topic12\", \"Topic12\", \"Topic12\", \"Topic12\", \"Topic12\", \"Topic12\", \"Topic12\", \"Topic12\", \"Topic12\", \"Topic12\", \"Topic12\", \"Topic12\", \"Topic12\", \"Topic12\", \"Topic12\", \"Topic12\", \"Topic12\", \"Topic12\", \"Topic12\", \"Topic12\", \"Topic12\", \"Topic12\", \"Topic12\", \"Topic12\", \"Topic12\", \"Topic12\", \"Topic12\", \"Topic12\", \"Topic12\", \"Topic12\", \"Topic12\", \"Topic12\", \"Topic12\", \"Topic12\", \"Topic12\", \"Topic12\", \"Topic12\", \"Topic12\", \"Topic12\", \"Topic12\", \"Topic12\", \"Topic12\", \"Topic12\", \"Topic12\", \"Topic12\", \"Topic12\", \"Topic12\", \"Topic12\", \"Topic12\", \"Topic13\", \"Topic13\", \"Topic13\", \"Topic13\", \"Topic13\", \"Topic13\", \"Topic13\", \"Topic13\", \"Topic13\", \"Topic13\", \"Topic13\", \"Topic13\", \"Topic13\", \"Topic13\", \"Topic13\", \"Topic13\", \"Topic13\", \"Topic13\", \"Topic13\", \"Topic13\", \"Topic13\", \"Topic13\", \"Topic13\", \"Topic13\", \"Topic13\", \"Topic13\", \"Topic13\", \"Topic13\", \"Topic13\", \"Topic13\", \"Topic13\", \"Topic13\", \"Topic13\", \"Topic13\", \"Topic13\", \"Topic13\", \"Topic13\", \"Topic13\", \"Topic13\", \"Topic13\", \"Topic13\", \"Topic13\", \"Topic13\", \"Topic13\", \"Topic13\", \"Topic13\", \"Topic13\", \"Topic13\", \"Topic13\", \"Topic13\", \"Topic14\", \"Topic14\", \"Topic14\", \"Topic14\", \"Topic14\", \"Topic14\", \"Topic14\", \"Topic14\", \"Topic14\", \"Topic14\", \"Topic14\", \"Topic14\", \"Topic14\", \"Topic14\", \"Topic14\", \"Topic14\", \"Topic14\", \"Topic14\", \"Topic14\", \"Topic14\", \"Topic14\", \"Topic14\", \"Topic14\", \"Topic14\", \"Topic14\", \"Topic14\", \"Topic14\", \"Topic14\", \"Topic14\", \"Topic14\", \"Topic14\", \"Topic14\", \"Topic14\", \"Topic14\", \"Topic14\", \"Topic14\", \"Topic14\", \"Topic14\", \"Topic14\", \"Topic14\", \"Topic14\", \"Topic14\", \"Topic14\", \"Topic14\", \"Topic14\", \"Topic14\", \"Topic14\", \"Topic14\", \"Topic14\", \"Topic14\", \"Topic14\", \"Topic14\", \"Topic14\", \"Topic14\", \"Topic14\", \"Topic14\", \"Topic14\", \"Topic14\", \"Topic14\", \"Topic14\", \"Topic14\", \"Topic14\", \"Topic15\", \"Topic15\", \"Topic15\", \"Topic15\", \"Topic15\", \"Topic15\", \"Topic15\", \"Topic15\", \"Topic15\", \"Topic15\", \"Topic15\", \"Topic15\", \"Topic15\", \"Topic15\", \"Topic15\", \"Topic15\", \"Topic15\", \"Topic15\", \"Topic15\", \"Topic15\", \"Topic15\", \"Topic15\", \"Topic15\", \"Topic15\", \"Topic15\", \"Topic15\", \"Topic15\", \"Topic15\", \"Topic15\", \"Topic15\", \"Topic15\", \"Topic15\", \"Topic15\", \"Topic15\", \"Topic15\", \"Topic15\", \"Topic15\", \"Topic15\", \"Topic15\", \"Topic15\", \"Topic15\", \"Topic15\", \"Topic15\", \"Topic15\", \"Topic15\", \"Topic15\", \"Topic15\", \"Topic15\", \"Topic15\", \"Topic15\", \"Topic15\", \"Topic15\", \"Topic15\", \"Topic15\", \"Topic15\", \"Topic16\", \"Topic16\", \"Topic16\", \"Topic16\", \"Topic16\", \"Topic16\", \"Topic16\", \"Topic16\", \"Topic16\", \"Topic16\", \"Topic16\", \"Topic16\", \"Topic16\", \"Topic16\", \"Topic16\", \"Topic16\", \"Topic16\", \"Topic16\", \"Topic16\", \"Topic16\", \"Topic16\", \"Topic16\", \"Topic16\", \"Topic16\", \"Topic16\", \"Topic16\", \"Topic16\", \"Topic16\", \"Topic16\", \"Topic16\", \"Topic16\", \"Topic16\", \"Topic16\", \"Topic16\", \"Topic16\", \"Topic16\", \"Topic16\", \"Topic16\", \"Topic16\", \"Topic16\", \"Topic16\", \"Topic16\", \"Topic16\", \"Topic16\", \"Topic16\", \"Topic16\", \"Topic16\", \"Topic16\", \"Topic16\", \"Topic16\", \"Topic16\", \"Topic16\", \"Topic16\", \"Topic16\", \"Topic16\", \"Topic17\", \"Topic17\", \"Topic17\", \"Topic17\", \"Topic17\", \"Topic17\", \"Topic17\", \"Topic17\", \"Topic17\", \"Topic17\", \"Topic17\", \"Topic17\", \"Topic17\", \"Topic17\", \"Topic17\", \"Topic17\", \"Topic17\", \"Topic17\", \"Topic17\", \"Topic17\", \"Topic17\", \"Topic17\", \"Topic17\", \"Topic17\", \"Topic17\", \"Topic17\", \"Topic17\", \"Topic17\", \"Topic17\", \"Topic17\", \"Topic17\", \"Topic17\", \"Topic17\", \"Topic17\", \"Topic17\", \"Topic17\", \"Topic17\", \"Topic17\", \"Topic17\", \"Topic17\", \"Topic17\", \"Topic17\", \"Topic17\", \"Topic17\", \"Topic17\", \"Topic17\", \"Topic17\", \"Topic17\", \"Topic17\", \"Topic18\", \"Topic18\", \"Topic18\", \"Topic18\", \"Topic18\", \"Topic18\", \"Topic18\", \"Topic18\", \"Topic18\", \"Topic18\", \"Topic18\", \"Topic18\", \"Topic18\", \"Topic18\", \"Topic18\", \"Topic18\", \"Topic18\", \"Topic18\", \"Topic18\", \"Topic18\", \"Topic18\", \"Topic18\", \"Topic18\", \"Topic18\", \"Topic18\", \"Topic18\", \"Topic18\", \"Topic18\", \"Topic18\", \"Topic18\", \"Topic18\", \"Topic18\", \"Topic18\", \"Topic18\", \"Topic18\", \"Topic18\", \"Topic18\", \"Topic18\", \"Topic18\", \"Topic18\", \"Topic18\", \"Topic18\", \"Topic18\", \"Topic18\", \"Topic18\", \"Topic18\", \"Topic18\", \"Topic18\", \"Topic18\", \"Topic18\", \"Topic19\", \"Topic19\", \"Topic19\", \"Topic19\", \"Topic19\", \"Topic19\", \"Topic19\", \"Topic19\", \"Topic19\", \"Topic19\", \"Topic19\", \"Topic19\", \"Topic19\", \"Topic19\", \"Topic19\", \"Topic19\", \"Topic19\", \"Topic19\", \"Topic19\", \"Topic19\", \"Topic19\", \"Topic19\", \"Topic19\", \"Topic19\", \"Topic19\", \"Topic19\", \"Topic19\", \"Topic19\", \"Topic19\", \"Topic19\", \"Topic19\", \"Topic19\", \"Topic19\", \"Topic19\", \"Topic19\", \"Topic19\", \"Topic19\", \"Topic19\", \"Topic19\", \"Topic19\", \"Topic19\", \"Topic19\", \"Topic19\", \"Topic20\", \"Topic20\", \"Topic20\", \"Topic20\", \"Topic20\", \"Topic20\", \"Topic20\", \"Topic20\", \"Topic20\", \"Topic20\", \"Topic20\", \"Topic20\", \"Topic20\", \"Topic20\", \"Topic20\", \"Topic20\", \"Topic20\", \"Topic20\", \"Topic20\", \"Topic20\", \"Topic20\", \"Topic20\", \"Topic20\", \"Topic20\", \"Topic20\", \"Topic20\", \"Topic20\", \"Topic20\", \"Topic20\", \"Topic20\", \"Topic20\", \"Topic20\", \"Topic20\", \"Topic20\", \"Topic20\", \"Topic20\", \"Topic20\", \"Topic20\", \"Topic20\", \"Topic20\", \"Topic20\"], \"logprob\": [30.0, 29.0, 28.0, 27.0, 26.0, 25.0, 24.0, 23.0, 22.0, 21.0, 20.0, 19.0, 18.0, 17.0, 16.0, 15.0, 14.0, 13.0, 12.0, 11.0, 10.0, 9.0, 8.0, 7.0, 6.0, 5.0, 4.0, 3.0, 2.0, 1.0, -6.986499786376953, -7.132999897003174, -7.400400161743164, -7.42080020904541, -7.431300163269043, -7.443999767303467, -7.600900173187256, -7.646200180053711, -7.762700080871582, -7.815100193023682, -7.820300102233887, -7.913000106811523, -7.9542999267578125, -7.988699913024902, -8.076000213623047, -8.08590030670166, -6.8709001541137695, -8.12969970703125, -8.146300315856934, -8.149900436401367, -8.153900146484375, -8.154899597167969, -8.16469955444336, -8.17490005493164, -8.213399887084961, -8.227399826049805, -8.231300354003906, -8.23740005493164, -8.242199897766113, -8.268600463867188, -6.929999828338623, -7.254000186920166, -5.751399993896484, -4.902900218963623, -7.151299953460693, -7.4618000984191895, -7.374800205230713, -7.770199775695801, -6.334099769592285, -6.844699859619141, -6.882599830627441, -7.165500164031982, -6.552199840545654, -5.833600044250488, -7.420100212097168, -5.821000099182129, -6.232999801635742, -5.093200206756592, -5.7368998527526855, -6.268700122833252, -4.56850004196167, -5.178199768066406, -5.246399879455566, -5.4959001541137695, -4.595399856567383, -4.412199974060059, -4.558800220489502, -4.117099761962891, -4.839000225067139, -5.534800052642822, -5.055600166320801, -4.921899795532227, -5.26170015335083, -4.955900192260742, -5.395199775695801, -5.224100112915039, -5.656799793243408, -5.750899791717529, -5.547299861907959, -5.285699844360352, -5.169899940490723, -5.5278000831604, -5.299099922180176, -4.902299880981445, -5.39139986038208, -5.348199844360352, -5.549699783325195, -5.50570011138916, -5.362199783325195, -5.633200168609619, -5.857699871063232, -6.745500087738037, -6.764500141143799, -6.9257001876831055, -7.532400131225586, -7.549200057983398, -7.6757001876831055, -7.703400135040283, -7.7515997886657715, -7.803699970245361, -7.891900062561035, -7.90310001373291, -7.9085001945495605, -7.937300205230713, -7.9807000160217285, -7.642000198364258, -8.004400253295898, -8.01360034942627, -8.015700340270996, -7.932499885559082, -8.049599647521973, -8.070500373840332, -8.08530044555664, -8.10420036315918, -8.09749984741211, -8.155699729919434, -8.16100025177002, -8.161199569702148, -8.170100212097168, -8.169899940490723, -6.913899898529053, -6.887899875640869, -7.975100040435791, -7.541399955749512, -7.479899883270264, -7.628200054168701, -7.530799865722656, -5.906400203704834, -6.696100234985352, -6.4934000968933105, -6.747799873352051, -7.27269983291626, -7.307799816131592, -6.483699798583984, -6.018499851226807, -6.398099899291992, -6.104800224304199, -7.179900169372559, -5.766499996185303, -6.776400089263916, -6.489299774169922, -6.847400188446045, -6.258200168609619, -5.203999996185303, -6.393899917602539, -6.592299938201904, -7.034200191497803, -5.336100101470947, -6.645299911499023, -5.786200046539307, -6.022799968719482, -5.687399864196777, -5.6570000648498535, -5.228700160980225, -5.796599864959717, -4.388999938964844, -4.689000129699707, -5.577700138092041, -4.252699851989746, -5.002299785614014, -5.69320011138916, -5.355299949645996, -5.014599800109863, -5.416800022125244, -5.904799938201904, -6.0817999839782715, -5.698999881744385, -6.160799980163574, -5.137700080871582, -5.256800174713135, -5.608500003814697, -5.5609002113342285, -5.566299915313721, -5.677700042724609, -5.05210018157959, -4.990799903869629, -5.467100143432617, -5.2835001945495605, -5.412499904632568, -5.297800064086914, -5.546199798583984, -5.601500034332275, -5.531599998474121, -4.892499923706055, -5.228400230407715, -5.355800151824951, -5.451099872589111, -5.737500190734863, -5.818999767303467, -6.031000137329102, -6.130000114440918, -6.13539981842041, -6.353499889373779, -6.4268999099731445, -6.443399906158447, -6.520100116729736, -6.544600009918213, -6.556700229644775, -6.584400177001953, -6.628600120544434, -6.63730001449585, -6.656499862670898, -6.67140007019043, -6.7083001136779785, -6.714600086212158, -6.714799880981445, -6.740600109100342, -6.747000217437744, -6.778200149536133, -6.810699939727783, -6.843200206756592, -6.86899995803833, -6.871300220489502, -4.555699825286865, -4.657100200653076, -6.3871002197265625, -5.498899936676025, -4.886000156402588, -5.2855000495910645, -5.438199996948242, -5.080900192260742, -4.720900058746338, -5.701700210571289, -5.1020002365112305, -5.598599910736084, -5.334700107574463, -6.182700157165527, -6.243599891662598, -4.796500205993652, -4.537399768829346, -5.142199993133545, -4.692999839782715, -5.351200103759766, -4.482999801635742, -4.66480016708374, -5.4766998291015625, -5.875400066375732, -5.6641998291015625, -4.901899814605713, -5.3105998039245605, -5.4980998039245605, -4.895999908447266, -5.281700134277344, -5.343400001525879, -5.520500183105469, -5.0625, -5.350500106811523, -6.062099933624268, -6.3125, -6.33519983291626, -6.492099761962891, -6.529799938201904, -6.558300018310547, -6.699399948120117, -6.717700004577637, -6.726900100708008, -6.745699882507324, -6.754000186920166, -6.768899917602539, -6.8130998611450195, -6.854800224304199, -6.862100124359131, -6.868100166320801, -6.865499973297119, -7.009500026702881, -7.036900043487549, -7.072000026702881, -7.085299968719482, -7.031199932098389, -7.166399955749512, -7.216400146484375, -7.226099967956543, -7.261300086975098, -7.2778000831604, -7.285799980163574, -5.951700210571289, -5.900000095367432, -6.679299831390381, -6.384200096130371, -5.335299968719482, -5.848599910736084, -5.005799770355225, -6.109399795532227, -6.151700019836426, -5.7378997802734375, -6.456999778747559, -5.945000171661377, -6.1880998611450195, -5.9745001792907715, -6.008999824523926, -5.560100078582764, -5.609099864959717, -5.86329984664917, -5.973999977111816, -6.288099765777588, -6.333099842071533, -5.223499774932861, -5.916299819946289, -5.011499881744385, -5.039400100708008, -5.826900005340576, -5.384900093078613, -6.0929999351501465, -5.463500022888184, -5.511499881744385, -5.735899925231934, -5.539599895477295, -5.224299907684326, -5.884099960327148, -5.8394999504089355, -5.571199893951416, -5.729400157928467, -5.877500057220459, -4.409900188446045, -4.658299922943115, -5.1697001457214355, -5.291399955749512, -5.353400230407715, -5.9456000328063965, -5.950200080871582, -6.103899955749512, -6.302599906921387, -5.375899791717529, -6.377900123596191, -6.512499809265137, -6.517000198364258, -6.5543999671936035, -6.573500156402588, -6.627299785614014, -6.656599998474121, -6.66949987411499, -6.690999984741211, -6.719399929046631, -6.721700191497803, -6.744100093841553, -6.78849983215332, -6.795199871063232, -6.818699836730957, -6.8379998207092285, -5.422500133514404, -6.911200046539307, -6.989999771118164, -7.013299942016602, -5.595699787139893, -5.182600021362305, -5.242099761962891, -4.1427001953125, -5.672699928283691, -5.095399856567383, -5.011199951171875, -4.6616997718811035, -5.282800197601318, -5.571899890899658, -6.184700012207031, -4.9191999435424805, -5.349599838256836, -5.5833001136779785, -4.230500221252441, -5.976799964904785, -5.5553998947143555, -5.292300224304199, -5.4278998374938965, -5.072999954223633, -5.448599815368652, -4.5208001136779785, -5.559899806976318, -4.571199893951416, -5.01170015335083, -4.863500118255615, -4.765699863433838, -4.585599899291992, -4.891200065612793, -4.640900135040283, -4.786799907684326, -5.0467000007629395, -5.278900146484375, -5.036499977111816, -5.214700222015381, -5.157400131225586, -5.259200096130371, -5.259200096130371, -4.733399868011475, -5.492400169372559, -5.601799964904785, -5.627600193023682, -5.7530999183654785, -6.194300174713135, -6.262499809265137, -6.309299945831299, -6.340000152587891, -6.351900100708008, -6.39109992980957, -6.41480016708374, -6.504300117492676, -6.506199836730957, -6.509099960327148, -6.532400131225586, -6.545499801635742, -6.555200099945068, -6.5721001625061035, -6.574999809265137, -6.578499794006348, -6.61870002746582, -6.636199951171875, -6.754199981689453, -6.250800132751465, -6.774199962615967, -6.789299964904785, -6.938199996948242, -6.981400012969971, -6.994999885559082, -5.148499965667725, -6.72189998626709, -6.313000202178955, -6.440999984741211, -5.787099838256836, -5.759399890899658, -5.395500183105469, -4.758299827575684, -5.958600044250488, -4.780799865722656, -5.300600051879883, -5.829100131988525, -5.7947001457214355, -5.684800148010254, -6.251399993896484, -5.460000038146973, -6.0559000968933105, -5.466599941253662, -5.114299774169922, -5.348800182342529, -5.4593000411987305, -5.589099884033203, -5.5177001953125, -5.305099964141846, -5.878600120544434, -5.343200206756592, -5.373300075531006, -4.9766998291015625, -5.030799865722656, -5.384500026702881, -5.483699798583984, -5.716100215911865, -5.161499977111816, -5.522500038146973, -5.71560001373291, -5.680799961090088, -5.579599857330322, -5.700900077819824, -5.368000030517578, -5.558199882507324, -5.652500152587891, -6.1880998611450195, -6.440800189971924, -6.558000087738037, -6.17579984664917, -6.605599880218506, -6.754899978637695, -6.763899803161621, -6.895299911499023, -6.910299777984619, -5.046500205993652, -6.9664998054504395, -7.064000129699707, -7.0706000328063965, -7.089300155639648, -7.102399826049805, -7.143899917602539, -7.150100231170654, -7.162199974060059, -7.190299987792969, -7.197299957275391, -7.200099945068359, -7.205599784851074, -7.209799766540527, -6.871399879455566, -7.271599769592285, -7.284999847412109, -7.289299964904785, -6.576600074768066, -6.651400089263916, -4.819399833679199, -6.817599773406982, -5.764100074768066, -6.803599834442139, -6.412399768829346, -6.278299808502197, -5.275199890136719, -5.928999900817871, -5.351399898529053, -5.802499771118164, -6.3531999588012695, -5.428899765014648, -6.668700218200684, -4.604000091552734, -5.553199768066406, -5.96589994430542, -5.821800231933594, -5.812699794769287, -4.901000022888184, -4.714099884033203, -6.2307000160217285, -5.609099864959717, -6.259900093078613, -5.784800052642822, -5.44890022277832, -4.474400043487549, -5.73390007019043, -5.742499828338623, -5.251999855041504, -5.490900039672852, -5.483099937438965, -5.661900043487549, -5.607999801635742, -5.630099773406982, -5.44789981842041, -5.753699779510498, -4.649899959564209, -4.801799774169922, -4.8354997634887695, -5.1381001472473145, -5.442999839782715, -5.745500087738037, -5.815700054168701, -5.8267998695373535, -5.839600086212158, -6.016300201416016, -6.055699825286865, -6.0594000816345215, -6.121399879455566, -6.144599914550781, -6.182000160217285, -6.183599948883057, -6.183800220489502, -6.203700065612793, -6.211299896240234, -6.214300155639648, -6.2657999992370605, -6.299099922180176, -6.322199821472168, -6.32390022277832, -6.3317999839782715, -6.355500221252441, -6.3709001541137695, -6.406599998474121, -6.434999942779541, -4.827000141143799, -4.104800224304199, -4.038599967956543, -4.436699867248535, -6.263599872589111, -5.203700065612793, -5.582799911499023, -5.822400093078613, -5.745100021362305, -5.627399921417236, -4.789700031280518, -5.739699840545654, -5.539599895477295, -4.383200168609619, -5.8140997886657715, -5.656499862670898, -5.842299938201904, -5.859399795532227, -5.471099853515625, -4.954100131988525, -5.613999843597412, -5.6290998458862305, -5.195099830627441, -5.531899929046631, -5.3917999267578125, -5.72599983215332, -5.753699779510498, -5.7399001121521, -5.708600044250488, -6.072500228881836, -6.192599773406982, -6.275700092315674, -6.4496002197265625, -6.495699882507324, -6.700500011444092, -6.748600006103516, -6.7845001220703125, -6.843900203704834, -6.899899959564209, -6.919400215148926, -6.928999900817871, -5.437600135803223, -7.002900123596191, -7.017000198364258, -7.018199920654297, -7.020999908447266, -7.030099868774414, -7.030600070953369, -7.066500186920166, -7.077700138092041, -7.150000095367432, -7.173500061035156, -7.204100131988525, -7.237400054931641, -7.23829984664917, -7.2459001541137695, -7.271999835968018, -7.1971001625061035, -7.282400131225586, -4.53980016708374, -5.2708001136779785, -6.228600025177002, -5.75, -6.603899955749512, -6.771500110626221, -6.036099910736084, -6.486000061035156, -5.451600074768066, -6.433899879455566, -4.028299808502197, -4.60230016708374, -4.335999965667725, -4.956099987030029, -5.02839994430542, -6.1793999671936035, -6.455999851226807, -4.377999782562256, -4.607699871063232, -4.973299980163574, -5.418900012969971, -5.874800205230713, -4.183800220489502, -5.490200042724609, -4.85860013961792, -4.8404998779296875, -4.920199871063232, -5.353600025177002, -5.704999923706055, -4.848199844360352, -4.466700077056885, -5.701000213623047, -5.397900104522705, -5.0671000480651855, -4.929299831390381, -5.356500148773193, -5.417399883270264, -5.216899871826172, -5.352700233459473, -5.410999774932861, -5.3958001136779785, -5.404399871826172, -3.7664999961853027, -4.319399833679199, -4.456999778747559, -4.541200160980225, -4.64870023727417, -4.646299839019775, -5.291100025177002, -5.357399940490723, -5.539899826049805, -4.226900100708008, -5.647299766540527, -5.687600135803223, -5.727799892425537, -5.896699905395508, -5.954599857330322, -6.042799949645996, -6.078400135040283, -6.111400127410889, -6.133900165557861, -6.1778998374938965, -6.185999870300293, -6.206900119781494, -6.2546000480651855, -6.260000228881836, -6.268099784851074, -6.3069000244140625, -6.364999771118164, -6.374000072479248, -6.39769983291626, -6.424099922180176, -5.6828999519348145, -5.165200233459473, -5.405799865722656, -5.345900058746338, -6.136000156402588, -5.515100002288818, -5.1869001388549805, -5.319200038909912, -5.190199851989746, -5.3730998039245605, -5.890399932861328, -5.267600059509277, -5.18120002746582, -5.714000225067139, -5.249300003051758, -5.197700023651123, -5.50570011138916, -5.0802998542785645, -5.062300205230713, -5.377500057220459, -5.5507001876831055, -5.671500205993652, -5.6778998374938965, -5.201399803161621, -5.404600143432617, -5.656000137329102, -5.8196001052856445, -5.81279993057251, -5.856900215148926, -5.954100131988525, -6.102799892425537, -6.112199783325195, -6.142300128936768, -6.327899932861328, -6.020299911499023, -6.371799945831299, -6.376699924468994, -6.394100189208984, -6.419300079345703, -6.459700107574463, -6.498199939727783, -6.5096001625061035, -6.511600017547607, -6.526100158691406, -6.551499843597412, -6.606100082397461, -6.606800079345703, -6.661399841308594, -6.676599979400635, -6.68209981918335, -6.711900234222412, -6.746399879455566, -6.751299858093262, -4.8231000900268555, -5.930099964141846, -4.593900203704834, -5.144499778747559, -6.258299827575684, -5.73859977722168, -5.36299991607666, -5.1890997886657715, -5.510300159454346, -5.730599880218506, -5.9903998374938965, -5.393899917602539, -5.881899833679199, -5.860899925231934, -5.605599880218506, -5.340099811553955, -5.28410005569458, -5.362500190734863, -5.834799766540527, -5.874599933624268, -5.854700088500977, -5.652299880981445, -5.4527997970581055, -5.578000068664551, -5.6143999099731445, -5.874100208282471, -5.678500175476074, -5.775400161743164, -5.869900226593018, -5.044400215148926, -5.374100208282471, -4.634300231933594, -5.500699996948242, -5.663899898529053, -5.695700168609619, -5.714900016784668, -5.792900085449219, -5.912399768829346, -6.040800094604492, -6.0594000816345215, -6.115499973297119, -6.138000011444092, -6.186200141906738, -6.189700126647949, -6.2129998207092285, -6.29010009765625, -6.363800048828125, -6.38100004196167, -6.4781999588012695, -6.481500148773193, -6.547100067138672, -6.577199935913086, -6.621699810028076, -4.158999919891357, -6.669400215148926, -6.772200107574463, -6.77400016784668, -6.827099800109863, -6.89709997177124, -5.234899997711182, -5.993599891662598, -5.445099830627441, -5.759300231933594, -5.755799770355225, -5.86329984664917, -6.1041998863220215, -4.637499809265137, -5.021399974822998, -5.351200103759766, -5.121699810028076, -4.912600040435791, -4.337900161743164, -5.163300037384033, -5.575900077819824, -5.198599815368652, -5.152400016784668, -5.136000156402588, -5.555600166320801, -5.327600002288818, -5.510300159454346, -4.663400173187256, -5.370200157165527, -5.51140022277832, -5.561500072479248, -5.545300006866455, -5.734799861907959, -4.126500129699707, -3.103800058364868, -4.709000110626221, -4.720799922943115, -4.791299819946289, -5.025400161743164, -5.066400051116943, -5.162499904632568, -5.422299861907959, -5.555699825286865, -5.591300010681152, -5.789299964904785, -5.791600227355957, -5.815700054168701, -5.872399806976318, -5.910099983215332, -5.910200119018555, -5.963500022888184, -6.003900051116943, -6.067800045013428, -6.091300010681152, -6.094799995422363, -6.123499870300293, -6.236199855804443, -6.25600004196167, -6.3109002113342285, -6.3805999755859375, -6.384399890899658, -6.40339994430542, -6.426499843597412, -4.9085001945495605, -5.239500045776367, -5.815199851989746, -5.298399925231934, -5.2667999267578125, -5.762199878692627, -4.819300174713135, -4.181099891662598, -5.594799995422363, -5.743299961090088, -5.333399772644043, -5.55109977722168, -5.311200141906738, -5.211400032043457, -5.3790998458862305, -5.6041998863220215, -5.637400150299072, -5.677299976348877, -5.726500034332275, -5.780600070953369, -4.4456000328063965, -4.5106000900268555, -4.484799861907959, -4.757699966430664, -4.88640022277832, -5.4857001304626465, -3.441499948501587, -5.850900173187256, -6.052700042724609, -6.079599857330322, -6.092800140380859, -6.229499816894531, -6.263500213623047, -6.267099857330322, -6.35290002822876, -6.4019999504089355, -6.467100143432617, -6.468299865722656, -6.538400173187256, -6.540599822998047, -6.5518999099731445, -6.57859992980957, -6.697700023651123, -6.699900150299072, -6.720600128173828, -6.732500076293945, -6.76200008392334, -6.767499923706055, -6.775599956512451, -6.796899795532227, -3.2815001010894775, -5.073500156402588, -6.056000232696533, -4.927700042724609, -5.864099979400635, -4.566199779510498, -5.890399932861328, -5.315400123596191, -4.61359977722168, -3.1868999004364014, -4.293399810791016, -4.5096001625061035, -4.872799873352051, -5.6209001541137695, -4.442699909210205, -4.6184000968933105, -4.619100093841553, -4.515699863433838, -3.9231998920440674, -4.791399955749512, -5.186500072479248, -4.296000003814697, -5.071199893951416, -5.534599781036377, -4.6305999755859375, -4.748700141906738, -5.037199974060059, -4.689300060272217, -4.833799839019775, -4.827199935913086, -4.897600173950195, -4.884799957275391, -4.022299766540527, -4.291999816894531, -4.311500072479248, -4.879199981689453, -4.941699981689453, -5.098400115966797, -5.111700057983398, -5.245999813079834, -5.326200008392334, -5.585400104522705, -5.8028998374938965, -5.866199970245361, -5.903200149536133, -5.9394001960754395, -5.9045000076293945, -6.029099941253662, -6.047900199890137, -6.0671000480651855, -6.1132001876831055, -6.120299816131592, -6.168799877166748, -6.198800086975098, -6.297800064086914, -6.4430999755859375, -6.445700168609619, -6.46560001373291, -6.467100143432617, -6.481900215148926, -6.504300117492676, -6.516600131988525, -3.484600067138672, -4.287799835205078, -5.869100093841553, -3.9885001182556152, -5.420000076293945, -4.464300155639648, -4.818900108337402, -5.129199981689453, -4.868599891662598, -4.981900215148926, -4.877799987792969, -5.3069000244140625, -4.945099830627441, -4.867599964141846, -4.6707000732421875, -4.602200031280518, -4.999800205230713, -5.17579984664917, -4.937399864196777, -4.640699863433838, -5.157599925994873, -5.127200126647949, -5.229899883270264, -5.239799976348877, -5.282899856567383, -4.297900199890137, -4.543300151824951, -5.190299987792969, -5.315999984741211, -5.502500057220459, -5.593699932098389, -5.642399787902832, -5.6493000984191895, -5.65749979019165, -5.693900108337402, -5.743599891662598, -5.7835001945495605, -5.788300037384033, -5.802000045776367, -5.807600021362305, -5.809100151062012, -5.440400123596191, -5.851900100708008, -5.868500232696533, -5.888999938964844, -5.906300067901611, -5.912600040435791, -5.9355998039245605, -5.937300205230713, -5.941400051116943, -5.972599983215332, -5.976900100708008, -5.981599807739258, -5.988100051879883, -6.037799835205078, -5.182600021362305, -3.6003000736236572, -4.862500190734863, -5.235000133514404, -5.711999893188477, -5.127699851989746, -5.490200042724609, -4.842599868774414, -5.414100170135498, -5.212800025939941, -4.423500061035156, -4.197800159454346, -5.258900165557861, -4.997700214385986, -5.374800205230713, -5.555699825286865, -5.434000015258789, -4.9730000495910645, -5.535399913787842, -5.083099842071533, -5.486199855804443, -5.553500175476074, -5.590099811553955, -5.593699932098389, -5.585400104522705, -5.0355000495910645, -5.116300106048584, -5.356200218200684, -5.359799861907959, -5.370100021362305, -5.429599761962891, -5.452899932861328, -5.466300010681152, -5.481500148773193, -5.558599948883057, -5.661900043487549, -5.6915998458862305, -5.726399898529053, -5.767600059509277, -5.785799980163574, -5.792099952697754, -5.822800159454346, -5.835899829864502, -5.907599925994873, -5.912099838256836, -5.941400051116943, -5.944900035858154, -5.970399856567383, -5.970600128173828, -5.973299980163574, -5.988800048828125, -6.021699905395508, -6.027400016784668, -6.058700084686279, -6.072000026702881, -5.469799995422363, -4.439899921417236, -5.014900207519531, -5.000999927520752, -4.7144999504089355, -4.984399795532227, -4.873300075531006, -5.646299839019775, -4.97130012512207, -5.5767998695373535, -5.411099910736084, -5.392899990081787, -5.719600200653076, -5.396500110626221, -4.876800060272217, -5.148399829864502, -5.652699947357178, -5.678299903869629, -5.657899856567383, -4.9608001708984375, -5.070700168609619, -5.084099769592285, -5.153299808502197, -5.399700164794922, -5.452099800109863, -5.456099987030029, -5.4644999504089355, -5.644400119781494, -5.711299896240234, -5.713099956512451, -5.830100059509277, -5.834700107574463, -5.876699924468994, -5.878499984741211, -5.894599914550781, -5.9070000648498535, -5.91540002822876, -5.9695000648498535, -5.982999801635742, -6.014200210571289, -6.049499988555908, -6.05210018157959, -6.052299976348877, -6.085700035095215, -6.09689998626709, -6.103099822998047, -6.117000102996826, -6.122099876403809, -6.12939977645874, -4.588600158691406, -5.151100158691406, -3.985300064086914, -5.286600112915039, -5.632400035858154, -4.209700107574463, -4.82859992980957, -3.7969000339508057, -4.691299915313721, -5.588699817657471, -5.6894001960754395, -5.61299991607666, -5.383399963378906, -5.586100101470947, -5.150700092315674, -5.72130012512207, -5.340099811553955, -5.226500034332275, -5.517300128936768, -5.6595001220703125, -4.504799842834473, -4.433599948883057, -4.690999984741211, -4.708799839019775, -4.887599945068359, -4.982100009918213, -4.996699810028076, -5.037799835205078, -5.173500061035156, -5.182400226593018, -5.204100131988525, -5.224400043487549, -5.453999996185303, -5.522600173950195, -5.623300075531006, -5.672100067138672, -5.6905999183654785, -5.73390007019043, -5.784200191497803, -5.804900169372559, -5.8109002113342285, -5.82420015335083, -5.836699962615967, -5.854000091552734, -5.884799957275391, -5.888999938964844, -5.890399932861328, -5.901400089263916, -5.908100128173828, -5.9430999755859375, -4.514200210571289, -5.311299800872803, -5.157199859619141, -5.530600070953369, -5.386000156402588, -5.550000190734863, -5.381800174713135, -5.007500171661377, -4.843500137329102, -5.188799858093262, -5.593400001525879, -5.671299934387207, -5.730100154876709, -4.638299942016602, -4.81689977645874, -5.002799987792969, -5.079500198364258, -5.105100154876709, -5.10830020904541, -5.397200107574463, -5.503900051116943, -5.525100231170654, -5.525400161743164, -5.551000118255615, -5.553199768066406, -5.603700160980225, -5.623799800872803, -5.684899806976318, -5.685100078582764, -5.700399875640869, -5.749499797821045, -5.789100170135498, -5.7993998527526855, -5.807799816131592, -5.843800067901611, -5.872300148010254, -5.9197998046875, -5.932300090789795, -5.96999979019165, -5.971099853515625, -6.000100135803223, -6.01800012588501, -6.07919979095459, -4.763899803161621, -4.902500152587891, -5.0725998878479, -5.676000118255615, -5.288400173187256, -5.268599987030029, -5.058199882507324, -4.833799839019775, -5.209099769592285, -5.625400066375732, -5.658299922943115], \"loglift\": [30.0, 29.0, 28.0, 27.0, 26.0, 25.0, 24.0, 23.0, 22.0, 21.0, 20.0, 19.0, 18.0, 17.0, 16.0, 15.0, 14.0, 13.0, 12.0, 11.0, 10.0, 9.0, 8.0, 7.0, 6.0, 5.0, 4.0, 3.0, 2.0, 1.0, 1.7627999782562256, 1.7618999481201172, 1.7596999406814575, 1.7595000267028809, 1.7594000101089478, 1.7592999935150146, 1.757699966430664, 1.757200002670288, 1.7556999921798706, 1.7549999952316284, 1.7549999952316284, 1.753600001335144, 1.753000020980835, 1.7518999576568604, 1.7509000301361084, 1.7508000135421753, 1.7508000135421753, 1.75, 1.7496999502182007, 1.7496000528335571, 1.749500036239624, 1.749500036239624, 1.7493000030517578, 1.7490999698638916, 1.7482999563217163, 1.7480000257492065, 1.7480000257492065, 1.7477999925613403, 1.7476999759674072, 1.7472000122070312, 1.7171000242233276, 1.7106000185012817, 1.628999948501587, 1.5748000144958496, 1.6908999681472778, 1.698799967765808, 1.6885000467300415, 1.715999960899353, 1.5489000082015991, 1.597000002861023, 1.6016000509262085, 1.6342999935150146, 1.5583000183105469, 1.4521000385284424, 1.662500023841858, 1.4333000183105469, 1.4902000427246094, 1.3176000118255615, 1.4045000076293945, 1.4637999534606934, 1.1331000328063965, 1.24590003490448, 1.2598999738693237, 1.305400013923645, 1.096500039100647, 1.0108000040054321, 0.9997000098228455, 0.8763999938964844, 1.0443999767303467, 1.2135000228881836, 1.0108000040054321, 0.9556999802589417, 1.0684000253677368, 0.9424999952316284, 1.066499948501587, 0.9818000197410583, 1.1490999460220337, 1.17330002784729, 1.0752999782562256, 0.9444000124931335, 0.802299976348877, 0.9839000105857849, 0.7893999814987183, 0.48809999227523804, 0.8367000222206116, 0.675599992275238, 0.9138000011444092, 0.7904000282287598, 0.21979999542236328, 1.024399995803833, 1.8789000511169434, 1.8758000135421753, 1.8756999969482422, 1.874500036239624, 1.8695000410079956, 1.8693000078201294, 1.8676999807357788, 1.867300033569336, 1.8666000366210938, 1.8659000396728516, 1.8645000457763672, 1.864300012588501, 1.8641999959945679, 1.863700032234192, 1.8629000186920166, 1.8629000186920166, 1.8624999523162842, 1.8623000383377075, 1.8623000383377075, 1.8621000051498413, 1.8616000413894653, 1.861199975013733, 1.8609000444412231, 1.8605999946594238, 1.8603999614715576, 1.8595000505447388, 1.8594000339508057, 1.8594000339508057, 1.8592000007629395, 1.8592000007629395, 1.8517999649047852, 1.850000023841858, 1.858299970626831, 1.8523999452590942, 1.850000023841858, 1.8487999439239502, 1.843999981880188, 1.7858999967575073, 1.8097000122070312, 1.7991000413894653, 1.801900029182434, 1.8272000551223755, 1.8228000402450562, 1.767799973487854, 1.7285000085830688, 1.7547999620437622, 1.7171000242233276, 1.8013999462127686, 1.6734000444412231, 1.7613999843597412, 1.7314000129699707, 1.75409996509552, 1.673200011253357, 1.5190000534057617, 1.6821000576019287, 1.6991000175476074, 1.7689000368118286, 1.4865000247955322, 1.701799988746643, 1.4996999502182007, 1.5432000160217285, 1.4522000551223755, 1.3995000123977661, 1.2839000225067139, 1.4215999841690063, 1.0013999938964844, 1.0029000043869019, 1.2860000133514404, 0.7408000230789185, 1.0374000072479248, 1.30840003490448, 1.1409000158309937, 0.9575999975204468, 1.1282999515533447, 1.3835999965667725, 1.4704999923706055, 1.2283999919891357, 1.5146000385284424, 0.7457000017166138, 0.83160001039505, 1.0845999717712402, 1.0281000137329102, 1.030500054359436, 1.1262999773025513, 0.5063999891281128, 0.43220001459121704, 0.8629999756813049, 0.5940999984741211, 0.6539000272750854, 0.40380001068115234, 0.8411999940872192, 0.9060999751091003, 0.3668999969959259, 2.381700038909912, 2.381200075149536, 2.3808999061584473, 2.38070011138916, 2.3798999786376953, 2.3796000480651855, 2.3787999153137207, 2.3784000873565674, 2.3782999515533447, 2.37719988822937, 2.376699924468994, 2.3766000270843506, 2.3761000633239746, 2.3759000301361084, 2.3757998943328857, 2.3756000995635986, 2.3752999305725098, 2.375200033187866, 2.3750998973846436, 2.3749001026153564, 2.3745999336242676, 2.3745999336242676, 2.3745999336242676, 2.3743999004364014, 2.374300003051758, 2.374000072479248, 2.373699903488159, 2.3733999729156494, 2.373199939727783, 2.3731000423431396, 2.364500045776367, 2.3341000080108643, 2.3649001121520996, 2.3441998958587646, 2.3185999393463135, 2.321700096130371, 2.30649995803833, 2.268899917602539, 2.1631999015808105, 2.27020001411438, 2.2005999088287354, 2.243299961090088, 2.1928000450134277, 2.3076999187469482, 2.3117001056671143, 1.9930000305175781, 1.920300006866455, 2.0357000827789307, 1.892799973487854, 2.0088999271392822, 1.6924999952316284, 1.6700999736785889, 1.9514000415802002, 2.1298000812530518, 2.005000114440918, 1.5032999515533447, 1.5546000003814697, 1.636199951171875, 0.6858999729156494, 1.2913000583648682, 0.7860000133514404, 0.8636999726295471, 2.3935000896453857, 2.3929998874664307, 2.390700101852417, 2.3893001079559326, 2.38919997215271, 2.388200044631958, 2.388000011444092, 2.3877999782562256, 2.386699914932251, 2.3864998817443848, 2.386399984359741, 2.3863000869750977, 2.386199951171875, 2.385999917984009, 2.3856000900268555, 2.385200023651123, 2.385200023651123, 2.3850998878479004, 2.3838999271392822, 2.3835999965667725, 2.3833000659942627, 2.3828001022338867, 2.382699966430664, 2.3819000720977783, 2.3815999031066895, 2.3808999061584473, 2.3808000087738037, 2.3803000450134277, 2.380000114440918, 2.3798999786376953, 2.3787999153137207, 2.3747000694274902, 2.3756000995635986, 2.368000030517578, 2.303299903869629, 2.3134000301361084, 2.209199905395508, 2.275099992752075, 2.25819993019104, 2.1380999088287354, 2.2736001014709473, 2.138200044631958, 2.182300090789795, 2.1105000972747803, 2.1191999912261963, 1.9641000032424927, 1.9509999752044678, 2.0497000217437744, 2.0873000621795654, 2.2051000595092773, 2.1975998878479004, 1.520900011062622, 1.9247000217437744, 1.1348999738693237, 1.090000033378601, 1.6861000061035156, 1.2364000082015991, 1.9378999471664429, 1.1095999479293823, 0.8935999870300293, 1.2373000383377075, 0.7627000212669373, -0.23080000281333923, 1.2922999858856201, 1.1145000457763672, 0.010700000450015068, -0.30640000104904175, 0.61080002784729, 2.6956000328063965, 2.6947999000549316, 2.694200038909912, 2.6939001083374023, 2.693700075149536, 2.6912999153137207, 2.6912999153137207, 2.6903998851776123, 2.688999891281128, 2.6888999938964844, 2.6884000301361084, 2.6872000694274902, 2.6870999336242676, 2.686800003051758, 2.6865999698638916, 2.686000108718872, 2.685699939727783, 2.6856000423431396, 2.68530011177063, 2.684999942779541, 2.684999942779541, 2.6847000122070312, 2.6842000484466553, 2.6840999126434326, 2.683799982070923, 2.683500051498413, 2.6828999519348145, 2.682499885559082, 2.6814000606536865, 2.680999994277954, 2.6793999671936035, 2.6710000038146973, 2.661400079727173, 2.635699987411499, 2.6542000770568848, 2.607300043106079, 2.594099998474121, 2.552799940109253, 2.57669997215271, 2.5838000774383545, 2.6380999088287354, 2.5018999576568604, 2.538100004196167, 2.5596001148223877, 2.3715999126434326, 2.596100091934204, 2.5209999084472656, 2.442699909210205, 2.409600019454956, 2.2611000537872314, 2.3573999404907227, 1.8889000415802002, 2.3877999782562256, 1.7725000381469727, 2.022200107574463, 1.7223000526428223, 1.363700032234192, 0.9728999733924866, 1.4509999752044678, 0.35249999165534973, 0.6362000107765198, 1.2556999921798706, 1.7855000495910645, 0.5454000234603882, 1.4146000146865845, 0.9890999794006348, 1.3760000467300415, 1.0369000434875488, 2.8127999305725098, 2.810699939727783, 2.81030011177063, 2.8101999759674072, 2.8096001148223877, 2.80679988861084, 2.806299924850464, 2.8059000968933105, 2.8055999279022217, 2.805500030517578, 2.8050999641418457, 2.8048999309539795, 2.803999900817871, 2.803999900817871, 2.8039000034332275, 2.8036999702453613, 2.803499937057495, 2.8034000396728516, 2.803299903869629, 2.8032000064849854, 2.8032000064849854, 2.8027000427246094, 2.802500009536743, 2.8010001182556152, 2.8006999492645264, 2.8006999492645264, 2.8004000186920166, 2.79830002784729, 2.797499895095825, 2.797300100326538, 2.730299949645996, 2.7881999015808105, 2.761699914932251, 2.7627999782562256, 2.691999912261963, 2.678299903869629, 2.6287999153137207, 2.5028998851776123, 2.6793999671936035, 2.447200059890747, 2.5136001110076904, 2.6215999126434326, 2.6089000701904297, 2.5460000038146973, 2.7146999835968018, 2.463200092315674, 2.650399923324585, 2.4203999042510986, 2.2402000427246094, 2.2293999195098877, 2.280900001525879, 2.3297998905181885, 2.2441999912261963, 2.049299955368042, 2.4602999687194824, 1.9976999759674072, 2.0190999507904053, 1.644700050354004, 1.6539000272750854, 1.9192999601364136, 1.8990000486373901, 2.1840999126434326, 0.2289000004529953, 0.9409000277519226, 2.0785000324249268, 1.6259000301361084, 0.002300000051036477, 1.6325000524520874, 2.933799982070923, 2.933000087738037, 2.932499885559082, 2.9289000034332275, 2.926300048828125, 2.9249000549316406, 2.924299955368042, 2.924299955368042, 2.9221999645233154, 2.922100067138672, 2.9198999404907227, 2.919600009918213, 2.919100046157837, 2.918600082397461, 2.9166998863220215, 2.9165000915527344, 2.916100025177002, 2.9158999919891357, 2.914900064468384, 2.914799928665161, 2.9144999980926514, 2.9138998985290527, 2.9137001037597656, 2.913599967956543, 2.9135000705718994, 2.9133999347686768, 2.913300037384033, 2.911900043487549, 2.9114999771118164, 2.911400079727173, 2.90939998626709, 2.9026999473571777, 2.7934000492095947, 2.8928000926971436, 2.8285000324249268, 2.891400098800659, 2.860599994659424, 2.8315000534057617, 2.7146999835968018, 2.774199962615967, 2.6793999671936035, 2.7320001125335693, 2.78629994392395, 2.606100082397461, 2.828900098800659, 2.305799961090088, 2.4693000316619873, 2.5869998931884766, 2.4784998893737793, 2.4646999835968018, 2.052999973297119, 1.9072999954223633, 2.61899995803833, 2.244800090789795, 2.6159000396728516, 2.21589994430542, 1.8946000337600708, 0.9160000085830688, 2.0745999813079834, 2.028700113296509, 1.424399971961975, 1.6687999963760376, 1.5515999794006348, 1.6790000200271606, 1.534600019454956, 1.0126999616622925, -0.4544999897480011, 0.4523000121116638, 2.984100103378296, 2.983799934387207, 2.9837000370025635, 2.9828999042510986, 2.9816999435424805, 2.9802000522613525, 2.9797000885009766, 2.9797000885009766, 2.979599952697754, 2.978300094604492, 2.9779999256134033, 2.9779999256134033, 2.9774999618530273, 2.977299928665161, 2.976900100708008, 2.976900100708008, 2.976900100708008, 2.9767000675201416, 2.9767000675201416, 2.976599931716919, 2.976099967956543, 2.975800037384033, 2.975600004196167, 2.9755001068115234, 2.9755001068115234, 2.9751999378204346, 2.9749999046325684, 2.974600076675415, 2.9742000102996826, 2.973900079727173, 2.9602999687194824, 2.939199924468994, 2.914099931716919, 2.9697000980377197, 2.900099992752075, 2.8587000370025635, 2.8947999477386475, 2.880199909210205, 2.821899890899658, 2.553999900817871, 2.7592999935150146, 2.6493000984191895, 1.9991999864578247, 2.762500047683716, 2.6570000648498535, 2.738100051879883, 2.6872000694274902, 2.2720999717712402, 1.5575000047683716, 2.2822999954223633, 2.2314000129699707, 0.8287000060081482, 1.3026000261306763, 0.5066999793052673, 2.1540000438690186, 2.036099910736084, 1.6983000040054321, 0.9254000186920166, 3.1026999950408936, 3.1015000343322754, 3.100600004196167, 3.098400115966797, 3.0978000164031982, 3.094599962234497, 3.0936999320983887, 3.093100070953369, 3.091900110244751, 3.0905001163482666, 3.090399980545044, 3.0901999473571777, 3.0896999835968018, 3.0885000228881836, 3.088200092315674, 3.088200092315674, 3.088099956512451, 3.087899923324585, 3.087899923324585, 3.0869998931884766, 3.086699962615967, 3.08489990234375, 3.084199905395508, 3.083400011062622, 3.08240008354187, 3.08240008354187, 3.082200050354004, 3.081399917602539, 3.0813000202178955, 3.0810999870300293, 3.075700044631958, 3.0731000900268555, 3.078399896621704, 3.0701000690460205, 3.068700075149536, 3.0678000450134277, 3.0123000144958496, 3.0346999168395996, 2.9495999813079834, 2.993299961090088, 2.601099967956543, 2.675600051879883, 2.6196999549865723, 2.7256999015808105, 2.700200080871582, 2.928100109100342, 2.9725000858306885, 2.451900005340576, 2.4558000564575195, 2.541100025177002, 2.6726999282836914, 2.786600112915039, 2.2004001140594482, 2.641900062561035, 2.4000000953674316, 2.392199993133545, 2.3864998817443848, 2.554800033569336, 2.6898999214172363, 2.216200113296509, 1.9429999589920044, 2.634999990463257, 2.338399887084961, 1.9860999584197998, 1.7685999870300293, 2.1565001010894775, 2.198899984359741, 1.8068000078201294, 1.9780000448226929, 2.0394999980926514, 1.9284000396728516, 1.0533000230789185, 3.1637001037597656, 3.1630001068115234, 3.1626999378204346, 3.1624999046325684, 3.1623001098632812, 3.1623001098632812, 3.1602001190185547, 3.159899950027466, 3.158900022506714, 3.1586999893188477, 3.1582000255584717, 3.1579999923706055, 3.1577000617980957, 3.156399965286255, 3.155900001525879, 3.155100107192993, 3.1547999382019043, 3.154400110244751, 3.1542000770568848, 3.1538000106811523, 3.153700113296509, 3.15339994430542, 3.152899980545044, 3.1528000831604004, 3.1526999473571777, 3.1522998809814453, 3.1514999866485596, 3.151400089263916, 3.151099920272827, 3.150700092315674, 3.123800039291382, 3.0973000526428223, 3.1034998893737793, 3.092600107192993, 3.1161000728607178, 2.978100061416626, 2.669800043106079, 2.717099905014038, 2.512700080871582, 2.594399929046631, 2.9451000690460205, 2.4816999435424805, 2.256999969482422, 2.653700113296509, 2.047600030899048, 1.8466999530792236, 2.2655999660491943, 1.4322999715805054, 0.519599974155426, -0.3840000033378601, 1.1339999437332153, 2.1621999740600586, 1.0199999809265137, 3.177999973297119, 3.177000045776367, 3.175600051879883, 3.1744000911712646, 3.1744000911712646, 3.174099922180176, 3.17330002784729, 3.1719000339508057, 3.171799898147583, 3.1714000701904297, 3.169300079345703, 3.1686999797821045, 3.1686999797821045, 3.168600082397461, 3.1684000492095947, 3.1679999828338623, 3.1675000190734863, 3.1668999195098877, 3.1666998863220215, 3.1666998863220215, 3.1665000915527344, 3.166100025177002, 3.1651999950408936, 3.1651999950408936, 3.1642000675201416, 3.1638998985290527, 3.163800001144409, 3.163300037384033, 3.162600040435791, 3.1624999046325684, 3.1312999725341797, 3.1373000144958496, 3.0399999618530273, 2.968400001525879, 3.108299970626831, 2.948899984359741, 2.822700023651123, 2.732300043106079, 2.8017001152038574, 2.786900043487549, 2.871500015258789, 2.4781999588012695, 2.7530999183654785, 2.701200008392334, 2.475399971008301, 2.22160005569458, 2.15339994430542, 2.2070000171661377, 2.5092999935150146, 2.5253000259399414, 2.453000068664551, 1.8970999717712402, 1.010599970817566, 1.3950999975204468, 0.8737999796867371, 2.2825000286102295, -0.0966000035405159, 0.6071000099182129, 1.9696999788284302, 3.255000114440918, 3.253499984741211, 3.2527999877929688, 3.2523000240325928, 3.251699924468994, 3.2513999938964844, 3.251300096511841, 3.250699996948242, 3.2495999336242676, 3.2483999729156494, 3.248199939727783, 3.2476000785827637, 3.247299909591675, 3.2467000484466553, 3.2467000484466553, 3.2464001178741455, 3.2453999519348145, 3.2444000244140625, 3.2441999912261963, 3.2427000999450684, 3.2425999641418457, 3.241499900817871, 3.240999937057495, 3.2402000427246094, 3.2399001121520996, 3.239300012588501, 3.2372000217437744, 3.2370998859405518, 3.2360000610351562, 3.234299898147583, 3.217099905014038, 3.219599962234497, 3.17549991607666, 3.176500082015991, 3.155900001525879, 3.1542999744415283, 3.1775999069213867, 2.7451999187469482, 2.8080999851226807, 2.850800037384033, 2.7016000747680664, 2.440700054168701, 1.8902000188827515, 2.194499969482422, 2.608099937438965, 2.1558001041412354, 2.0755999088287354, 2.0297000408172607, 2.5292000770568848, 2.015899896621704, 2.3092000484466553, 0.7271000146865845, 1.9600000381469727, 1.8181999921798706, 2.003499984741211, 1.649899959564209, 1.813599944114685, 3.467900037765503, 3.467900037765503, 3.466399908065796, 3.4663000106811523, 3.466099977493286, 3.465100049972534, 3.464900016784668, 3.464400053024292, 3.4628000259399414, 3.4618000984191895, 3.4616000652313232, 3.4598000049591064, 3.459700107574463, 3.4595000743865967, 3.458899974822998, 3.4584999084472656, 3.4584999084472656, 3.457900047302246, 3.45740008354187, 3.4565999507904053, 3.4563000202178955, 3.456199884414673, 3.4558000564575195, 3.454200029373169, 3.453900098800659, 3.453000068664551, 3.4518001079559326, 3.45169997215271, 3.4512999057769775, 3.450900077819824, 3.448899984359741, 3.4089999198913574, 3.40939998626709, 3.3306000232696533, 3.2646000385284424, 3.291800022125244, 2.9721999168395996, 2.391900062561035, 3.057300090789795, 3.1440999507904053, 2.4979000091552734, 2.6960999965667725, 2.238300085067749, 0.9179999828338623, 0.9559000134468079, 1.9559999704360962, 1.9105000495910645, 1.295799970626831, 1.521399974822998, 1.7972999811172485, 3.6951000690460205, 3.6949000358581543, 3.694700002670288, 3.6939001083374023, 3.69320011138916, 3.6891000270843506, 3.688800096511841, 3.684999942779541, 3.681999921798706, 3.6816000938415527, 3.6814000606536865, 3.6789000034332275, 3.6782000064849854, 3.6782000064849854, 3.6763999462127686, 3.675299882888794, 3.6737000942230225, 3.6737000942230225, 3.6719000339508057, 3.6719000339508057, 3.671600103378296, 3.6709001064300537, 3.6673998832702637, 3.6673998832702637, 3.6666998863220215, 3.6663999557495117, 3.6654000282287598, 3.6651999950408936, 3.6649999618530273, 3.664299964904785, 3.6586999893188477, 3.664099931716919, 3.6623001098632812, 3.646199941635132, 3.646399974822998, 3.495800018310547, 3.591399908065796, 3.4672999382019043, 3.344599962234497, 2.988600015640259, 3.187999963760376, 3.2049999237060547, 3.2558000087738037, 3.448499917984009, 3.109499931335449, 3.1345999240875244, 2.813699960708618, 2.751300096511841, 2.4117000102996826, 2.8691999912261963, 3.0903000831604004, 2.4874000549316406, 2.936800003051758, 3.2532999515533447, 2.360300064086914, 2.4697000980377197, 2.451900005340576, 1.7989000082015991, 1.8640999794006348, 1.8280999660491943, 1.5985000133514404, 1.4975999593734741, 4.535299777984619, 4.53380012512207, 4.533699989318848, 4.528600215911865, 4.5278000831604, 4.525700092315674, 4.5254998207092285, 4.523399829864502, 4.521999835968018, 4.516600131988525, 4.510799884796143, 4.508900165557861, 4.507800102233887, 4.5065999031066895, 4.506400108337402, 4.503499984741211, 4.502799987792969, 4.501399993896484, 4.50029993057251, 4.5, 4.498000144958496, 4.496799945831299, 4.492300033569336, 4.485000133514404, 4.484899997711182, 4.483799934387207, 4.483699798583984, 4.482900142669678, 4.481599807739258, 4.480899810791016, 4.468900203704834, 4.317800045013428, 4.4257001876831055, 4.183599948883057, 4.253300189971924, 3.927000045776367, 3.926500082015991, 4.012800216674805, 3.800600051879883, 3.5332000255584717, 3.3008999824523926, 3.620800018310547, 3.2030999660491943, 2.9072000980377197, 2.47189998626709, 2.262500047683716, 2.8993000984191895, 3.143399953842163, 2.40339994430542, 1.5651999711990356, 2.6510000228881836, 2.4249000549316406, 2.584399938583374, 2.55430006980896, 2.9995999336242676, 4.611400127410889, 4.609399795532227, 4.60099983215332, 4.598700046539307, 4.594699859619141, 4.592400074005127, 4.59119987487793, 4.591000080108643, 4.590700149536133, 4.589700222015381, 4.5883002281188965, 4.587100028991699, 4.586900234222412, 4.58650016784668, 4.586299896240234, 4.586299896240234, 4.58489990234375, 4.58489990234375, 4.5843000411987305, 4.583600044250488, 4.583000183105469, 4.582799911499023, 4.581999778747559, 4.581900119781494, 4.5817999839782715, 4.580599784851074, 4.58050012588501, 4.5802998542785645, 4.579999923706055, 4.578100204467773, 4.384500026702881, 4.012599945068359, 4.284900188446045, 4.338200092315674, 4.484799861907959, 3.8742001056671143, 4.1809000968933105, 3.5485000610351562, 4.048799991607666, 3.827399969100952, 2.9202001094818115, 2.546600103378296, 3.714600086212158, 2.646699905395508, 3.5032999515533447, 3.967600107192993, 3.468899965286255, 1.891800045967102, 3.5095999240875244, 0.9405999779701233, 3.1947999000549316, 3.158900022506714, 2.9865000247955322, 3.0729000568389893, 2.7279999256134033, 5.053500175476074, 5.051499843597412, 5.044600009918213, 5.04449987411499, 5.0441999435424805, 5.042200088500977, 5.041399955749512, 5.040900230407715, 5.04040002822876, 5.037499904632568, 5.033199787139893, 5.031899929046631, 5.030399799346924, 5.028500080108643, 5.027599811553955, 5.027299880981445, 5.0258002281188965, 5.025100231170654, 5.021299839019775, 5.021100044250488, 5.019499778747559, 5.0192999839782715, 5.0177998542785645, 5.0177998542785645, 5.017600059509277, 5.01669979095459, 5.014800071716309, 5.014400005340576, 5.012499809265137, 5.01170015335083, 5.0055999755859375, 4.870800018310547, 4.853400230407715, 4.847300052642822, 4.767000198364258, 4.781899929046631, 4.753900051116943, 4.93310022354126, 4.605299949645996, 4.793399810791016, 4.5071001052856445, 4.4781999588012695, 4.791500091552734, 4.134500026702881, 2.827199935913086, 2.7479000091552734, 2.8299999237060547, 2.9583001136779785, 1.125499963760376, 5.254000186920166, 5.250899791717529, 5.250500202178955, 5.248300075531006, 5.239299774169922, 5.237100124359131, 5.236999988555908, 5.236599922180176, 5.228099822998047, 5.2245001792907715, 5.224400043487549, 5.217599868774414, 5.217299938201904, 5.214700222015381, 5.214600086212158, 5.213500022888184, 5.212699890136719, 5.212100028991699, 5.208399772644043, 5.207499980926514, 5.2052001953125, 5.202600002288818, 5.202400207519531, 5.202400207519531, 5.19980001449585, 5.198999881744385, 5.198500156402588, 5.197400093078613, 5.197000026702881, 5.196400165557861, 5.162799835205078, 5.166800022125244, 5.060999870300293, 5.099100112915039, 5.141200065612793, 4.905700206756592, 4.904300212860107, 4.421299934387207, 4.532400131225586, 4.9532999992370605, 4.999800205230713, 4.893199920654297, 4.648099899291992, 4.844699859619141, 3.5625, 4.794600009918213, 3.6133999824523926, 3.1765999794006348, 3.931299924850464, 4.355899810791016, 5.287499904632568, 5.2870001792907715, 5.283899784088135, 5.283599853515625, 5.279399871826172, 5.276899814605713, 5.276500225067139, 5.275300025939941, 5.270999908447266, 5.270699977874756, 5.269899845123291, 5.269199848175049, 5.2600998878479, 5.256999969482422, 5.251999855041504, 5.249499797821045, 5.2484002113342285, 5.245999813079834, 5.243100166320801, 5.241799831390381, 5.241399765014648, 5.240600109100342, 5.239799976348877, 5.238699913024902, 5.236700057983398, 5.236400127410889, 5.236299991607666, 5.235599994659424, 5.235099792480469, 5.232699871063232, 5.045300006866455, 5.109799861907959, 5.074900150299072, 5.145999908447266, 5.053100109100342, 5.106299877166748, 5.02400016784668, 4.072400093078613, 3.6357998847961426, 3.6965999603271484, 4.222799777984619, 3.9876999855041504, 3.1089999675750732, 5.642399787902832, 5.6367998123168945, 5.629899978637695, 5.626699924468994, 5.625500202178955, 5.625400066375732, 5.610400199890137, 5.603799819946289, 5.602399826049805, 5.602399826049805, 5.600599765777588, 5.600500106811523, 5.59689998626709, 5.5954999923706055, 5.59089994430542, 5.59089994430542, 5.589700222015381, 5.585700035095215, 5.582399845123291, 5.581500053405762, 5.5808000564575195, 5.577600002288818, 5.574999809265137, 5.5706000328063965, 5.569399833679199, 5.565700054168701, 5.565499782562256, 5.562600135803223, 5.560699939727783, 5.554100036621094, 5.322999954223633, 5.28249979019165, 5.266200065612793, 5.452000141143799, 5.241300106048584, 5.108099937438965, 4.595900058746338, 4.205100059509277, 4.498600006103516, 4.440800189971924, 2.9646999835968018]}, \"token.table\": {\"Topic\": [2, 2, 4, 1, 2, 5, 7, 10, 12, 14, 19, 18, 9, 16, 19, 5, 5, 1, 3, 5, 7, 9, 14, 3, 9, 18, 17, 20, 14, 1, 4, 6, 11, 5, 19, 2, 3, 5, 12, 11, 6, 4, 6, 1, 2, 4, 7, 10, 11, 3, 4, 19, 19, 9, 13, 20, 16, 11, 1, 2, 3, 4, 5, 6, 7, 8, 9, 10, 11, 12, 13, 7, 15, 15, 1, 2, 4, 6, 7, 8, 11, 15, 13, 18, 1, 2, 3, 6, 7, 8, 10, 11, 12, 16, 3, 4, 9, 1, 2, 3, 4, 5, 7, 8, 9, 10, 12, 12, 7, 3, 5, 3, 6, 7, 11, 3, 5, 11, 1, 4, 6, 8, 9, 11, 13, 18, 12, 12, 15, 14, 6, 2, 2, 7, 14, 14, 6, 7, 12, 15, 6, 12, 6, 12, 1, 6, 12, 15, 1, 2, 3, 4, 5, 8, 10, 12, 13, 2, 2, 1, 2, 3, 4, 5, 6, 7, 9, 11, 15, 2, 6, 7, 9, 11, 13, 2, 13, 13, 18, 2, 9, 2, 10, 17, 4, 5, 19, 1, 9, 3, 7, 9, 10, 14, 18, 1, 3, 4, 5, 9, 11, 13, 18, 6, 12, 12, 12, 6, 12, 12, 16, 1, 2, 3, 4, 5, 8, 10, 12, 14, 12, 3, 8, 11, 1, 7, 8, 1, 2, 3, 4, 5, 6, 7, 8, 9, 10, 11, 13, 1, 7, 12, 18, 13, 1, 7, 10, 15, 2, 2, 10, 1, 2, 4, 5, 7, 10, 9, 11, 20, 1, 2, 3, 4, 5, 7, 8, 9, 10, 11, 14, 18, 1, 2, 3, 4, 5, 8, 11, 17, 10, 10, 1, 4, 1, 7, 8, 9, 15, 3, 3, 5, 9, 3, 14, 7, 20, 1, 2, 3, 4, 5, 8, 11, 12, 17, 20, 4, 5, 6, 8, 9, 12, 13, 19, 1, 2, 3, 4, 5, 6, 9, 10, 12, 2, 6, 9, 10, 13, 9, 8, 11, 12, 16, 18, 4, 17, 8, 16, 6, 7, 9, 11, 19, 16, 6, 8, 9, 10, 11, 14, 16, 1, 2, 3, 4, 5, 6, 13, 14, 14, 12, 3, 4, 13, 14, 14, 4, 5, 6, 17, 8, 16, 1, 2, 3, 4, 5, 8, 10, 12, 11, 11, 2, 3, 4, 5, 6, 7, 10, 14, 19, 17, 5, 4, 5, 7, 8, 1, 3, 4, 7, 8, 11, 15, 1, 4, 9, 12, 16, 1, 2, 3, 4, 5, 7, 11, 12, 14, 1, 2, 3, 4, 7, 11, 14, 16, 10, 1, 2, 6, 7, 11, 11, 20, 4, 6, 8, 9, 11, 12, 13, 17, 18, 5, 18, 15, 1, 14, 14, 6, 1, 2, 3, 4, 5, 8, 9, 11, 14, 1, 8, 9, 11, 16, 1, 6, 7, 10, 11, 12, 13, 4, 5, 10, 10, 16, 2, 10, 10, 11, 10, 10, 18, 4, 4, 19, 4, 4, 6, 7, 15, 6, 7, 12, 6, 12, 2, 7, 10, 20, 4, 3, 3, 11, 4, 20, 17, 8, 18, 20, 3, 4, 5, 7, 14, 15, 18, 3, 5, 7, 8, 10, 17, 20, 3, 5, 17, 7, 4, 9, 13, 3, 9, 19, 4, 5, 11, 13, 4, 3, 3, 20, 1, 7, 5, 13, 19, 3, 4, 5, 9, 13, 15, 2, 7, 10, 2, 10, 17, 5, 2, 1, 4, 6, 7, 15, 7, 9, 6, 7, 15, 14, 2, 3, 7, 10, 7, 2, 3, 1, 3, 4, 5, 6, 7, 11, 13, 15, 5, 1, 2, 2, 1, 9, 15, 19, 1, 2, 5, 8, 11, 12, 17, 1, 4, 5, 9, 11, 13, 1, 2, 3, 4, 5, 6, 7, 8, 10, 11, 12, 1, 2, 3, 4, 8, 12, 14, 1, 2, 3, 4, 5, 7, 8, 11, 11, 1, 4, 7, 15, 16, 7, 1, 2, 4, 6, 9, 11, 12, 4, 6, 7, 15, 7, 7, 1, 4, 7, 15, 1, 2, 4, 9, 10, 11, 12, 16, 19, 4, 2, 4, 9, 2, 9, 2, 16, 8, 1, 1, 2, 3, 4, 5, 7, 8, 9, 10, 11, 12, 14, 18, 17, 6, 20, 16, 2, 3, 4, 5, 11, 13, 6, 12, 18, 1, 1, 2, 4, 6, 7, 10, 12, 7, 1, 2, 7, 10, 11, 12, 7, 12, 9, 2, 19, 7, 20, 4, 1, 6, 7, 8, 15, 8, 2, 3, 7, 14, 7, 20, 11, 4, 18, 18, 8, 16, 3, 4, 13, 14, 18, 5, 11, 18, 1, 2, 3, 4, 5, 7, 10, 11, 13, 16, 3, 2, 4, 7, 19, 11, 11, 3, 4, 5, 13, 18, 3, 5, 6, 3, 10, 6, 7, 8, 11, 15, 18, 1, 11, 12, 11, 10, 15, 14, 1, 5, 7, 8, 16, 11, 19, 1, 2, 3, 4, 7, 8, 10, 14, 17, 19, 4, 5, 1, 4, 5, 12, 16, 3, 4, 5, 12, 5, 1, 4, 11, 1, 11, 20, 14, 1, 2, 6, 10, 13, 10, 1, 6, 1, 9, 18, 2, 18, 3, 20, 1, 3, 4, 5, 8, 11, 19, 2, 3, 5, 7, 11, 5, 11, 4, 8, 17, 4, 9, 3, 5, 9, 14, 14, 4, 4, 7, 2, 4, 7, 15, 1, 4, 11, 1, 2, 3, 4, 8, 10, 11, 12, 3, 7, 10, 12, 13, 14, 14, 8, 14, 17, 18, 18, 4, 8, 2, 10, 5, 6, 3, 4, 6, 7, 1, 2, 3, 4, 5, 6, 7, 8, 10, 12, 2, 7, 11, 1, 2, 3, 4, 6, 7, 10, 11, 13, 14, 11, 2, 3, 4, 14, 2, 6, 7, 2, 3, 5, 6, 9, 10, 14, 1, 2, 10, 2, 2, 4, 7, 5, 19, 3, 4, 12, 14, 1, 2, 4, 6, 7, 10, 12, 10, 2, 8, 10, 12, 20, 4, 6, 7, 15, 15, 1, 3, 7, 14, 16, 3, 4, 6, 5, 1, 2, 3, 4, 5, 7, 9, 10, 11, 12, 15, 15, 1, 2, 3, 4, 5, 6, 7, 8, 9, 10, 11, 12, 13, 14, 15, 16, 17, 14, 1, 2, 1, 2, 8, 12, 16, 6, 12, 13, 19, 13, 5, 13, 19, 8, 3, 1, 2, 6, 11, 18, 18, 4, 17, 3, 5, 3, 6, 2, 6, 7, 20, 19, 2, 18, 16, 5, 8, 14, 5, 8, 9, 15, 1, 19, 8, 4, 12, 11, 6, 7, 2, 6, 6, 9, 1, 2, 3, 4, 5, 8, 17, 14, 1, 6, 8, 11, 16, 20, 1, 2, 4, 5, 8, 10, 12, 1, 2, 8, 10, 12, 1, 2, 3, 4, 5, 8, 9, 10, 11, 10, 1, 4, 6, 7, 12, 5, 3, 5, 6, 6, 10, 6, 1, 4, 10, 11, 12, 13, 1, 2, 3, 5, 6, 7, 9, 10, 11, 12, 18, 3, 9, 10, 13, 7, 12, 1, 7, 15, 17, 15, 15, 14, 1, 2, 4, 5, 8, 8, 19, 3, 1, 11, 10, 1, 2, 10, 5, 9, 10, 1, 1, 2, 3, 4, 5, 6, 9, 10, 11, 12, 12, 20, 11, 18, 11, 1, 2, 3, 4, 5, 6, 7, 8, 9, 11, 12, 13, 2, 4, 5, 8, 11, 2, 6, 8, 10, 8, 6, 12, 10, 12, 1, 3, 4, 5, 8, 11, 12, 15, 2, 2, 2, 10, 4, 7, 9, 1, 2, 3, 4, 5, 6, 7, 8, 10, 11, 18, 2, 8, 10, 20, 12, 2, 14, 15, 9, 11, 3, 6, 10, 13, 3, 10, 13, 18, 2, 7, 1, 7, 11, 11, 3, 5, 9, 11, 13, 14, 1, 3, 4, 5, 6, 7, 9, 11, 13, 14, 18, 2, 20, 4, 18, 1, 1, 3, 4, 5, 14, 4, 11, 6, 9, 1, 2, 3, 4, 5, 7, 9, 10, 11, 3, 6, 9, 13, 14, 5, 9, 14, 9, 6, 2, 10, 12, 6, 12, 6, 7, 8, 10, 12, 7, 12, 12, 6, 6, 16, 1, 8, 10, 6, 10, 12, 6, 10, 12, 3, 4, 5, 6, 7, 8, 9, 10, 9, 3, 10, 4, 16, 5, 4, 16, 7, 1, 2, 4, 7, 10, 12, 12, 12, 1, 7, 9, 5, 3, 4, 11, 1, 2, 11, 12, 1, 6, 7, 12, 15, 8, 10, 18, 12, 15, 1, 2, 3, 4, 5, 10, 12, 7, 6, 2, 12, 20, 18, 6, 7, 12, 1, 19, 1, 2, 3, 4, 5, 6, 7, 8, 9, 10, 11, 12, 13, 14, 1, 1, 13, 6, 13, 13, 2, 7, 8, 8, 12, 12, 12, 1, 2, 4, 5, 6, 8, 10, 11, 12, 14, 4, 7, 15, 8, 16, 18, 18, 7, 3, 1, 2, 6, 7, 10, 12, 1, 2, 3, 4, 5, 8, 10, 11, 12, 1, 2, 3, 4, 5, 7, 8, 10, 12, 14, 17, 1, 2, 3, 4, 5, 6, 8, 9, 14, 17, 11, 19, 18, 1, 2, 3, 5, 6, 7, 8, 9, 12, 13, 1, 2, 3, 4, 5, 6, 8, 10, 11, 19, 4, 6, 1, 2, 4, 6, 7, 8, 9, 10, 11, 12, 13, 14, 18, 10, 1, 2, 3, 5, 6, 8, 10, 12, 9, 6, 8, 16, 1, 2, 10, 14, 1, 2, 4, 5, 8, 11, 10, 13, 18, 16, 12, 5, 20, 17, 3, 4, 5, 8, 9, 9, 8, 9, 1, 2, 3, 4, 5, 7, 8, 10, 14, 15, 12, 1, 2, 3, 4, 5, 6, 7, 8, 9, 10, 11, 12, 12, 1, 2, 3, 5, 7, 8, 9, 10, 16, 4, 5, 6, 11, 13, 7, 7, 13, 14, 17, 12, 2, 3, 5, 13, 19, 10, 1, 2, 4, 5, 8, 12, 1, 2, 4, 5, 7, 10, 6, 11, 11, 5, 1, 4, 6, 7, 9, 2, 3, 5, 6, 8, 13, 3, 9, 2, 1, 3, 4, 5, 7, 9, 10, 4, 4, 3, 17, 9, 19, 14, 1, 2, 3, 4, 5, 6, 7, 8, 10, 11, 1, 4, 6, 7, 12, 15, 15, 1, 4, 5, 6, 8, 6, 8, 2, 6, 10, 13, 13, 2, 2, 4, 5, 13, 18, 4, 5, 1, 2, 4, 5, 6, 5, 11, 3, 7, 9, 13, 8, 2, 12, 13, 2, 7, 2, 9, 7, 1, 12, 8, 5, 3, 1, 2, 3, 4, 5, 8, 10, 11, 13, 16, 6, 7, 12, 8, 16, 1, 2, 3, 4, 5, 6, 7, 9, 10, 11, 14, 18, 1, 8, 12, 1, 2, 3, 4, 5, 6, 7, 8, 9, 10, 12, 13, 14, 2, 13, 4, 6, 7, 8, 9, 11, 13, 6, 9, 18, 6, 6, 16, 1, 2, 3, 4, 5, 8, 10, 11, 12, 18, 1, 3, 6, 7, 8, 9, 11, 1, 2, 3, 5, 9, 10, 7, 9, 11, 14, 4, 7, 13, 13, 13, 1, 2, 3, 4, 5, 6, 7, 8, 9, 11, 14, 2, 6, 11, 13, 1, 2, 3, 4, 5, 10, 11, 13, 3, 20, 1, 2, 3, 4, 5, 6, 7, 8, 9, 12, 14, 3, 13, 13, 1, 2, 3, 4, 5, 6, 7, 8, 9, 10, 12, 13, 10, 13, 20, 8, 6, 5, 17, 11, 3, 14, 18, 9, 4, 20, 11, 18, 1, 2, 11, 12, 12, 12, 17, 19, 9, 1, 13, 19, 6, 19, 10, 20, 3, 3, 20, 11, 11, 1, 3, 6, 8, 9, 10, 16, 1, 4, 2, 6, 7, 10, 12, 8, 1, 2, 4, 6, 7, 9, 10, 12, 1, 2, 6, 7, 8, 11, 13, 15, 16, 9, 19, 1, 2, 3, 4, 7, 9, 10, 12, 14, 15, 3, 8, 16, 1, 1, 4, 5, 9, 12, 4, 1, 2, 15, 20, 20, 15, 1, 8, 8, 9, 11, 16, 3, 19, 2, 6, 12, 17, 13, 11, 11, 17, 1, 2, 4, 5, 8, 16, 6, 8, 10, 12, 5, 8, 8, 1, 2, 3, 8, 12, 8, 8, 1, 2, 3, 4, 5, 7, 9, 10, 12, 14, 19, 1, 2, 3, 4, 7, 8, 10, 11, 13, 17, 18, 2, 3, 4, 8, 10, 11, 17, 1, 4, 7, 12, 15, 3, 5, 1, 2, 3, 4, 5, 8, 9, 11, 1, 2, 3, 4, 5, 7, 8, 9, 13, 14, 2, 3, 4, 5, 7, 9, 10, 14, 1, 2, 4, 5, 6, 7, 8, 10, 13, 15, 16, 2, 20, 4, 9, 18, 3, 7, 18, 1, 4, 6, 1, 3, 4, 6, 9, 11, 1, 2, 4, 5, 9, 12, 16, 3, 5, 13, 7, 15, 14, 4, 9, 1, 4, 6, 7, 1, 2, 3, 4, 5, 10, 11, 9, 18, 15, 13, 3, 4, 6, 11, 13, 14, 9, 1, 3, 4, 5, 6, 11, 13, 18, 20, 7, 14, 3, 4, 7, 10, 13, 9, 3, 4, 6, 7, 11, 5, 19, 8, 17, 20, 5, 8, 1, 2, 3, 4, 5, 7, 10, 20, 13, 18, 13, 17, 1, 2, 1, 5, 7, 11, 13, 5, 9, 11, 15, 10, 20, 1, 2, 3, 4, 5, 7, 9, 10, 14, 1, 2, 3, 6, 18, 1, 2, 3, 4, 5, 8, 10, 4, 1, 2, 3, 4, 5, 7, 10, 14, 2, 7, 8, 16, 1, 13, 20, 19, 15, 9, 2, 6, 7, 10, 2, 10, 1, 10, 14, 1, 2, 14, 1, 2, 3, 4, 5, 8, 10, 12, 1, 4, 6, 7, 11, 6, 12, 3, 4, 7, 9, 13, 3, 4, 9, 2, 6, 7, 9, 11, 12, 13, 18, 7, 17, 3, 11, 13, 1, 18, 18, 10, 7, 1, 3, 4, 6, 8, 9, 10, 12, 13, 14, 17, 10, 18, 1, 2, 1, 12, 15, 1, 2, 3, 4, 5, 7, 8, 10, 12, 14, 15, 17, 4, 6, 7, 12, 14, 7, 1, 7, 3, 5, 6, 8, 10, 13, 16, 18, 6, 6, 8, 11, 12, 13, 16, 3, 17, 2, 7, 8, 9, 14, 1, 3, 4, 5, 8, 13, 6, 6, 12, 19, 10, 1, 4, 11, 15, 1, 2, 4, 6, 7, 8, 10, 11, 12, 5, 15, 10, 16, 10, 17, 6, 13, 13, 8, 11, 16, 1, 2, 4, 5, 7, 10, 11, 12, 15, 4, 15, 15, 2, 6, 9, 11, 13, 8, 8, 16, 8, 16, 3, 5, 12, 9, 10, 20, 5, 6, 8, 1, 2, 3, 4, 5, 6, 7, 8, 10, 12, 13, 15, 16, 4, 6, 12, 1, 3, 6, 7, 8, 9, 13, 14, 15, 4, 4, 7, 4, 6, 7, 9, 1, 2, 3, 4, 5, 7, 10, 12, 14, 18, 7, 18, 1, 2, 3, 4, 7, 15, 20, 1, 3, 4, 8, 15, 18, 1, 1, 3, 4, 5, 8, 9, 14, 1, 4, 6, 1, 2, 4, 5, 6, 7, 10, 19, 6, 1, 2, 3, 4, 5, 6, 8, 12, 13, 3, 3, 1, 4, 5, 6, 9, 11, 13, 15, 4, 7, 10, 14, 15, 6, 16, 3, 8, 19, 3, 5, 12, 15, 1, 8, 16, 12, 13, 5, 1, 2, 3, 4, 5, 6, 7, 8, 10, 11, 12, 13, 14, 1, 3, 4, 5, 11, 14, 6, 14, 6, 5, 19, 7, 1, 17, 16, 19, 16, 3, 5, 9, 13, 18, 13, 6, 12, 1, 2, 3, 4, 5, 12, 14, 1, 3, 13, 10, 2, 3, 4, 6, 7, 9, 10, 11, 13, 14, 1, 6, 11, 12, 6, 12, 6, 13, 13, 4, 2, 4, 11, 19, 17, 17, 6, 10, 17, 1, 2, 3, 8, 9, 12, 1, 2, 3, 4, 6, 7, 9, 11, 12, 15, 2, 4, 6, 7, 10, 1, 4, 5, 6, 7, 11, 15, 1, 4, 6, 12, 13, 12, 17, 17, 5, 16, 19, 1, 2, 3, 4, 5, 6, 7, 8, 10, 11, 12, 14, 1, 15, 14, 1, 3, 2, 6, 7, 9, 10, 11, 13, 2, 9, 10, 18, 7, 12, 12, 3, 1, 2, 3, 4, 5, 7, 8, 11, 12, 14, 1, 3, 4, 11, 13, 17, 18, 19, 1, 6, 16, 5, 19, 5, 11, 11, 1, 2, 3, 4, 5, 7, 9, 11, 13, 18, 2, 3, 4, 5, 9, 11, 13, 1, 2, 3, 4, 5, 7, 8, 10, 11, 12, 1, 3, 4, 5, 12, 1, 10, 18, 1, 6, 6, 8, 13, 8, 3, 4, 5, 9, 13, 3, 4, 5, 6, 11, 13, 18, 13, 13, 14, 19, 10, 2, 1, 2, 3, 5, 8, 9, 10, 18, 17, 17, 11, 1, 2, 4, 5, 10, 12, 1, 2, 3, 4, 5, 10, 12, 1, 2, 4, 5, 8, 10, 1, 3, 4, 6, 7, 8, 10, 12, 13, 16, 2, 1, 2, 7, 17, 1, 1, 2, 3, 4, 5, 6, 8, 9, 10, 11, 12, 13, 14, 1, 17, 4, 17, 3, 7, 8, 9, 10, 12, 14, 16, 7, 18, 16, 1, 2, 4, 6, 7, 8, 10, 12, 1, 2, 4, 5, 10, 12, 1, 4, 1, 2, 6, 8, 10, 12, 3, 9, 6, 9, 10, 3, 8, 16, 20, 4, 17, 14, 18, 6, 7, 11, 12, 17, 18, 7, 6, 12, 1, 2, 3, 4, 5, 7, 8, 10, 12, 14, 14, 2, 7, 10, 11, 17, 6, 12, 6, 6, 9, 15, 2, 16, 1, 2, 3, 4, 7, 10, 12, 4, 5, 9, 13, 14, 6, 7, 15, 2, 3, 5, 6, 8, 9, 11, 13, 3, 5, 9, 4, 5, 13, 1, 2, 3, 4, 5, 7, 10, 11, 12, 13, 15, 3, 9, 3, 4, 9, 1, 2, 3, 4, 5, 7, 11, 13, 2, 3, 9, 3, 1, 8, 11, 16, 15, 13, 1, 16, 1, 2, 3, 4, 5, 6, 9, 10, 5, 3, 4, 5, 12, 18, 14, 1, 7, 2, 3, 5, 18, 3, 19, 19, 4, 19, 3, 6, 11, 12, 13, 14, 9, 5, 1, 7, 17, 1, 2, 3, 4, 5, 10, 12, 1, 2, 4, 5, 6, 9, 12, 1, 5, 17, 17, 1, 3, 6, 7, 8, 11, 16, 1, 10, 11, 12, 15, 6, 7, 12, 15, 1, 1, 1, 5, 8, 9, 11, 12, 1, 2, 3, 4, 5, 6, 7, 8, 10, 11, 12, 13, 14, 1, 8, 12, 2, 5, 6, 10, 12, 1, 2, 3, 4, 5, 7, 10, 11, 3, 3, 13, 14, 17, 3, 12, 3, 5, 12, 8, 16, 15, 3, 4, 4, 4, 4, 1, 2, 3, 4, 5, 7, 8, 9, 10, 11, 12, 14, 1, 2, 6, 7, 10, 11, 12, 1, 2, 3, 4, 5, 7, 9, 10, 12, 13, 9, 1, 2, 3, 4, 5, 6, 10, 11, 12, 18, 20, 17, 1, 2, 3, 5, 6, 8, 9, 10, 10, 1, 2, 3, 4, 5, 6, 7, 8, 10, 11, 12, 14, 12, 2, 3, 4, 5, 6, 7, 9, 12, 14, 1, 2, 3, 4, 5, 7, 10, 14, 17, 17, 3, 20, 1, 2, 8, 1, 5, 6, 7, 8, 11, 13, 14, 1, 2, 4, 5, 6, 7, 8, 10, 11, 12, 13, 15, 12], \"Freq\": [0.9766678810119629, 0.9732819199562073, 0.020136868581175804, 0.016838455572724342, 0.8183488845825195, 0.06735382229089737, 0.003367690835148096, 0.05051536485552788, 0.003367690835148096, 0.037044599652290344, 0.9409045577049255, 0.9080954790115356, 0.21580004692077637, 0.6474001407623291, 0.1162000223994255, 0.9904375076293945, 0.9882335662841797, 0.009097155183553696, 0.007580962497740984, 0.16829736530780792, 0.051550544798374176, 0.6458979845046997, 0.11523062735795975, 0.03562329709529877, 0.9083940386772156, 0.05343494564294815, 0.7690109610557556, 0.1922527402639389, 0.9548487067222595, 0.016949372366070747, 0.426559180021286, 0.5310803055763245, 0.02259916253387928, 0.17453071475028992, 0.7853882312774658, 0.04184749722480774, 0.07532549649477005, 0.8536889553070068, 0.027898332104086876, 0.9880387783050537, 0.9744052886962891, 0.8225648999214172, 0.17512671649456024, 0.1941346526145935, 0.7138493061065674, 0.016177887097001076, 0.03640024736523628, 0.04044472053647041, 0.9938243627548218, 0.22387059032917023, 0.773371160030365, 0.9249035120010376, 0.9197184443473816, 0.9830422401428223, 0.31337234377861023, 0.6659162640571594, 0.973484218120575, 0.9885931015014648, 0.21246641874313354, 0.1323743611574173, 0.18326619267463684, 0.09205024689435959, 0.11624471843242645, 0.06006903946399689, 0.016407746821641922, 0.019188720732927322, 0.034205980598926544, 0.0709148421883583, 0.037543151527643204, 0.0016685844166204333, 0.023082084953784943, 0.19446121156215668, 0.800722599029541, 0.9684053659439087, 0.09330887347459793, 0.008184988982975483, 0.07693889737129211, 0.5631272196769714, 0.11295284330844879, 0.09330887347459793, 0.00491099338978529, 0.045835938304662704, 0.9824010133743286, 0.9369348287582397, 0.06040828675031662, 0.042285799980163574, 0.056381069123744965, 0.1691431999206543, 0.10068047791719437, 0.018122486770153046, 0.12685739994049072, 0.3825858235359192, 0.042285799980163574, 0.9642578959465027, 0.31109097599983215, 0.009082947857677937, 0.6789503693580627, 0.29068484902381897, 0.19835667312145233, 0.06552322208881378, 0.02442229352891445, 0.39671334624290466, 0.005956656765192747, 0.0023826626129448414, 0.005360991228371859, 0.009530650451779366, 0.0005956656532362103, 0.9939409494400024, 0.9793532490730286, 0.08347008377313614, 0.9135337471961975, 0.9399488568305969, 0.01686006970703602, 0.014752560295164585, 0.02739761210978031, 0.11792343109846115, 0.8389409780502319, 0.040430888533592224, 0.0017001499654725194, 0.04080360010266304, 0.4505397379398346, 0.1615142524242401, 0.07650674879550934, 0.1683148443698883, 0.09180809557437897, 0.006800599861890078, 0.997936487197876, 0.9926218390464783, 0.9657448530197144, 0.9825758934020996, 0.9901362657546997, 0.9977851510047913, 0.9248868227005005, 0.03245216980576515, 0.03786086663603783, 0.9860338568687439, 0.252584844827652, 0.23679830133914948, 0.10261259227991104, 0.4025571048259735, 0.6923148036003113, 0.3057723641395569, 0.40071120858192444, 0.5976994633674622, 0.11540424078702927, 0.17541444301605225, 0.16618210077285767, 0.540091872215271, 0.5741097927093506, 0.12500056624412537, 0.0705360397696495, 0.039285894483327866, 0.08214323222637177, 0.03125014156103134, 0.01607150211930275, 0.0428573377430439, 0.017857223749160767, 0.9799269437789917, 0.9779242873191833, 0.07305461168289185, 0.2509267032146454, 0.04605616629123688, 0.0635257437825203, 0.03652730584144592, 0.015881435945630074, 0.07781904190778732, 0.3065117299556732, 0.09370047599077225, 0.03493916243314743, 0.19654931128025055, 0.048045385628938675, 0.030574336647987366, 0.620222270488739, 0.08298748731613159, 0.013103287667036057, 0.992202877998352, 0.9773728847503662, 0.9827991127967834, 0.966850757598877, 0.8872283101081848, 0.10689497739076614, 0.8829004764556885, 0.11392264068126678, 0.9641833305358887, 0.40103960037231445, 0.393472820520401, 0.1967364102602005, 0.9840988516807556, 0.9838587641716003, 0.11641945689916611, 0.06922238320112228, 0.27059659361839294, 0.05349002033472061, 0.46567782759666443, 0.022025303915143013, 0.006008730735629797, 0.6295814514160156, 0.11283061653375626, 0.03538474813103676, 0.12751862406730652, 0.059419672936201096, 0.028708381578326225, 0.0006676367484033108, 0.07548349350690842, 0.9174147844314575, 0.9902878403663635, 0.9854271411895752, 0.06747958064079285, 0.9222209453582764, 0.9942114949226379, 0.9637994766235352, 0.6370388865470886, 0.05287422612309456, 0.019111165776848793, 0.10511141270399094, 0.05351126566529274, 0.07580762356519699, 0.006370388437062502, 0.04777791351079941, 0.003185194218531251, 0.9924493432044983, 0.0319744348526001, 0.9144688844680786, 0.051159098744392395, 0.9803463220596313, 0.9865068793296814, 0.997553288936615, 0.008027725853025913, 0.2568872272968292, 0.43650761246681213, 0.0391351655125618, 0.04314902797341347, 0.05719754844903946, 0.07525993138551712, 0.007024260237812996, 0.008027725853025913, 0.021072780713438988, 0.006020794622600079, 0.04013863205909729, 0.009378639049828053, 0.9847570657730103, 0.18377773463726044, 0.7351109385490417, 0.984321117401123, 0.24338623881340027, 0.05262405052781105, 0.15129414200782776, 0.5393965244293213, 0.9870187044143677, 0.3967346251010895, 0.5996103286743164, 0.24544954299926758, 0.5501455664634705, 0.0021159444004297256, 0.010579722002148628, 0.01481161080300808, 0.17703402042388916, 0.9774413108825684, 0.9915335178375244, 0.9195234179496765, 0.2316298633813858, 0.19172723591327667, 0.060340553522109985, 0.030170276761054993, 0.2277369350194931, 0.0019464694196358323, 0.18588782846927643, 0.0038929388392716646, 0.020437929779291153, 0.0019464694196358323, 0.0447687990963459, 0.9649709463119507, 0.3902285099029541, 0.28749486804008484, 0.05335777625441551, 0.07406377792358398, 0.06211800500750542, 0.1274215579032898, 0.005574692972004414, 0.9383270144462585, 0.9989065527915955, 0.9931588768959045, 0.8024991750717163, 0.19437697529792786, 0.39124804735183716, 0.14204546809196472, 0.16696572303771973, 0.10217305272817612, 0.19437800347805023, 0.9954240918159485, 0.9879735708236694, 0.9960302114486694, 0.9888496994972229, 0.17934337258338928, 0.8170086741447449, 0.9728369116783142, 0.9504254460334778, 0.005820418708026409, 0.017461257055401802, 0.034922514110803604, 0.16879214346408844, 0.05820418894290924, 0.3957884609699249, 0.08148586004972458, 0.08730628341436386, 0.08148586004972458, 0.06402460485696793, 0.03980176895856857, 0.750926673412323, 0.07960353791713715, 0.01592070795595646, 0.0822569876909256, 0.01857415772974491, 0.013267256319522858, 0.9796778559684753, 0.020288502797484398, 0.1970883160829544, 0.01883932575583458, 0.010144251398742199, 0.03043275512754917, 0.02608521841466427, 0.48692408204078674, 0.19418996572494507, 0.015940967947244644, 0.10823171585798264, 0.04841944947838783, 0.5724887847900391, 0.2307044416666031, 0.0398748405277729, 0.9905816316604614, 0.796920120716095, 0.03598994016647339, 0.010282839648425579, 0.154242604970932, 0.9613599181175232, 0.42576247453689575, 0.5474088788032532, 0.9864164590835571, 0.957525908946991, 0.8744184374809265, 0.02363293059170246, 0.05908232554793358, 0.01181646529585123, 0.02954116277396679, 0.9665111303329468, 0.04619505628943443, 0.1462843418121338, 0.20017856359481812, 0.0692925825715065, 0.10778845846652985, 0.10778845846652985, 0.31566619873046875, 0.05203361064195633, 0.02415846288204193, 0.06875870376825333, 0.15795917809009552, 0.02415846288204193, 0.02415846288204193, 0.04645858332514763, 0.6002448797225952, 0.965683102607727, 0.9732412099838257, 0.10242076218128204, 0.05462440475821495, 0.04096830636262894, 0.7920538783073425, 0.9975858926773071, 0.9867908358573914, 0.9928193092346191, 0.9837710857391357, 0.9675569534301758, 0.5185584425926208, 0.4760536253452301, 0.29069843888282776, 0.06569456309080124, 0.009854184463620186, 0.018066003918647766, 0.083760567009449, 0.07719110697507858, 0.1100383922457695, 0.34489643573760986, 0.9951841235160828, 0.9918962717056274, 0.6831826567649841, 0.09017400443553925, 0.009170236997306347, 0.04890793189406395, 0.0015283728716894984, 0.05502142384648323, 0.04279443994164467, 0.07030515372753143, 0.9239377379417419, 0.9103411436080933, 0.9990968108177185, 0.0036006183363497257, 0.8713496327400208, 0.050408657640218735, 0.07201236486434937, 0.3172539174556732, 0.011197197251021862, 0.1082395687699318, 0.2127467393875122, 0.04105639085173607, 0.014929596334695816, 0.29112711548805237, 0.12913921475410461, 0.7510464191436768, 0.05097600445151329, 0.06456960737705231, 0.9734176993370056, 0.15287236869335175, 0.2666958272457123, 0.04818803071975708, 0.106345996260643, 0.08557529747486115, 0.22016945481300354, 0.04984968528151512, 0.0024924844037741423, 0.0672970786690712, 0.10635044425725937, 0.21004213392734528, 0.03456389531493187, 0.0292463731020689, 0.2738524079322815, 0.2977812588214874, 0.047857701778411865, 0.96755051612854, 0.9960846304893494, 0.14612847566604614, 0.3917054831981659, 0.002029562136158347, 0.08118247985839844, 0.3774985373020172, 0.6714704632759094, 0.3099094331264496, 0.9894812703132629, 0.14123539626598358, 0.16709540784358978, 0.013924617320299149, 0.2765031158924103, 0.06166616082191467, 0.2924169600009918, 0.023870771750807762, 0.023870771750807762, 0.9816896915435791, 0.9175547957420349, 0.9727576375007629, 0.9842228293418884, 0.9966949820518494, 0.9599184393882751, 0.9908028841018677, 0.14547502994537354, 0.032994337379932404, 0.13047760725021362, 0.13797631859779358, 0.0509912483394146, 0.01499742642045021, 0.07798662036657333, 0.020996397361159325, 0.3884333372116089, 0.021352818235754967, 0.7174546718597412, 0.05978788807988167, 0.042705636471509933, 0.14946971833705902, 0.0016189899761229753, 0.08742545545101166, 0.35293981432914734, 0.0971393957734108, 0.1716129332780838, 0.2881802022457123, 0.9891117215156555, 0.8300694227218628, 0.16800719499588013, 0.9973731637001038, 0.9945182204246521, 0.00506545789539814, 0.06087585166096687, 0.9334297180175781, 0.9980146288871765, 0.9832505583763123, 0.9987117052078247, 0.984089195728302, 0.8988952040672302, 0.9945558309555054, 0.973510205745697, 0.019867556169629097, 0.9930617809295654, 0.1482928991317749, 0.15653139352798462, 0.622006356716156, 0.07002720236778259, 0.17578476667404175, 0.8150020837783813, 0.005326810758560896, 0.03150405362248421, 0.9661243557929993, 0.9086451530456543, 0.08719322085380554, 0.0022945585660636425, 0.9449074864387512, 0.9889807105064392, 0.9964003562927246, 0.9952747821807861, 0.9911394119262695, 0.9974676966667175, 0.9772874116897583, 0.967779815196991, 0.9921018481254578, 0.9488258361816406, 0.9607438445091248, 0.7065313458442688, 0.09466148167848587, 0.004115716554224491, 0.0781986191868782, 0.07682671397924423, 0.028810016810894012, 0.009603339247405529, 0.6501204371452332, 0.31184637546539307, 0.010571063496172428, 0.007047375664114952, 0.007047375664114952, 0.014094751328229904, 0.9318786859512329, 0.5546129941940308, 0.32450762391090393, 0.1180027648806572, 0.9791157841682434, 0.8700862526893616, 0.07054752856492996, 0.05173485726118088, 0.8687412142753601, 0.12524797022342682, 0.002664850326254964, 0.8280287384986877, 0.06133546307682991, 0.07666932791471481, 0.030667731538414955, 0.9923632740974426, 0.9956082701683044, 0.9905176162719727, 0.9367649555206299, 0.0946880653500557, 0.8995366096496582, 0.5757728815078735, 0.05757728964090347, 0.34546372294425964, 0.026942947879433632, 0.15186025202274323, 0.4016948342323303, 0.4078182578086853, 0.011022115126252174, 0.9889264702796936, 0.9317285418510437, 0.03105761855840683, 0.03623388707637787, 0.9686467051506042, 0.012579827569425106, 0.9543182253837585, 0.9833133816719055, 0.9893067479133606, 0.04344245046377182, 0.14480817317962646, 0.539410412311554, 0.007240408565849066, 0.264274924993515, 0.986903190612793, 0.9822506904602051, 0.0548512265086174, 0.463188111782074, 0.47537729144096375, 0.99528568983078, 0.8354868292808533, 0.07101637870073318, 0.016709735617041588, 0.07519381493330002, 0.9727458953857422, 0.9735471606254578, 0.9975520372390747, 0.07548390328884125, 0.09667237102985382, 0.13772502541542053, 0.13110361993312836, 0.0013242790009826422, 0.24631589651107788, 0.1324279010295868, 0.0516468808054924, 0.1258065104484558, 0.9979973435401917, 0.04834546893835068, 0.9475711584091187, 0.9762248992919922, 0.9915027618408203, 0.09291205555200577, 0.8981499075889587, 0.9824272394180298, 0.9832164645195007, 0.08657874912023544, 0.057719167321920395, 0.30302563309669495, 0.014429791830480099, 0.12986811995506287, 0.3896043598651886, 0.2865152359008789, 0.30902716517448425, 0.14735069870948792, 0.016372300684452057, 0.04911689832806587, 0.18828144669532776, 0.44329848885536194, 0.27622056007385254, 0.025043001398444176, 0.07662411034107208, 0.11549682915210724, 0.011587060056626797, 0.008223075419664383, 0.005980418063700199, 0.0067279706709086895, 0.0022426568903028965, 0.02878076210618019, 0.09468179941177368, 0.20994660258293152, 0.008233199827373028, 0.03704940155148506, 0.06998220086097717, 0.02881620079278946, 0.5433911681175232, 0.7381643652915955, 0.05733315274119377, 0.035833220928907394, 0.0023888815194368362, 0.09316637367010117, 0.03822210431098938, 0.0262776967138052, 0.009555526077747345, 0.9772090911865234, 0.02471851371228695, 0.13904164731502533, 0.800261914730072, 0.03398795798420906, 0.9782276749610901, 0.977179765701294, 0.1019323542714119, 0.0611594133079052, 0.18687598407268524, 0.003397745080292225, 0.08494362980127335, 0.07814813405275345, 0.4824798107147217, 0.0032190876081585884, 0.061162661761045456, 0.7725810408592224, 0.16095437109470367, 0.9919273257255554, 0.9973459243774414, 0.0208987295627594, 0.28735750913619995, 0.31870561838150024, 0.3657277524471283, 0.3377431631088257, 0.02520471252501011, 0.02520471252501011, 0.10081885010004044, 0.14618733525276184, 0.06553225219249725, 0.01512282807379961, 0.10081885010004044, 0.18651488423347473, 0.9887722730636597, 0.9829314947128296, 0.8879059553146362, 0.11017810553312302, 0.033251527696847916, 0.9642943143844604, 0.9834945201873779, 0.9723895788192749, 0.987239420413971, 0.9810681939125061, 0.0246566329151392, 0.035615138709545135, 0.2164304554462433, 0.3314947485923767, 0.04246420040726662, 0.0123283164575696, 0.010958503931760788, 0.021917007863521576, 0.019177380949258804, 0.10684540867805481, 0.021917007863521576, 0.14930962026119232, 0.005479251965880394, 0.9831675291061401, 0.9855887293815613, 0.9258286952972412, 0.9755586981773376, 0.0007492684526368976, 0.3356722593307495, 0.2764800488948822, 0.039711229503154755, 0.0067434161901474, 0.3401678800582886, 0.06045350059866905, 0.898166298866272, 0.03454485908150673, 0.9714111089706421, 0.2632123827934265, 0.005212126299738884, 0.039090946316719055, 0.04430307447910309, 0.005212126299738884, 0.2580002546310425, 0.3856973648071289, 0.9712767004966736, 0.007449520751833916, 0.014899041503667831, 0.40227410197257996, 0.40724045038223267, 0.004966347012668848, 0.16388945281505585, 0.9252656698226929, 0.06688667833805084, 0.9848533868789673, 0.9761210083961487, 0.9274299144744873, 0.9826115369796753, 0.9090712070465088, 0.9906330108642578, 0.008465333841741085, 0.18905912339687347, 0.22574223577976227, 0.3809400200843811, 0.19470266997814178, 0.9921380877494812, 0.23428454995155334, 0.11714227497577667, 0.0035497660282999277, 0.6425076723098755, 0.9843864440917969, 0.8946641087532043, 0.992617130279541, 0.08993691205978394, 0.8813817501068115, 0.9543806910514832, 0.800072193145752, 0.19446198642253876, 0.004585034679621458, 0.8849116563796997, 0.1008707582950592, 0.009170069359242916, 0.8874019980430603, 0.9889132976531982, 0.73087477684021, 0.26577264070510864, 0.100196972489357, 0.5510833263397217, 0.1302560567855835, 0.1011989414691925, 0.06713196635246277, 0.0010019696783274412, 0.015029544942080975, 0.02404727227985859, 0.00801575742661953, 0.9619773626327515, 0.9972283244132996, 0.891958475112915, 0.06271582841873169, 0.034842126071453094, 0.9712907075881958, 0.994437038898468, 0.9889504313468933, 0.056921474635601044, 0.06830576807260513, 0.8652064204216003, 0.008538221009075642, 0.955223798751831, 0.8928366303443909, 0.0993850976228714, 0.006517055444419384, 0.9895316362380981, 0.9851743578910828, 0.10557889938354492, 0.011312025599181652, 0.7126575708389282, 0.07541350275278091, 0.04524810239672661, 0.04524810239672661, 0.3398836553096771, 0.5168094038963318, 0.1396782249212265, 0.9839906096458435, 0.9950078725814819, 0.9785316586494446, 0.9718128442764282, 0.0529974028468132, 0.1501592993736267, 0.0618303008377552, 0.2738199234008789, 0.4504779279232025, 0.09074054658412933, 0.8620352149009705, 0.015173223800957203, 0.2781757712364197, 0.38944607973098755, 0.10115482658147812, 0.03540418669581413, 0.030346447601914406, 0.020230963826179504, 0.010115481913089752, 0.1062125638127327, 0.015173223800957203, 0.05888350307941437, 0.940295934677124, 0.11973808705806732, 0.05507952347397804, 0.7759028077125549, 0.014368570409715176, 0.03352666646242142, 0.0027123314794152975, 0.09764393419027328, 0.8869324326515198, 0.008136994205415249, 0.9965724349021912, 0.0170575063675642, 0.2942419648170471, 0.6823002696037292, 0.3194640874862671, 0.6755880117416382, 0.8569188117980957, 0.9805316925048828, 0.022805746644735336, 0.11402872949838638, 0.012669858522713184, 0.24326129257678986, 0.608153223991394, 0.993723452091217, 0.041613541543483734, 0.9467080235481262, 0.1530529260635376, 0.1147896945476532, 0.6887381672859192, 0.3001972436904907, 0.6886877417564392, 0.7585873007774353, 0.2293403595685959, 0.21670588850975037, 0.18781177699565887, 0.15169411897659302, 0.0794588252902031, 0.15169411897659302, 0.09390588849782944, 0.10835294425487518, 0.14042598009109497, 0.08129925280809402, 0.014781681820750237, 0.02217252366244793, 0.7316932678222656, 0.9900678992271423, 0.9836721420288086, 0.9925287961959839, 0.08234014362096786, 0.8645714521408081, 0.3381989002227783, 0.657866358757019, 0.061176128685474396, 0.31566882133483887, 0.5187735557556152, 0.10399942100048065, 0.9767447710037231, 0.9919672608375549, 0.9982509613037109, 0.9670793414115906, 0.9835355281829834, 0.8092414736747742, 0.17179428040981293, 0.013562706299126148, 0.007340483833104372, 0.9212307333946228, 0.06606435030698776, 0.5513966679573059, 0.2852785885334015, 0.04257889464497566, 0.10751170665025711, 0.0010644723661243916, 0.002128944732248783, 0.007451306562870741, 0.0010644723661243916, 0.09608113020658493, 0.02745175175368786, 0.12353288382291794, 0.06862937659025192, 0.04117762669920921, 0.6382532119750977, 0.9972447156906128, 0.007848543114960194, 0.9902245402336121, 0.9342945218086243, 0.8897414803504944, 0.9649329781532288, 0.9965269565582275, 0.9942391514778137, 0.03496791794896126, 0.9581210017204285, 0.9862460494041443, 0.9911127686500549, 0.07838091999292374, 0.08327972888946533, 0.8229996562004089, 0.0048988074995577335, 0.38044050335884094, 0.39687421917915344, 0.011914443224668503, 0.0866878479719162, 0.017255401238799095, 0.0004108428838662803, 0.03081321530044079, 0.015201186761260033, 0.038619231432676315, 0.020952986553311348, 0.8129512667655945, 0.15331974625587463, 0.03387296944856644, 0.009201107546687126, 0.5635678768157959, 0.1897728443145752, 0.11156343668699265, 0.008050969801843166, 0.07360886037349701, 0.016101939603686333, 0.006900831125676632, 0.008050969801843166, 0.01265152357518673, 0.9900333881378174, 0.8579770922660828, 0.04120229184627533, 0.043625954538583755, 0.05574427545070648, 0.8911495208740234, 0.03211349621415138, 0.07225536555051804, 0.8348121047019958, 0.06183793395757675, 0.04416995123028755, 0.030918966978788376, 0.004416995216161013, 0.0265019703656435, 0.9902920126914978, 0.13233345746994019, 0.8601675033569336, 0.0038921607192605734, 0.970798909664154, 0.9244268536567688, 0.04164084792137146, 0.024984508752822876, 0.14056511223316193, 0.8082494139671326, 0.892329752445221, 0.10319460183382034, 0.042413774877786636, 0.9472410082817078, 0.195403590798378, 0.47010138630867004, 0.05852667987346649, 0.06135861575603485, 0.0925099104642868, 0.09439787268638611, 0.028319360688328743, 0.9975610971450806, 0.9909604787826538, 0.9958012700080872, 0.6376423239707947, 0.35928070545196533, 0.9484876394271851, 0.16163486242294312, 0.07758473604917526, 0.7176588177680969, 0.042025063186883926, 0.9797266125679016, 0.9893198013305664, 0.5014749765396118, 0.006545356009155512, 0.4919086694717407, 0.9918504357337952, 0.9817883372306824, 0.013783205300569534, 0.004240986425429583, 0.9853485226631165, 0.22456379234790802, 0.3768461048603058, 0.167019322514534, 0.07649204134941101, 0.08140437304973602, 0.004210570827126503, 0.028070474043488503, 0.02947399765253067, 0.0014035237254574895, 0.009824666194617748, 0.9822977185249329, 0.9921528697013855, 0.335256427526474, 0.13323739171028137, 0.05537138506770134, 0.06272539496421814, 0.011679901741445065, 0.0804615467786789, 0.03720264881849289, 0.11550124734640121, 0.003893300425261259, 0.03374193608760834, 0.0064888340421020985, 0.0363374724984169, 0.039798181504011154, 0.022927213460206985, 0.0004325889458414167, 0.025090157985687256, 0.9339784979820251, 0.9737465977668762, 0.8751748204231262, 0.11807914078235626, 0.08626846969127655, 0.1455780416727066, 0.7440655827522278, 0.021567117422819138, 0.9689086079597473, 0.052692960947752, 0.0761120542883873, 0.8723612427711487, 0.9663695096969604, 0.9835799336433411, 0.9822214245796204, 0.012329138815402985, 0.9556213021278381, 0.9862823486328125, 0.996505618095398, 0.2795388996601105, 0.03494236245751381, 0.20965416729450226, 0.05047230049967766, 0.4231908321380615, 0.972041666507721, 0.9887538552284241, 0.9364088773727417, 0.9261356592178345, 0.07254326343536377, 0.9921754002571106, 0.9879957437515259, 0.18965961039066315, 0.17701563239097595, 0.632198691368103, 0.882563054561615, 0.9633764028549194, 0.34774211049079895, 0.6182081699371338, 0.9769813418388367, 0.03481312841176987, 0.954553484916687, 0.010107036679983139, 0.06849104911088943, 0.9311521053314209, 0.9680783748626709, 0.960078239440918, 0.9772605299949646, 0.8969793319702148, 0.9837123155593872, 0.989509642124176, 0.9829182624816895, 0.9844669699668884, 0.9945231080055237, 0.9784535765647888, 0.11087358742952347, 0.8869886994361877, 0.8704578876495361, 0.12089692801237106, 0.7152235507965088, 0.08736684918403625, 0.01925032213330269, 0.03850064426660538, 0.13475225865840912, 0.002961588092148304, 0.961214005947113, 0.9677879214286804, 0.030835334211587906, 0.15417666733264923, 0.5488689541816711, 0.018501199781894684, 0.2405156046152115, 0.9076762795448303, 0.823478639125824, 0.07628586143255234, 0.03882405534386635, 0.022477082908153534, 0.002724495017901063, 0.004767866339534521, 0.03065056912600994, 0.8399113416671753, 0.0631147250533104, 0.05340476706624031, 0.014564936980605125, 0.019419915974140167, 0.4377415180206299, 0.21982485055923462, 0.027478106319904327, 0.054574575275182724, 0.11983507871627808, 0.0839608833193779, 0.020608579739928246, 0.03434763476252556, 0.0015265615656971931, 0.9871904850006104, 0.011009185574948788, 0.31376177072525024, 0.31061628460884094, 0.35701215267181396, 0.007077333517372608, 0.9945539236068726, 0.8329775929450989, 0.16473065316677094, 0.9938801527023315, 0.702440619468689, 0.2948516309261322, 0.9868054389953613, 0.005515017081052065, 0.7721023559570312, 0.027575084939599037, 0.03860512003302574, 0.0992703065276146, 0.052392661571502686, 0.098098024725914, 0.22162887454032898, 0.1065756306052208, 0.016955213621258736, 0.0775095522403717, 0.10052019357681274, 0.32457125186920166, 0.009688694030046463, 0.012110866606235504, 0.02906608022749424, 0.0024221735075116158, 0.08391953259706497, 0.8485197424888611, 0.04662196338176727, 0.013986589387059212, 0.8584215044975281, 0.12681226432323456, 0.008938776329159737, 0.05959184467792511, 0.9296327829360962, 0.9152252078056335, 0.9905945658683777, 0.9819223880767822, 0.9808392524719238, 0.2506560981273651, 0.19601070880889893, 0.03326242044568062, 0.5096278190612793, 0.009503548964858055, 0.9942312240600586, 0.9841879606246948, 0.9899324178695679, 0.12987476587295532, 0.867996335029602, 0.9919887185096741, 0.33268675208091736, 0.05409540608525276, 0.608573317527771, 0.9022797346115112, 0.06089004501700401, 0.033212751150131226, 0.9877800941467285, 0.2838394045829773, 0.06458143889904022, 0.23121748864650726, 0.05182461068034172, 0.26709607243537903, 0.016743335872888565, 0.01833793893456459, 0.004783810116350651, 0.02391905151307583, 0.03906778246164322, 0.9941480159759521, 0.9476277828216553, 0.23795118927955627, 0.7138535380363464, 0.9905461668968201, 0.13303010165691376, 0.04359809681773186, 0.0033536998089402914, 0.31412988901138306, 0.1117899939417839, 0.025711698457598686, 0.005589499603956938, 0.06819190084934235, 0.006707399617880583, 0.16768498718738556, 0.006707399617880583, 0.1140257939696312, 0.14553579688072205, 0.14553579688072205, 0.16245855391025543, 0.050768300890922546, 0.4941447973251343, 0.36646053194999695, 0.5568562150001526, 0.016378125175833702, 0.057323433458805084, 0.9978066682815552, 0.9750292897224426, 0.014130859635770321, 0.9402405619621277, 0.05714169144630432, 0.43265172839164734, 0.0494915246963501, 0.01596500724554062, 0.03991251811385155, 0.21552760899066925, 0.009579004719853401, 0.2362821102142334, 0.9788287281990051, 0.992882251739502, 0.9891824722290039, 0.9705649018287659, 0.013669927604496479, 0.990702211856842, 0.9698602557182312, 0.9771305322647095, 0.09208521991968155, 0.4511331021785736, 0.10982640832662582, 0.08786112815141678, 0.07434403151273727, 0.016051551327109337, 0.061671752482652664, 0.006758548319339752, 0.03548237681388855, 0.06082693487405777, 0.004224092699587345, 0.1344660073518753, 0.1344660073518753, 0.1344660073518753, 0.5714805126190186, 0.9826769232749939, 0.9662725329399109, 0.026115475222468376, 0.974051833152771, 0.9621023535728455, 0.9864802956581116, 0.9370166063308716, 0.008454284630715847, 0.039453331381082535, 0.01409047469496727, 0.774982213973999, 0.021963059902191162, 0.20080511271953583, 0.9323927164077759, 0.9676584005355835, 0.02360142581164837, 0.9836989641189575, 0.9726349115371704, 0.9923000931739807, 0.9807258248329163, 0.2730857729911804, 0.27536147832870483, 0.13881859183311462, 0.027308575809001923, 0.021619290113449097, 0.2628450393676758, 0.001240612706169486, 0.21896813809871674, 0.12716279923915863, 0.05024481192231178, 0.0552072636783123, 0.037218380719423294, 0.40195849537849426, 0.035357460379600525, 0.026052866131067276, 0.04590266942977905, 0.000620306353084743, 0.9737411141395569, 0.9803299307823181, 0.9833627939224243, 0.9270763397216797, 0.9833173155784607, 0.9815608859062195, 0.2218637615442276, 0.09996059536933899, 0.10727478563785553, 0.5680687427520752, 0.3778371512889862, 0.6187767386436462, 0.9932354092597961, 0.9736565351486206, 0.09369605034589767, 0.06126280501484871, 0.007207388523966074, 0.02162216603755951, 0.4234340786933899, 0.0018018471309915185, 0.34235095977783203, 0.00900923553854227, 0.03423509746789932, 0.011513118632137775, 0.6159518361091614, 0.15542709827423096, 0.09498322755098343, 0.12088774889707565, 0.03399839997291565, 0.9647045731544495, 0.9791857004165649, 0.9861931800842285, 0.9794010519981384, 0.0715634673833847, 0.828091561794281, 0.09201017767190933, 0.07161273062229156, 0.9230085015296936, 0.8476125001907349, 0.14548572897911072, 0.9858841896057129, 0.01711149327456951, 0.9804885983467102, 0.0027882312424480915, 0.9926103353500366, 0.9940332174301147, 0.9800233244895935, 0.992405891418457, 0.974185049533844, 0.010714732110500336, 0.9857553839683533, 0.999115526676178, 0.40703678131103516, 0.36739036440849304, 0.2246631681919098, 0.4648319482803345, 0.20131805539131165, 0.33225664496421814, 0.014238501898944378, 0.00533943809568882, 0.028477003797888756, 0.03737606853246689, 0.023137565702199936, 0.2758709788322449, 0.2135775238275528, 0.40401747822761536, 0.9787175059318542, 0.9969239830970764, 0.991888701915741, 0.275310754776001, 0.7177744507789612, 0.9936200380325317, 0.9828282594680786, 0.9708948135375977, 0.9866944551467896, 0.04883069172501564, 0.005425631999969482, 0.06510758399963379, 0.7053321599960327, 0.059681955724954605, 0.10851264744997025, 0.9895254969596863, 0.9877714514732361, 0.9930069446563721, 0.01963997446000576, 0.9623587727546692, 0.9970776438713074, 0.08481372147798538, 0.9112038612365723, 0.973409116268158, 0.9275069832801819, 0.007246148306876421, 0.050723038613796234, 0.014492296613752842, 0.03685197979211807, 0.09476222842931747, 0.2000536024570465, 0.637012779712677, 0.02895512618124485, 0.8982750177383423, 0.09332727640867233, 0.9186660647392273, 0.23290425539016724, 0.7486208081245422, 0.4634658694267273, 0.25292304158210754, 0.02771015092730522, 0.021190116181969643, 0.17848597466945648, 0.02879682369530201, 0.027438484132289886, 0.9946523904800415, 0.9904835224151611, 0.2775253355503082, 0.027752533555030823, 0.6660608053207397, 0.9633174538612366, 0.2368496209383011, 0.09550388157367706, 0.6647070050239563, 0.985218346118927, 0.9217610955238342, 0.45589664578437805, 0.040164001286029816, 0.03593621402978897, 0.008455579169094563, 0.022548211738467216, 0.07116779685020447, 0.005637052934616804, 0.23957474529743195, 0.021843580529093742, 0.024662107229232788, 0.01620652712881565, 0.04439179226756096, 0.007750947959721088, 0.005637052934616804, 0.9786505699157715, 0.9901852011680603, 0.9974313974380493, 0.05311190336942673, 0.9453918933868408, 0.9793713092803955, 0.015079142525792122, 0.9801442623138428, 0.9857903718948364, 0.9873387217521667, 0.010231489315629005, 0.9856628775596619, 0.9881318211555481, 0.3631944954395294, 0.0636945515871048, 0.051497723907232285, 0.04607691243290901, 0.005420813336968422, 0.14229634404182434, 0.014907236211001873, 0.008131220005452633, 0.2927239239215851, 0.013552033342421055, 0.3575547933578491, 0.6257208585739136, 0.012769813649356365, 0.1944872885942459, 0.7929097414016724, 0.938201367855072, 0.9258851408958435, 0.9801164865493774, 0.9914016723632812, 0.23649364709854126, 0.38535258173942566, 0.008403327316045761, 0.09123612940311432, 0.2677060067653656, 0.009603803046047688, 0.4685302972793579, 0.23485822975635529, 0.07686269283294678, 0.0671362429857254, 0.12739279866218567, 0.006642454769462347, 0.0056935325264930725, 0.0007116915658116341, 0.012098756618797779, 0.06934882700443268, 0.05455440655350685, 0.2579776346683502, 0.1507181078195572, 0.043458595871925354, 0.01202046312391758, 0.0841432437300682, 0.002773952903226018, 0.007397207897156477, 0.29773762822151184, 0.019417671486735344, 0.10678759962320328, 0.009285878390073776, 0.1833961009979248, 0.09982319176197052, 0.07660849392414093, 0.039464984089136124, 0.05803673714399338, 0.07196555286645889, 0.24839724600315094, 0.10446613281965256, 0.22269676625728607, 0.7720154523849487, 0.9617085456848145, 0.05715079605579376, 0.02615375444293022, 0.24410170316696167, 0.039714958518743515, 0.016467178240418434, 0.0058119455352425575, 0.042620934545993805, 0.5172631144523621, 0.04455824941396713, 0.006780602969229221, 0.6288436651229858, 0.19486622512340546, 0.0056482963263988495, 0.07342785596847534, 0.04989328607916832, 0.00941382721066475, 0.011296592652797699, 0.024475950747728348, 0.0009413827210664749, 0.9778199195861816, 0.9948887825012207, 0.9827829003334045, 0.47535520792007446, 0.2380852848291397, 0.09295110404491425, 0.017937932163476944, 0.007338244933634996, 0.005707523785531521, 0.0024460817221552134, 0.003261442296206951, 0.03506050258874893, 0.007338244933634996, 0.030168339610099792, 0.08153605461120605, 0.003261442296206951, 0.9950541853904724, 0.28239408135414124, 0.04706568270921707, 0.03322283551096916, 0.049834251403808594, 0.04152854159474373, 0.43466541171073914, 0.08028851449489594, 0.03045426495373249, 0.986704409122467, 0.030046304687857628, 0.6384839415550232, 0.33050933480262756, 0.3741033375263214, 0.11417439579963684, 0.5052824020385742, 0.004858484957367182, 0.17614299058914185, 0.008807149715721607, 0.12770366668701172, 0.12770366668701172, 0.04843932390213013, 0.5108146667480469, 0.9813560247421265, 0.9933041334152222, 0.9443902373313904, 0.97941654920578, 0.9801995158195496, 0.9916640520095825, 0.8577806353569031, 0.929434061050415, 0.08005969226360321, 0.015060734003782272, 0.2774345576763153, 0.026950785890221596, 0.6000513434410095, 0.9853091239929199, 0.01586529240012169, 0.9783596992492676, 0.37566423416137695, 0.3502815067768097, 0.07522514462471008, 0.08630124479532242, 0.06830258667469025, 0.01615263894200325, 0.015229631215333939, 0.004615039564669132, 0.007845567539334297, 0.970514714717865, 0.9857467412948608, 0.18328288197517395, 0.42985767126083374, 0.0958169475197792, 0.05801760032773018, 0.018020618706941605, 0.05450138449668884, 0.029887855052947998, 0.007032436318695545, 0.018020618706941605, 0.052743274718523026, 0.023294946178793907, 0.02900880016386509, 0.9844000339508057, 0.11636354774236679, 0.012648211792111397, 0.08347819745540619, 0.020237138494849205, 0.015177854336798191, 0.3870352804660797, 0.23019744455814362, 0.1315414011478424, 0.0025296423118561506, 0.733430802822113, 0.11947289109230042, 0.023230841383337975, 0.05309906601905823, 0.06637383252382278, 0.9921290874481201, 0.9902178645133972, 0.994384229183197, 0.2609274387359619, 0.7278502583503723, 0.9778282642364502, 0.21138595044612885, 0.47791606187820435, 0.009190693497657776, 0.009190693497657776, 0.29410219192504883, 0.994775116443634, 0.6943972706794739, 0.19575390219688416, 0.007935969159007072, 0.05951976776123047, 0.0026453230530023575, 0.03835718333721161, 0.29406338930130005, 0.6172901391983032, 0.013366518542170525, 0.023087622597813606, 0.0012151380069553852, 0.049820657819509506, 0.04771649092435837, 0.9513475298881531, 0.9965846538543701, 0.9796302914619446, 0.012494558468461037, 0.028112756088376045, 0.3592185378074646, 0.4872877597808838, 0.11245102435350418, 0.04548635706305504, 0.1084674671292305, 0.8222533464431763, 0.006997901014983654, 0.003498950507491827, 0.012246326543390751, 0.9866410493850708, 0.9782001972198486, 0.9935566782951355, 0.003196723060682416, 0.24135258793830872, 0.21418043971061707, 0.051147568970918655, 0.0911066085100174, 0.3212706744670868, 0.07672135531902313, 0.9807116389274597, 0.9908137917518616, 0.23378311097621918, 0.7681444883346558, 0.9605767726898193, 0.9365031719207764, 0.9675155878067017, 0.3751831352710724, 0.4273558259010315, 0.04219851270318031, 0.08439702540636063, 0.04143126681447029, 0.006905210670083761, 0.002301736967638135, 0.014577667228877544, 0.005370719358325005, 0.0007672456558793783, 0.03556909039616585, 0.0508129820227623, 0.4801827073097229, 0.08384142071008682, 0.2134145349264145, 0.13719505071640015, 0.9956997632980347, 0.21745455265045166, 0.025090908631682396, 0.06690908968448639, 0.674666702747345, 0.013939393684267998, 0.9862724542617798, 0.9928544163703918, 0.9908942580223083, 0.11683500558137894, 0.06372818350791931, 0.8125343918800354, 0.9926995038986206, 0.9934295415878296, 0.12921620905399323, 0.09493435174226761, 0.3876486122608185, 0.3771003484725952, 0.0079111959785223, 0.010406114161014557, 0.9851121306419373, 0.8701149225234985, 0.026876136660575867, 0.06383082270622253, 0.026876136660575867, 0.011758309789001942, 0.9734138250350952, 0.024267934262752533, 0.05202856659889221, 0.026014283299446106, 0.8844856023788452, 0.026014283299446106, 0.993162989616394, 0.01194076705724001, 0.04179268702864647, 0.943320631980896, 0.8801026344299316, 0.11637721210718155, 0.9947038888931274, 0.9626322984695435, 0.9778010845184326, 0.9479103684425354, 0.04769360274076462, 0.9932745695114136, 0.997294008731842, 0.9971332550048828, 0.46856993436813354, 0.2929690480232239, 0.03611328825354576, 0.07222657650709152, 0.08622048050165176, 0.011285402812063694, 0.013993899337947369, 0.01850806176662445, 0.0004514161264523864, 0.9463157057762146, 0.03152881935238838, 0.8512781262397766, 0.11350375413894653, 0.22578245401382446, 0.7526081800460815, 0.07285097241401672, 0.47665348649024963, 0.027058931067585945, 0.10546045005321503, 0.0506487712264061, 0.01040728110820055, 0.05342404544353485, 0.022896019741892815, 0.04093530774116516, 0.01457019429653883, 0.12280592322349548, 0.002081456361338496, 0.9822306036949158, 0.011624030768871307, 0.979590892791748, 0.08319081366062164, 0.03310655057430267, 0.1561949998140335, 0.01527994591742754, 0.001697771716862917, 0.0008488858584314585, 0.03310655057430267, 0.029711006209254265, 0.2606079578399658, 0.11714625358581543, 0.09337744861841202, 0.01612883247435093, 0.15959054231643677, 0.9885969758033752, 0.9986914992332458, 0.12447119504213333, 0.409199059009552, 0.1353624165058136, 0.07157093286514282, 0.03267368674278259, 0.1353624165058136, 0.09179750829935074, 0.41384607553482056, 0.10611437261104584, 0.47751468420028687, 0.9972150921821594, 0.9906463027000427, 0.9613333940505981, 0.25320661067962646, 0.14918042719364166, 0.1508951336145401, 0.19547779858112335, 0.23663102090358734, 0.001714717480354011, 0.00914516020566225, 0.0011431450257077813, 0.0005715725128538907, 0.001714717480354011, 0.2379317581653595, 0.044612202793359756, 0.12788832187652588, 0.04163805767893791, 0.04907342419028282, 0.4907342493534088, 0.005948293954133987, 0.051317017525434494, 0.21553148329257965, 0.020526807755231857, 0.05473815277218819, 0.6431732773780823, 0.006842269096523523, 0.03543981537222862, 0.9568750262260437, 0.9884892106056213, 0.9623404741287231, 0.26976341009140015, 0.7268624901771545, 0.9815292954444885, 0.9904725551605225, 0.9972598552703857, 0.12252011895179749, 0.07709130644798279, 0.1369747370481491, 0.16794893145561218, 0.04818207025527954, 0.04336386173963547, 0.04336386173963547, 0.018584512174129486, 0.09223424643278122, 0.09911739826202393, 0.1493644118309021, 0.9200069904327393, 0.020909249782562256, 0.054364047944545746, 0.9752510190010071, 0.051420290023088455, 0.061704348772764206, 0.028281159698963165, 0.07455942034721375, 0.7121710181236267, 0.03342318907380104, 0.0025710146874189377, 0.03599420562386513, 0.2767488956451416, 0.7044517397880554, 0.16713514924049377, 0.11142343282699585, 0.21141882240772247, 0.07428228855133057, 0.032855626195669174, 0.025713099166750908, 0.02714160457253456, 0.004285516683012247, 0.008571033366024494, 0.042855165898799896, 0.29284363985061646, 0.9897446036338806, 0.9929825663566589, 0.9862767457962036, 0.16049103438854218, 0.08083992451429367, 0.10818284004926682, 0.23419801890850067, 0.08916167914867401, 0.0035664672031998634, 0.2496527135372162, 0.017832336947321892, 0.0011888224398717284, 0.011888224631547928, 0.002377644879743457, 0.03923114016652107, 0.9822441339492798, 0.14249949157238007, 0.7837471961975098, 0.9833153486251831, 0.9912371635437012, 0.18196624517440796, 0.8087388873100281, 0.9828199744224548, 0.037859804928302765, 0.9616391062736511, 0.9102053046226501, 0.9844973683357239, 0.6899638175964355, 0.29569879174232483, 0.3193511664867401, 0.6387023329734802, 0.26306864619255066, 0.011274370364844799, 0.699010968208313, 0.022548740729689598, 0.9899313449859619, 0.9845542311668396, 0.9830149412155151, 0.9251141548156738, 0.9849976897239685, 0.9768742322921753, 0.9788687825202942, 0.9421795010566711, 0.13338269293308258, 0.8002961874008179, 0.9855736494064331, 0.9260697960853577, 0.9880495071411133, 0.9859590530395508, 0.880402684211731, 0.9869551062583923, 0.9939274191856384, 0.07553775608539581, 0.051365673542022705, 0.04230114445090294, 0.13898946344852448, 0.10877436399459839, 0.5650224089622498, 0.015107550658285618, 0.9220041632652283, 0.07231405377388, 0.10505776107311249, 0.07128919661045074, 0.0938015729188919, 0.20261140167713165, 0.5215367674827576, 0.9941113591194153, 0.2778622806072235, 0.41495630145072937, 0.003214935539290309, 0.07532134652137756, 0.1325012743473053, 0.0034445736091583967, 0.013319018296897411, 0.07945483177900314, 0.07630852609872818, 0.048752669245004654, 0.08690693229436874, 0.07630852609872818, 0.07630852609872818, 0.042393624782562256, 0.025436175987124443, 0.021196812391281128, 0.5447580814361572, 0.2076328843832016, 0.7613205909729004, 0.18321983516216278, 0.4014669954776764, 0.004041614010930061, 0.005388818681240082, 0.28156578540802, 0.03906893730163574, 0.03502732142806053, 0.03368011862039566, 0.009430432692170143, 0.005388818681240082, 0.025457307696342468, 0.7382619380950928, 0.23548009991645813, 0.9903371930122375, 0.007672176696360111, 0.4929373264312744, 0.10549242794513702, 0.3855268657207489, 0.007672176696360111, 0.9956773519515991, 0.02468544989824295, 0.9627325534820557, 0.9381219744682312, 0.9213831424713135, 0.9555359482765198, 0.9740257859230042, 0.9767724871635437, 0.9916935563087463, 0.5769214630126953, 0.0230768583714962, 0.05538446083664894, 0.3415375053882599, 0.9925643801689148, 0.9766845107078552, 0.984031081199646, 0.046301912516355515, 0.1273302584886551, 0.8102834820747375, 0.9935579895973206, 0.9897254109382629, 0.9530653357505798, 0.03630725294351578, 0.03562368452548981, 0.03562368452548981, 0.029146650806069374, 0.06638959795236588, 0.6493226289749146, 0.18297620117664337, 0.04854303225874901, 0.8786288499832153, 0.019417213276028633, 0.04854303225874901, 0.07964829355478287, 0.9176868200302124, 0.9975206851959229, 0.039040446281433105, 0.10038971900939941, 0.05019485950469971, 0.7808089256286621, 0.027886033058166504, 0.9844314455986023, 0.9953579306602478, 0.039454806596040726, 0.12854629755020142, 0.013363724574446678, 0.005727310664951801, 0.4460938572883606, 0.02163650654256344, 0.31054750084877014, 0.0006363678257912397, 0.0012727356515824795, 0.03245475888252258, 0.9630330204963684, 0.28633007407188416, 0.4706595838069916, 0.06265746802091599, 0.07577182352542877, 0.015300079248845577, 0.02841443382203579, 0.045900240540504456, 0.002914300886914134, 0.0036428761668503284, 0.005100026726722717, 0.0021857256069779396, 0.25888150930404663, 0.08441787958145142, 0.019697505980730057, 0.4952515661716461, 0.016883576288819313, 0.0225114356726408, 0.09848753362894058, 0.2139328271150589, 0.061860091984272, 0.4227106273174286, 0.1494952291250229, 0.1520727276802063, 0.10212350636720657, 0.8935806751251221, 0.1916586011648178, 0.3292295038700104, 0.008230737410485744, 0.0070549179799854755, 0.13051597774028778, 0.05526352301239967, 0.27161434292793274, 0.0070549179799854755, 0.11990254372358322, 0.15107719600200653, 0.11510644108057022, 0.014388305135071278, 0.05995127186179161, 0.004796101711690426, 0.009592203423380852, 0.4604257643222809, 0.011990253813564777, 0.04556296393275261, 0.290045827627182, 0.04417916759848595, 0.0019208333687856793, 0.028812501579523087, 0.04033750295639038, 0.5647250413894653, 0.017287500202655792, 0.01152500044554472, 0.022232303395867348, 0.05246823653578758, 0.41707801818847656, 0.11827585101127625, 0.10137930512428284, 0.05157894268631935, 0.0417967289686203, 0.02756805717945099, 0.030235933139920235, 0.008892921730875969, 0.12627948820590973, 0.988766610622406, 0.9346395134925842, 0.18737389147281647, 0.39816954731941223, 0.39816954731941223, 0.03391708433628082, 0.10175125300884247, 0.8479270935058594, 0.1953294277191162, 0.07157108932733536, 0.7321125864982605, 0.17090953886508942, 0.08184400200843811, 0.0890655368566513, 0.5873510837554932, 0.07221529632806778, 0.9849438071250916, 0.04971735551953316, 0.011226499453186989, 0.15235963463783264, 0.6463256478309631, 0.05452871322631836, 0.08339685201644897, 0.0016037856694310904, 0.03895285353064537, 0.956508994102478, 0.9969365000724792, 0.9599276185035706, 0.014768117107450962, 0.9698526859283447, 0.7067152857780457, 0.28898075222969055, 0.05058745667338371, 0.6256869435310364, 0.05324995145201683, 0.2715747654438019, 0.21412967145442963, 0.2510075569152832, 0.17368295788764954, 0.02200777269899845, 0.287885457277298, 0.005353241693228483, 0.04579995945096016, 0.9687957763671875, 0.02306656539440155, 0.9435602426528931, 0.992763340473175, 0.490131139755249, 0.0100388303399086, 0.11101765930652618, 0.031297530978918076, 0.08090116828680038, 0.2763631045818329, 0.9906708598136902, 0.003291916800662875, 0.6880106329917908, 0.02468937635421753, 0.05102470889687538, 0.16788776218891144, 0.054316628724336624, 0.004937875084578991, 0.004937875084578991, 0.9176010489463806, 0.9652902483940125, 0.9906121492385864, 0.04516690596938133, 0.050812769681215286, 0.8976922631263733, 0.9900985360145569, 0.9829298853874207, 0.9749294519424438, 0.15572422742843628, 0.2774523198604584, 0.10747165232896805, 0.4123402237892151, 0.04496262967586517, 0.1789076030254364, 0.7871934771537781, 0.9913575649261475, 0.9456527233123779, 0.9577732682228088, 0.9865913391113281, 0.9946260452270508, 0.10706819593906403, 0.6963785290718079, 0.013057096861302853, 0.05832169950008392, 0.08878825604915619, 0.02872561290860176, 0.006963785272091627, 0.9087981581687927, 0.30473390221595764, 0.6856512427330017, 0.23735764622688293, 0.7485895156860352, 0.9365029335021973, 0.059776779264211655, 0.1730457991361618, 0.2444615364074707, 0.04394813999533653, 0.49441659450531006, 0.041201382875442505, 0.2238304615020752, 0.03534165397286415, 0.6538205742835999, 0.08246385306119919, 0.29127389192581177, 0.6796390414237976, 0.14886616170406342, 0.35060828924179077, 0.10005758702754974, 0.02196386083960533, 0.05938376858830452, 0.001626952551305294, 0.08460153639316559, 0.07890719920396805, 0.15374702215194702, 0.01868470571935177, 0.8034423589706421, 0.004671176429837942, 0.051382943987846375, 0.12145058810710907, 0.5926491022109985, 0.2840583920478821, 0.0006455872789956629, 0.04260876029729843, 0.046482283622026443, 0.012266158126294613, 0.021304380148649216, 0.9875449538230896, 0.22048965096473694, 0.6509065628051758, 0.01848416216671467, 0.030366837978363037, 0.013202973641455173, 0.022445054724812508, 0.038288623094558716, 0.003960892092436552, 0.9470140337944031, 0.04688188061118126, 0.023655105382204056, 0.9698593020439148, 0.08160378783941269, 0.5549057126045227, 0.3427358865737915, 0.9405326843261719, 0.9907538890838623, 0.9852325320243835, 0.4336804449558258, 0.016234027221798897, 0.027829762548208237, 0.5218080282211304, 0.19433778524398804, 0.8061419129371643, 0.01662411540746689, 0.02770685963332653, 0.9475746154785156, 0.09094168245792389, 0.11822418868541718, 0.7820984721183777, 0.7288769483566284, 0.15586048364639282, 0.015280438587069511, 0.0015280438819900155, 0.01986457034945488, 0.003056087763980031, 0.025976747274398804, 0.04736936092376709, 0.19955427944660187, 0.025475014001131058, 0.24625848233699799, 0.04245835915207863, 0.4840252697467804, 0.9508174657821655, 0.04571237787604332, 0.28315678238868713, 0.00713840639218688, 0.042830437421798706, 0.6614923477172852, 0.0023794688750058413, 0.21167811751365662, 0.06047946214675903, 0.7197056412696838, 0.051578231155872345, 0.11027070134878159, 0.003557119518518448, 0.31124794483184814, 0.35749050974845886, 0.02312127687036991, 0.13339197635650635, 0.00889279879629612, 0.9496262669563293, 0.034531865268945694, 0.9276610612869263, 0.03567926958203316, 0.03567926958203316, 0.09508263319730759, 0.8874378800392151, 0.9423208236694336, 0.9847140312194824, 0.973939836025238, 0.13561470806598663, 0.1044900193810463, 0.017785534262657166, 0.09782043844461441, 0.0022231917828321457, 0.024455109611153603, 0.017785534262657166, 0.1044900193810463, 0.04668702930212021, 0.43574559688568115, 0.013339150696992874, 0.9930285215377808, 0.9206384420394897, 0.997097373008728, 0.9778801798820496, 0.9418054819107056, 0.04913767799735069, 0.9773468971252441, 0.4552004337310791, 0.21228846907615662, 0.006747554987668991, 0.06747554987668991, 0.03114256262779236, 0.08304683119058609, 0.039966288954019547, 0.0025952134747058153, 0.043080542236566544, 0.005190426949411631, 0.05086618289351463, 0.0020761708728969097, 0.027549587190151215, 0.061456769704818726, 0.8646332025527954, 0.0233111884444952, 0.02119199000298977, 0.9961631894111633, 0.9794456958770752, 0.9852340221405029, 0.1337524652481079, 0.03821498900651932, 0.22292077541351318, 0.07006081193685532, 0.19107495248317719, 0.127383291721344, 0.031845822930336, 0.17833662033081055, 0.9942394495010376, 0.06065293774008751, 0.007581617217510939, 0.03790808469057083, 0.15921396017074585, 0.7202536463737488, 0.9625133275985718, 0.9945855140686035, 0.9820380210876465, 0.22525259852409363, 0.11966544389724731, 0.03754210099577904, 0.00469276262447238, 0.6100591421127319, 0.026559242978692055, 0.3114674985408783, 0.05553296208381653, 0.10140801966190338, 0.4901387691497803, 0.012072383426129818, 0.9962242841720581, 0.9180011749267578, 0.07742178440093994, 0.9203234314918518, 0.9819802045822144, 0.18632306158542633, 0.19874459505081177, 0.39748919010162354, 0.21530663967132568, 0.39374369382858276, 0.18625880777835846, 0.000530651886947453, 0.08225104212760925, 0.007959778420627117, 0.010613037273287773, 0.06261692196130753, 0.001591955660842359, 0.25418224930763245, 0.9664909243583679, 0.031177127733826637, 0.9799464344978333, 0.9729346632957458, 0.9498592019081116, 0.03275376558303833, 0.017849547788500786, 0.9772627949714661, 0.9930053949356079, 0.32932621240615845, 0.1288667768239975, 0.51546710729599, 0.30289357900619507, 0.1884361058473587, 0.013958229683339596, 0.07118697464466095, 0.011166583746671677, 0.16610293090343475, 0.030708106234669685, 0.19960269331932068, 0.013958229683339596, 0.988868236541748, 0.9733142852783203, 0.9358519315719604, 0.5680283308029175, 0.02383335493505001, 0.16087515652179718, 0.03575003519654274, 0.21052797138690948, 0.9958886504173279, 0.992825984954834, 0.9883775115013123, 0.6656715869903564, 0.3283979892730713, 0.6861705183982849, 0.3004798889160156, 0.011211936362087727, 0.9833569526672363, 0.9912660121917725, 0.9216851592063904, 0.9987186789512634, 0.9799588322639465, 0.9979367256164551, 0.3340083956718445, 0.10632098466157913, 0.04012112691998482, 0.0702119693160057, 0.053160492330789566, 0.030090846121311188, 0.004012112971395254, 0.13841788470745087, 0.02006056345999241, 0.018054507672786713, 0.01705147884786129, 0.10230887681245804, 0.06519683450460434, 0.7593398094177246, 0.23418891429901123, 0.007096633780747652, 0.001994619844481349, 0.15956959128379822, 0.03390853852033615, 0.005983859766274691, 0.007978479377925396, 0.09175251424312592, 0.023935439065098763, 0.5545043349266052, 0.11967719346284866, 0.9936673641204834, 0.9777876734733582, 0.016433406621217728, 0.6497703194618225, 0.029094194993376732, 0.22305549681186676, 0.09504103660583496, 0.26910507678985596, 0.5211241245269775, 0.034172073006629944, 0.03630782663822174, 0.10358409583568573, 0.0021357545629143715, 0.0309684406965971, 0.0032036318443715572, 0.9510529637336731, 0.940752387046814, 0.09998106211423874, 0.8498390316963196, 0.013485116884112358, 0.3182487487792969, 0.024273209273815155, 0.08630474656820297, 0.4989493191242218, 0.056637488305568695, 0.8766612410545349, 0.2249186486005783, 0.08801164478063583, 0.019558142870664597, 0.06845350563526154, 0.5867443084716797, 0.9764404892921448, 0.9803476929664612, 0.04614034295082092, 0.12633664906024933, 0.00219715922139585, 0.14940683543682098, 0.012084376066923141, 0.6108102798461914, 0.05163324251770973, 0.016405295580625534, 0.06562118232250214, 0.9022912383079529, 0.03657100349664688, 0.8489696979522705, 0.04440764710307121, 0.01828550174832344, 0.023509930819272995, 0.015673287212848663, 0.013061072677373886, 0.9811726808547974, 0.9931427240371704, 0.00542994262650609, 0.013574857264757156, 0.08416411280632019, 0.1167437732219696, 0.16018331050872803, 0.02171977050602436, 0.4696900546550751, 0.03800959885120392, 0.08687908202409744, 0.9985442757606506, 0.9943121075630188, 0.03615235909819603, 0.29772529006004333, 0.031899139285087585, 0.0999506413936615, 0.40192916989326477, 0.10633046925067902, 0.02764592133462429, 0.9273130893707275, 0.02147693932056427, 0.29638177156448364, 0.4166526198387146, 0.017181551083922386, 0.24913249909877777, 0.9863538146018982, 0.9690820574760437, 0.9927484393119812, 0.9938180446624756, 0.9438247680664062, 0.00333036994561553, 0.9924502372741699, 0.9820514917373657, 0.9821286201477051, 0.3883354961872101, 0.19829897582530975, 0.40486040711402893, 0.9894253611564636, 0.9940711259841919, 0.9946610331535339, 0.2719375789165497, 0.35345661640167236, 0.03982609882950783, 0.10392122715711594, 0.0808967649936676, 0.009334241971373558, 0.03484783694148064, 0.03982609882950783, 0.00435597961768508, 0.03422555327415466, 0.016801634803414345, 0.00808967649936676, 0.0024891311768442392, 0.11152097582817078, 0.2301226556301117, 0.07788766920566559, 0.11506132781505585, 0.05133505165576935, 0.4124506115913391, 0.9935889840126038, 0.9752594828605652, 0.9950776696205139, 0.9916811585426331, 0.9347209334373474, 0.9872570633888245, 0.9857028126716614, 0.9714654684066772, 0.9589154124259949, 0.9474968910217285, 0.9678109288215637, 0.6772276163101196, 0.26977473497390747, 0.03441953659057617, 0.01581438072025776, 0.002790773054584861, 0.9909066557884216, 0.03433661162853241, 0.9614251255989075, 0.49657517671585083, 0.3614127039909363, 0.04113640636205673, 0.013516247272491455, 0.05759096518158913, 0.016454562544822693, 0.012928584590554237, 0.035823166370391846, 0.12538108229637146, 0.832888662815094, 0.9890797138214111, 0.15759004652500153, 0.47408339381217957, 0.035457760095596313, 0.14314429461956024, 0.0013132503954693675, 0.00525300158187747, 0.014445753768086433, 0.031518008559942245, 0.013132503256201744, 0.12607203423976898, 0.06683917343616486, 0.762752890586853, 0.11401975899934769, 0.05111230909824371, 0.813200831413269, 0.1822691559791565, 0.0007482608198188245, 0.9981799721717834, 0.9928977489471436, 0.9945212602615356, 0.14760595560073853, 0.3116125464439392, 0.26241058111190796, 0.26241058111190796, 0.9628224968910217, 0.9716587066650391, 0.06775085628032684, 0.9291545748710632, 0.9424362778663635, 0.5576176643371582, 0.02222389169037342, 0.03030530735850334, 0.06869202852249146, 0.032325662672519684, 0.28486987948417664, 0.0933850035071373, 0.03567516803741455, 0.04511859640479088, 0.07974449545145035, 0.15004555881023407, 0.5319797396659851, 0.016788315027952194, 0.007344888057559729, 0.02413320355117321, 0.014689776115119457, 0.8131080865859985, 0.02040056139230728, 0.02914365939795971, 0.13114646077156067, 0.005828731693327427, 0.04521194472908974, 0.0032294245902448893, 0.0177618358284235, 0.44243118166923523, 0.284189373254776, 0.08880917727947235, 0.11787399649620056, 0.3397022485733032, 0.06394395232200623, 0.10390892624855042, 0.027975481003522873, 0.4595971703529358, 0.4037855267524719, 0.5738005042076111, 0.9419953227043152, 0.9935023784637451, 0.9659472703933716, 0.9698868989944458, 0.49535760283470154, 0.20645485818386078, 0.026812318712472916, 0.04625124856829643, 0.07507449388504028, 0.0033515398390591145, 0.002010923810303211, 0.05228402093052864, 0.03217478096485138, 0.0006703079561702907, 0.058987103402614594, 0.989123523235321, 0.9735283255577087, 0.933515727519989, 0.9952419400215149, 0.06526567786931992, 0.9300359487533569, 0.1500423103570938, 0.040396008640527725, 0.0432814359664917, 0.04616686329245567, 0.0750211551785469, 0.6376798152923584, 0.005770857911556959, 0.9919196963310242, 0.9283456802368164, 0.057128965854644775, 0.9686686992645264, 0.8931315541267395, 0.097686268389225, 0.9924799799919128, 0.9945271015167236, 0.4999465048313141, 0.2519415616989136, 0.055112212896347046, 0.059836119413375854, 0.07400783151388168, 0.002361952094361186, 0.004723904188722372, 0.0007873173453845084, 0.002361952094361186, 0.0496009923517704, 0.0599152110517025, 0.06590673327445984, 0.04194064810872078, 0.0599152110517025, 0.6590673327445984, 0.02995760552585125, 0.04793216660618782, 0.02396608330309391, 0.008933640085160732, 0.9827004075050354, 0.9394296407699585, 0.9923205375671387, 0.9744278788566589, 0.06121513620018959, 0.9304700493812561, 0.9904553294181824, 0.0024040048010647297, 0.11731543391942978, 0.20241719484329224, 0.2711717486381531, 0.2634789049625397, 0.025482449680566788, 0.014904829673469067, 0.023078445345163345, 0.07788975536823273, 0.001442402834072709, 0.07650961726903915, 0.3457646071910858, 0.17508931457996368, 0.09710835665464401, 0.13830584287643433, 0.023541420698165894, 0.14271986484527588, 0.6013378500938416, 0.2915577292442322, 0.025230957195162773, 0.018923219293355942, 0.02873525768518448, 0.0014017198700457811, 0.009111179038882256, 0.011914619244635105, 0.0007008599350228906, 0.010512898676097393, 0.005924983415752649, 0.15701206028461456, 0.07998728007078171, 0.7346979379653931, 0.02073744311928749, 0.38084205985069275, 0.07140789180994034, 0.5236578583717346, 0.9031276106834412, 0.09215588122606277, 0.009805084206163883, 0.9743801951408386, 0.014707625843584538, 0.9969214200973511, 0.0035620590206235647, 0.18878912925720215, 0.039182648062705994, 0.6233603358268738, 0.14248235523700714, 0.036191124469041824, 0.6413871049880981, 0.018095562234520912, 0.0160849429666996, 0.0643397718667984, 0.2191573530435562, 0.9246038198471069, 0.9936801195144653, 0.017402132973074913, 0.9571173191070557, 0.9896982908248901, 0.9854047894477844, 0.979672908782959, 0.04087934270501137, 0.02313925139605999, 0.1380642056465149, 0.7227159738540649, 0.013112242333590984, 0.057076819241046906, 0.0015426167519763112, 0.0030852335039526224, 0.9706433415412903, 0.9319732189178467, 0.9908604621887207, 0.5381414890289307, 0.33196425437927246, 0.05390872433781624, 0.06525792926549911, 0.00094576709670946, 0.008511903695762157, 0.40500035881996155, 0.42631617188453674, 0.04339289665222168, 0.01750941388309002, 0.022077087312936783, 0.07993427664041519, 0.0060902307741343975, 0.5103374123573303, 0.4153476059436798, 0.011485695838928223, 0.02638605795800686, 0.018625453114509583, 0.017073331400752068, 0.18155023455619812, 0.024060875177383423, 0.05905850976705551, 0.07436997443437576, 0.05905850976705551, 0.23404669761657715, 0.05687115713953972, 0.12030437588691711, 0.048121750354766846, 0.13999053835868835, 0.9730311632156372, 0.10221095383167267, 0.16791799664497375, 0.7300782799720764, 0.9772382378578186, 0.9818670153617859, 0.5294182896614075, 0.22819213569164276, 0.056734584271907806, 0.03636028617620468, 0.03291232883930206, 0.007836268283426762, 0.023195354267954826, 0.0012538029113784432, 0.022255003452301025, 0.007522817701101303, 0.007836268283426762, 0.025702960789203644, 0.020687749609351158, 0.17835241556167603, 0.7926774024963379, 0.3624756634235382, 0.619229257106781, 0.005987268872559071, 0.05089178681373596, 0.02694271132349968, 0.11675174534320831, 0.04191088303923607, 0.047898150980472565, 0.7035040855407715, 0.005987268872559071, 0.1866222620010376, 0.7998096942901611, 0.9800679087638855, 0.2932637333869934, 0.11538244783878326, 0.13301032781600952, 0.306084007024765, 0.030448146164417267, 0.025640543550252914, 0.08974190801382065, 0.004807602148503065, 0.5432129502296448, 0.07509119808673859, 0.0015976850409060717, 0.04952823743224144, 0.05591897666454315, 0.27320414781570435, 0.9519386291503906, 0.04138863459229469, 0.5941471457481384, 0.07551033794879913, 0.009935570880770683, 0.0715361088514328, 0.009935570880770683, 0.23646658658981323, 0.988066554069519, 0.9733836054801941, 0.07814625650644302, 0.8726332187652588, 0.03907312825322151, 0.04891809821128845, 0.8462830781936646, 0.10272800177335739, 0.955316424369812, 0.9831802248954773, 0.964594304561615, 0.9824134707450867, 0.889559268951416, 0.06207430362701416, 0.06828173249959946, 0.7945510745048523, 0.06828173249959946, 0.9275647401809692, 0.0371025875210762, 0.9820265173912048, 0.09321620315313339, 0.9010899662971497, 0.025965025648474693, 0.6741290092468262, 0.006731673143804073, 0.017310015857219696, 0.06347005814313889, 0.04039003700017929, 0.011540011502802372, 0.10193676501512527, 0.006731673143804073, 0.05193005129694939, 0.9835759997367859, 0.692590057849884, 0.024815931916236877, 0.2797432243824005, 0.2700856626033783, 0.7308200001716614, 0.8315213918685913, 0.16630427539348602, 0.9973344206809998, 0.9975417852401733, 0.9748601317405701, 0.9549422264099121, 0.9862454533576965, 0.9523878693580627, 0.15160824358463287, 0.6622886061668396, 0.023938143625855446, 0.04189174994826317, 0.011969071812927723, 0.06582989543676376, 0.03989690542221069, 0.6341899037361145, 0.2253466695547104, 0.02575390413403511, 0.09013866633176804, 0.02253466658294201, 0.7413614392280579, 0.11664777994155884, 0.14256951212882996, 0.9935668110847473, 0.023406540974974632, 0.0031208721920847893, 0.30428504943847656, 0.010923052206635475, 0.48373517394065857, 0.14824143052101135, 0.024966977536678314, 0.9605567455291748, 0.03468677029013634, 0.9794870018959045, 0.03553667291998863, 0.9452754855155945, 0.02132200449705124, 0.11835350096225739, 0.17459586262702942, 0.15747863054275513, 0.28365716338157654, 0.1814427673816681, 0.03667980432510376, 0.007825025357306004, 0.028365714475512505, 0.0009781281696632504, 0.002445320365950465, 0.008803153410553932, 0.03522100672125816, 0.9597724080085754, 0.827062726020813, 0.05059678107500076, 0.12065386027097702, 0.00443427124992013, 0.099454365670681, 0.4149211049079895, 0.22298049926757812, 0.1672353744506836, 0.025972159579396248, 0.042442310601472855, 0.021537888795137405, 0.018896792083978653, 0.14172594249248505, 0.8314588665962219, 0.9917097687721252, 0.10335242003202438, 0.2857390344142914, 0.38909146189689636, 0.21278439462184906, 0.9710260629653931, 0.9834813475608826, 0.11232437193393707, 0.870513916015625, 0.0061357105150818825, 0.050108302384614944, 0.8027554750442505, 0.016361895948648453, 0.09612613171339035, 0.007158329244703054, 0.005113092251121998, 0.016361895948648453, 0.9885877370834351, 0.0462765097618103, 0.025241732597351074, 0.9023919105529785, 0.018931299448013306, 0.0063104331493377686, 0.9852690696716309, 0.0340016670525074, 0.9520466923713684, 0.04859628528356552, 0.6236523389816284, 0.12959009408950806, 0.18628576397895813, 0.9799941182136536, 0.01324316393584013, 0.9861337542533875, 0.97702956199646, 0.008963573724031448, 0.37968429923057556, 0.0839686468243599, 0.4052399694919586, 0.062063779681921005, 0.062063779681921005, 0.9636304974555969, 0.9875131845474243, 0.9939265251159668, 0.013794105499982834, 0.9655873775482178, 0.9575443267822266, 0.43866196274757385, 0.22278711199760437, 0.1292058825492859, 0.07178104668855667, 0.10102517902851105, 0.008507383987307549, 0.02764899656176567, 0.7573807835578918, 0.03076859563589096, 0.007100445218384266, 0.0733712688088417, 0.028401780873537064, 0.052069928497076035, 0.04733629897236824, 0.9859234690666199, 0.9865155220031738, 0.9274876713752747, 0.9698811173439026, 0.0024599703028798103, 0.03197961300611496, 0.5657931566238403, 0.0418194942176342, 0.14513824880123138, 0.13775834441184998, 0.07379911094903946, 0.05941026285290718, 0.031452491879463196, 0.8072806596755981, 0.10134691745042801, 0.9908367991447449, 0.07786344736814499, 0.0964023619890213, 0.1223568394780159, 0.7007709741592407, 0.9907035827636719, 0.9857011437416077, 0.8087620139122009, 0.020916258916258812, 0.034860432147979736, 0.020916258916258812, 0.06623481959104538, 0.04531855881214142, 0.4845672845840454, 0.32141587138175964, 0.039848048239946365, 0.031201772391796112, 0.040599897503852844, 0.01616477407515049, 0.01578884944319725, 0.03195362165570259, 0.0011277749435976148, 0.007894424721598625, 0.008646274916827679, 0.0003759249811992049, 0.0007518499623984098, 0.4545042812824249, 0.10299917310476303, 0.44142502546310425, 0.008760862983763218, 0.2277824431657791, 0.7008690237998962, 0.05694561079144478, 0.004380431491881609, 0.18539385497570038, 0.6082757115364075, 0.03524015471339226, 0.03524015471339226, 0.004596542101353407, 0.09346301853656769, 0.01685398630797863, 0.019918348640203476, 0.9979522824287415, 0.99699467420578, 0.06868401914834976, 0.8928923010826111, 0.027473608031868935, 0.9526970386505127, 0.04666735976934433, 0.6123948097229004, 0.37715020775794983, 0.00986509583890438, 0.4178760051727295, 0.5661545991897583, 0.9435175657272339, 0.013032562099397182, 0.9817863702774048, 0.9875476360321045, 0.9882674813270569, 0.993682324886322, 0.2048790156841278, 0.322182297706604, 0.10766191780567169, 0.09882399439811707, 0.06427577137947083, 0.1462273746728897, 0.0008034471538849175, 0.0008034471538849175, 0.024906860664486885, 0.018479283899068832, 0.00321378861553967, 0.008034471422433853, 0.028772445395588875, 0.03661947697401047, 0.07323895394802094, 0.03400380164384842, 0.09416437149047852, 0.1595562994480133, 0.572833240032196, 0.07881445437669754, 0.3554377257823944, 0.09890441596508026, 0.003090762998908758, 0.054088350385427475, 0.006181525997817516, 0.009272288531064987, 0.32762086391448975, 0.012363051995635033, 0.054088350385427475, 0.9856113195419312, 0.3760112524032593, 0.09087885171175003, 0.16585390269756317, 0.11927849799394608, 0.1902776062488556, 0.023287706077098846, 0.019879749044775963, 0.006815914064645767, 0.0034079570323228836, 0.005111935548484325, 0.9086435437202454, 0.9296088814735413, 0.07204914838075638, 0.3552190661430359, 0.03351123258471489, 0.020106738433241844, 0.3133300244808197, 0.050266847014427185, 0.023457862436771393, 0.13153158128261566, 0.9928134679794312, 0.40960511565208435, 0.31974828243255615, 0.013586600311100483, 0.07241040468215942, 0.09587816894054413, 0.0003087863733526319, 0.03365771472454071, 0.011270702816545963, 0.028717132285237312, 0.0018527182983234525, 0.011733882129192352, 0.0012351454934105277, 0.9770560264587402, 0.11798470467329025, 0.2659337818622589, 0.02809159643948078, 0.09363865107297897, 0.011236638762056828, 0.08802033215761185, 0.08989311009645462, 0.01685495674610138, 0.2884070575237274, 0.2185221016407013, 0.631286084651947, 0.025708481669425964, 0.029993228614330292, 0.03856272250413895, 0.0014282490592449903, 0.05284521356225014, 0.9659461379051208, 0.02610665187239647, 0.9510855674743652, 0.9969450831413269, 0.9247128963470459, 0.8459524512290955, 0.07091816514730453, 0.08104933053255081, 0.3127185106277466, 0.021054314449429512, 0.08421725779771805, 0.00557320099323988, 0.3727852404117584, 0.07616708427667618, 0.015481114387512207, 0.11084477603435516, 0.42505916953086853, 0.08192293345928192, 0.06580694764852524, 0.0013429989339783788, 0.15377338230609894, 0.01074399147182703, 0.0778939351439476, 0.010072492063045502, 0.11415490508079529, 0.03827546909451485, 0.020816482603549957, 0.953604519367218, 0.9807207584381104], \"Term\": [\"abortion\", \"absolute\", \"absolute\", \"accept\", \"accept\", \"accept\", \"accept\", \"accept\", \"accept\", \"accept\", \"accessed\", \"accusing\", \"adams\", \"adams\", \"adams\", \"adaptec\", \"adapter\", \"address\", \"address\", \"address\", \"address\", \"address\", \"address\", \"addresses\", \"addresses\", \"addresses\", \"adjust\", \"adjust\", \"adjusted\", \"administration\", \"administration\", \"administration\", \"administration\", \"adobe\", \"adobe\", \"advance\", \"advance\", \"advance\", \"advance\", \"advertising\", \"aerospace\", \"agencies\", \"agencies\", \"agree\", \"agree\", \"agree\", \"agree\", \"agree\", \"aids\", \"algorithm\", \"algorithm\", \"algorythm\", \"alice\", \"allah\", \"allocated\", \"allocated\", \"allocation\", \"alomar\", \"also\", \"also\", \"also\", \"also\", \"also\", \"also\", \"also\", \"also\", \"also\", \"also\", \"also\", \"also\", \"also\", \"amendment\", \"amendment\", \"amendments\", \"american\", \"american\", \"american\", \"american\", \"american\", \"american\", \"american\", \"american\", \"ames\", \"amino\", \"among\", \"among\", \"among\", \"among\", \"among\", \"among\", \"among\", \"among\", \"among\", \"amour\", \"anonymous\", \"anonymous\", \"anonymous\", \"anyone\", \"anyone\", \"anyone\", \"anyone\", \"anyone\", \"anyone\", \"anyone\", \"anyone\", \"anyone\", \"anyone\", \"apartment\", \"apostles\", \"apple\", \"apple\", \"application\", \"application\", \"application\", \"application\", \"appreciated\", \"appreciated\", \"appreciated\", \"april\", \"april\", \"april\", \"april\", \"april\", \"april\", \"april\", \"april\", \"arab\", \"arabs\", \"archbishop\", \"argc\", \"argic\", \"argument\", \"arguments\", \"arguments\", \"arguments\", \"argv\", \"armed\", \"armed\", \"armed\", \"armed\", \"armenian\", \"armenian\", \"armenians\", \"armenians\", \"arms\", \"arms\", \"arms\", \"arms\", \"around\", \"around\", \"around\", \"around\", \"around\", \"around\", \"around\", \"around\", \"around\", \"arrogance\", \"arrogant\", \"article\", \"article\", \"article\", \"article\", \"article\", \"article\", \"article\", \"article\", \"article\", \"article\", \"articles\", \"articles\", \"articles\", \"articles\", \"articles\", \"articles\", \"assumptions\", \"astro\", \"astronomy\", \"astros\", \"atheism\", \"atheism\", \"atheists\", \"atheists\", \"atoms\", \"audio\", \"audio\", \"audio\", \"aunt\", \"auth\", \"author\", \"author\", \"author\", \"author\", \"author\", \"author\", \"available\", \"available\", \"available\", \"available\", \"available\", \"available\", \"available\", \"available\", \"azerbaijan\", \"azerbaijan\", \"azerbaijani\", \"azerbaijanis\", \"azeri\", \"azeri\", \"azeris\", \"babies\", \"back\", \"back\", \"back\", \"back\", \"back\", \"back\", \"back\", \"back\", \"back\", \"baku\", \"ball\", \"ball\", \"ball\", \"balloon\", \"baptism\", \"baseball\", \"based\", \"based\", \"based\", \"based\", \"based\", \"based\", \"based\", \"based\", \"based\", \"based\", \"based\", \"based\", \"batf\", \"batf\", \"bath\", \"bath\", \"baud\", \"bear\", \"bear\", \"bear\", \"bear\", \"behaviour\", \"belief\", \"belief\", \"believe\", \"believe\", \"believe\", \"believe\", \"believe\", \"believe\", \"believer\", \"belt\", \"berryhill\", \"best\", \"best\", \"best\", \"best\", \"best\", \"best\", \"best\", \"best\", \"best\", \"best\", \"best\", \"bethesda\", \"better\", \"better\", \"better\", \"better\", \"better\", \"better\", \"better\", \"beware\", \"bible\", \"biblical\", \"bike\", \"bike\", \"bill\", \"bill\", \"bill\", \"bill\", \"bill\", \"binaries\", \"binary\", \"bios\", \"bitnet\", \"bits\", \"bits\", \"blacks\", \"bloom\", \"blue\", \"blue\", \"blue\", \"blue\", \"blue\", \"blue\", \"blue\", \"blue\", \"blue\", \"blue\", \"board\", \"board\", \"board\", \"board\", \"board\", \"board\", \"board\", \"bolt\", \"book\", \"book\", \"book\", \"book\", \"book\", \"book\", \"book\", \"book\", \"book\", \"books\", \"books\", \"books\", \"books\", \"books\", \"borland\", \"boston\", \"boston\", \"boston\", \"boston\", \"bounced\", \"brake\", \"brake\", \"braves\", \"brind\", \"british\", \"british\", \"british\", \"british\", \"british\", \"bronx\", \"brown\", \"brown\", \"brown\", \"brown\", \"brown\", \"brown\", \"brown\", \"build\", \"build\", \"build\", \"build\", \"build\", \"build\", \"build\", \"build\", \"bullpen\", \"bury\", \"byte\", \"byte\", \"byte\", \"byte\", \"bytes\", \"cables\", \"cache\", \"cadre\", \"cage\", \"calgary\", \"calgary\", \"came\", \"came\", \"came\", \"came\", \"came\", \"came\", \"came\", \"came\", \"cancer\", \"candida\", \"cannot\", \"cannot\", \"cannot\", \"cannot\", \"cannot\", \"cannot\", \"cannot\", \"cannot\", \"capacitor\", \"carb\", \"card\", \"cards\", \"cards\", \"cards\", \"cards\", \"carry\", \"carry\", \"carry\", \"carry\", \"carry\", \"carry\", \"carry\", \"cars\", \"cars\", \"cars\", \"cars\", \"carson\", \"case\", \"case\", \"case\", \"case\", \"case\", \"case\", \"case\", \"case\", \"case\", \"cases\", \"cases\", \"cases\", \"cases\", \"cases\", \"cases\", \"cases\", \"cassels\", \"catholic\", \"cause\", \"cause\", \"cause\", \"cause\", \"cause\", \"cells\", \"cells\", \"cellular\", \"center\", \"center\", \"center\", \"center\", \"center\", \"center\", \"center\", \"center\", \"centris\", \"cereals\", \"challenges\", \"chamber\", \"char\", \"chars\", \"chastity\", \"check\", \"check\", \"check\", \"check\", \"check\", \"check\", \"check\", \"check\", \"check\", \"chicago\", \"chicago\", \"chicago\", \"chicago\", \"chicago\", \"children\", \"children\", \"children\", \"children\", \"children\", \"children\", \"chinese\", \"chip\", \"chip\", \"christ\", \"christian\", \"christian\", \"christianity\", \"christianity\", \"christians\", \"chronic\", \"church\", \"churches\", \"cigarette\", \"cipher\", \"circuit\", \"circuit\", \"circuits\", \"citizens\", \"citizens\", \"citizens\", \"citizens\", \"civil\", \"civil\", \"civil\", \"civilians\", \"civilians\", \"claim\", \"claim\", \"claim\", \"claremont\", \"classified\", \"client\", \"clients\", \"clinical\", \"clipper\", \"cluster\", \"cmap\", \"coach\", \"coated\", \"cobra\", \"code\", \"code\", \"code\", \"code\", \"code\", \"code\", \"code\", \"color\", \"color\", \"color\", \"color\", \"color\", \"color\", \"colormaps\", \"colors\", \"colors\", \"colors\", \"commit\", \"communications\", \"communications\", \"communications\", \"comp\", \"comp\", \"comp\", \"companies\", \"companies\", \"companies\", \"companies\", \"compass\", \"compile\", \"compiled\", \"composite\", \"compound\", \"compound\", \"compressed\", \"compressed\", \"compressed\", \"computer\", \"computer\", \"computer\", \"computer\", \"computer\", \"concealed\", \"conclusion\", \"conclusion\", \"conclusion\", \"conclusions\", \"conclusions\", \"conclusive\", \"config\", \"confusing\", \"congress\", \"congress\", \"congress\", \"congress\", \"congress\", \"consensus\", \"consortium\", \"constitution\", \"constitution\", \"constitution\", \"contest\", \"context\", \"context\", \"context\", \"context\", \"contracts\", \"contradictory\", \"contrib\", \"control\", \"control\", \"control\", \"control\", \"control\", \"control\", \"control\", \"control\", \"control\", \"controller\", \"convince\", \"convince\", \"convincing\", \"cooper\", \"copper\", \"copper\", \"coprocessor\", \"cops\", \"corner\", \"corner\", \"corner\", \"corner\", \"corner\", \"corner\", \"cost\", \"cost\", \"cost\", \"cost\", \"cost\", \"cost\", \"could\", \"could\", \"could\", \"could\", \"could\", \"could\", \"could\", \"could\", \"could\", \"could\", \"could\", \"count\", \"count\", \"count\", \"count\", \"count\", \"count\", \"count\", \"couple\", \"couple\", \"couple\", \"couple\", \"couple\", \"couple\", \"couple\", \"couple\", \"courses\", \"court\", \"court\", \"court\", \"court\", \"courtnall\", \"courts\", \"cover\", \"cover\", \"cover\", \"cover\", \"cover\", \"cover\", \"cover\", \"crime\", \"crime\", \"crime\", \"crime\", \"crimes\", \"criminal\", \"criminals\", \"criminals\", \"criminals\", \"criminals\", \"cross\", \"cross\", \"cross\", \"cross\", \"cross\", \"cross\", \"cross\", \"cross\", \"cross\", \"crypt\", \"cryptanalysis\", \"crypto\", \"crypto\", \"cryptology\", \"cryptology\", \"cryptosystem\", \"ctrl\", \"cubs\", \"cure\", \"current\", \"current\", \"current\", \"current\", \"current\", \"current\", \"current\", \"current\", \"current\", \"current\", \"current\", \"current\", \"current\", \"cylinder\", \"cyprus\", \"darn\", \"darren\", \"data\", \"data\", \"data\", \"data\", \"data\", \"data\", \"daughter\", \"daughter\", \"daughter\", \"davidians\", \"dead\", \"dead\", \"dead\", \"dead\", \"dead\", \"dead\", \"dead\", \"deadly\", \"death\", \"death\", \"death\", \"death\", \"death\", \"death\", \"deaths\", \"deaths\", \"debugger\", \"decenso\", \"deciding\", \"declare\", \"decoder\", \"decrypt\", \"defense\", \"defense\", \"defense\", \"defense\", \"defense\", \"defensive\", \"define\", \"define\", \"define\", \"define\", \"deletion\", \"deluxe\", \"dept\", \"detector\", \"detector\", \"detectors\", \"detroit\", \"detroit\", \"devices\", \"devices\", \"devices\", \"devices\", \"diabetes\", \"diamond\", \"diet\", \"diet\", \"different\", \"different\", \"different\", \"different\", \"different\", \"different\", \"different\", \"different\", \"different\", \"dineen\", \"directory\", \"disagree\", \"disagree\", \"disagree\", \"disc\", \"disease\", \"diseases\", \"disk\", \"disk\", \"disk\", \"disk\", \"diskettes\", \"display\", \"display\", \"display\", \"displays\", \"divine\", \"division\", \"division\", \"division\", \"division\", \"division\", \"division\", \"doctor\", \"doctor\", \"doctor\", \"doctors\", \"doctrine\", \"documentary\", \"dole\", \"doug\", \"doug\", \"doug\", \"doug\", \"doug\", \"drain\", \"drain\", \"draw\", \"draw\", \"draw\", \"draw\", \"draw\", \"draw\", \"draw\", \"draw\", \"draw\", \"draw\", \"drive\", \"drive\", \"driver\", \"driver\", \"driver\", \"driver\", \"driver\", \"drivers\", \"drivers\", \"drivers\", \"drivers\", \"drives\", \"drug\", \"drug\", \"drug\", \"drugs\", \"drugs\", \"dubious\", \"duke\", \"earth\", \"earth\", \"earth\", \"earth\", \"earth\", \"easter\", \"eastern\", \"eastern\", \"eaten\", \"eaten\", \"eaten\", \"eating\", \"eating\", \"echo\", \"echo\", \"edge\", \"edge\", \"edge\", \"edge\", \"edge\", \"edge\", \"edge\", \"effects\", \"effects\", \"effects\", \"effects\", \"effects\", \"eisa\", \"electric\", \"electrical\", \"electricity\", \"electricity\", \"electronic\", \"electronic\", \"email\", \"email\", \"email\", \"email\", \"emulation\", \"encrypted\", \"encryption\", \"ending\", \"enemies\", \"enforcement\", \"enforcement\", \"enforcement\", \"engine\", \"engine\", \"engine\", \"enough\", \"enough\", \"enough\", \"enough\", \"enough\", \"enough\", \"enough\", \"enough\", \"enter\", \"enter\", \"enter\", \"enter\", \"enter\", \"enter\", \"entries\", \"entry\", \"entry\", \"envelope\", \"ermeni\", \"erzurum\", \"escrow\", \"espn\", \"eternal\", \"eternal\", \"ethernet\", \"ethnic\", \"europe\", \"europe\", \"europe\", \"europe\", \"even\", \"even\", \"even\", \"even\", \"even\", \"even\", \"even\", \"even\", \"even\", \"even\", \"evidence\", \"evidence\", \"evidence\", \"example\", \"example\", \"example\", \"example\", \"example\", \"example\", \"example\", \"example\", \"example\", \"example\", \"exhaust\", \"exist\", \"exist\", \"exist\", \"exist\", \"existence\", \"existence\", \"existence\", \"exists\", \"exists\", \"exists\", \"exists\", \"exists\", \"exists\", \"exit\", \"explain\", \"explain\", \"explain\", \"explaining\", \"explanation\", \"explanation\", \"explanation\", \"expo\", \"expo\", \"export\", \"export\", \"expose\", \"expose\", \"fact\", \"fact\", \"fact\", \"fact\", \"fact\", \"fact\", \"fact\", \"faith\", \"fallacy\", \"fans\", \"father\", \"father\", \"feast\", \"federal\", \"federal\", \"federal\", \"federal\", \"federalist\", \"figured\", \"file\", \"file\", \"file\", \"filename\", \"files\", \"files\", \"files\", \"financial\", \"find\", \"find\", \"find\", \"find\", \"find\", \"find\", \"find\", \"find\", \"find\", \"find\", \"firearm\", \"firearms\", \"first\", \"first\", \"first\", \"first\", \"first\", \"first\", \"first\", \"first\", \"first\", \"first\", \"first\", \"first\", \"first\", \"first\", \"first\", \"first\", \"fitting\", \"flags\", \"flame\", \"flame\", \"flames\", \"flames\", \"flames\", \"flames\", \"fleury\", \"flight\", \"flight\", \"flight\", \"flood\", \"floppies\", \"floppy\", \"floppy\", \"fluke\", \"flyers\", \"font\", \"food\", \"food\", \"food\", \"food\", \"food\", \"foods\", \"ford\", \"foreground\", \"format\", \"format\", \"formats\", \"france\", \"freedom\", \"freedom\", \"freedom\", \"freeman\", \"freeware\", \"fruit\", \"fruit\", \"galley\", \"game\", \"game\", \"game\", \"games\", \"games\", \"gamma\", \"gangs\", \"garage\", \"garrett\", \"gary\", \"gateway\", \"gaza\", \"genetic\", \"genocide\", \"gerard\", \"german\", \"german\", \"germany\", \"germany\", \"getting\", \"getting\", \"getting\", \"getting\", \"getting\", \"getting\", \"ghetto\", \"gifs\", \"goals\", \"goals\", \"goals\", \"goals\", \"goals\", \"goddess\", \"going\", \"going\", \"going\", \"going\", \"going\", \"going\", \"going\", \"gone\", \"gone\", \"gone\", \"gone\", \"gone\", \"good\", \"good\", \"good\", \"good\", \"good\", \"good\", \"good\", \"good\", \"good\", \"gospel\", \"government\", \"government\", \"government\", \"government\", \"government\", \"graphic\", \"graphics\", \"graphics\", \"greece\", \"greek\", \"greek\", \"greeks\", \"ground\", \"ground\", \"ground\", \"ground\", \"ground\", \"ground\", \"group\", \"group\", \"group\", \"group\", \"group\", \"group\", \"group\", \"group\", \"group\", \"group\", \"group\", \"guide\", \"guide\", \"guide\", \"guide\", \"guilty\", \"guilty\", \"guns\", \"guns\", \"guns\", \"gxxor\", \"handgun\", \"handguns\", \"handler\", \"hard\", \"hard\", \"hard\", \"hard\", \"hard\", \"hartford\", \"hash\", \"header\", \"health\", \"health\", \"heaven\", \"hell\", \"hell\", \"hell\", \"hello\", \"hello\", \"hello\", \"helmet\", \"help\", \"help\", \"help\", \"help\", \"help\", \"help\", \"help\", \"help\", \"help\", \"help\", \"henrik\", \"heterosexual\", \"hewlett\", \"hewlett\", \"hicnet\", \"high\", \"high\", \"high\", \"high\", \"high\", \"high\", \"high\", \"high\", \"high\", \"high\", \"high\", \"high\", \"higher\", \"higher\", \"higher\", \"higher\", \"higher\", \"history\", \"history\", \"history\", \"history\", \"hockey\", \"holocaust\", \"holocaust\", \"holy\", \"holy\", \"home\", \"home\", \"home\", \"home\", \"home\", \"home\", \"home\", \"homicide\", \"homosexual\", \"homosexuality\", \"homosexuals\", \"homosexuals\", \"honda\", \"hong\", \"hotel\", \"however\", \"however\", \"however\", \"however\", \"however\", \"however\", \"however\", \"however\", \"however\", \"however\", \"however\", \"hudson\", \"hudson\", \"hudson\", \"hudson\", \"hulk\", \"humans\", \"humans\", \"hunting\", \"huntsville\", \"illness\", \"image\", \"image\", \"image\", \"image\", \"images\", \"images\", \"images\", \"imperfect\", \"imply\", \"imply\", \"income\", \"infallible\", \"infection\", \"infections\", \"info\", \"info\", \"info\", \"info\", \"info\", \"info\", \"information\", \"information\", \"information\", \"information\", \"information\", \"information\", \"information\", \"information\", \"information\", \"information\", \"information\", \"ingr\", \"init\", \"initiative\", \"inject\", \"inning\", \"innings\", \"input\", \"input\", \"input\", \"input\", \"insurance\", \"insurance\", \"intellect\", \"intentional\", \"interested\", \"interested\", \"interested\", \"interested\", \"interested\", \"interested\", \"interested\", \"interested\", \"interested\", \"international\", \"international\", \"international\", \"international\", \"international\", \"internet\", \"internet\", \"interrupt\", \"invalid\", \"iran\", \"islam\", \"islam\", \"islam\", \"islamic\", \"islamic\", \"island\", \"island\", \"islanders\", \"israel\", \"israel\", \"israeli\", \"israeli\", \"israelis\", \"istanbul\", \"italy\", \"jagr\", \"jersey\", \"jersey\", \"jesus\", \"jewish\", \"jewish\", \"jewish\", \"jews\", \"jews\", \"jews\", \"john\", \"john\", \"john\", \"john\", \"john\", \"john\", \"john\", \"john\", \"jonathan\", \"jpeg\", \"judas\", \"judges\", \"judges\", \"jumper\", \"jumpers\", \"juneau\", \"jury\", \"justice\", \"justice\", \"justice\", \"justice\", \"justice\", \"justice\", \"karabagh\", \"karabakh\", \"karina\", \"karl\", \"karl\", \"keyboard\", \"keys\", \"keys\", \"kidney\", \"kids\", \"kids\", \"kids\", \"kids\", \"killed\", \"killed\", \"killed\", \"killed\", \"killed\", \"kings\", \"kings\", \"klein\", \"knife\", \"knife\", \"know\", \"know\", \"know\", \"know\", \"know\", \"know\", \"know\", \"koresh\", \"kurds\", \"label\", \"label\", \"label\", \"lance\", \"land\", \"land\", \"land\", \"laptop\", \"laserwriter\", \"last\", \"last\", \"last\", \"last\", \"last\", \"last\", \"last\", \"last\", \"last\", \"last\", \"last\", \"last\", \"last\", \"last\", \"lately\", \"laughter\", \"launch\", \"launched\", \"launched\", \"launches\", \"laws\", \"laws\", \"leafs\", \"league\", \"league\", \"lebanese\", \"lebanon\", \"left\", \"left\", \"left\", \"left\", \"left\", \"left\", \"left\", \"left\", \"left\", \"left\", \"legal\", \"legal\", \"legal\", \"lemieux\", \"lemieux\", \"lens\", \"lenses\", \"liar\", \"libraries\", \"life\", \"life\", \"life\", \"life\", \"life\", \"life\", \"like\", \"like\", \"like\", \"like\", \"like\", \"like\", \"like\", \"like\", \"like\", \"line\", \"line\", \"line\", \"line\", \"line\", \"line\", \"line\", \"line\", \"line\", \"line\", \"line\", \"lines\", \"lines\", \"lines\", \"lines\", \"lines\", \"lines\", \"lines\", \"lines\", \"lines\", \"lines\", \"linked\", \"linked\", \"lipman\", \"list\", \"list\", \"list\", \"list\", \"list\", \"list\", \"list\", \"list\", \"list\", \"list\", \"little\", \"little\", \"little\", \"little\", \"little\", \"little\", \"little\", \"little\", \"little\", \"loading\", \"lock\", \"london\", \"long\", \"long\", \"long\", \"long\", \"long\", \"long\", \"long\", \"long\", \"long\", \"long\", \"long\", \"long\", \"long\", \"lord\", \"lost\", \"lost\", \"lost\", \"lost\", \"lost\", \"lost\", \"lost\", \"lost\", \"lotus\", \"louis\", \"louis\", \"louis\", \"love\", \"love\", \"love\", \"love\", \"lower\", \"lower\", \"lower\", \"lower\", \"lower\", \"lower\", \"luke\", \"lunar\", \"lung\", \"lyme\", \"lyuda\", \"macs\", \"macx\", \"mahan\", \"mail\", \"mail\", \"mail\", \"mail\", \"mail\", \"mailbox\", \"mailing\", \"mailing\", \"make\", \"make\", \"make\", \"make\", \"make\", \"make\", \"make\", \"make\", \"make\", \"males\", \"mamma\", \"many\", \"many\", \"many\", \"many\", \"many\", \"many\", \"many\", \"many\", \"many\", \"many\", \"many\", \"many\", \"marina\", \"mark\", \"mark\", \"mark\", \"mark\", \"mark\", \"mark\", \"mark\", \"mark\", \"mark\", \"market\", \"market\", \"market\", \"market\", \"market\", \"marriage\", \"married\", \"mars\", \"mask\", \"mask\", \"massacres\", \"math\", \"math\", \"math\", \"math\", \"math\", \"matthew\", \"maybe\", \"maybe\", \"maybe\", \"maybe\", \"maybe\", \"maybe\", \"mean\", \"mean\", \"mean\", \"mean\", \"mean\", \"mean\", \"medical\", \"medical\", \"medicine\", \"megs\", \"members\", \"members\", \"members\", \"members\", \"members\", \"memory\", \"memory\", \"memory\", \"memory\", \"memory\", \"memory\", \"menu\", \"menus\", \"merely\", \"message\", \"message\", \"message\", \"message\", \"message\", \"message\", \"message\", \"messiah\", \"metal\", \"meter\", \"meter\", \"methanol\", \"metzger\", \"midi\", \"might\", \"might\", \"might\", \"might\", \"might\", \"might\", \"might\", \"might\", \"might\", \"might\", \"military\", \"military\", \"military\", \"military\", \"military\", \"military\", \"militia\", \"million\", \"million\", \"million\", \"million\", \"million\", \"minister\", \"minnesota\", \"miracle\", \"mission\", \"mission\", \"mission\", \"missions\", \"mistakes\", \"model\", \"model\", \"model\", \"model\", \"model\", \"modem\", \"modem\", \"money\", \"money\", \"money\", \"money\", \"money\", \"monitor\", \"monitor\", \"monthly\", \"monthly\", \"monthly\", \"monthly\", \"montreal\", \"moon\", \"moon\", \"moon\", \"moral\", \"moral\", \"morality\", \"morgan\", \"mormons\", \"morning\", \"morning\", \"morris\", \"motherboard\", \"motif\", \"much\", \"much\", \"much\", \"much\", \"much\", \"much\", \"much\", \"much\", \"much\", \"mullen\", \"murder\", \"murder\", \"murder\", \"murphy\", \"murphy\", \"must\", \"must\", \"must\", \"must\", \"must\", \"must\", \"must\", \"must\", \"must\", \"must\", \"must\", \"must\", \"myers\", \"myers\", \"nagorno\", \"name\", \"name\", \"name\", \"name\", \"name\", \"name\", \"name\", \"name\", \"name\", \"name\", \"name\", \"name\", \"name\", \"namely\", \"nasa\", \"national\", \"national\", \"national\", \"national\", \"national\", \"national\", \"national\", \"navy\", \"navy\", \"navy\", \"nazi\", \"nazis\", \"neck\", \"need\", \"need\", \"need\", \"need\", \"need\", \"need\", \"need\", \"need\", \"need\", \"need\", \"news\", \"news\", \"news\", \"news\", \"news\", \"news\", \"news\", \"newsgroup\", \"newsgroup\", \"newsgroup\", \"newsgroup\", \"newsgroup\", \"newsgroup\", \"newsgroups\", \"newsgroups\", \"newsletter\", \"nintendo\", \"nist\", \"nist\", \"novell\", \"nubus\", \"null\", \"number\", \"number\", \"number\", \"number\", \"number\", \"number\", \"number\", \"number\", \"number\", \"number\", \"number\", \"objective\", \"objective\", \"objective\", \"observatory\", \"offer\", \"offer\", \"offer\", \"offer\", \"offer\", \"offer\", \"offer\", \"offer\", \"offset\", \"offset\", \"open\", \"open\", \"open\", \"open\", \"open\", \"open\", \"open\", \"open\", \"open\", \"open\", \"open\", \"openwindows\", \"orbit\", \"orbital\", \"order\", \"order\", \"order\", \"order\", \"order\", \"order\", \"order\", \"order\", \"order\", \"order\", \"order\", \"order\", \"orthodox\", \"oscillator\", \"oscillator\", \"ottawa\", \"ottoman\", \"outlet\", \"outlet\", \"outlets\", \"output\", \"output\", \"override\", \"oxford\", \"packaging\", \"packaging\", \"packard\", \"packard\", \"pain\", \"pain\", \"pain\", \"pain\", \"palestinian\", \"palestinians\", \"palette\", \"panicking\", \"paradox\", \"paranoid\", \"parity\", \"parliament\", \"partition\", \"partition\", \"passages\", \"passover\", \"patch\", \"patches\", \"pathogens\", \"patient\", \"patients\", \"paul\", \"paul\", \"paul\", \"paul\", \"paul\", \"paul\", \"paul\", \"paying\", \"paying\", \"peace\", \"peace\", \"peace\", \"peace\", \"peace\", \"pens\", \"people\", \"people\", \"people\", \"people\", \"people\", \"people\", \"people\", \"people\", \"period\", \"period\", \"period\", \"period\", \"period\", \"period\", \"period\", \"period\", \"period\", \"perry\", \"perry\", \"person\", \"person\", \"person\", \"person\", \"person\", \"person\", \"person\", \"person\", \"person\", \"person\", \"philadelphia\", \"philadelphia\", \"philadelphia\", \"phillies\", \"phone\", \"phone\", \"phone\", \"phone\", \"phone\", \"phones\", \"phrase\", \"phrase\", \"phrases\", \"pierce\", \"pinouts\", \"pistol\", \"pitched\", \"pitching\", \"pittsburgh\", \"pittsburgh\", \"pittsburgh\", \"pittsburgh\", \"pixel\", \"pixmap\", \"plaintext\", \"plane\", \"plane\", \"plane\", \"planetary\", \"plants\", \"plastic\", \"plastic\", \"play\", \"play\", \"play\", \"play\", \"play\", \"play\", \"played\", \"played\", \"played\", \"played\", \"player\", \"player\", \"players\", \"playing\", \"playing\", \"playing\", \"playing\", \"playing\", \"playoff\", \"playoffs\", \"please\", \"please\", \"please\", \"please\", \"please\", \"please\", \"please\", \"please\", \"please\", \"please\", \"pmetzger\", \"point\", \"point\", \"point\", \"point\", \"point\", \"point\", \"point\", \"point\", \"point\", \"point\", \"point\", \"points\", \"points\", \"points\", \"points\", \"points\", \"points\", \"points\", \"police\", \"police\", \"police\", \"police\", \"police\", \"port\", \"port\", \"post\", \"post\", \"post\", \"post\", \"post\", \"post\", \"post\", \"post\", \"posted\", \"posted\", \"posted\", \"posted\", \"posted\", \"posted\", \"posted\", \"posted\", \"posted\", \"posted\", \"posting\", \"posting\", \"posting\", \"posting\", \"posting\", \"posting\", \"posting\", \"posting\", \"power\", \"power\", \"power\", \"power\", \"power\", \"power\", \"power\", \"power\", \"power\", \"power\", \"power\", \"premise\", \"premises\", \"presentation\", \"presentation\", \"presentation\", \"presentations\", \"presentations\", \"presentations\", \"president\", \"president\", \"president\", \"press\", \"press\", \"press\", \"press\", \"press\", \"prevention\", \"price\", \"price\", \"price\", \"price\", \"price\", \"price\", \"price\", \"printer\", \"printer\", \"printf\", \"prison\", \"prison\", \"prisoners\", \"privacy\", \"privacy\", \"private\", \"private\", \"private\", \"private\", \"problem\", \"problem\", \"problem\", \"problem\", \"problem\", \"problem\", \"problem\", \"proceedings\", \"proceedings\", \"proceeds\", \"prog\", \"program\", \"program\", \"program\", \"program\", \"program\", \"program\", \"programmer\", \"programs\", \"programs\", \"programs\", \"programs\", \"programs\", \"programs\", \"programs\", \"programs\", \"projector\", \"promo\", \"prompt\", \"property\", \"property\", \"property\", \"prophet\", \"propulsion\", \"protocols\", \"public\", \"public\", \"public\", \"public\", \"public\", \"publisher\", \"publisher\", \"puck\", \"pulse\", \"qemm\", \"quadra\", \"quebec\", \"question\", \"question\", \"question\", \"question\", \"question\", \"question\", \"question\", \"rack\", \"radar\", \"radar\", \"radius\", \"radius\", \"raise\", \"raise\", \"rate\", \"rate\", \"rate\", \"rate\", \"rate\", \"rates\", \"rates\", \"rates\", \"rates\", \"reactions\", \"reactions\", \"read\", \"read\", \"read\", \"read\", \"read\", \"read\", \"read\", \"read\", \"read\", \"reality\", \"reality\", \"reality\", \"reality\", \"reality\", \"really\", \"really\", \"really\", \"really\", \"really\", \"really\", \"really\", \"rear\", \"reason\", \"reason\", \"reason\", \"reason\", \"reason\", \"reason\", \"reason\", \"reason\", \"reasoning\", \"reasoning\", \"recchi\", \"recchi\", \"receiver\", \"receiver\", \"receiver\", \"rectangular\", \"regulated\", \"relates\", \"religion\", \"religion\", \"religion\", \"religion\", \"religions\", \"religions\", \"remark\", \"remark\", \"remark\", \"remarks\", \"remarks\", \"remarks\", \"remember\", \"remember\", \"remember\", \"remember\", \"remember\", \"remember\", \"remember\", \"remember\", \"reported\", \"reported\", \"reported\", \"reported\", \"reported\", \"republic\", \"republic\", \"request\", \"request\", \"request\", \"request\", \"request\", \"requests\", \"requests\", \"requests\", \"research\", \"research\", \"research\", \"research\", \"research\", \"research\", \"research\", \"research\", \"reserve\", \"reserve\", \"resource\", \"resource\", \"resource\", \"restaurant\", \"restaurant\", \"restaurants\", \"resurrection\", \"retail\", \"return\", \"return\", \"return\", \"return\", \"return\", \"return\", \"return\", \"return\", \"return\", \"return\", \"return\", \"revelation\", \"rickey\", \"ride\", \"riders\", \"riding\", \"riding\", \"rifle\", \"right\", \"right\", \"right\", \"right\", \"right\", \"right\", \"right\", \"right\", \"right\", \"right\", \"right\", \"right\", \"rights\", \"rights\", \"rights\", \"rights\", \"rights\", \"ripem\", \"risks\", \"rkba\", \"robert\", \"robert\", \"robert\", \"robert\", \"robert\", \"robert\", \"robert\", \"robert\", \"rockefeller\", \"rocket\", \"rocket\", \"rocket\", \"rocket\", \"rocket\", \"roenick\", \"routines\", \"rubber\", \"rules\", \"rules\", \"rules\", \"rules\", \"rules\", \"runs\", \"runs\", \"runs\", \"runs\", \"runs\", \"runs\", \"russia\", \"russian\", \"russian\", \"rutgers\", \"sabbath\", \"safety\", \"safety\", \"safety\", \"safety\", \"said\", \"said\", \"said\", \"said\", \"said\", \"said\", \"said\", \"said\", \"said\", \"sale\", \"sale\", \"salvation\", \"sandstrom\", \"satan\", \"satan\", \"satellite\", \"satellite\", \"satellites\", \"saves\", \"saves\", \"saves\", \"says\", \"says\", \"says\", \"says\", \"says\", \"says\", \"says\", \"says\", \"says\", \"scheme\", \"schism\", \"schismatic\", \"science\", \"science\", \"science\", \"science\", \"science\", \"score\", \"scored\", \"scorer\", \"scoring\", \"scoring\", \"screen\", \"screen\", \"screen\", \"script\", \"scripture\", \"scrolling\", \"scsi\", \"sdpa\", \"season\", \"second\", \"second\", \"second\", \"second\", \"second\", \"second\", \"second\", \"second\", \"second\", \"second\", \"second\", \"second\", \"second\", \"secret\", \"secret\", \"secret\", \"section\", \"section\", \"section\", \"section\", \"section\", \"section\", \"section\", \"section\", \"section\", \"sector\", \"secure\", \"secure\", \"security\", \"security\", \"security\", \"security\", \"seems\", \"seems\", \"seems\", \"seems\", \"seems\", \"seems\", \"seems\", \"seems\", \"sega\", \"seizure\", \"seizures\", \"seizures\", \"self\", \"self\", \"self\", \"self\", \"self\", \"self\", \"seller\", \"semi\", \"semi\", \"semi\", \"semi\", \"semi\", \"seminar\", \"senator\", \"send\", \"send\", \"send\", \"send\", \"send\", \"send\", \"send\", \"senior\", \"senior\", \"senior\", \"sense\", \"sense\", \"sense\", \"sense\", \"sense\", \"sense\", \"sense\", \"sequences\", \"serdar\", \"series\", \"series\", \"series\", \"series\", \"series\", \"series\", \"series\", \"series\", \"series\", \"server\", \"servers\", \"service\", \"service\", \"service\", \"service\", \"service\", \"service\", \"service\", \"shah\", \"shall\", \"shall\", \"shall\", \"shall\", \"shall\", \"shameful\", \"shanahan\", \"shareware\", \"sharks\", \"shearson\", \"shipping\", \"shipping\", \"ships\", \"shotgun\", \"shots\", \"shots\", \"shots\", \"shouting\", \"shuttle\", \"simms\", \"since\", \"since\", \"since\", \"since\", \"since\", \"since\", \"since\", \"since\", \"since\", \"since\", \"since\", \"since\", \"since\", \"size\", \"size\", \"size\", \"size\", \"size\", \"size\", \"skepticism\", \"skip\", \"sleeve\", \"slots\", \"smartdrive\", \"smoked\", \"smokeless\", \"smokers\", \"smythe\", \"snail\", \"sockets\", \"software\", \"software\", \"software\", \"software\", \"software\", \"solar\", \"soldiers\", \"soldiers\", \"something\", \"something\", \"something\", \"something\", \"something\", \"something\", \"something\", \"sony\", \"sony\", \"sony\", \"soul\", \"source\", \"source\", \"source\", \"source\", \"source\", \"source\", \"source\", \"source\", \"source\", \"source\", \"south\", \"south\", \"south\", \"south\", \"soviet\", \"soviet\", \"space\", \"space\", \"spacecraft\", \"spare\", \"spectrum\", \"spectrum\", \"spectrum\", \"spectrum\", \"speedstar\", \"sphere\", \"spirit\", \"spirit\", \"sqrt\", \"started\", \"started\", \"started\", \"started\", \"started\", \"started\", \"state\", \"state\", \"state\", \"state\", \"state\", \"state\", \"state\", \"state\", \"state\", \"state\", \"statement\", \"statement\", \"statement\", \"statement\", \"statement\", \"states\", \"states\", \"states\", \"states\", \"states\", \"states\", \"states\", \"station\", \"station\", \"station\", \"station\", \"station\", \"steel\", \"steel\", \"steer\", \"stereo\", \"stevens\", \"stewart\", \"still\", \"still\", \"still\", \"still\", \"still\", \"still\", \"still\", \"still\", \"still\", \"still\", \"still\", \"stimulus\", \"stopping\", \"strangers\", \"stream\", \"string\", \"string\", \"study\", \"study\", \"study\", \"study\", \"study\", \"study\", \"study\", \"subjective\", \"subscribe\", \"subscribe\", \"sugar\", \"suicide\", \"suicide\", \"sumgait\", \"sunos\", \"sure\", \"sure\", \"sure\", \"sure\", \"sure\", \"sure\", \"sure\", \"sure\", \"sure\", \"sure\", \"surface\", \"surface\", \"surface\", \"surface\", \"surface\", \"surface\", \"surface\", \"surface\", \"surrender\", \"surrender\", \"suter\", \"svga\", \"swap\", \"symptoms\", \"symptoms\", \"syndrome\", \"system\", \"system\", \"system\", \"system\", \"system\", \"system\", \"system\", \"system\", \"system\", \"system\", \"systems\", \"systems\", \"systems\", \"systems\", \"systems\", \"systems\", \"systems\", \"take\", \"take\", \"take\", \"take\", \"take\", \"take\", \"take\", \"take\", \"take\", \"take\", \"tape\", \"tape\", \"tape\", \"tape\", \"tape\", \"taste\", \"taste\", \"taste\", \"taxes\", \"taxes\", \"team\", \"team\", \"team\", \"teams\", \"technical\", \"technical\", \"technical\", \"technical\", \"technical\", \"technology\", \"technology\", \"technology\", \"technology\", \"technology\", \"technology\", \"telepathy\", \"telescope\", \"temp\", \"temp\", \"terminals\", \"testament\", \"texts\", \"thanks\", \"thanks\", \"thanks\", \"thanks\", \"thanks\", \"thanks\", \"thanks\", \"thanks\", \"theist\", \"therapies\", \"therapy\", \"thing\", \"thing\", \"thing\", \"thing\", \"thing\", \"thing\", \"things\", \"things\", \"things\", \"things\", \"things\", \"things\", \"things\", \"think\", \"think\", \"think\", \"think\", \"think\", \"think\", \"third\", \"third\", \"third\", \"third\", \"third\", \"third\", \"third\", \"third\", \"third\", \"third\", \"thou\", \"threat\", \"threat\", \"threat\", \"throttle\", \"thumb\", \"time\", \"time\", \"time\", \"time\", \"time\", \"time\", \"time\", \"time\", \"time\", \"time\", \"time\", \"time\", \"time\", \"tire\", \"tire\", \"tires\", \"tires\", \"title\", \"title\", \"title\", \"title\", \"title\", \"title\", \"title\", \"title\", \"tobacco\", \"tobacco\", \"tocchet\", \"today\", \"today\", \"today\", \"today\", \"today\", \"today\", \"today\", \"today\", \"told\", \"told\", \"told\", \"told\", \"told\", \"told\", \"tomorrow\", \"tomorrow\", \"took\", \"took\", \"took\", \"took\", \"took\", \"took\", \"toolkit\", \"toolkits\", \"topics\", \"topics\", \"topics\", \"toronto\", \"toronto\", \"toronto\", \"toshiba\", \"toyota\", \"traction\", \"transfers\", \"tray\", \"treatment\", \"treatment\", \"treatment\", \"treatment\", \"treatments\", \"treatments\", \"trinity\", \"troops\", \"troops\", \"true\", \"true\", \"true\", \"true\", \"true\", \"true\", \"true\", \"true\", \"true\", \"true\", \"truetype\", \"truth\", \"truth\", \"truth\", \"tube\", \"tube\", \"turkey\", \"turkey\", \"turkish\", \"turks\", \"tutorial\", \"tyranny\", \"tyre\", \"unassisted\", \"understand\", \"understand\", \"understand\", \"understand\", \"understand\", \"understand\", \"understand\", \"unit\", \"unit\", \"unit\", \"unit\", \"unit\", \"united\", \"united\", \"united\", \"universe\", \"university\", \"university\", \"university\", \"university\", \"university\", \"university\", \"university\", \"unix\", \"unix\", \"unto\", \"upgrade\", \"upgrade\", \"upgrade\", \"used\", \"used\", \"used\", \"used\", \"used\", \"used\", \"used\", \"used\", \"used\", \"used\", \"used\", \"usenet\", \"usenet\", \"user\", \"user\", \"user\", \"using\", \"using\", \"using\", \"using\", \"using\", \"using\", \"using\", \"using\", \"uucp\", \"uucp\", \"uucp\", \"uuencode\", \"vancouver\", \"vancouver\", \"vancouver\", \"vancouver\", \"vatican\", \"venus\", \"vernon\", \"vernon\", \"version\", \"version\", \"version\", \"version\", \"version\", \"version\", \"version\", \"version\", \"vesa\", \"video\", \"video\", \"video\", \"video\", \"video\", \"viola\", \"violation\", \"violation\", \"virtual\", \"virtual\", \"virtual\", \"virtual\", \"visual\", \"visual\", \"vitamin\", \"voltage\", \"voltage\", \"volume\", \"volume\", \"volume\", \"volume\", \"volume\", \"volvo\", \"vpic\", \"vram\", \"waco\", \"waco\", \"wales\", \"want\", \"want\", \"want\", \"want\", \"want\", \"want\", \"want\", \"wanted\", \"wanted\", \"wanted\", \"wanted\", \"wanted\", \"wanted\", \"wanted\", \"warrant\", \"warranty\", \"warsaw\", \"washer\", \"washington\", \"washington\", \"washington\", \"washington\", \"washington\", \"washington\", \"washington\", \"water\", \"water\", \"water\", \"water\", \"weapon\", \"weapons\", \"weapons\", \"weapons\", \"weapons\", \"weaver\", \"weekend\", \"weeks\", \"weeks\", \"weeks\", \"weeks\", \"weeks\", \"weeks\", \"well\", \"well\", \"well\", \"well\", \"well\", \"well\", \"well\", \"well\", \"well\", \"well\", \"well\", \"well\", \"well\", \"went\", \"went\", \"went\", \"western\", \"western\", \"western\", \"western\", \"western\", \"whether\", \"whether\", \"whether\", \"whether\", \"whether\", \"whether\", \"whether\", \"whether\", \"widget\", \"widgets\", \"width\", \"width\", \"width\", \"window\", \"window\", \"windows\", \"windows\", \"windows\", \"winnipeg\", \"winnipeg\", \"wipe\", \"wire\", \"wire\", \"wires\", \"wiretap\", \"wiring\", \"without\", \"without\", \"without\", \"without\", \"without\", \"without\", \"without\", \"without\", \"without\", \"without\", \"without\", \"without\", \"women\", \"women\", \"women\", \"women\", \"women\", \"women\", \"women\", \"word\", \"word\", \"word\", \"word\", \"word\", \"word\", \"word\", \"word\", \"word\", \"word\", \"wordperfect\", \"work\", \"work\", \"work\", \"work\", \"work\", \"work\", \"work\", \"work\", \"work\", \"work\", \"worker\", \"workspace\", \"world\", \"world\", \"world\", \"world\", \"world\", \"world\", \"world\", \"world\", \"worship\", \"would\", \"would\", \"would\", \"would\", \"would\", \"would\", \"would\", \"would\", \"would\", \"would\", \"would\", \"would\", \"wounded\", \"write\", \"write\", \"write\", \"write\", \"write\", \"write\", \"write\", \"write\", \"write\", \"wrong\", \"wrong\", \"wrong\", \"wrong\", \"wrong\", \"wrong\", \"wrong\", \"xlib\", \"xlib\", \"xputimage\", \"xterm\", \"xxxxx\", \"yeah\", \"yeah\", \"yeah\", \"year\", \"year\", \"year\", \"year\", \"year\", \"year\", \"year\", \"year\", \"years\", \"years\", \"years\", \"years\", \"years\", \"years\", \"years\", \"years\", \"years\", \"years\", \"years\", \"zinc\", \"zionist\"]}, \"R\": 30, \"lambda.step\": 0.01, \"plot.opts\": {\"xlab\": \"PC1\", \"ylab\": \"PC2\"}, \"topic.order\": [20, 3, 2, 9, 6, 17, 7, 1, 11, 5, 16, 13, 8, 10, 19, 12, 18, 4, 15, 14]};\n",
       "\n",
       "function LDAvis_load_lib(url, callback){\n",
       "  var s = document.createElement('script');\n",
       "  s.src = url;\n",
       "  s.async = true;\n",
       "  s.onreadystatechange = s.onload = callback;\n",
       "  s.onerror = function(){console.warn(\"failed to load library \" + url);};\n",
       "  document.getElementsByTagName(\"head\")[0].appendChild(s);\n",
       "}\n",
       "\n",
       "if(typeof(LDAvis) !== \"undefined\"){\n",
       "   // already loaded: just create the visualization\n",
       "   !function(LDAvis){\n",
       "       new LDAvis(\"#\" + \"ldavis_el5118425184921623764522781221\", ldavis_el5118425184921623764522781221_data);\n",
       "   }(LDAvis);\n",
       "}else if(typeof define === \"function\" && define.amd){\n",
       "   // require.js is available: use it to load d3/LDAvis\n",
       "   require.config({paths: {d3: \"https://cdnjs.cloudflare.com/ajax/libs/d3/3.5.5/d3.min\"}});\n",
       "   require([\"d3\"], function(d3){\n",
       "      window.d3 = d3;\n",
       "      LDAvis_load_lib(\"https://cdn.rawgit.com/bmabey/pyLDAvis/files/ldavis.v1.0.0.js\", function(){\n",
       "        new LDAvis(\"#\" + \"ldavis_el5118425184921623764522781221\", ldavis_el5118425184921623764522781221_data);\n",
       "      });\n",
       "    });\n",
       "}else{\n",
       "    // require.js not available: dynamically load d3 & LDAvis\n",
       "    LDAvis_load_lib(\"https://cdnjs.cloudflare.com/ajax/libs/d3/3.5.5/d3.min.js\", function(){\n",
       "         LDAvis_load_lib(\"https://cdn.rawgit.com/bmabey/pyLDAvis/files/ldavis.v1.0.0.js\", function(){\n",
       "                 new LDAvis(\"#\" + \"ldavis_el5118425184921623764522781221\", ldavis_el5118425184921623764522781221_data);\n",
       "            })\n",
       "         });\n",
       "}\n",
       "</script>"
      ],
      "text/plain": [
       "<IPython.core.display.HTML object>"
      ]
     },
     "execution_count": 30,
     "metadata": {},
     "output_type": "execute_result"
    }
   ],
   "source": [
    "import pyLDAvis.gensim\n",
    "pyLDAvis.enable_notebook()\n",
    "vis = pyLDAvis.gensim.prepare(ldamodel, corpus, dictionary)\n",
    "pyLDAvis.display(vis)"
   ]
  },
  {
   "cell_type": "markdown",
   "metadata": {},
   "source": [
    "####  문서 별 토픽 분포 보기"
   ]
  },
  {
   "cell_type": "code",
   "execution_count": 31,
   "metadata": {},
   "outputs": [
    {
     "name": "stdout",
     "output_type": "stream",
     "text": [
      "0 번째 문서의 topic 비율은 [(2, 0.43362376), (12, 0.11234042), (16, 0.28375313), (18, 0.15736765)]\n",
      "1 번째 문서의 topic 비율은 [(2, 0.39014995), (4, 0.06535141), (8, 0.037178494), (19, 0.48623967)]\n",
      "2 번째 문서의 topic 비율은 [(2, 0.39712596), (6, 0.022838457), (8, 0.11906457), (12, 0.31123307), (19, 0.13757186)]\n",
      "3 번째 문서의 topic 비율은 [(8, 0.65977335), (19, 0.32591808)]\n",
      "4 번째 문서의 topic 비율은 [(0, 0.5759439), (9, 0.07839137), (19, 0.3141743)]\n"
     ]
    }
   ],
   "source": [
    "for i, topic_list in enumerate(ldamodel[corpus]):\n",
    "    if i==5:\n",
    "        break\n",
    "    print(i,'번째 문서의 topic 비율은',topic_list)"
   ]
  },
  {
   "cell_type": "code",
   "execution_count": 32,
   "metadata": {},
   "outputs": [],
   "source": [
    "def make_topictable_per_doc(ldamodel, corpus):\n",
    "    topic_table = pd.DataFrame()\n",
    "\n",
    "    # 몇 번째 문서인지를 의미하는 문서 번호와 해당 문서의 토픽 비중을 한 줄씩 꺼내온다.\n",
    "    for i, topic_list in enumerate(ldamodel[corpus]):\n",
    "        doc = topic_list[0] if ldamodel.per_word_topics else topic_list            \n",
    "        doc = sorted(doc, key=lambda x: (x[1]), reverse=True)\n",
    "        # 각 문서에 대해서 비중이 높은 토픽순으로 토픽을 정렬한다.\n",
    "        # EX) 정렬 전 0번 문서 : (2번 토픽, 48.5%), (8번 토픽, 25%), (10번 토픽, 5%), (12번 토픽, 21.5%), \n",
    "        # Ex) 정렬 후 0번 문서 : (2번 토픽, 48.5%), (8번 토픽, 25%), (12번 토픽, 21.5%), (10번 토픽, 5%)\n",
    "        # 48 > 25 > 21 > 5 순으로 정렬이 된 것.\n",
    "\n",
    "        # 모든 문서에 대해서 각각 아래를 수행\n",
    "        for j, (topic_num, prop_topic) in enumerate(doc): #  몇 번 토픽인지와 비중을 나눠서 저장한다.\n",
    "            if j == 0:  # 정렬을 한 상태이므로 가장 앞에 있는 것이 가장 비중이 높은 토픽\n",
    "                topic_table = topic_table.append(pd.Series([int(topic_num), round(prop_topic,4), topic_list]), ignore_index=True)\n",
    "                # 가장 비중이 높은 토픽과, 가장 비중이 높은 토픽의 비중과, 전체 토픽의 비중을 저장한다.\n",
    "            else:\n",
    "                break\n",
    "    return(topic_table)"
   ]
  },
  {
   "cell_type": "code",
   "execution_count": 33,
   "metadata": {},
   "outputs": [
    {
     "data": {
      "text/html": [
       "<div>\n",
       "<style scoped>\n",
       "    .dataframe tbody tr th:only-of-type {\n",
       "        vertical-align: middle;\n",
       "    }\n",
       "\n",
       "    .dataframe tbody tr th {\n",
       "        vertical-align: top;\n",
       "    }\n",
       "\n",
       "    .dataframe thead th {\n",
       "        text-align: right;\n",
       "    }\n",
       "</style>\n",
       "<table border=\"1\" class=\"dataframe\">\n",
       "  <thead>\n",
       "    <tr style=\"text-align: right;\">\n",
       "      <th></th>\n",
       "      <th>문서 번호</th>\n",
       "      <th>가장 비중이 높은 토픽</th>\n",
       "      <th>가장 높은 토픽의 비중</th>\n",
       "      <th>각 토픽의 비중</th>\n",
       "    </tr>\n",
       "  </thead>\n",
       "  <tbody>\n",
       "    <tr>\n",
       "      <th>0</th>\n",
       "      <td>0</td>\n",
       "      <td>2.0</td>\n",
       "      <td>0.4336</td>\n",
       "      <td>[(2, 0.43361208), (12, 0.11234203), (16, 0.283...</td>\n",
       "    </tr>\n",
       "    <tr>\n",
       "      <th>1</th>\n",
       "      <td>1</td>\n",
       "      <td>19.0</td>\n",
       "      <td>0.4862</td>\n",
       "      <td>[(2, 0.39018586), (4, 0.06535015), (8, 0.03718...</td>\n",
       "    </tr>\n",
       "    <tr>\n",
       "      <th>2</th>\n",
       "      <td>2</td>\n",
       "      <td>2.0</td>\n",
       "      <td>0.3971</td>\n",
       "      <td>[(2, 0.39709482), (6, 0.02283877), (8, 0.11906...</td>\n",
       "    </tr>\n",
       "    <tr>\n",
       "      <th>3</th>\n",
       "      <td>3</td>\n",
       "      <td>8.0</td>\n",
       "      <td>0.6597</td>\n",
       "      <td>[(8, 0.65972567), (19, 0.3259658)]</td>\n",
       "    </tr>\n",
       "    <tr>\n",
       "      <th>4</th>\n",
       "      <td>4</td>\n",
       "      <td>0.0</td>\n",
       "      <td>0.5759</td>\n",
       "      <td>[(0, 0.5758711), (9, 0.07837416), (19, 0.31426...</td>\n",
       "    </tr>\n",
       "    <tr>\n",
       "      <th>5</th>\n",
       "      <td>5</td>\n",
       "      <td>4.0</td>\n",
       "      <td>0.3672</td>\n",
       "      <td>[(2, 0.33257926), (4, 0.36715406), (6, 0.14956...</td>\n",
       "    </tr>\n",
       "    <tr>\n",
       "      <th>6</th>\n",
       "      <td>6</td>\n",
       "      <td>5.0</td>\n",
       "      <td>0.3389</td>\n",
       "      <td>[(0, 0.062628195), (1, 0.115001656), (2, 0.285...</td>\n",
       "    </tr>\n",
       "    <tr>\n",
       "      <th>7</th>\n",
       "      <td>7</td>\n",
       "      <td>2.0</td>\n",
       "      <td>0.5966</td>\n",
       "      <td>[(2, 0.59655726), (8, 0.047016833), (12, 0.233...</td>\n",
       "    </tr>\n",
       "    <tr>\n",
       "      <th>8</th>\n",
       "      <td>8</td>\n",
       "      <td>19.0</td>\n",
       "      <td>0.4999</td>\n",
       "      <td>[(0, 0.18634029), (1, 0.11597463), (10, 0.0368...</td>\n",
       "    </tr>\n",
       "    <tr>\n",
       "      <th>9</th>\n",
       "      <td>9</td>\n",
       "      <td>8.0</td>\n",
       "      <td>0.5115</td>\n",
       "      <td>[(2, 0.04279843), (5, 0.08068991), (8, 0.51151...</td>\n",
       "    </tr>\n",
       "  </tbody>\n",
       "</table>\n",
       "</div>"
      ],
      "text/plain": [
       "   문서 번호  가장 비중이 높은 토픽  가장 높은 토픽의 비중  \\\n",
       "0      0           2.0        0.4336   \n",
       "1      1          19.0        0.4862   \n",
       "2      2           2.0        0.3971   \n",
       "3      3           8.0        0.6597   \n",
       "4      4           0.0        0.5759   \n",
       "5      5           4.0        0.3672   \n",
       "6      6           5.0        0.3389   \n",
       "7      7           2.0        0.5966   \n",
       "8      8          19.0        0.4999   \n",
       "9      9           8.0        0.5115   \n",
       "\n",
       "                                            각 토픽의 비중  \n",
       "0  [(2, 0.43361208), (12, 0.11234203), (16, 0.283...  \n",
       "1  [(2, 0.39018586), (4, 0.06535015), (8, 0.03718...  \n",
       "2  [(2, 0.39709482), (6, 0.02283877), (8, 0.11906...  \n",
       "3                 [(8, 0.65972567), (19, 0.3259658)]  \n",
       "4  [(0, 0.5758711), (9, 0.07837416), (19, 0.31426...  \n",
       "5  [(2, 0.33257926), (4, 0.36715406), (6, 0.14956...  \n",
       "6  [(0, 0.062628195), (1, 0.115001656), (2, 0.285...  \n",
       "7  [(2, 0.59655726), (8, 0.047016833), (12, 0.233...  \n",
       "8  [(0, 0.18634029), (1, 0.11597463), (10, 0.0368...  \n",
       "9  [(2, 0.04279843), (5, 0.08068991), (8, 0.51151...  "
      ]
     },
     "execution_count": 33,
     "metadata": {},
     "output_type": "execute_result"
    }
   ],
   "source": [
    "topictable = make_topictable_per_doc(ldamodel, corpus)\n",
    "topictable = topictable.reset_index() # 문서 번호을 의미하는 열(column)로 사용하기 위해서 인덱스 열을 하나 더 만든다.\n",
    "topictable.columns = ['문서 번호', '가장 비중이 높은 토픽', '가장 높은 토픽의 비중', '각 토픽의 비중']\n",
    "topictable[:10]"
   ]
  },
  {
   "cell_type": "markdown",
   "metadata": {},
   "source": [
    "###  잠재 디리클레 할당(LDA) 구현 : 뉴스 기사 헤드라인 "
   ]
  },
  {
   "cell_type": "code",
   "execution_count": 34,
   "metadata": {},
   "outputs": [],
   "source": [
    "import pandas as pd\n",
    "import urllib.request\n",
    "urllib.request.urlretrieve(\"https://raw.githubusercontent.com/franciscadias/data/master/abcnews-date-text.csv\", filename=\"abcnews-date-text.csv\")\n",
    "data = pd.read_csv('abcnews-date-text.csv', error_bad_lines=False)"
   ]
  },
  {
   "cell_type": "code",
   "execution_count": 35,
   "metadata": {},
   "outputs": [
    {
     "name": "stdout",
     "output_type": "stream",
     "text": [
      "1082168\n"
     ]
    }
   ],
   "source": [
    "print(len(data))"
   ]
  },
  {
   "cell_type": "code",
   "execution_count": 36,
   "metadata": {},
   "outputs": [
    {
     "name": "stdout",
     "output_type": "stream",
     "text": [
      "   publish_date                                      headline_text\n",
      "0      20030219  aba decides against community broadcasting lic...\n",
      "1      20030219     act fire witnesses must be aware of defamation\n",
      "2      20030219     a g calls for infrastructure protection summit\n",
      "3      20030219           air nz staff in aust strike for pay rise\n",
      "4      20030219      air nz strike to affect australian travellers\n"
     ]
    }
   ],
   "source": [
    "print(data.head(5))"
   ]
  },
  {
   "cell_type": "code",
   "execution_count": 37,
   "metadata": {},
   "outputs": [
    {
     "data": {
      "text/html": [
       "<div>\n",
       "<style scoped>\n",
       "    .dataframe tbody tr th:only-of-type {\n",
       "        vertical-align: middle;\n",
       "    }\n",
       "\n",
       "    .dataframe tbody tr th {\n",
       "        vertical-align: top;\n",
       "    }\n",
       "\n",
       "    .dataframe thead th {\n",
       "        text-align: right;\n",
       "    }\n",
       "</style>\n",
       "<table border=\"1\" class=\"dataframe\">\n",
       "  <thead>\n",
       "    <tr style=\"text-align: right;\">\n",
       "      <th></th>\n",
       "      <th>headline_text</th>\n",
       "    </tr>\n",
       "  </thead>\n",
       "  <tbody>\n",
       "    <tr>\n",
       "      <th>0</th>\n",
       "      <td>aba decides against community broadcasting lic...</td>\n",
       "    </tr>\n",
       "    <tr>\n",
       "      <th>1</th>\n",
       "      <td>act fire witnesses must be aware of defamation</td>\n",
       "    </tr>\n",
       "    <tr>\n",
       "      <th>2</th>\n",
       "      <td>a g calls for infrastructure protection summit</td>\n",
       "    </tr>\n",
       "    <tr>\n",
       "      <th>3</th>\n",
       "      <td>air nz staff in aust strike for pay rise</td>\n",
       "    </tr>\n",
       "    <tr>\n",
       "      <th>4</th>\n",
       "      <td>air nz strike to affect australian travellers</td>\n",
       "    </tr>\n",
       "  </tbody>\n",
       "</table>\n",
       "</div>"
      ],
      "text/plain": [
       "                                       headline_text\n",
       "0  aba decides against community broadcasting lic...\n",
       "1     act fire witnesses must be aware of defamation\n",
       "2     a g calls for infrastructure protection summit\n",
       "3           air nz staff in aust strike for pay rise\n",
       "4      air nz strike to affect australian travellers"
      ]
     },
     "execution_count": 37,
     "metadata": {},
     "output_type": "execute_result"
    }
   ],
   "source": [
    "text = data[['headline_text']]\n",
    "text.head(5)"
   ]
  },
  {
   "cell_type": "code",
   "execution_count": 38,
   "metadata": {},
   "outputs": [
    {
     "name": "stderr",
     "output_type": "stream",
     "text": [
      "C:\\ProgramData\\Anaconda3\\envs\\tf20\\lib\\site-packages\\ipykernel_launcher.py:3: SettingWithCopyWarning: \n",
      "A value is trying to be set on a copy of a slice from a DataFrame.\n",
      "Try using .loc[row_indexer,col_indexer] = value instead\n",
      "\n",
      "See the caveats in the documentation: https://pandas.pydata.org/pandas-docs/stable/user_guide/indexing.html#returning-a-view-versus-a-copy\n",
      "  This is separate from the ipykernel package so we can avoid doing imports until\n"
     ]
    }
   ],
   "source": [
    "# 텍스트 전처리\n",
    "import nltk\n",
    "text['headline_text'] = text.apply(lambda row: nltk.word_tokenize(row['headline_text']), axis=1)"
   ]
  },
  {
   "cell_type": "code",
   "execution_count": 39,
   "metadata": {},
   "outputs": [
    {
     "name": "stdout",
     "output_type": "stream",
     "text": [
      "                                       headline_text\n",
      "0  [aba, decides, against, community, broadcastin...\n",
      "1  [act, fire, witnesses, must, be, aware, of, de...\n",
      "2  [a, g, calls, for, infrastructure, protection,...\n",
      "3  [air, nz, staff, in, aust, strike, for, pay, r...\n",
      "4  [air, nz, strike, to, affect, australian, trav...\n"
     ]
    }
   ],
   "source": [
    "print(text.head(5))"
   ]
  },
  {
   "cell_type": "code",
   "execution_count": 40,
   "metadata": {},
   "outputs": [
    {
     "name": "stderr",
     "output_type": "stream",
     "text": [
      "C:\\ProgramData\\Anaconda3\\envs\\tf20\\lib\\site-packages\\ipykernel_launcher.py:3: SettingWithCopyWarning: \n",
      "A value is trying to be set on a copy of a slice from a DataFrame.\n",
      "Try using .loc[row_indexer,col_indexer] = value instead\n",
      "\n",
      "See the caveats in the documentation: https://pandas.pydata.org/pandas-docs/stable/user_guide/indexing.html#returning-a-view-versus-a-copy\n",
      "  This is separate from the ipykernel package so we can avoid doing imports until\n"
     ]
    }
   ],
   "source": [
    "from nltk.corpus import stopwords\n",
    "stop = stopwords.words('english')\n",
    "text['headline_text'] = text['headline_text'].apply(lambda x: [word for word in x if word not in (stop)])"
   ]
  },
  {
   "cell_type": "code",
   "execution_count": 41,
   "metadata": {},
   "outputs": [
    {
     "name": "stdout",
     "output_type": "stream",
     "text": [
      "                                       headline_text\n",
      "0   [aba, decides, community, broadcasting, licence]\n",
      "1    [act, fire, witnesses, must, aware, defamation]\n",
      "2     [g, calls, infrastructure, protection, summit]\n",
      "3          [air, nz, staff, aust, strike, pay, rise]\n",
      "4  [air, nz, strike, affect, australian, travellers]\n"
     ]
    }
   ],
   "source": [
    "print(text.head(5))"
   ]
  },
  {
   "cell_type": "code",
   "execution_count": 42,
   "metadata": {},
   "outputs": [
    {
     "name": "stdout",
     "output_type": "stream",
     "text": [
      "                                       headline_text\n",
      "0       [aba, decide, community, broadcast, licence]\n",
      "1      [act, fire, witness, must, aware, defamation]\n",
      "2      [g, call, infrastructure, protection, summit]\n",
      "3          [air, nz, staff, aust, strike, pay, rise]\n",
      "4  [air, nz, strike, affect, australian, travellers]\n"
     ]
    },
    {
     "name": "stderr",
     "output_type": "stream",
     "text": [
      "C:\\ProgramData\\Anaconda3\\envs\\tf20\\lib\\site-packages\\ipykernel_launcher.py:2: SettingWithCopyWarning: \n",
      "A value is trying to be set on a copy of a slice from a DataFrame.\n",
      "Try using .loc[row_indexer,col_indexer] = value instead\n",
      "\n",
      "See the caveats in the documentation: https://pandas.pydata.org/pandas-docs/stable/user_guide/indexing.html#returning-a-view-versus-a-copy\n",
      "  \n"
     ]
    }
   ],
   "source": [
    "from nltk.stem import WordNetLemmatizer\n",
    "text['headline_text'] = text['headline_text'].apply(lambda x: [WordNetLemmatizer().lemmatize(word, pos='v') for word in x])\n",
    "print(text.head(5))"
   ]
  },
  {
   "cell_type": "code",
   "execution_count": 43,
   "metadata": {},
   "outputs": [
    {
     "name": "stdout",
     "output_type": "stream",
     "text": [
      "0       [decide, community, broadcast, licence]\n",
      "1      [fire, witness, must, aware, defamation]\n",
      "2    [call, infrastructure, protection, summit]\n",
      "3                   [staff, aust, strike, rise]\n",
      "4      [strike, affect, australian, travellers]\n",
      "Name: headline_text, dtype: object\n"
     ]
    }
   ],
   "source": [
    "tokenized_doc = text['headline_text'].apply(lambda x: [word for word in x if len(word) > 3])\n",
    "print(tokenized_doc[:5])"
   ]
  },
  {
   "cell_type": "markdown",
   "metadata": {},
   "source": [
    "#### TF-IDF 행렬 만들기"
   ]
  },
  {
   "cell_type": "code",
   "execution_count": 44,
   "metadata": {},
   "outputs": [
    {
     "name": "stderr",
     "output_type": "stream",
     "text": [
      "C:\\ProgramData\\Anaconda3\\envs\\tf20\\lib\\site-packages\\ipykernel_launcher.py:7: SettingWithCopyWarning: \n",
      "A value is trying to be set on a copy of a slice from a DataFrame.\n",
      "Try using .loc[row_indexer,col_indexer] = value instead\n",
      "\n",
      "See the caveats in the documentation: https://pandas.pydata.org/pandas-docs/stable/user_guide/indexing.html#returning-a-view-versus-a-copy\n",
      "  import sys\n"
     ]
    }
   ],
   "source": [
    "# 역토큰화 (토큰화 작업을 되돌림)\n",
    "detokenized_doc = []\n",
    "for i in range(len(text)):\n",
    "    t = ' '.join(tokenized_doc[i])\n",
    "    detokenized_doc.append(t)\n",
    "\n",
    "text['headline_text'] = detokenized_doc # 다시 text['headline_text']에 재저장"
   ]
  },
  {
   "cell_type": "code",
   "execution_count": 45,
   "metadata": {},
   "outputs": [
    {
     "data": {
      "text/plain": [
       "0       decide community broadcast licence\n",
       "1       fire witness must aware defamation\n",
       "2    call infrastructure protection summit\n",
       "3                   staff aust strike rise\n",
       "4      strike affect australian travellers\n",
       "Name: headline_text, dtype: object"
      ]
     },
     "execution_count": 45,
     "metadata": {},
     "output_type": "execute_result"
    }
   ],
   "source": [
    "text['headline_text'][:5]"
   ]
  },
  {
   "cell_type": "code",
   "execution_count": 46,
   "metadata": {},
   "outputs": [
    {
     "data": {
      "text/plain": [
       "(1082168, 1000)"
      ]
     },
     "execution_count": 46,
     "metadata": {},
     "output_type": "execute_result"
    }
   ],
   "source": [
    "from sklearn.feature_extraction.text import TfidfVectorizer\n",
    "vectorizer = TfidfVectorizer(stop_words='english', \n",
    "max_features= 1000) # 상위 1,000개의 단어를 보존 \n",
    "X = vectorizer.fit_transform(text['headline_text'])\n",
    "X.shape # TF-IDF 행렬의 크기 확인"
   ]
  },
  {
   "cell_type": "markdown",
   "metadata": {},
   "source": [
    "####  토픽 모델링"
   ]
  },
  {
   "cell_type": "code",
   "execution_count": 47,
   "metadata": {},
   "outputs": [],
   "source": [
    "from sklearn.decomposition import LatentDirichletAllocation\n",
    "lda_model=LatentDirichletAllocation(n_components=10,learning_method='online',random_state=777,max_iter=1)"
   ]
  },
  {
   "cell_type": "code",
   "execution_count": 48,
   "metadata": {},
   "outputs": [],
   "source": [
    "lda_top = lda_model.fit_transform(X)"
   ]
  },
  {
   "cell_type": "code",
   "execution_count": 49,
   "metadata": {},
   "outputs": [
    {
     "name": "stdout",
     "output_type": "stream",
     "text": [
      "[[1.00001533e-01 1.00001269e-01 1.00004179e-01 ... 1.00006124e-01\n",
      "  1.00003111e-01 1.00003064e-01]\n",
      " [1.00001199e-01 1.13513398e+03 3.50170830e+03 ... 1.00009349e-01\n",
      "  1.00001896e-01 1.00002937e-01]\n",
      " [1.00001811e-01 1.00001151e-01 1.00003566e-01 ... 1.00002693e-01\n",
      "  1.00002061e-01 7.53381835e+02]\n",
      " ...\n",
      " [1.00001065e-01 1.00001689e-01 1.00003278e-01 ... 1.00006721e-01\n",
      "  1.00004902e-01 1.00004759e-01]\n",
      " [1.00002401e-01 1.00000732e-01 1.00002989e-01 ... 1.00003517e-01\n",
      "  1.00001428e-01 1.00005266e-01]\n",
      " [1.00003427e-01 1.00002313e-01 1.00007340e-01 ... 1.00003732e-01\n",
      "  1.00001207e-01 1.00005153e-01]]\n",
      "(10, 1000)\n"
     ]
    }
   ],
   "source": [
    "print(lda_model.components_)\n",
    "print(lda_model.components_.shape) "
   ]
  },
  {
   "cell_type": "code",
   "execution_count": 50,
   "metadata": {},
   "outputs": [
    {
     "name": "stdout",
     "output_type": "stream",
     "text": [
      "Topic 1: [('government', 8725.19), ('sydney', 8393.29), ('queensland', 7720.12), ('change', 5874.27), ('home', 5674.38)]\n",
      "Topic 2: [('australia', 13691.08), ('australian', 11088.95), ('melbourne', 7528.43), ('world', 6707.7), ('south', 6677.03)]\n",
      "Topic 3: [('death', 5935.06), ('interview', 5924.98), ('kill', 5851.6), ('jail', 4632.85), ('life', 4275.27)]\n",
      "Topic 4: [('house', 6113.49), ('2016', 5488.19), ('state', 4923.41), ('brisbane', 4857.21), ('tasmania', 4610.97)]\n",
      "Topic 5: [('court', 7542.74), ('attack', 6959.64), ('open', 5663.0), ('face', 5193.63), ('warn', 5115.01)]\n",
      "Topic 6: [('market', 5545.86), ('rural', 5502.89), ('plan', 4828.71), ('indigenous', 4223.4), ('power', 3968.26)]\n",
      "Topic 7: [('charge', 8428.8), ('election', 7561.63), ('adelaide', 6758.36), ('make', 5658.99), ('test', 5062.69)]\n",
      "Topic 8: [('police', 12092.44), ('crash', 5281.14), ('drug', 4290.87), ('beat', 3257.58), ('rise', 2934.92)]\n",
      "Topic 9: [('fund', 4693.03), ('labor', 4047.69), ('national', 4038.68), ('council', 4006.62), ('claim', 3604.75)]\n",
      "Topic 10: [('trump', 11966.41), ('perth', 6456.53), ('report', 5611.33), ('school', 5465.06), ('woman', 5456.76)]\n"
     ]
    }
   ],
   "source": [
    "terms = vectorizer.get_feature_names() # 단어 집합. 1,000개의 단어가 저장됨.\n",
    "\n",
    "def get_topics(components, feature_names, n=5):\n",
    "    for idx, topic in enumerate(components):\n",
    "        print(\"Topic %d:\" % (idx+1), [(feature_names[i], topic[i].round(2)) for i in topic.argsort()[:-n - 1:-1]])\n",
    "        \n",
    "get_topics(lda_model.components_,terms)"
   ]
  },
  {
   "cell_type": "code",
   "execution_count": null,
   "metadata": {},
   "outputs": [],
   "source": []
  }
 ],
 "metadata": {
  "kernelspec": {
   "display_name": "Python 3",
   "language": "python",
   "name": "python3"
  },
  "language_info": {
   "codemirror_mode": {
    "name": "ipython",
    "version": 3
   },
   "file_extension": ".py",
   "mimetype": "text/x-python",
   "name": "python",
   "nbconvert_exporter": "python",
   "pygments_lexer": "ipython3",
   "version": "3.7.7"
  }
 },
 "nbformat": 4,
 "nbformat_minor": 4
}
