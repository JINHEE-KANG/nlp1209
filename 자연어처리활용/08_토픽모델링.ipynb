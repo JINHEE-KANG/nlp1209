{
 "cells": [
  {
   "cell_type": "markdown",
   "metadata": {},
   "source": [
    "# 토픽 모델링(Topic Modeling)\n",
    "#### 토픽(Topic)은 한국어로는 주제라고 한다. \n",
    "#### 토픽 모델링(Topic Modeling)이란 기계 학습 및 자연어 처리 분야에서 토픽이라는 문서 집합의 추상적인 주제를 발견하기 위한 통계적 모델 중 하나로, \n",
    "\n",
    "#### 텍스트 본문의 숨겨진 의미 구조를 발견하기 위해 사용되는 텍스트 마이닝 기법이다."
   ]
  },
  {
   "cell_type": "markdown",
   "metadata": {},
   "source": [
    "## [1] TF-IDF(Term Frequency-Inverse Document Frequency) : 단어 빈도-역 문서 빈도\n",
    "TF-IDF(Term Frequency - Inverse Document Frequency)는 정보 검색과 텍스트 마이닝에서 이용하는 가중치로, 여러 문서로 이루어진 문서군이 있을 때 어떤 단어가 특정 문서 내에서 얼마나 중요한 것인지를 나타내는 통계적 수치이다. 문서의 핵심어를 추출하거나, 검색 엔진에서 검색 결과의 순위를 결정하거나, 문서들 사이의 비슷한 정도를 구하는 등의 용도로 사용할 수 있다."
   ]
  },
  {
   "cell_type": "code",
   "execution_count": 1,
   "metadata": {},
   "outputs": [],
   "source": [
    "import pandas as pd # 데이터프레임 사용을 위해\n",
    "import numpy as np\n",
    "from math import log # IDF 계산을 위해"
   ]
  },
  {
   "cell_type": "code",
   "execution_count": 2,
   "metadata": {},
   "outputs": [],
   "source": [
    "docs = [\n",
    "  '먹고 싶은 사과',\n",
    "  '먹고 싶은 바나나',\n",
    "  '길고 노란 바나나 바나나',\n",
    "  '저는 과일이 좋아요'\n",
    "] \n",
    "vocab = list(set(w for doc in docs for w in doc.split()))\n",
    "vocab.sort()"
   ]
  },
  {
   "cell_type": "code",
   "execution_count": 3,
   "metadata": {},
   "outputs": [],
   "source": [
    "N = len(docs) # 총 문서의 수\n",
    "\n",
    "def tf(t, d):  # 특정 문서 d에서의 특정 단어 t의 등장 횟수\n",
    "    return d.count(t)\n",
    "\n",
    "def idf(t):  # df(t):특정 단어 t가 등장한 문서의 수,idf(t):df(t)의 역수, log는 N이 커지면 값이 기하급수로 늘어나는걸 방지,분모 1은 df가 0일 경우 대비\n",
    "    df = 0\n",
    "    for doc in docs:\n",
    "        df += t in doc\n",
    "    return log(N/(df + 1))\n",
    "\n",
    "def tfidf(t, d): # tf(t,d)와 idf(t)를 곱한 값\n",
    "    return tf(t,d)* idf(t)"
   ]
  },
  {
   "cell_type": "code",
   "execution_count": 4,
   "metadata": {},
   "outputs": [
    {
     "data": {
      "text/html": [
       "<div>\n",
       "<style scoped>\n",
       "    .dataframe tbody tr th:only-of-type {\n",
       "        vertical-align: middle;\n",
       "    }\n",
       "\n",
       "    .dataframe tbody tr th {\n",
       "        vertical-align: top;\n",
       "    }\n",
       "\n",
       "    .dataframe thead th {\n",
       "        text-align: right;\n",
       "    }\n",
       "</style>\n",
       "<table border=\"1\" class=\"dataframe\">\n",
       "  <thead>\n",
       "    <tr style=\"text-align: right;\">\n",
       "      <th></th>\n",
       "      <th>과일이</th>\n",
       "      <th>길고</th>\n",
       "      <th>노란</th>\n",
       "      <th>먹고</th>\n",
       "      <th>바나나</th>\n",
       "      <th>사과</th>\n",
       "      <th>싶은</th>\n",
       "      <th>저는</th>\n",
       "      <th>좋아요</th>\n",
       "    </tr>\n",
       "  </thead>\n",
       "  <tbody>\n",
       "    <tr>\n",
       "      <th>0</th>\n",
       "      <td>0</td>\n",
       "      <td>0</td>\n",
       "      <td>0</td>\n",
       "      <td>1</td>\n",
       "      <td>0</td>\n",
       "      <td>1</td>\n",
       "      <td>1</td>\n",
       "      <td>0</td>\n",
       "      <td>0</td>\n",
       "    </tr>\n",
       "    <tr>\n",
       "      <th>1</th>\n",
       "      <td>0</td>\n",
       "      <td>0</td>\n",
       "      <td>0</td>\n",
       "      <td>1</td>\n",
       "      <td>1</td>\n",
       "      <td>0</td>\n",
       "      <td>1</td>\n",
       "      <td>0</td>\n",
       "      <td>0</td>\n",
       "    </tr>\n",
       "    <tr>\n",
       "      <th>2</th>\n",
       "      <td>0</td>\n",
       "      <td>1</td>\n",
       "      <td>1</td>\n",
       "      <td>0</td>\n",
       "      <td>2</td>\n",
       "      <td>0</td>\n",
       "      <td>0</td>\n",
       "      <td>0</td>\n",
       "      <td>0</td>\n",
       "    </tr>\n",
       "    <tr>\n",
       "      <th>3</th>\n",
       "      <td>1</td>\n",
       "      <td>0</td>\n",
       "      <td>0</td>\n",
       "      <td>0</td>\n",
       "      <td>0</td>\n",
       "      <td>0</td>\n",
       "      <td>0</td>\n",
       "      <td>1</td>\n",
       "      <td>1</td>\n",
       "    </tr>\n",
       "  </tbody>\n",
       "</table>\n",
       "</div>"
      ],
      "text/plain": [
       "   과일이  길고  노란  먹고  바나나  사과  싶은  저는  좋아요\n",
       "0    0   0   0   1    0   1   1   0    0\n",
       "1    0   0   0   1    1   0   1   0    0\n",
       "2    0   1   1   0    2   0   0   0    0\n",
       "3    1   0   0   0    0   0   0   1    1"
      ]
     },
     "execution_count": 4,
     "metadata": {},
     "output_type": "execute_result"
    }
   ],
   "source": [
    "# Document-Term Matrix(DTM) : 문서에서 등장하는 각 단어들의 빈도를 행렬로 표현\n",
    "result = []\n",
    "for i in range(N):\n",
    "    result.append([])\n",
    "    d = docs[i]\n",
    "    for j in range(len(vocab)):\n",
    "        t = vocab[j]        \n",
    "        result[-1].append(tf(t, d))\n",
    "\n",
    "tf_ = pd.DataFrame(result, columns = vocab)\n",
    "tf_"
   ]
  },
  {
   "cell_type": "code",
   "execution_count": 5,
   "metadata": {},
   "outputs": [
    {
     "data": {
      "text/html": [
       "<div>\n",
       "<style scoped>\n",
       "    .dataframe tbody tr th:only-of-type {\n",
       "        vertical-align: middle;\n",
       "    }\n",
       "\n",
       "    .dataframe tbody tr th {\n",
       "        vertical-align: top;\n",
       "    }\n",
       "\n",
       "    .dataframe thead th {\n",
       "        text-align: right;\n",
       "    }\n",
       "</style>\n",
       "<table border=\"1\" class=\"dataframe\">\n",
       "  <thead>\n",
       "    <tr style=\"text-align: right;\">\n",
       "      <th></th>\n",
       "      <th>IDF</th>\n",
       "    </tr>\n",
       "  </thead>\n",
       "  <tbody>\n",
       "    <tr>\n",
       "      <th>과일이</th>\n",
       "      <td>0.693147</td>\n",
       "    </tr>\n",
       "    <tr>\n",
       "      <th>길고</th>\n",
       "      <td>0.693147</td>\n",
       "    </tr>\n",
       "    <tr>\n",
       "      <th>노란</th>\n",
       "      <td>0.693147</td>\n",
       "    </tr>\n",
       "    <tr>\n",
       "      <th>먹고</th>\n",
       "      <td>0.287682</td>\n",
       "    </tr>\n",
       "    <tr>\n",
       "      <th>바나나</th>\n",
       "      <td>0.287682</td>\n",
       "    </tr>\n",
       "    <tr>\n",
       "      <th>사과</th>\n",
       "      <td>0.693147</td>\n",
       "    </tr>\n",
       "    <tr>\n",
       "      <th>싶은</th>\n",
       "      <td>0.287682</td>\n",
       "    </tr>\n",
       "    <tr>\n",
       "      <th>저는</th>\n",
       "      <td>0.693147</td>\n",
       "    </tr>\n",
       "    <tr>\n",
       "      <th>좋아요</th>\n",
       "      <td>0.693147</td>\n",
       "    </tr>\n",
       "  </tbody>\n",
       "</table>\n",
       "</div>"
      ],
      "text/plain": [
       "          IDF\n",
       "과일이  0.693147\n",
       "길고   0.693147\n",
       "노란   0.693147\n",
       "먹고   0.287682\n",
       "바나나  0.287682\n",
       "사과   0.693147\n",
       "싶은   0.287682\n",
       "저는   0.693147\n",
       "좋아요  0.693147"
      ]
     },
     "execution_count": 5,
     "metadata": {},
     "output_type": "execute_result"
    }
   ],
   "source": [
    "result = []\n",
    "for j in range(len(vocab)):\n",
    "    t = vocab[j]\n",
    "    result.append(idf(t))\n",
    "\n",
    "idf_ = pd.DataFrame(result, index = vocab, columns = [\"IDF\"])\n",
    "idf_"
   ]
  },
  {
   "cell_type": "code",
   "execution_count": 6,
   "metadata": {},
   "outputs": [
    {
     "data": {
      "text/html": [
       "<div>\n",
       "<style scoped>\n",
       "    .dataframe tbody tr th:only-of-type {\n",
       "        vertical-align: middle;\n",
       "    }\n",
       "\n",
       "    .dataframe tbody tr th {\n",
       "        vertical-align: top;\n",
       "    }\n",
       "\n",
       "    .dataframe thead th {\n",
       "        text-align: right;\n",
       "    }\n",
       "</style>\n",
       "<table border=\"1\" class=\"dataframe\">\n",
       "  <thead>\n",
       "    <tr style=\"text-align: right;\">\n",
       "      <th></th>\n",
       "      <th>과일이</th>\n",
       "      <th>길고</th>\n",
       "      <th>노란</th>\n",
       "      <th>먹고</th>\n",
       "      <th>바나나</th>\n",
       "      <th>사과</th>\n",
       "      <th>싶은</th>\n",
       "      <th>저는</th>\n",
       "      <th>좋아요</th>\n",
       "    </tr>\n",
       "  </thead>\n",
       "  <tbody>\n",
       "    <tr>\n",
       "      <th>0</th>\n",
       "      <td>0.000000</td>\n",
       "      <td>0.000000</td>\n",
       "      <td>0.000000</td>\n",
       "      <td>0.287682</td>\n",
       "      <td>0.000000</td>\n",
       "      <td>0.693147</td>\n",
       "      <td>0.287682</td>\n",
       "      <td>0.000000</td>\n",
       "      <td>0.000000</td>\n",
       "    </tr>\n",
       "    <tr>\n",
       "      <th>1</th>\n",
       "      <td>0.000000</td>\n",
       "      <td>0.000000</td>\n",
       "      <td>0.000000</td>\n",
       "      <td>0.287682</td>\n",
       "      <td>0.287682</td>\n",
       "      <td>0.000000</td>\n",
       "      <td>0.287682</td>\n",
       "      <td>0.000000</td>\n",
       "      <td>0.000000</td>\n",
       "    </tr>\n",
       "    <tr>\n",
       "      <th>2</th>\n",
       "      <td>0.000000</td>\n",
       "      <td>0.693147</td>\n",
       "      <td>0.693147</td>\n",
       "      <td>0.000000</td>\n",
       "      <td>0.575364</td>\n",
       "      <td>0.000000</td>\n",
       "      <td>0.000000</td>\n",
       "      <td>0.000000</td>\n",
       "      <td>0.000000</td>\n",
       "    </tr>\n",
       "    <tr>\n",
       "      <th>3</th>\n",
       "      <td>0.693147</td>\n",
       "      <td>0.000000</td>\n",
       "      <td>0.000000</td>\n",
       "      <td>0.000000</td>\n",
       "      <td>0.000000</td>\n",
       "      <td>0.000000</td>\n",
       "      <td>0.000000</td>\n",
       "      <td>0.693147</td>\n",
       "      <td>0.693147</td>\n",
       "    </tr>\n",
       "  </tbody>\n",
       "</table>\n",
       "</div>"
      ],
      "text/plain": [
       "        과일이        길고        노란        먹고       바나나        사과        싶은  \\\n",
       "0  0.000000  0.000000  0.000000  0.287682  0.000000  0.693147  0.287682   \n",
       "1  0.000000  0.000000  0.000000  0.287682  0.287682  0.000000  0.287682   \n",
       "2  0.000000  0.693147  0.693147  0.000000  0.575364  0.000000  0.000000   \n",
       "3  0.693147  0.000000  0.000000  0.000000  0.000000  0.000000  0.000000   \n",
       "\n",
       "         저는       좋아요  \n",
       "0  0.000000  0.000000  \n",
       "1  0.000000  0.000000  \n",
       "2  0.000000  0.000000  \n",
       "3  0.693147  0.693147  "
      ]
     },
     "execution_count": 6,
     "metadata": {},
     "output_type": "execute_result"
    }
   ],
   "source": [
    "result = []\n",
    "for i in range(N):\n",
    "    result.append([])\n",
    "    d = docs[i]\n",
    "    for j in range(len(vocab)):\n",
    "        t = vocab[j]\n",
    "\n",
    "        result[-1].append(tfidf(t,d))\n",
    "\n",
    "tfidf_ = pd.DataFrame(result, columns = vocab)\n",
    "tfidf_\n",
    "\n",
    "# TF-IDF는 모든 문서에서 자주 등장하는 단어는 중요도가 낮다고 판단하며, 특정 문서에서만 자주 등장하는 단어는 중요도가 높다고 판단한다 \n",
    "# TF-IDF 값이 낮으면 중요도가 낮은 것이며, TF-IDF 값이 크면 중요도가 큰 것. 즉, the나 a와 같이 불용어의 경우에는 모든 문서에 자주 \n",
    "# 등장하기 마련이기 때문에 자연스럽게 불용어의 TF-IDF의 값은 다른 단어의 TF-IDF에 비해서 낮아지게 된다"
   ]
  },
  {
   "cell_type": "markdown",
   "metadata": {},
   "source": [
    "### 사이킷런을 이용한 DTM과 TF-IDF"
   ]
  },
  {
   "cell_type": "code",
   "execution_count": 7,
   "metadata": {},
   "outputs": [
    {
     "name": "stdout",
     "output_type": "stream",
     "text": [
      "[[0 1 0 1 0 1 0 1 1]\n",
      " [0 0 1 0 0 0 0 1 0]\n",
      " [1 0 0 0 1 0 1 0 0]]\n",
      "{'you': 7, 'know': 1, 'want': 5, 'your': 8, 'love': 3, 'like': 2, 'what': 6, 'should': 4, 'do': 0}\n"
     ]
    }
   ],
   "source": [
    "from sklearn.feature_extraction.text import CountVectorizer\n",
    "corpus = [\n",
    "    'you know I want your love',\n",
    "    'I like you',\n",
    "    'what should I do ',    \n",
    "]\n",
    "vector = CountVectorizer()\n",
    "print(vector.fit_transform(corpus).toarray()) # 코퍼스로부터 각 단어의 빈도 수를 기록한다.\n",
    "print(vector.vocabulary_)                     # 각 단어의 인덱스가 어떻게 부여되었는지를 보여준다 , 한개의 문자는 인덱스를 만들지 않음"
   ]
  },
  {
   "cell_type": "code",
   "execution_count": 8,
   "metadata": {},
   "outputs": [
    {
     "name": "stdout",
     "output_type": "stream",
     "text": [
      "[[0.         0.46735098 0.         0.46735098 0.         0.46735098\n",
      "  0.         0.35543247 0.46735098]\n",
      " [0.         0.         0.79596054 0.         0.         0.\n",
      "  0.         0.60534851 0.        ]\n",
      " [0.57735027 0.         0.         0.         0.57735027 0.\n",
      "  0.57735027 0.         0.        ]]\n",
      "{'you': 7, 'know': 1, 'want': 5, 'your': 8, 'love': 3, 'like': 2, 'what': 6, 'should': 4, 'do': 0}\n"
     ]
    }
   ],
   "source": [
    "from sklearn.feature_extraction.text import TfidfVectorizer\n",
    "corpus = [\n",
    "    'you know I want your love',\n",
    "    'I like you',\n",
    "    'what should I do ',    \n",
    "]\n",
    "tfidfv = TfidfVectorizer().fit(corpus)\n",
    "print(tfidfv.transform(corpus).toarray())\n",
    "print(tfidfv.vocabulary_)"
   ]
  },
  {
   "cell_type": "markdown",
   "metadata": {},
   "source": [
    "## [2] 잠재 의미 분석(Latent Semantic Analysis, LSA)\n",
    "SA는 기본적으로 DTM이나 TF-IDF 행렬에 절단된 SVD(truncated SVD)를 사용하여 차원을 축소시키고, 단어들의 잠재적인 의미를 끌어낸다"
   ]
  },
  {
   "cell_type": "code",
   "execution_count": 9,
   "metadata": {},
   "outputs": [],
   "source": [
    "from sklearn.datasets import fetch_20newsgroups"
   ]
  },
  {
   "cell_type": "code",
   "execution_count": 10,
   "metadata": {},
   "outputs": [
    {
     "data": {
      "text/plain": [
       "11314"
      ]
     },
     "execution_count": 10,
     "metadata": {},
     "output_type": "execute_result"
    }
   ],
   "source": [
    "# wenty Newsgroups 뉴스 그룹 데이터 읽어오기 \n",
    "dataset = fetch_20newsgroups(shuffle=True, random_state=1, remove=('headers', 'footers', 'quotes'))\n",
    "documents = dataset.data   # list\n",
    "len(documents) "
   ]
  },
  {
   "cell_type": "code",
   "execution_count": 11,
   "metadata": {},
   "outputs": [
    {
     "data": {
      "text/plain": [
       "\"\\n\\n\\n\\n\\n\\n\\nYeah, do you expect people to read the FAQ, etc. and actually accept hard\\natheism?  No, you need a little leap of faith, Jimmy.  Your logic runs out\\nof steam!\\n\\n\\n\\n\\n\\n\\n\\nJim,\\n\\nSorry I can't pity you, Jim.  And I'm sorry that you have these feelings of\\ndenial about the faith you need to get by.  Oh well, just pretend that it will\\nall end happily ever after anyway.  Maybe if you start a new newsgroup,\\nalt.atheist.hard, you won't be bummin' so much?\\n\\n\\n\\n\\n\\n\\nBye-Bye, Big Jim.  Don't forget your Flintstone's Chewables!  :) \\n--\\nBake Timmons, III\""
      ]
     },
     "execution_count": 11,
     "metadata": {},
     "output_type": "execute_result"
    }
   ],
   "source": [
    "documents[1]"
   ]
  },
  {
   "cell_type": "code",
   "execution_count": 12,
   "metadata": {},
   "outputs": [
    {
     "name": "stdout",
     "output_type": "stream",
     "text": [
      "['alt.atheism', 'comp.graphics', 'comp.os.ms-windows.misc', 'comp.sys.ibm.pc.hardware', 'comp.sys.mac.hardware', 'comp.windows.x', 'misc.forsale', 'rec.autos', 'rec.motorcycles', 'rec.sport.baseball', 'rec.sport.hockey', 'sci.crypt', 'sci.electronics', 'sci.med', 'sci.space', 'soc.religion.christian', 'talk.politics.guns', 'talk.politics.mideast', 'talk.politics.misc', 'talk.religion.misc']\n"
     ]
    }
   ],
   "source": [
    "print(dataset.target_names)"
   ]
  },
  {
   "cell_type": "markdown",
   "metadata": {},
   "source": [
    "### 텍스트 전처리"
   ]
  },
  {
   "cell_type": "code",
   "execution_count": 13,
   "metadata": {},
   "outputs": [],
   "source": [
    "news_df = pd.DataFrame({'document':documents})\n",
    "# 특수 문자 제거\n",
    "news_df['clean_doc'] = news_df['document'].str.replace(\"[^a-zA-Z]\", \" \")\n",
    "# 길이가 3이하인 단어는 제거 (길이가 짧은 단어 제거)\n",
    "news_df['clean_doc'] = news_df['clean_doc'].apply(lambda x: ' '.join([w for w in x.split() if len(w)>3]))\n",
    "# 전체 단어에 대한 소문자 변환\n",
    "news_df['clean_doc'] = news_df['clean_doc'].apply(lambda x: x.lower())"
   ]
  },
  {
   "cell_type": "code",
   "execution_count": 14,
   "metadata": {},
   "outputs": [
    {
     "data": {
      "text/plain": [
       "'yeah expect people read actually accept hard atheism need little leap faith jimmy your logic runs steam sorry pity sorry that have these feelings denial about faith need well just pretend that will happily ever after anyway maybe start newsgroup atheist hard bummin much forget your flintstone chewables bake timmons'"
      ]
     },
     "execution_count": 14,
     "metadata": {},
     "output_type": "execute_result"
    }
   ],
   "source": [
    "news_df['clean_doc'][1]"
   ]
  },
  {
   "cell_type": "code",
   "execution_count": 15,
   "metadata": {},
   "outputs": [],
   "source": [
    "from nltk.corpus import stopwords\n",
    "stop_words = stopwords.words('english') # NLTK로부터 불용어를 받아옵니다.\n",
    "tokenized_doc = news_df['clean_doc'].apply(lambda x: x.split()) # 토큰화\n",
    "tokenized_doc = tokenized_doc.apply(lambda x: [item for item in x if item not in stop_words])\n",
    "# 불용어를 제거"
   ]
  },
  {
   "cell_type": "code",
   "execution_count": 16,
   "metadata": {},
   "outputs": [
    {
     "name": "stdout",
     "output_type": "stream",
     "text": [
      "['yeah', 'expect', 'people', 'read', 'actually', 'accept', 'hard', 'atheism', 'need', 'little', 'leap', 'faith', 'jimmy', 'logic', 'runs', 'steam', 'sorry', 'pity', 'sorry', 'feelings', 'denial', 'faith', 'need', 'well', 'pretend', 'happily', 'ever', 'anyway', 'maybe', 'start', 'newsgroup', 'atheist', 'hard', 'bummin', 'much', 'forget', 'flintstone', 'chewables', 'bake', 'timmons']\n"
     ]
    }
   ],
   "source": [
    "print(tokenized_doc[1])"
   ]
  },
  {
   "cell_type": "markdown",
   "metadata": {},
   "source": [
    "### TF-IDF 행렬 만들기"
   ]
  },
  {
   "cell_type": "code",
   "execution_count": 17,
   "metadata": {},
   "outputs": [],
   "source": [
    "# 역토큰화 (토큰화 작업을 역으로 되돌림)\n",
    "detokenized_doc = []\n",
    "for i in range(len(news_df)):\n",
    "    t = ' '.join(tokenized_doc[i])\n",
    "    detokenized_doc.append(t)\n",
    "\n",
    "news_df['clean_doc'] = detokenized_doc"
   ]
  },
  {
   "cell_type": "code",
   "execution_count": 18,
   "metadata": {},
   "outputs": [
    {
     "data": {
      "text/plain": [
       "'yeah expect people read actually accept hard atheism need little leap faith jimmy logic runs steam sorry pity sorry feelings denial faith need well pretend happily ever anyway maybe start newsgroup atheist hard bummin much forget flintstone chewables bake timmons'"
      ]
     },
     "execution_count": 18,
     "metadata": {},
     "output_type": "execute_result"
    }
   ],
   "source": [
    "news_df['clean_doc'][1]"
   ]
  },
  {
   "cell_type": "code",
   "execution_count": 19,
   "metadata": {},
   "outputs": [
    {
     "data": {
      "text/plain": [
       "(11314, 1000)"
      ]
     },
     "execution_count": 19,
     "metadata": {},
     "output_type": "execute_result"
    }
   ],
   "source": [
    "from sklearn.feature_extraction.text import TfidfVectorizer\n",
    "\n",
    "vectorizer = TfidfVectorizer(stop_words='english', \n",
    "max_features= 1000, # 상위 1,000개의 단어를 보존 \n",
    "max_df = 0.5, \n",
    "smooth_idf=True)\n",
    "\n",
    "X = vectorizer.fit_transform(news_df['clean_doc'])\n",
    "X.shape # TF-IDF 행렬의 크기 확인"
   ]
  },
  {
   "cell_type": "markdown",
   "metadata": {},
   "source": [
    "### 토픽 모델링(Topic Modeling)"
   ]
  },
  {
   "cell_type": "code",
   "execution_count": 20,
   "metadata": {},
   "outputs": [
    {
     "data": {
      "text/plain": [
       "20"
      ]
     },
     "execution_count": 20,
     "metadata": {},
     "output_type": "execute_result"
    }
   ],
   "source": [
    "from sklearn.decomposition import TruncatedSVD\n",
    "svd_model = TruncatedSVD(n_components=20, algorithm='randomized', n_iter=100, random_state=122)\n",
    "svd_model.fit(X)\n",
    "len(svd_model.components_)   # 뉴스그룹 데이터가 20개의 카테고리를 갖고있었기 때문에, 20개의 토픽을 가졌다고 가정하고 토픽 모델링"
   ]
  },
  {
   "cell_type": "code",
   "execution_count": 21,
   "metadata": {},
   "outputs": [
    {
     "data": {
      "text/plain": [
       "(20, 1000)"
      ]
     },
     "execution_count": 21,
     "metadata": {},
     "output_type": "execute_result"
    }
   ],
   "source": [
    "np.shape(svd_model.components_)  # LSA에서 V.T에 해당, 토픽의 수 t(20), 단어수(1000)"
   ]
  },
  {
   "cell_type": "code",
   "execution_count": 22,
   "metadata": {},
   "outputs": [
    {
     "name": "stdout",
     "output_type": "stream",
     "text": [
      "Topic 1: [('like', 0.21378), ('know', 0.20032), ('people', 0.19317), ('think', 0.17807), ('good', 0.15105)]\n",
      "Topic 2: [('thanks', 0.3292), ('windows', 0.29094), ('card', 0.18016), ('drive', 0.1739), ('mail', 0.15126)]\n",
      "Topic 3: [('game', 0.37161), ('team', 0.32553), ('year', 0.28204), ('games', 0.25416), ('season', 0.18464)]\n",
      "Topic 4: [('drive', 0.52804), ('scsi', 0.20035), ('disk', 0.15514), ('hard', 0.15506), ('card', 0.14041)]\n",
      "Topic 5: [('windows', 0.4052), ('file', 0.25609), ('window', 0.18057), ('files', 0.1619), ('program', 0.1401)]\n",
      "Topic 6: [('chip', 0.16138), ('government', 0.16026), ('mail', 0.15625), ('space', 0.1505), ('information', 0.13575)]\n",
      "Topic 7: [('like', 0.67109), ('bike', 0.14268), ('know', 0.11428), ('chip', 0.11058), ('sounds', 0.10398)]\n",
      "Topic 8: [('card', 0.45115), ('sale', 0.21607), ('video', 0.21391), ('monitor', 0.14913), ('offer', 0.14872)]\n",
      "Topic 9: [('know', 0.44979), ('card', 0.35491), ('chip', 0.17206), ('video', 0.15184), ('government', 0.15053)]\n",
      "Topic 10: [('good', 0.41591), ('know', 0.23083), ('time', 0.18988), ('bike', 0.11332), ('jesus', 0.09419)]\n",
      "Topic 11: [('think', 0.78338), ('chip', 0.10778), ('good', 0.10654), ('thanks', 0.08962), ('clipper', 0.07873)]\n",
      "Topic 12: [('thanks', 0.37328), ('problem', 0.21778), ('right', 0.21728), ('good', 0.21301), ('bike', 0.21102)]\n",
      "Topic 13: [('good', 0.3669), ('people', 0.33724), ('windows', 0.28297), ('know', 0.25208), ('file', 0.18138)]\n",
      "Topic 14: [('space', 0.39916), ('think', 0.23326), ('know', 0.17933), ('nasa', 0.15226), ('problem', 0.12932)]\n",
      "Topic 15: [('space', 0.30963), ('good', 0.30091), ('card', 0.2162), ('people', 0.20295), ('time', 0.15889)]\n",
      "Topic 16: [('people', 0.46931), ('problem', 0.20916), ('window', 0.16015), ('time', 0.13971), ('game', 0.13578)]\n",
      "Topic 17: [('time', 0.34532), ('bike', 0.26907), ('right', 0.26148), ('windows', 0.19697), ('file', 0.19177)]\n",
      "Topic 18: [('time', 0.60055), ('problem', 0.15235), ('file', 0.13682), ('think', 0.13024), ('israel', 0.1093)]\n",
      "Topic 19: [('file', 0.45058), ('need', 0.25892), ('card', 0.18726), ('files', 0.1769), ('problem', 0.15143)]\n",
      "Topic 20: [('problem', 0.32669), ('file', 0.2618), ('thanks', 0.23506), ('used', 0.19363), ('space', 0.13747)]\n"
     ]
    }
   ],
   "source": [
    "terms = vectorizer.get_feature_names() # 단어 집합. 1,000개의 단어가 저장됨.\n",
    "\n",
    "# 값이 큰 5개의 값을 찾아서 단어로 출력\n",
    "def get_topics(components, feature_names, n=5):\n",
    "    for idx, topic in enumerate(components):\n",
    "        print(\"Topic %d:\" % (idx+1), [(feature_names[i], topic[i].round(5)) for i in topic.argsort()[:-n - 1:-1]])\n",
    "\n",
    "get_topics(svd_model.components_,terms)\n",
    "\n",
    "# 각 20개의 행의 각 1,000개의 열 중 가장 값이 큰 5개의 값을 찾아서 단어로 출력"
   ]
  },
  {
   "cell_type": "code",
   "execution_count": 23,
   "metadata": {},
   "outputs": [
    {
     "data": {
      "text/plain": [
       "\"\\n\\n\\n\\n\\tI'd like to see this info as well.  As for wavelength, I think\\nyou're primarily going to find two - 880 nM +/- a bit, and/or 950 nM\\n+/- a bit.  Usually it is about 10 nM either way.  The two most common\\nI have seen were 880 and 950 but I have also heard of 890 and 940.\\nI'm not sure that the 10 nM one way or another will make a great deal of\\ndifference.\\n\\n\\tAnother suggestion - find a brand of TV that uses an IR remote,\\nand go look at the SAMS photofact for it.  You can often find some very\\ndetailed schematics and parts list for not only the receiver but the\\ntransmitter as well, including carrier freq. specs. and tone decoding\\nspecs. if the system uses that.\""
      ]
     },
     "execution_count": 23,
     "metadata": {},
     "output_type": "execute_result"
    }
   ],
   "source": [
    "documents[20]"
   ]
  },
  {
   "cell_type": "code",
   "execution_count": 24,
   "metadata": {},
   "outputs": [],
   "source": [
    "# LSA의 단점 : SVD의 특성상 이미 계산된 LSA에 새로운 데이터를 추가하여 계산하려고하면 보통 처음부터 다시 계산해야 한다. \n",
    "# 즉, 새로운 정보에 대해 업데이트가 어렵다. "
   ]
  },
  {
   "cell_type": "markdown",
   "metadata": {},
   "source": [
    "## [3] 잠재 디리클레 할당(Latent Dirichlet Allocation, LDA)]\n",
    "토픽 모델링의 대표적인 알고리즘, LDA는 문서들은 토픽들의 혼합으로 구성되어져 있으며, 토픽들은 확률 분포에 기반하여 단어들을 생성한다고 가정한다.<br>\n",
    "데이터가 주어지면, LDA는 문서가 생성되던 과정을 역추적 한다. <br>\n",
    "LSA : DTM을 차원 축소 하여 축소 차원에서 근접 단어들을 토픽으로 묶는다.  <br>\n",
    "LDA : 단어가 특정 토픽에 존재할 확률과 문서에 특정 토픽이 존재할 확률을 결합확률로 추정하여 토픽을 추출한다."
   ]
  },
  {
   "cell_type": "code",
   "execution_count": 25,
   "metadata": {},
   "outputs": [
    {
     "name": "stdout",
     "output_type": "stream",
     "text": [
      "(11314,)\n"
     ]
    },
    {
     "data": {
      "text/plain": [
       "0    [well, sure, story, seem, biased, disagree, st...\n",
       "1    [yeah, expect, people, read, actually, accept,...\n",
       "2    [although, realize, principle, strongest, poin...\n",
       "3    [notwithstanding, legitimate, fuss, proposal, ...\n",
       "4    [well, change, scoring, playoff, pool, unfortu...\n",
       "Name: clean_doc, dtype: object"
      ]
     },
     "execution_count": 25,
     "metadata": {},
     "output_type": "execute_result"
    }
   ],
   "source": [
    "print(tokenized_doc.shape)\n",
    "tokenized_doc[:5]"
   ]
  },
  {
   "cell_type": "code",
   "execution_count": 26,
   "metadata": {},
   "outputs": [
    {
     "name": "stdout",
     "output_type": "stream",
     "text": [
      "[(52, 1), (55, 1), (56, 1), (57, 1), (58, 1), (59, 1), (60, 1), (61, 1), (62, 1), (63, 1), (64, 1), (65, 1), (66, 2), (67, 1), (68, 1), (69, 1), (70, 1), (71, 2), (72, 1), (73, 1), (74, 1), (75, 1), (76, 1), (77, 1), (78, 2), (79, 1), (80, 1), (81, 1), (82, 1), (83, 1), (84, 1), (85, 2), (86, 1), (87, 1), (88, 1), (89, 1)]\n"
     ]
    }
   ],
   "source": [
    "# ! pip install gensim\n",
    "from gensim import corpora\n",
    "dictionary = corpora.Dictionary(tokenized_doc)\n",
    "corpus = [dictionary.doc2bow(text) for text in tokenized_doc]\n",
    "print(corpus[1]) # 수행된 결과에서 두번째 뉴스 출력. 첫번째 문서의 인덱스는 0"
   ]
  },
  {
   "cell_type": "code",
   "execution_count": 27,
   "metadata": {},
   "outputs": [
    {
     "name": "stdout",
     "output_type": "stream",
     "text": [
      "faith\n"
     ]
    }
   ],
   "source": [
    "print(dictionary[66])"
   ]
  },
  {
   "cell_type": "code",
   "execution_count": 28,
   "metadata": {},
   "outputs": [
    {
     "data": {
      "text/plain": [
       "64281"
      ]
     },
     "execution_count": 28,
     "metadata": {},
     "output_type": "execute_result"
    }
   ],
   "source": [
    "len(dictionary)"
   ]
  },
  {
   "cell_type": "markdown",
   "metadata": {},
   "source": [
    "#### LDA 모델 훈련시키기"
   ]
  },
  {
   "cell_type": "code",
   "execution_count": 29,
   "metadata": {},
   "outputs": [
    {
     "name": "stdout",
     "output_type": "stream",
     "text": [
      "(0, '0.024*\"picture\" + 0.016*\"sleeve\" + 0.012*\"financial\" + 0.011*\"polygon\"')\n",
      "(1, '0.016*\"space\" + 0.007*\"university\" + 0.007*\"nasa\" + 0.006*\"program\"')\n",
      "(2, '0.010*\"david\" + 0.009*\"lost\" + 0.008*\"navy\" + 0.007*\"gateway\"')\n",
      "(3, '0.018*\"drive\" + 0.012*\"card\" + 0.012*\"system\" + 0.011*\"disk\"')\n",
      "(4, '0.025*\"game\" + 0.022*\"team\" + 0.018*\"games\" + 0.016*\"play\"')\n",
      "(5, '0.015*\"armenian\" + 0.014*\"armenians\" + 0.012*\"said\" + 0.012*\"people\"')\n",
      "(6, '0.007*\"public\" + 0.006*\"encryption\" + 0.005*\"government\" + 0.005*\"security\"')\n",
      "(7, '0.037*\"please\" + 0.028*\"thanks\" + 0.026*\"anyone\" + 0.024*\"would\"')\n",
      "(8, '0.015*\"borland\" + 0.010*\"paradox\" + 0.007*\"copper\" + 0.007*\"prisoners\"')\n",
      "(9, '0.017*\"people\" + 0.016*\"would\" + 0.010*\"think\" + 0.006*\"make\"')\n",
      "(10, '0.014*\"guns\" + 0.010*\"firearms\" + 0.010*\"state\" + 0.010*\"weapons\"')\n",
      "(11, '0.015*\"water\" + 0.011*\"flames\" + 0.011*\"jose\" + 0.011*\"montreal\"')\n",
      "(12, '0.014*\"jesus\" + 0.009*\"christian\" + 0.008*\"bible\" + 0.007*\"believe\"')\n",
      "(13, '0.011*\"gordon\" + 0.011*\"soon\" + 0.011*\"pitt\" + 0.010*\"banks\"')\n",
      "(14, '0.011*\"clone\" + 0.007*\"pseudo\" + 0.006*\"cleveland\" + 0.006*\"suck\"')\n",
      "(15, '0.014*\"like\" + 0.014*\"would\" + 0.010*\"know\" + 0.010*\"good\"')\n",
      "(16, '0.017*\"file\" + 0.011*\"program\" + 0.009*\"available\" + 0.009*\"files\"')\n",
      "(17, '0.012*\"price\" + 0.010*\"sale\" + 0.009*\"used\" + 0.009*\"offer\"')\n",
      "(18, '0.009*\"data\" + 0.009*\"printf\" + 0.007*\"time\" + 0.007*\"test\"')\n",
      "(19, '0.015*\"hanging\" + 0.015*\"mask\" + 0.010*\"decenso\" + 0.009*\"mydisplay\"')\n"
     ]
    }
   ],
   "source": [
    "import gensim\n",
    "NUM_TOPICS = 20    #20개의 토픽, k=20\n",
    "ldamodel = gensim.models.ldamodel.LdaModel(corpus, num_topics = NUM_TOPICS, id2word=dictionary, passes=15) #  passes는 알고리즘의 동작 횟수\n",
    "topics = ldamodel.print_topics(num_words=4)   #  4개의 단어만 출력 \n",
    "for topic in topics:\n",
    "    print(topic)\n",
    "# 각 단어 앞에 붙은 수치는 단어의 해당 토픽에 대한 기여도    "
   ]
  },
  {
   "cell_type": "code",
   "execution_count": 30,
   "metadata": {},
   "outputs": [
    {
     "name": "stdout",
     "output_type": "stream",
     "text": [
      "[(0, '0.024*\"picture\" + 0.016*\"sleeve\" + 0.012*\"financial\" + 0.011*\"polygon\" + 0.010*\"sync\" + 0.010*\"deck\" + 0.006*\"cassette\" + 0.006*\"stones\" + 0.005*\"slave\" + 0.005*\"messenger\"'), (1, '0.016*\"space\" + 0.007*\"university\" + 0.007*\"nasa\" + 0.006*\"program\" + 0.005*\"research\" + 0.005*\"april\" + 0.005*\"national\" + 0.005*\"year\" + 0.005*\"also\" + 0.005*\"information\"'), (2, '0.010*\"david\" + 0.009*\"lost\" + 0.008*\"navy\" + 0.007*\"gateway\" + 0.007*\"colorado\" + 0.007*\"andrew\" + 0.006*\"sabbath\" + 0.005*\"east\" + 0.005*\"paul\" + 0.005*\"ships\"'), (3, '0.018*\"drive\" + 0.012*\"card\" + 0.012*\"system\" + 0.011*\"disk\" + 0.010*\"scsi\" + 0.009*\"windows\" + 0.009*\"problem\" + 0.009*\"memory\" + 0.007*\"video\" + 0.007*\"would\"'), (4, '0.025*\"game\" + 0.022*\"team\" + 0.018*\"games\" + 0.016*\"play\" + 0.013*\"season\" + 0.013*\"year\" + 0.011*\"players\" + 0.011*\"hockey\" + 0.010*\"league\" + 0.009*\"period\"'), (5, '0.015*\"armenian\" + 0.014*\"armenians\" + 0.012*\"said\" + 0.012*\"people\" + 0.011*\"turkish\" + 0.011*\"jews\" + 0.007*\"killed\" + 0.007*\"turkey\" + 0.005*\"armenia\" + 0.005*\"greek\"'), (6, '0.007*\"public\" + 0.006*\"encryption\" + 0.005*\"government\" + 0.005*\"security\" + 0.005*\"number\" + 0.005*\"system\" + 0.005*\"health\" + 0.004*\"chip\" + 0.004*\"clipper\" + 0.004*\"information\"'), (7, '0.037*\"please\" + 0.028*\"thanks\" + 0.026*\"anyone\" + 0.024*\"would\" + 0.023*\"know\" + 0.022*\"mail\" + 0.018*\"post\" + 0.012*\"send\" + 0.012*\"help\" + 0.012*\"email\"'), (8, '0.015*\"borland\" + 0.010*\"paradox\" + 0.007*\"copper\" + 0.007*\"prisoners\" + 0.006*\"partition\" + 0.006*\"challenges\" + 0.006*\"mint\" + 0.006*\"dreams\" + 0.005*\"crowley\" + 0.005*\"harddisk\"'), (9, '0.017*\"people\" + 0.016*\"would\" + 0.010*\"think\" + 0.006*\"make\" + 0.005*\"well\" + 0.005*\"know\" + 0.005*\"like\" + 0.005*\"even\" + 0.005*\"right\" + 0.004*\"many\"'), (10, '0.014*\"guns\" + 0.010*\"firearms\" + 0.010*\"state\" + 0.010*\"weapons\" + 0.009*\"amendment\" + 0.009*\"right\" + 0.009*\"file\" + 0.008*\"control\" + 0.008*\"weapon\" + 0.008*\"militia\"'), (11, '0.015*\"water\" + 0.011*\"flames\" + 0.011*\"jose\" + 0.011*\"montreal\" + 0.010*\"calgary\" + 0.008*\"quebec\" + 0.007*\"vancouver\" + 0.007*\"kent\" + 0.006*\"sharks\" + 0.006*\"cubs\"'), (12, '0.014*\"jesus\" + 0.009*\"christian\" + 0.008*\"bible\" + 0.007*\"believe\" + 0.007*\"church\" + 0.006*\"christians\" + 0.006*\"christ\" + 0.006*\"faith\" + 0.005*\"also\" + 0.005*\"life\"'), (13, '0.011*\"gordon\" + 0.011*\"soon\" + 0.011*\"pitt\" + 0.010*\"banks\" + 0.009*\"surrender\" + 0.008*\"skepticism\" + 0.007*\"intellect\" + 0.007*\"pain\" + 0.007*\"shameful\" + 0.007*\"cadre\"'), (14, '0.011*\"clone\" + 0.007*\"pseudo\" + 0.006*\"cleveland\" + 0.006*\"suck\" + 0.006*\"powerpc\" + 0.006*\"uiuc\" + 0.005*\"processors\" + 0.005*\"rumor\" + 0.005*\"twins\" + 0.005*\"clip\"'), (15, '0.014*\"like\" + 0.014*\"would\" + 0.010*\"know\" + 0.010*\"good\" + 0.010*\"time\" + 0.009*\"think\" + 0.008*\"well\" + 0.007*\"back\" + 0.007*\"could\" + 0.007*\"much\"'), (16, '0.017*\"file\" + 0.011*\"program\" + 0.009*\"available\" + 0.009*\"files\" + 0.008*\"window\" + 0.008*\"version\" + 0.007*\"software\" + 0.007*\"output\" + 0.007*\"windows\" + 0.007*\"entry\"'), (17, '0.012*\"price\" + 0.010*\"sale\" + 0.009*\"used\" + 0.009*\"offer\" + 0.008*\"shipping\" + 0.008*\"power\" + 0.008*\"condition\" + 0.007*\"sell\" + 0.007*\"cable\" + 0.006*\"ground\"'), (18, '0.009*\"data\" + 0.009*\"printf\" + 0.007*\"time\" + 0.007*\"test\" + 0.006*\"high\" + 0.006*\"model\" + 0.005*\"circuit\" + 0.005*\"radar\" + 0.005*\"using\" + 0.005*\"models\"'), (19, '0.015*\"hanging\" + 0.015*\"mask\" + 0.010*\"decenso\" + 0.009*\"mydisplay\" + 0.009*\"tyre\" + 0.008*\"erzurum\" + 0.006*\"main\" + 0.006*\"hang\" + 0.005*\"mpeg\" + 0.005*\"detail\"')]\n"
     ]
    }
   ],
   "source": [
    "print(ldamodel.print_topics()) # 10개 단어를 출력"
   ]
  },
  {
   "cell_type": "markdown",
   "metadata": {},
   "source": [
    "#### 시각화"
   ]
  },
  {
   "cell_type": "code",
   "execution_count": 31,
   "metadata": {},
   "outputs": [],
   "source": [
    "# ! pip install pyLDAvis"
   ]
  },
  {
   "cell_type": "code",
   "execution_count": 32,
   "metadata": {},
   "outputs": [
    {
     "data": {
      "text/html": [
       "\n",
       "<link rel=\"stylesheet\" type=\"text/css\" href=\"https://cdn.rawgit.com/bmabey/pyLDAvis/files/ldavis.v1.0.0.css\">\n",
       "\n",
       "\n",
       "<div id=\"ldavis_el2516831949835258321701329593\"></div>\n",
       "<script type=\"text/javascript\">\n",
       "\n",
       "var ldavis_el2516831949835258321701329593_data = {\"mdsDat\": {\"x\": [0.2715517108183696, 0.2676346663111714, 0.21771634712544105, 0.18567089164080228, 0.11256646017704892, 0.2017292420498497, 0.20812449807138966, 0.07381897807503966, 0.06813957664017467, -0.036001169455922515, 0.021525832915610683, 0.035818866795377845, -0.09195253264272006, -0.16226014381392584, -0.20275658989440853, -0.1930000702579262, -0.23982844040371373, -0.24193488811916825, -0.24745667365632432, -0.2491065623761655], \"y\": [0.04493906234695096, 0.07999237637347975, -0.1620490771871566, -0.0006503509739410245, 0.05888706162181124, 0.1001803522769612, -0.1613202435405363, 0.2677939267730933, -0.15396075098187817, 0.1691977048729869, -0.1324559559353584, -0.10392024144600667, 0.06400075270119938, 0.004217658630561859, 0.009917990852067512, -0.004212504712355265, -0.02327800919663791, -0.01971348913168855, -0.017731315251839234, -0.01983494809171309], \"topics\": [1, 2, 3, 4, 5, 6, 7, 8, 9, 10, 11, 12, 13, 14, 15, 16, 17, 18, 19, 20], \"cluster\": [1, 1, 1, 1, 1, 1, 1, 1, 1, 1, 1, 1, 1, 1, 1, 1, 1, 1, 1, 1], \"Freq\": [17.011444091796875, 15.177783012390137, 10.732441902160645, 10.348362922668457, 7.838184356689453, 7.49520206451416, 6.500882148742676, 4.594873428344727, 3.6353626251220703, 3.5264503955841064, 3.0065393447875977, 2.8173346519470215, 2.431094169616699, 1.3418155908584595, 1.1722966432571411, 0.969475507736206, 0.5511377453804016, 0.3240659236907959, 0.275352418422699, 0.2498977780342102]}, \"tinfo\": {\"Term\": [\"would\", \"know\", \"please\", \"file\", \"anyone\", \"people\", \"thanks\", \"drive\", \"game\", \"mail\", \"space\", \"like\", \"team\", \"jesus\", \"program\", \"could\", \"year\", \"said\", \"windows\", \"think\", \"post\", \"right\", \"system\", \"armenian\", \"card\", \"help\", \"games\", \"information\", \"data\", \"send\", \"bike\", \"cars\", \"myers\", \"ride\", \"riding\", \"pitching\", \"motorcycle\", \"bikes\", \"weekend\", \"helmet\", \"afford\", \"tires\", \"seat\", \"pitcher\", \"gear\", \"hitting\", \"motorcycles\", \"plate\", \"truck\", \"tire\", \"dirt\", \"riders\", \"walls\", \"paranoid\", \"gonna\", \"latin\", \"giants\", \"loud\", \"davidians\", \"armored\", \"guys\", \"shit\", \"sport\", \"looked\", \"watching\", \"seemed\", \"yeah\", \"back\", \"wheel\", \"maybe\", \"pretty\", \"around\", \"little\", \"good\", \"really\", \"going\", \"remember\", \"front\", \"like\", \"couple\", \"weeks\", \"getting\", \"heard\", \"time\", \"better\", \"much\", \"know\", \"well\", \"still\", \"think\", \"probably\", \"thing\", \"take\", \"enough\", \"would\", \"something\", \"could\", \"even\", \"right\", \"sure\", \"look\", \"years\", \"last\", \"never\", \"want\", \"also\", \"first\", \"make\", \"people\", \"palestinian\", \"batf\", \"violent\", \"minister\", \"israelis\", \"bosnia\", \"shoot\", \"waco\", \"suicide\", \"gaza\", \"prison\", \"liberal\", \"republicans\", \"feelings\", \"serbs\", \"morality\", \"zionist\", \"grounded\", \"alomar\", \"senator\", \"intervention\", \"gays\", \"immoral\", \"arrogance\", \"libertarians\", \"stimulus\", \"justification\", \"admitted\", \"assert\", \"enemies\", \"absolute\", \"jobs\", \"justified\", \"majority\", \"responsibility\", \"objective\", \"islamic\", \"crimes\", \"freedom\", \"statement\", \"country\", \"israel\", \"people\", \"moral\", \"rights\", \"presented\", \"situation\", \"compound\", \"society\", \"civil\", \"think\", \"agree\", \"would\", \"president\", \"claim\", \"action\", \"certainly\", \"argument\", \"evidence\", \"question\", \"clinton\", \"mean\", \"make\", \"fact\", \"government\", \"perhaps\", \"believe\", \"true\", \"right\", \"well\", \"made\", \"even\", \"point\", \"many\", \"state\", \"something\", \"must\", \"want\", \"know\", \"like\", \"case\", \"could\", \"reason\", \"going\", \"much\", \"time\", \"said\", \"also\", \"server\", \"motif\", \"widget\", \"jpeg\", \"contrib\", \"entries\", \"char\", \"xterm\", \"postscript\", \"font\", \"fonts\", \"microsoft\", \"filename\", \"uuencode\", \"xlib\", \"widgets\", \"formats\", \"servers\", \"clients\", \"characters\", \"routines\", \"toolkit\", \"patch\", \"binaries\", \"database\", \"compile\", \"pixel\", \"shareware\", \"openwindows\", \"sunos\", \"comp\", \"directory\", \"files\", \"entry\", \"window\", \"image\", \"file\", \"unix\", \"graphics\", \"output\", \"display\", \"user\", \"null\", \"version\", \"code\", \"format\", \"application\", \"program\", \"export\", \"software\", \"available\", \"windows\", \"info\", \"anonymous\", \"line\", \"source\", \"color\", \"using\", \"information\", \"also\", \"name\", \"number\", \"data\", \"based\", \"encryption\", \"health\", \"clipper\", \"privacy\", \"ripem\", \"secure\", \"drug\", \"enforcement\", \"escrow\", \"cryptography\", \"tobacco\", \"encrypted\", \"crypto\", \"medicine\", \"nist\", \"diseases\", \"crypt\", \"wiretap\", \"phones\", \"smokeless\", \"aids\", \"candida\", \"cipher\", \"patient\", \"income\", \"ncsl\", \"rockefeller\", \"cryptographic\", \"syndrome\", \"plaintext\", \"disease\", \"secret\", \"medical\", \"security\", \"patients\", \"keys\", \"cancer\", \"agencies\", \"public\", \"private\", \"treatment\", \"chip\", \"drugs\", \"algorithm\", \"government\", \"number\", \"technology\", \"study\", \"among\", \"system\", \"information\", \"legal\", \"used\", \"administration\", \"many\", \"also\", \"data\", \"would\", \"people\", \"using\", \"part\", \"could\", \"years\", \"nasa\", \"launch\", \"contest\", \"lunar\", \"guidelines\", \"georgia\", \"launched\", \"mars\", \"saturn\", \"planetary\", \"telescope\", \"weaver\", \"astronomy\", \"avenue\", \"shuttle\", \"listserv\", \"douglas\", \"ozone\", \"aerospace\", \"ieee\", \"sciences\", \"karl\", \"astro\", \"kong\", \"balloon\", \"launches\", \"exploration\", \"ankara\", \"titan\", \"senior\", \"satellites\", \"investment\", \"propulsion\", \"satellite\", \"mission\", \"space\", \"aircraft\", \"moon\", \"university\", \"proceedings\", \"projects\", \"missions\", \"russia\", \"conference\", \"june\", \"research\", \"center\", \"april\", \"international\", \"washington\", \"institute\", \"national\", \"south\", \"office\", \"california\", \"billion\", \"organization\", \"earth\", \"program\", \"united\", \"year\", \"information\", \"news\", \"science\", \"technology\", \"also\", \"general\", \"american\", \"first\", \"president\", \"available\", \"years\", \"jesus\", \"bible\", \"church\", \"christians\", \"christ\", \"christianity\", \"lord\", \"holy\", \"judas\", \"eternal\", \"catholic\", \"religions\", \"scripture\", \"biblical\", \"doctrine\", \"pope\", \"worship\", \"passages\", \"satan\", \"divine\", \"resurrection\", \"revelation\", \"testament\", \"marriage\", \"faith\", \"gospel\", \"orthodox\", \"believing\", \"married\", \"luke\", \"christian\", \"matthew\", \"heaven\", \"spirit\", \"belief\", \"beliefs\", \"religion\", \"atheist\", \"truth\", \"father\", \"hell\", \"word\", \"universe\", \"life\", \"believe\", \"love\", \"book\", \"islam\", \"john\", \"death\", \"true\", \"many\", \"world\", \"also\", \"things\", \"people\", \"even\", \"would\", \"time\", \"said\", \"must\", \"scsi\", \"drives\", \"controller\", \"drive\", \"motherboard\", \"bios\", \"simms\", \"upgrade\", \"cache\", \"boot\", \"monitors\", \"vesa\", \"adaptec\", \"nubus\", \"quadra\", \"macs\", \"svga\", \"diamond\", \"slots\", \"vram\", \"eisa\", \"apps\", \"jumper\", \"centris\", \"slower\", \"ethernet\", \"allocation\", \"config\", \"screens\", \"floppy\", \"disk\", \"card\", \"memory\", \"monitor\", \"apple\", \"modem\", \"cards\", \"drivers\", \"video\", \"port\", \"driver\", \"backup\", \"norton\", \"board\", \"mode\", \"mouse\", \"hardware\", \"serial\", \"windows\", \"system\", \"hard\", \"speed\", \"problem\", \"tape\", \"computer\", \"work\", \"using\", \"thanks\", \"need\", \"know\", \"like\", \"would\", \"also\", \"anyone\", \"armenian\", \"armenians\", \"turkish\", \"turkey\", \"armenia\", \"turks\", \"soldiers\", \"genocide\", \"apartment\", \"azerbaijan\", \"henrik\", \"azerbaijani\", \"villages\", \"sumgait\", \"karina\", \"greece\", \"karabakh\", \"nazis\", \"burned\", \"argic\", \"ottoman\", \"serdar\", \"massacre\", \"azeri\", \"mamma\", \"village\", \"baku\", \"azerbaijanis\", \"cyprus\", \"azeris\", \"nazi\", \"muslim\", \"jews\", \"killed\", \"troops\", \"republic\", \"greek\", \"jewish\", \"soviet\", \"said\", \"women\", \"russian\", \"people\", \"went\", \"army\", \"children\", \"israeli\", \"population\", \"came\", \"dead\", \"city\", \"government\", \"first\", \"shipping\", \"wire\", \"sale\", \"brand\", \"wiring\", \"electronics\", \"plastic\", \"voltage\", \"battery\", \"stereo\", \"circuits\", \"wires\", \"outlets\", \"socket\", \"quantum\", \"cables\", \"conductor\", \"forsale\", \"laptop\", \"batteries\", \"connectors\", \"torque\", \"norway\", \"bolt\", \"technician\", \"publisher\", \"segment\", \"amplifier\", \"crashes\", \"cryptosystems\", \"cable\", \"printer\", \"offer\", \"electrical\", \"manuals\", \"receiver\", \"condition\", \"laser\", \"price\", \"audio\", \"selling\", \"inch\", \"supply\", \"sell\", \"excellent\", \"asking\", \"ground\", \"connected\", \"neutral\", \"panel\", \"power\", \"used\", \"original\", \"current\", \"cover\", \"phone\", \"best\", \"mail\", \"good\", \"interested\", \"make\", \"please\", \"model\", \"computer\", \"games\", \"season\", \"players\", \"hockey\", \"teams\", \"detroit\", \"minnesota\", \"puck\", \"rangers\", \"scorer\", \"scoring\", \"playoffs\", \"scored\", \"flyers\", \"leafs\", \"islanders\", \"hartford\", \"pens\", \"compass\", \"espn\", \"playoff\", \"defensive\", \"coach\", \"winnipeg\", \"devils\", \"lemieux\", \"jets\", \"stanley\", \"bruins\", \"hawks\", \"game\", \"team\", \"fans\", \"pittsburgh\", \"philadelphia\", \"play\", \"league\", \"baseball\", \"player\", \"kings\", \"toronto\", \"chicago\", \"boston\", \"period\", \"played\", \"year\", \"goal\", \"smith\", \"division\", \"first\", \"points\", \"second\", \"last\", \"third\", \"power\", \"series\", \"printf\", \"circuit\", \"radar\", \"detector\", \"stealth\", \"radius\", \"argv\", \"layout\", \"offset\", \"handler\", \"array\", \"reilly\", \"detectors\", \"liquid\", \"argc\", \"dram\", \"retail\", \"init\", \"creed\", \"locations\", \"vacuum\", \"redesign\", \"meter\", \"sunview\", \"radiation\", \"atmospheric\", \"olwm\", \"intrinsics\", \"sampling\", \"panels\", \"module\", \"expose\", \"timer\", \"courses\", \"wave\", \"temperature\", \"width\", \"cylinder\", \"switches\", \"plane\", \"prog\", \"models\", \"analog\", \"tower\", \"engines\", \"test\", \"signal\", \"byte\", \"cycle\", \"client\", \"model\", \"plot\", \"event\", \"data\", \"high\", \"design\", \"object\", \"orbit\", \"theory\", \"time\", \"points\", \"using\", \"input\", \"power\", \"system\", \"function\", \"value\", \"point\", \"output\", \"atheism\", \"fallacy\", \"assertion\", \"cica\", \"believer\", \"arafat\", \"ghetto\", \"winfield\", \"marijuana\", \"summarize\", \"rejecting\", \"discharge\", \"targa\", \"xputimage\", \"logos\", \"particle\", \"quran\", \"confess\", \"keller\", \"warsaw\", \"koran\", \"inkjet\", \"encrypting\", \"oneself\", \"bothers\", \"kingman\", \"polite\", \"goddess\", \"kkeller\", \"vain\", \"upenn\", \"fools\", \"appreciate\", \"please\", \"advance\", \"newsgroup\", \"thanks\", \"reply\", \"post\", \"postings\", \"responses\", \"posting\", \"posts\", \"mail\", \"anyone\", \"appreciated\", \"hello\", \"music\", \"email\", \"send\", \"thank\", \"interested\", \"looking\", \"anybody\", \"posted\", \"help\", \"know\", \"address\", \"list\", \"someone\", \"would\", \"article\", \"info\", \"group\", \"could\", \"find\", \"information\", \"like\", \"question\", \"firearms\", \"militia\", \"firearm\", \"handgun\", \"autos\", \"weapon\", \"handguns\", \"rkba\", \"regulated\", \"mormons\", \"kidney\", \"restaurant\", \"idaho\", \"baptism\", \"trinity\", \"icons\", \"profile\", \"keywords\", \"wales\", \"gifs\", \"contradictions\", \"brady\", \"pistol\", \"confirmation\", \"madison\", \"muscles\", \"shotgun\", \"forty\", \"rifle\", \"studio\", \"amendment\", \"obfuscate\", \"concealed\", \"constitution\", \"guns\", \"weapons\", \"judges\", \"semi\", \"bear\", \"arms\", \"court\", \"assault\", \"police\", \"auto\", \"carry\", \"texas\", \"shall\", \"bill\", \"state\", \"control\", \"crime\", \"laws\", \"states\", \"federal\", \"right\", \"file\", \"second\", \"section\", \"gateway\", \"sabbath\", \"ships\", \"phillies\", \"yankees\", \"ciphertext\", \"recognition\", \"rows\", \"astros\", \"cincinnati\", \"slip\", \"shaft\", \"fleet\", \"upgrading\", \"jacket\", \"orioles\", \"boggs\", \"nixon\", \"seminar\", \"echl\", \"cabinet\", \"ncsu\", \"hawk\", \"unbreakable\", \"rockies\", \"totals\", \"wade\", \"navy\", \"cripple\", \"chevy\", \"reds\", \"atlanta\", \"standings\", \"davis\", \"houston\", \"andrew\", \"mets\", \"colorado\", \"highway\", \"jeff\", \"lost\", \"david\", \"netcom\", \"jack\", \"east\", \"vote\", \"paul\", \"west\", \"john\", \"black\", \"york\", \"calgary\", \"quebec\", \"sharks\", \"liar\", \"edmonton\", \"cooper\", \"clemens\", \"sabres\", \"zionism\", \"plants\", \"inning\", \"cooling\", \"river\", \"vernon\", \"nolan\", \"darren\", \"seagate\", \"chest\", \"apostles\", \"canucks\", \"ireland\", \"smythe\", \"bone\", \"lyme\", \"roberts\", \"schism\", \"capitol\", \"lefebvre\", \"eddie\", \"riley\", \"jose\", \"montreal\", \"kent\", \"plant\", \"flames\", \"water\", \"cubs\", \"vancouver\", \"dept\", \"innings\", \"stewart\", \"spring\", \"lewis\", \"power\", \"gordon\", \"pitt\", \"skepticism\", \"intellect\", \"shameful\", \"cadre\", \"france\", \"chastity\", \"easter\", \"homosexual\", \"vitamin\", \"disc\", \"fuse\", \"freeware\", \"promo\", \"debugger\", \"equation\", \"theist\", \"absent\", \"execution\", \"fitting\", \"dortmund\", \"mack\", \"questioning\", \"heterosexual\", \"celebrate\", \"loans\", \"wont\", \"toss\", \"scratches\", \"surrender\", \"switzerland\", \"banks\", \"pagan\", \"homosexuals\", \"homosexuality\", \"aluminum\", \"fantasy\", \"orientation\", \"soon\", \"contacts\", \"germany\", \"adult\", \"pain\", \"sexual\", \"italy\", \"brain\", \"clone\", \"pseudo\", \"suck\", \"powerpc\", \"processors\", \"rumor\", \"twins\", \"photography\", \"abort\", \"lciii\", \"eggs\", \"pentium\", \"wagon\", \"mercedes\", \"kirlian\", \"servant\", \"somalia\", \"champions\", \"mixer\", \"conforms\", \"pulse\", \"capacitor\", \"prefix\", \"cwru\", \"lamps\", \"heating\", \"guitar\", \"inaccurate\", \"champaign\", \"doubled\", \"weiss\", \"lens\", \"backing\", \"clip\", \"cleveland\", \"milwaukee\", \"uiuc\", \"fake\", \"wrap\", \"pressing\", \"decenso\", \"mydisplay\", \"tyre\", \"erzurum\", \"mpeg\", \"taurus\", \"inquiry\", \"adjective\", \"flood\", \"bullinger\", \"telix\", \"myhint\", \"investigated\", \"exegisis\", \"ergo\", \"cruelties\", \"pockets\", \"grammar\", \"mozumder\", \"chorion\", \"lexicon\", \"colonel\", \"herrings\", \"crown\", \"beacon\", \"concordance\", \"nets\", \"hanging\", \"evaluating\", \"questionnaire\", \"mask\", \"archer\", \"robinson\", \"frozen\", \"hang\", \"potter\", \"tiger\", \"detail\", \"main\", \"bobby\", \"flags\", \"field\", \"sleeve\", \"financial\", \"polygon\", \"sync\", \"deck\", \"messenger\", \"waters\", \"nervous\", \"acids\", \"postage\", \"accusing\", \"theta\", \"tongues\", \"cube\", \"corel\", \"helper\", \"ultrasound\", \"wierd\", \"induce\", \"womb\", \"mindset\", \"cassette\", \"buddhist\", \"caste\", \"libertarianism\", \"welch\", \"radiologist\", \"machinery\", \"novice\", \"cages\", \"sounded\", \"picture\", \"serpent\", \"stones\", \"miracles\", \"horse\", \"languages\", \"slave\", \"polygons\", \"vector\", \"copper\", \"prisoners\", \"partition\", \"challenges\", \"mint\", \"dreams\", \"crowley\", \"harddisk\", \"paradox\", \"telepathy\", \"beleive\", \"dated\", \"nail\", \"executables\", \"shine\", \"victor\", \"lenses\", \"oscillator\", \"buffering\", \"careers\", \"similarity\", \"plains\", \"accessing\", \"evolve\", \"freeman\", \"lazy\", \"pseudocolor\", \"examiner\", \"insulated\", \"defaultscreen\", \"borland\", \"hassle\", \"strip\", \"lemon\", \"gangs\"], \"Freq\": [6447.0, 3664.0, 1522.0, 1942.0, 1660.0, 4347.0, 1283.0, 1100.0, 870.0, 1205.0, 1373.0, 4191.0, 801.0, 976.0, 1671.0, 2664.0, 1624.0, 1904.0, 1309.0, 3206.0, 823.0, 1970.0, 2076.0, 676.0, 794.0, 1241.0, 599.0, 1593.0, 1321.0, 876.0, 356.8825378417969, 289.6408386230469, 170.58482360839844, 150.0636444091797, 121.32564544677734, 115.83043670654297, 114.9481430053711, 108.77579498291016, 96.1627426147461, 94.96585845947266, 81.93206024169922, 79.00163269042969, 76.27977752685547, 73.11812591552734, 72.64653015136719, 71.84646606445312, 67.979248046875, 64.8540267944336, 64.0899658203125, 63.32851028442383, 49.110660552978516, 47.85197448730469, 47.41090393066406, 47.007266998291016, 46.028141021728516, 44.24127197265625, 43.65999221801758, 43.34190368652344, 43.153682708740234, 42.4557991027832, 194.79415893554688, 80.56269836425781, 85.4079360961914, 265.9394226074219, 111.8485336303711, 125.42900848388672, 176.70069885253906, 1190.29931640625, 77.400390625, 591.2944946289062, 413.3468017578125, 771.7542114257812, 729.98291015625, 1595.5198974609375, 1002.7825927734375, 955.5798950195312, 476.8157653808594, 252.38572692871094, 2254.099853515625, 313.2463684082031, 228.64749145507812, 459.9947509765625, 449.9773864746094, 1588.52734375, 737.2888793945312, 1132.7218017578125, 1654.42138671875, 1274.9139404296875, 817.3851928710938, 1464.468994140625, 636.1658325195312, 617.300048828125, 770.0877075195312, 562.6297607421875, 2246.126220703125, 847.1570434570312, 1144.8917236328125, 1054.2989501953125, 879.140869140625, 657.4771728515625, 628.508056640625, 710.1173706054688, 684.7593383789062, 613.211181640625, 724.7212524414062, 858.1185913085938, 717.8167724609375, 694.2483520507812, 623.298828125, 132.51162719726562, 106.60950469970703, 91.50634765625, 83.10408782958984, 78.98829650878906, 76.2967529296875, 74.8363265991211, 72.17529296875, 71.75423431396484, 66.7674789428711, 67.50106048583984, 63.19866943359375, 62.711185455322266, 59.62180709838867, 59.49578094482422, 164.62904357910156, 54.87514114379883, 52.91934585571289, 50.20775604248047, 64.81121826171875, 49.382049560546875, 49.108978271484375, 49.106815338134766, 47.594722747802734, 46.34614944458008, 45.839473724365234, 45.74188232421875, 46.40522766113281, 44.87797927856445, 44.445125579833984, 144.16290283203125, 244.54251098632812, 64.7821044921875, 194.24325561523438, 155.22213745117188, 217.15805053710938, 124.37440490722656, 99.26970672607422, 208.86680603027344, 280.6383972167969, 352.0870361328125, 467.16265869140625, 2486.879150390625, 220.66293334960938, 354.4270935058594, 121.9673080444336, 258.736328125, 95.25555419921875, 249.25640869140625, 150.99061584472656, 1383.9072265625, 320.26092529296875, 2336.4150390625, 397.28717041015625, 283.0440368652344, 220.6170196533203, 297.7801208496094, 266.22607421875, 331.8812255859375, 550.3981323242188, 206.73423767089844, 421.885498046875, 805.22265625, 492.9164123535156, 551.0892333984375, 325.6698303222656, 568.6757202148438, 455.33197021484375, 658.7213745117188, 765.8021240234375, 491.6672668457031, 682.4132690429688, 507.3477783203125, 651.8592529296875, 423.2418518066406, 540.3885498046875, 497.0975646972656, 563.1929931640625, 747.9199829101562, 698.2637329101562, 428.5520935058594, 553.5320434570312, 358.8106384277344, 416.0362854003906, 454.25634765625, 474.7486572265625, 407.1000671386719, 412.6035461425781, 645.839111328125, 461.5704040527344, 406.364501953125, 277.4244079589844, 255.7039031982422, 250.77540588378906, 244.30999755859375, 206.8607940673828, 189.37973022460938, 186.36599731445312, 177.59230041503906, 157.01939392089844, 155.2816925048828, 149.94009399414062, 144.6798858642578, 139.23231506347656, 136.9569854736328, 126.84456634521484, 123.76885223388672, 119.65951538085938, 118.94305419921875, 113.8019790649414, 112.80789184570312, 109.0260238647461, 105.13728332519531, 105.0896987915039, 104.42261505126953, 104.39954376220703, 94.84850311279297, 89.4771499633789, 358.9202880859375, 362.2498474121094, 882.9302978515625, 690.3553466796875, 819.9265747070312, 642.824951171875, 1718.5997314453125, 345.5443420410156, 556.268798828125, 737.919921875, 523.8072509765625, 442.14837646484375, 216.20518493652344, 774.3804321289062, 593.79736328125, 352.67144775390625, 398.4981384277344, 1155.576171875, 285.44940185546875, 758.9242553710938, 929.9608764648438, 729.7914428710938, 523.9097290039062, 323.3428039550781, 552.49072265625, 427.6876525878906, 372.6473388671875, 561.1993408203125, 545.2784423828125, 659.1586303710938, 446.451416015625, 451.0530090332031, 394.5094909667969, 371.28778076171875, 552.6021728515625, 477.2272644042969, 414.2934265136719, 348.7716979980469, 244.10498046875, 243.30059814453125, 239.85076904296875, 222.62588500976562, 203.3610382080078, 186.22116088867188, 162.6968536376953, 154.7694549560547, 153.6837158203125, 143.6931610107422, 135.96058654785156, 117.5421142578125, 105.58793640136719, 104.61668395996094, 101.7970962524414, 100.27760314941406, 91.93756103515625, 91.0573501586914, 90.84551239013672, 88.3565673828125, 83.14375305175781, 82.19811248779297, 79.36097717285156, 75.09962463378906, 73.37862396240234, 71.40103912353516, 223.0634002685547, 272.52923583984375, 330.8161315917969, 488.6468200683594, 176.41867065429688, 407.85870361328125, 116.89170837402344, 172.82293701171875, 693.4063110351562, 306.308837890625, 149.60107421875, 437.625244140625, 164.0120086669922, 214.11898803710938, 531.6554565429688, 486.0885314941406, 263.79510498046875, 220.60569763183594, 256.65789794921875, 481.3903503417969, 411.2989807128906, 202.86740112304688, 398.900634765625, 203.20599365234375, 311.1136474609375, 335.3484191894531, 262.3238830566406, 337.2651672363281, 297.2144470214844, 256.37896728515625, 243.41543579101562, 253.87289428710938, 229.4615936279297, 496.1927185058594, 274.2647705078125, 213.2089385986328, 176.3347930908203, 115.36286163330078, 101.19834899902344, 96.5747299194336, 91.76207733154297, 87.63070678710938, 83.50518035888672, 83.48384094238281, 82.85693359375, 79.15399932861328, 75.89433288574219, 200.5446014404297, 67.27535247802734, 61.478336334228516, 54.81245422363281, 54.750789642333984, 54.17176818847656, 52.09284591674805, 51.90174102783203, 50.993350982666016, 50.97458267211914, 50.17977523803711, 49.82022476196289, 49.77748489379883, 48.9541130065918, 47.68906784057617, 124.54706573486328, 117.61312866210938, 83.34781646728516, 69.05017852783203, 223.94497680664062, 185.84698486328125, 1228.244384765625, 78.25920867919922, 159.26394653320312, 547.8271484375, 84.62815856933594, 97.15804290771484, 81.8249740600586, 179.57119750976562, 208.12277221679688, 130.89280700683594, 390.77972412109375, 354.2524719238281, 388.1944274902344, 253.0734100341797, 285.54840087890625, 147.4701385498047, 386.0550537109375, 175.53677368164062, 233.89996337890625, 172.8415069580078, 129.52772521972656, 172.2063446044922, 214.6397705078125, 446.40423583984375, 203.1261444091797, 374.85296630859375, 361.6574401855469, 242.5342254638672, 211.67349243164062, 204.32131958007812, 367.54583740234375, 224.18959045410156, 204.64524841308594, 253.32615661621094, 204.83876037597656, 219.11634826660156, 195.6449737548828, 975.314453125, 561.0687866210938, 488.94189453125, 449.4853210449219, 403.6478576660156, 255.8700714111328, 212.30374145507812, 200.62872314453125, 148.70458984375, 148.32093811035156, 142.82911682128906, 142.92262268066406, 137.19924926757812, 115.88980102539062, 109.36592102050781, 100.52659606933594, 100.11912536621094, 96.63048553466797, 95.82803344726562, 93.48628997802734, 91.40972900390625, 87.4770278930664, 84.97650909423828, 81.71095275878906, 401.08807373046875, 80.5777359008789, 79.97843170166016, 73.1093521118164, 72.65414428710938, 72.53520202636719, 610.7393188476562, 192.11204528808594, 161.6446075439453, 206.72254943847656, 207.61143493652344, 177.12362670898438, 359.353759765625, 117.60984802246094, 294.2057800292969, 215.03611755371094, 237.81983947753906, 340.0101013183594, 138.98680114746094, 369.98406982421875, 506.8806457519531, 240.34022521972656, 304.90283203125, 154.20460510253906, 253.13699340820312, 205.55133056640625, 281.3457336425781, 360.0350646972656, 285.1553649902344, 378.05133056640625, 269.81707763671875, 345.2110290527344, 299.90869140625, 337.0030822753906, 260.32183837890625, 245.85269165039062, 224.0983123779297, 620.3035278320312, 329.2144470214844, 309.2830810546875, 1094.9273681640625, 171.14808654785156, 170.34829711914062, 146.07806396484375, 141.5386962890625, 119.77872467041016, 114.18869018554688, 106.51033782958984, 96.66395568847656, 91.34651947021484, 86.63526916503906, 86.5574951171875, 84.05773162841797, 82.97855377197266, 81.21959686279297, 78.94216918945312, 78.75917053222656, 77.02101135253906, 74.80683135986328, 73.67491149902344, 71.47708892822266, 70.88750457763672, 70.11153411865234, 65.39865112304688, 65.19482421875, 63.280792236328125, 243.52352905273438, 697.6669921875, 770.3221435546875, 547.0186157226562, 351.934326171875, 402.8236389160156, 273.1509704589844, 262.8059997558594, 341.542724609375, 432.6571350097656, 243.10818481445312, 348.20501708984375, 103.84656524658203, 102.34968566894531, 275.48004150390625, 284.0668640136719, 238.02024841308594, 329.24835205078125, 224.0218505859375, 566.5440673828125, 757.4752807617188, 414.200927734375, 294.12322998046875, 551.5765380859375, 210.28636169433594, 289.19744873046875, 389.6913757324219, 360.4576416015625, 326.40625, 338.5434875488281, 394.5537109375, 393.5657958984375, 423.60784912109375, 351.00335693359375, 310.7054748535156, 676.0171508789062, 595.7284545898438, 476.611572265625, 300.1930236816406, 231.86888122558594, 223.1160888671875, 211.0012664794922, 200.00181579589844, 177.4833526611328, 177.47230529785156, 156.4539794921875, 132.8270263671875, 126.79300689697266, 126.22215270996094, 125.71443939208984, 110.58870697021484, 103.5982666015625, 103.29936218261719, 98.61425018310547, 98.57674407958984, 95.59786987304688, 94.46168518066406, 92.30741882324219, 91.22172546386719, 91.10865020751953, 89.74254608154297, 89.42273712158203, 82.67069244384766, 78.87006378173828, 78.78995513916016, 168.30831909179688, 202.29852294921875, 474.00860595703125, 314.2598876953125, 122.02543640136719, 99.65350341796875, 227.99713134765625, 227.91091918945312, 156.17092895507812, 541.2743530273438, 205.49781799316406, 178.5266876220703, 509.7753601074219, 213.17337036132812, 141.64463806152344, 209.675048828125, 169.58953857421875, 148.65826416015625, 171.9522247314453, 151.261474609375, 152.3317108154297, 157.09661865234375, 150.7958526611328, 292.75958251953125, 212.43692016601562, 344.61773681640625, 125.93717956542969, 122.17050170898438, 108.36502075195312, 105.90708923339844, 103.10755920410156, 99.32774353027344, 89.66709899902344, 72.81228637695312, 71.41169738769531, 63.46417999267578, 60.46765899658203, 60.1436767578125, 59.23970413208008, 49.946563720703125, 49.41660690307617, 44.25568771362305, 42.335060119628906, 41.357933044433594, 38.8255729675293, 38.82121276855469, 38.371490478515625, 38.192020416259766, 36.53590774536133, 36.66880798339844, 35.59886932373047, 35.358436584472656, 35.31238555908203, 229.1993408203125, 196.98252868652344, 309.2914733886719, 104.34740447998047, 91.60903930664062, 64.11639404296875, 261.1908874511719, 79.73570251464844, 416.9090270996094, 115.2474365234375, 122.7511215209961, 71.3507308959961, 158.59786987304688, 242.75599670410156, 185.42332458496094, 212.80931091308594, 222.12791442871094, 110.32296752929688, 100.5508804321289, 103.77821350097656, 292.0981750488281, 309.8785095214844, 175.77125549316406, 189.5096435546875, 131.50921630859375, 154.14805603027344, 191.56341552734375, 170.13250732421875, 190.79818725585938, 137.40374755859375, 153.94683837890625, 133.3739013671875, 118.58116912841797, 121.4140853881836, 598.8193359375, 450.6081848144531, 387.10601806640625, 374.2649230957031, 276.5423583984375, 183.1536102294922, 138.8348388671875, 137.13211059570312, 133.09010314941406, 121.17544555664062, 117.8160171508789, 110.0635986328125, 103.4503173828125, 97.21256256103516, 95.27809143066406, 94.2888412475586, 89.56027221679688, 86.60639953613281, 85.71149444580078, 84.62968444824219, 84.48860931396484, 83.80734252929688, 81.78289031982422, 81.31147766113281, 79.44042205810547, 76.66714477539062, 76.61175537109375, 69.32366943359375, 68.18260192871094, 63.47557067871094, 847.6801147460938, 753.2261962890625, 136.36483764648438, 210.65550231933594, 152.60736083984375, 533.098876953125, 338.8576965332031, 187.697509765625, 251.60891723632812, 151.38035583496094, 164.98513793945312, 182.7978515625, 157.92623901367188, 319.0013427734375, 154.46246337890625, 434.8206481933594, 161.58587646484375, 145.0903778076172, 156.5099639892578, 261.0710754394531, 153.1743621826172, 188.03028869628906, 192.301513671875, 159.5088653564453, 176.68634033203125, 152.2212677001953, 261.76898193359375, 149.81642150878906, 141.78482055664062, 80.91781616210938, 79.7081527709961, 67.94324493408203, 67.40974426269531, 61.89264678955078, 56.462181091308594, 53.6697998046875, 53.14342498779297, 47.6824951171875, 46.76259231567383, 44.971534729003906, 44.45409393310547, 43.85995864868164, 43.07761001586914, 43.03684616088867, 41.00857925415039, 39.45240020751953, 38.393184661865234, 37.66465759277344, 37.2080192565918, 36.7109260559082, 36.517295837402344, 35.76398468017578, 34.77400588989258, 34.35952377319336, 33.63371276855469, 32.174720764160156, 88.39932250976562, 66.4320297241211, 43.540409088134766, 47.4636116027832, 89.34879302978516, 68.81820678710938, 64.85176086425781, 49.32371139526367, 56.608062744140625, 90.04605865478516, 75.78561401367188, 133.41395568847656, 62.3718376159668, 57.706817626953125, 55.721351623535156, 193.4254913330078, 98.75504302978516, 96.90636444091797, 62.7445182800293, 117.59783935546875, 168.5653076171875, 56.73281478881836, 117.43988037109375, 268.04083251953125, 181.91909790039062, 106.7404556274414, 90.49077606201172, 83.27777099609375, 95.2793197631836, 205.57342529296875, 97.5438461303711, 139.4744110107422, 94.66820526123047, 119.0418472290039, 115.59984588623047, 85.1236572265625, 83.48858642578125, 92.23506164550781, 82.62989044189453, 176.12518310546875, 62.221656799316406, 48.77351760864258, 47.84828186035156, 35.33152770996094, 34.02766036987305, 33.507503509521484, 30.340747833251953, 30.204374313354492, 29.343158721923828, 27.82404899597168, 27.640419006347656, 26.6197566986084, 25.735225677490234, 25.68850326538086, 25.117265701293945, 24.375255584716797, 23.645679473876953, 22.662614822387695, 22.2957706451416, 21.640583038330078, 21.59524917602539, 21.370418548583984, 21.57176399230957, 21.01305389404297, 20.901113510131836, 20.46796226501465, 20.440156936645508, 20.169864654541016, 20.04737091064453, 33.56370544433594, 24.184831619262695, 177.39556884765625, 990.81689453125, 254.19651794433594, 198.4884033203125, 746.8496704101562, 230.1735076904297, 497.5026550292969, 107.10331726074219, 85.77529907226562, 297.5845642089844, 133.33242797851562, 586.0355224609375, 702.4957885742188, 173.72332763671875, 114.50079345703125, 80.84561157226562, 312.6099853515625, 336.1258850097656, 138.26116943359375, 227.30722045898438, 268.80615234375, 187.31625366210938, 161.13070678710938, 322.7189025878906, 606.2846069335938, 204.03741455078125, 260.0152587890625, 249.66200256347656, 650.1959838867188, 188.94305419921875, 215.17922973632812, 202.91751098632812, 289.7054443359375, 202.87588500976562, 203.08908081054688, 227.5312957763672, 179.20558166503906, 242.7488250732422, 181.77110290527344, 103.02803039550781, 96.77874755859375, 92.35444641113281, 184.0739288330078, 82.74698638916016, 69.73711395263672, 65.86871337890625, 60.54845428466797, 54.86659240722656, 52.86161422729492, 51.19827651977539, 49.224884033203125, 44.64902877807617, 44.18365478515625, 41.108177185058594, 39.6689338684082, 39.57948684692383, 39.223426818847656, 37.7113151550293, 37.07844161987305, 37.031166076660156, 34.82956314086914, 33.51487731933594, 33.212764739990234, 32.6127815246582, 32.02190399169922, 31.42349624633789, 31.37828254699707, 217.8526611328125, 61.686763763427734, 66.81242370605469, 166.94300842285156, 320.16998291015625, 236.50259399414062, 111.03984832763672, 100.20454406738281, 131.8831024169922, 159.1036376953125, 178.0531768798828, 71.21109771728516, 179.7166290283203, 101.4349136352539, 139.0358428955078, 94.87555694580078, 122.47476196289062, 160.530029296875, 236.87901306152344, 188.80101013183594, 125.9773941040039, 127.02340698242188, 154.30445861816406, 116.50835418701172, 206.90672302246094, 200.5454864501953, 162.26519775390625, 122.94165802001953, 93.2013168334961, 71.67069244384766, 60.57224655151367, 58.187294006347656, 56.095428466796875, 49.79747772216797, 42.75385284423828, 41.549278259277344, 40.68381881713867, 36.74435043334961, 36.6134033203125, 36.413597106933594, 32.60679244995117, 32.457210540771484, 30.810869216918945, 29.36528205871582, 29.157997131347656, 28.905384063720703, 27.763275146484375, 25.505659103393555, 25.199440002441406, 24.626487731933594, 24.603763580322266, 23.837528228759766, 23.562223434448242, 22.506040573120117, 21.855892181396484, 97.35709381103516, 20.977453231811523, 19.444168090820312, 42.66111755371094, 53.38750457763672, 40.8924674987793, 38.100975036621094, 53.267295837402344, 88.73023223876953, 43.705406188964844, 90.01459503173828, 45.40224838256836, 53.81427001953125, 118.30862426757812, 130.49127197265625, 48.73868942260742, 48.4171257019043, 69.5614013671875, 49.87283706665039, 67.09098052978516, 57.14714050292969, 58.19647216796875, 48.96089172363281, 41.64474105834961, 111.56703186035156, 85.52909851074219, 68.32159423828125, 57.91028594970703, 50.72372817993164, 49.805686950683594, 48.640811920166016, 42.520469665527344, 42.089454650878906, 39.526912689208984, 38.34477615356445, 38.0848503112793, 36.25164794921875, 36.05348587036133, 35.16340637207031, 34.933223724365234, 34.027034759521484, 33.28800582885742, 32.053611755371094, 31.446670532226562, 31.15302276611328, 30.02751922607422, 29.955224990844727, 28.622398376464844, 28.031356811523438, 27.466899871826172, 27.41287612915039, 26.547348022460938, 26.376510620117188, 25.99834632873535, 122.18228149414062, 120.96406555175781, 74.80330657958984, 51.952537536621094, 124.4669418334961, 172.6119842529297, 66.76165771484375, 77.00700378417969, 55.2996711730957, 34.87494659423828, 34.99100875854492, 45.088443756103516, 36.37952423095703, 42.768821716308594, 104.46261596679688, 99.72994995117188, 74.91677856445312, 68.49974822998047, 65.7038345336914, 65.08600616455078, 63.98909378051758, 63.81616973876953, 62.81700897216797, 62.22892379760742, 40.576839447021484, 33.516448974609375, 33.21112060546875, 32.39804458618164, 31.059444427490234, 25.750667572021484, 25.636991500854492, 22.78607749938965, 22.401832580566406, 22.008134841918945, 21.56903076171875, 21.107023239135742, 20.30494499206543, 19.832256317138672, 19.631410598754883, 19.3549747467041, 17.987455368041992, 17.8879337310791, 17.334993362426758, 17.24203872680664, 83.39230346679688, 49.43472671508789, 96.37152099609375, 36.70423126220703, 47.828163146972656, 50.598289489746094, 38.35947036743164, 26.17732810974121, 31.195859909057617, 99.78639221191406, 34.210079193115234, 62.51459503173828, 31.496360778808594, 66.88069152832031, 37.0073356628418, 29.394100189208984, 31.01812171936035, 57.36557388305664, 34.79969787597656, 30.87984275817871, 30.621871948242188, 27.985321044921875, 27.63279914855957, 27.49835968017578, 23.934955596923828, 23.82794761657715, 21.441085815429688, 21.31219482421875, 21.18023109436035, 20.873611450195312, 19.16551399230957, 18.742549896240234, 18.682472229003906, 17.75411033630371, 17.232830047607422, 16.105655670166016, 15.979131698608398, 15.320938110351562, 15.300284385681152, 14.873760223388672, 14.776305198669434, 14.63833236694336, 14.105485916137695, 14.052212715148926, 13.929130554199219, 13.47426986694336, 12.790818214416504, 27.37226104736328, 18.522050857543945, 24.72627067565918, 27.431297302246094, 32.66930389404297, 27.135826110839844, 30.184587478637695, 16.306337356567383, 18.459638595581055, 16.46232795715332, 30.414644241333008, 28.134004592895508, 27.817047119140625, 24.080419540405273, 16.030677795410156, 14.473173141479492, 14.1659517288208, 12.868239402770996, 12.577411651611328, 12.303857803344727, 10.43847942352295, 10.29130744934082, 10.244489669799805, 10.123397827148438, 10.033942222595215, 9.87783145904541, 9.76687240600586, 9.705339431762695, 8.974653244018555, 8.733419418334961, 8.58453369140625, 7.9854021072387695, 6.974583625793457, 6.890817642211914, 6.596989154815674, 6.593088626861572, 6.508738040924072, 45.82816696166992, 6.493732452392578, 6.355956554412842, 45.34267044067383, 14.04173469543457, 15.248598098754883, 8.308484077453613, 18.48812484741211, 11.011736869812012, 9.797497749328613, 15.5101318359375, 19.20121955871582, 11.60605525970459, 9.364065170288086, 9.746431350708008, 41.6243896484375, 30.551681518554688, 27.83624839782715, 26.793655395507812, 25.763219833374023, 13.862154960632324, 12.558126449584961, 11.825838088989258, 11.235818862915039, 11.07763957977295, 10.173079490661621, 9.616272926330566, 9.554373741149902, 9.496393203735352, 8.857279777526855, 8.663694381713867, 8.516502380371094, 7.399419784545898, 7.148690700531006, 7.056473731994629, 6.84214973449707, 16.484987258911133, 6.41105318069458, 6.035353660583496, 5.994799613952637, 5.299969673156738, 5.103024482727051, 5.042891502380371, 5.0232625007629395, 4.804262638092041, 11.493657112121582, 62.013362884521484, 9.569626808166504, 15.752401351928711, 12.722171783447266, 10.769837379455566, 9.91905403137207, 14.06588077545166, 8.600044250488281, 8.374919891357422, 17.079885482788086, 16.296287536621094, 15.03455924987793, 14.8113431930542, 14.444245338439941, 13.883879661560059, 12.948521614074707, 11.92169189453125, 22.977825164794922, 10.511896133422852, 10.285353660583496, 10.190094947814941, 10.148364067077637, 10.133264541625977, 9.87490177154541, 9.750992774963379, 9.662589073181152, 9.627419471740723, 9.52702808380127, 8.999419212341309, 8.397058486938477, 7.916723251342773, 7.126370906829834, 7.122673511505127, 6.952388763427734, 6.8495941162109375, 6.779756546020508, 6.537387371063232, 6.459879398345947, 6.3415961265563965, 34.97903060913086, 8.35828685760498, 10.476441383361816, 7.1223320960998535, 7.221922397613525], \"Total\": [6447.0, 3664.0, 1522.0, 1942.0, 1660.0, 4347.0, 1283.0, 1100.0, 870.0, 1205.0, 1373.0, 4191.0, 801.0, 976.0, 1671.0, 2664.0, 1624.0, 1904.0, 1309.0, 3206.0, 823.0, 1970.0, 2076.0, 676.0, 794.0, 1241.0, 599.0, 1593.0, 1321.0, 876.0, 357.779541015625, 290.537841796875, 171.48179626464844, 150.9606170654297, 122.22264099121094, 116.72743225097656, 115.84513854980469, 109.67279052734375, 97.05973815917969, 95.86285400390625, 82.83148193359375, 79.89863586425781, 77.17677307128906, 74.01512145996094, 73.54353332519531, 72.74346923828125, 68.87625122070312, 65.75102233886719, 64.98696899414062, 64.22549438476562, 50.00764465332031, 48.748958587646484, 48.30788803100586, 47.9049072265625, 46.92512130737305, 45.13825607299805, 44.55697250366211, 44.238887786865234, 44.050662994384766, 43.352779388427734, 201.75143432617188, 83.39640808105469, 88.69053649902344, 289.60943603515625, 117.60154724121094, 133.38409423828125, 197.14157104492188, 1569.8350830078125, 81.89826965332031, 755.3665161132812, 532.8095092773438, 1120.35498046875, 1059.896240234375, 2608.515625, 1542.5543212890625, 1466.03662109375, 654.3612670898438, 317.7701721191406, 4191.29345703125, 418.8103332519531, 288.9495544433594, 672.80419921875, 669.862548828125, 3182.963134765625, 1250.4385986328125, 2203.987060546875, 3664.592529296875, 2656.73486328125, 1493.8265380859375, 3206.138427734375, 1086.3021240234375, 1051.4217529296875, 1421.522705078125, 934.0174560546875, 6447.81494140625, 1692.3978271484375, 2664.8583984375, 2428.5185546875, 1970.470703125, 1258.449951171875, 1172.427978515625, 1499.688720703125, 1426.0130615234375, 1233.17431640625, 1864.900634765625, 3600.975830078125, 2328.357177734375, 2146.85888671875, 4347.69921875, 133.40866088867188, 107.50657653808594, 92.42222595214844, 84.02912902832031, 79.8853759765625, 77.19383239746094, 75.74351501464844, 73.0723876953125, 72.65242004394531, 67.66455078125, 68.45188903808594, 64.09597778320312, 63.60824203491211, 60.518863677978516, 60.39284133911133, 167.29428100585938, 55.77219772338867, 53.816402435302734, 51.10481643676758, 65.9844970703125, 50.279109954833984, 50.006038665771484, 50.00387191772461, 48.49177932739258, 47.24320602416992, 46.73653030395508, 46.63904571533203, 47.33088302612305, 45.7750358581543, 45.34218215942383, 147.2093048095703, 257.2610778808594, 66.47953796386719, 208.3517608642578, 165.45716857910156, 238.43467712402344, 133.81431579589844, 105.85354614257812, 238.39935302734375, 341.0571594238281, 440.95281982421875, 623.301025390625, 4347.69921875, 273.11102294921875, 480.9076232910156, 139.51551818847656, 360.7012023925781, 105.99412536621094, 348.0426330566406, 188.6888885498047, 3206.138427734375, 492.03924560546875, 6447.81494140625, 671.8404541015625, 432.5071716308594, 317.9352722167969, 478.2708740234375, 412.5868225097656, 559.4412231445312, 1135.2724609375, 292.7901916503906, 819.3615112304688, 2146.85888671875, 1061.6881103515625, 1267.8648681640625, 574.9539184570312, 1420.5260009765625, 1035.7294921875, 1970.470703125, 2656.73486328125, 1257.019287109375, 2428.5185546875, 1368.2109375, 2271.28955078125, 998.1851806640625, 1692.3978271484375, 1424.2113037109375, 1864.900634765625, 3664.592529296875, 4191.29345703125, 1196.5810546875, 2664.8583984375, 751.967529296875, 1466.03662109375, 2203.987060546875, 3182.963134765625, 1904.572021484375, 3600.975830078125, 646.738525390625, 462.46978759765625, 407.2677307128906, 278.32379150390625, 256.6033020019531, 251.67474365234375, 245.20933532714844, 207.7601318359375, 190.27906799316406, 187.2653350830078, 178.49163818359375, 157.91873168945312, 156.1810302734375, 150.8394317626953, 145.5792236328125, 140.13165283203125, 137.8563232421875, 127.74394226074219, 124.66822814941406, 120.55888366699219, 119.84242248535156, 114.70135498046875, 113.70726013183594, 109.92539978027344, 106.03665161132812, 105.98907470703125, 105.32203674316406, 105.29891967773438, 95.74787902832031, 90.37652587890625, 364.791259765625, 370.850830078125, 923.36376953125, 720.344482421875, 861.228515625, 696.4452514648438, 1942.597900390625, 366.8631591796875, 631.1857299804688, 873.97412109375, 602.4963989257812, 501.19781494140625, 230.2188262939453, 962.2882690429688, 725.7007446289062, 405.79681396484375, 469.2752990722656, 1671.095458984375, 322.93017578125, 1061.584228515625, 1482.79052734375, 1309.4287109375, 850.5647583007812, 423.3567810058594, 1056.4659423828125, 744.9794921875, 563.2857055664062, 1564.929931640625, 1593.047119140625, 3600.975830078125, 1163.27587890625, 1436.362548828125, 1321.3841552734375, 994.1611938476562, 553.4979248046875, 478.1230163574219, 415.1891784667969, 349.6674499511719, 245.00067138671875, 244.1962890625, 240.7464599609375, 223.52157592773438, 204.25672912597656, 187.11685180664062, 163.59254455566406, 155.66514587402344, 154.57940673828125, 144.58885192871094, 136.8562774658203, 118.43785095214844, 106.48367309570312, 105.51242065429688, 102.69282531738281, 101.17333984375, 92.83329772949219, 91.95307922363281, 91.74124145507812, 89.25230407714844, 84.03948974609375, 83.09384155273438, 80.2567138671875, 75.995361328125, 74.27435302734375, 72.29676818847656, 226.92898559570312, 282.3116760253906, 345.8387145996094, 519.3092041015625, 184.0057830810547, 459.22210693359375, 121.97967529296875, 189.50523376464844, 928.6102905273438, 379.8296203613281, 166.72232055664062, 699.2548828125, 196.18592834472656, 293.8943176269531, 1267.8648681640625, 1436.362548828125, 506.9240417480469, 359.1920166015625, 507.83074951171875, 2076.59765625, 1593.047119140625, 322.7492980957031, 2031.3944091796875, 357.4942321777344, 2271.28955078125, 3600.975830078125, 1321.3841552734375, 6447.81494140625, 4347.69921875, 1564.929931640625, 1209.4915771484375, 2664.8583984375, 1499.688720703125, 497.7923889160156, 275.1581726074219, 214.10226440429688, 177.2281494140625, 116.25624084472656, 102.09172058105469, 97.46810913085938, 92.65550231933594, 88.52407836914062, 84.3985595703125, 84.37722778320312, 83.75030517578125, 80.04776000976562, 76.78770446777344, 203.05287170410156, 68.17582702636719, 62.371700286865234, 55.70581817626953, 55.6441535949707, 55.06513214111328, 52.986209869384766, 52.79510498046875, 51.886714935302734, 51.86794662475586, 51.07313919067383, 50.71358871459961, 50.67084884643555, 49.847476959228516, 48.58243179321289, 126.88270568847656, 119.82516479492188, 85.16888427734375, 70.5078125, 231.71754455566406, 195.5372314453125, 1373.2301025390625, 81.16935729980469, 173.46878051757812, 657.549072265625, 90.11763000488281, 105.44219970703125, 87.32177734375, 212.3340301513672, 263.0102233886719, 152.64276123046875, 585.8667602539062, 530.621826171875, 599.3601684570312, 352.0133361816406, 432.6933288574219, 182.38951110839844, 660.7433471679688, 261.4931640625, 410.09381103515625, 259.05853271484375, 169.2448272705078, 272.8089904785156, 405.4490966796875, 1671.095458984375, 413.65386962890625, 1624.6129150390625, 1593.047119140625, 669.8414306640625, 508.34429931640625, 506.9240417480469, 3600.975830078125, 743.6682739257812, 624.0186767578125, 2328.357177734375, 671.8404541015625, 1482.79052734375, 1499.688720703125, 976.2113647460938, 561.9656982421875, 489.8388366699219, 450.38226318359375, 404.5447998046875, 256.7669982910156, 213.20059204101562, 201.52557373046875, 149.6014404296875, 149.21778869628906, 143.72596740722656, 143.82139587402344, 138.09609985351562, 116.78669738769531, 110.2628173828125, 101.42349243164062, 101.01602172851562, 97.52738952636719, 96.72492980957031, 94.38319396972656, 92.30662536621094, 88.37393188476562, 85.8734130859375, 82.60784912109375, 405.4969177246094, 81.47463989257812, 80.87533569335938, 74.01046752929688, 73.55104064941406, 73.43209838867188, 619.2822875976562, 197.7916717529297, 166.3390655517578, 215.56593322753906, 227.2182159423828, 194.2284393310547, 439.9481506347656, 125.7127685546875, 446.6430358886719, 322.9549865722656, 379.39202880859375, 653.563720703125, 171.21188354492188, 843.0475463867188, 1420.5260009765625, 418.7235107421875, 677.1314697265625, 203.3184356689453, 560.8171997070312, 419.45880126953125, 1035.7294921875, 2271.28955078125, 1192.5423583984375, 3600.975830078125, 1310.9810791015625, 4347.69921875, 2428.5185546875, 6447.81494140625, 3182.963134765625, 1904.572021484375, 1424.2113037109375, 621.2015380859375, 330.1124572753906, 310.3000793457031, 1100.114501953125, 172.04600524902344, 171.2462158203125, 146.97598266601562, 142.43661499023438, 120.67669677734375, 115.08665466308594, 107.40838623046875, 97.56192016601562, 92.24449157714844, 87.53323364257812, 87.45545959472656, 84.95570373535156, 83.87660217285156, 82.11756896972656, 79.84013366699219, 79.65713500976562, 77.91897583007812, 75.70480346679688, 74.5728759765625, 72.37506103515625, 71.78648376464844, 71.009765625, 66.29661560058594, 66.09278869628906, 64.17904663085938, 247.06727600097656, 710.08349609375, 794.8871459960938, 577.4120483398438, 375.5289306640625, 436.6234130859375, 292.0377197265625, 281.7202453613281, 373.3330383300781, 482.703369140625, 277.1472473144531, 425.2966003417969, 110.00823974609375, 108.4532470703125, 384.0467224121094, 417.6829528808594, 335.2704772949219, 521.3327026367188, 334.3508605957031, 1309.4287109375, 2076.59765625, 843.7950439453125, 534.3928833007812, 1678.8031005859375, 336.6134338378906, 811.4080810546875, 1758.3717041015625, 1564.929931640625, 1283.1348876953125, 1730.85546875, 3664.592529296875, 4191.29345703125, 6447.81494140625, 3600.975830078125, 1660.25244140625, 676.915771484375, 596.6270751953125, 477.5102233886719, 301.0916748046875, 232.7674560546875, 224.01466369628906, 211.89984130859375, 200.900390625, 178.38192749023438, 178.37088012695312, 157.35255432128906, 133.72560119628906, 127.69161987304688, 127.12077331542969, 126.61305236816406, 111.48731994628906, 104.49688720703125, 104.19801330566406, 99.51286315917969, 99.47535705566406, 96.49649047851562, 95.36030578613281, 93.20603942871094, 92.12034606933594, 92.00726318359375, 90.64115905761719, 90.32135009765625, 83.56930541992188, 79.7686767578125, 79.68856811523438, 172.9170684814453, 209.46022033691406, 610.3323974609375, 389.6575927734375, 133.44215393066406, 104.35614013671875, 336.5495300292969, 380.28033447265625, 211.35101318359375, 1904.572021484375, 395.17864990234375, 362.0112609863281, 4347.69921875, 623.7326049804688, 229.5377655029297, 632.6312866210938, 380.12054443359375, 282.6083984375, 620.7776489257812, 393.5220031738281, 429.89373779296875, 1267.8648681640625, 2328.357177734375, 293.65948486328125, 213.3367919921875, 346.2938232421875, 126.83706665039062, 123.07038879394531, 109.27197265625, 106.80697631835938, 104.0074462890625, 100.22885131835938, 90.56698608398438, 73.71217346191406, 72.31158447265625, 64.36407470703125, 61.3675422668457, 61.0438232421875, 60.13958740234375, 50.8464469909668, 50.316490173339844, 45.15557098388672, 43.23494338989258, 42.257816314697266, 39.72545623779297, 39.72142028808594, 39.27138900756836, 39.09190368652344, 37.435791015625, 37.579925537109375, 36.49875259399414, 36.25831985473633, 36.2122688293457, 260.7408142089844, 226.1305694580078, 380.2978820800781, 118.66390991210938, 102.82730102539062, 69.49476623535156, 335.9355163574219, 88.57321166992188, 612.2369995117188, 140.2108154296875, 153.49903869628906, 80.57952880859375, 215.30393981933594, 366.11956787109375, 264.46026611328125, 328.5963134765625, 347.917724609375, 143.57394409179688, 139.57212829589844, 157.8112335205078, 1124.455322265625, 2031.3944091796875, 577.4292602539062, 715.8488159179688, 296.7006530761719, 509.57086181640625, 1015.0371704101562, 1205.93359375, 2608.515625, 540.8460083007812, 2146.85888671875, 1522.17431640625, 372.91168212890625, 811.4080810546875, 599.7188110351562, 451.5076599121094, 388.0054931640625, 375.1643981933594, 277.44183349609375, 184.0530548095703, 139.73428344726562, 138.03155517578125, 133.9895477294922, 122.07490539550781, 118.71548461914062, 110.96305847167969, 104.34977722167969, 98.11203002929688, 96.17755126953125, 95.18830871582031, 90.45973205566406, 87.505859375, 86.6109619140625, 85.52914428710938, 85.38807678222656, 84.70684814453125, 82.68235778808594, 82.2109375, 80.33988952636719, 77.56660461425781, 77.51121520996094, 70.22312927246094, 69.08206176757812, 64.37503051757812, 870.6322021484375, 801.5318603515625, 140.8362579345703, 226.48788452148438, 161.70831298828125, 632.077880859375, 387.39617919921875, 204.4296417236328, 282.190673828125, 168.64732360839844, 204.70407104492188, 238.64076232910156, 199.5087890625, 534.451171875, 204.5257568359375, 1624.6129150390625, 267.8226013183594, 217.7620391845703, 272.99609375, 2328.357177734375, 364.4855041503906, 1046.5440673828125, 1426.0130615234375, 470.7904052734375, 1124.455322265625, 366.48150634765625, 262.66558837890625, 150.7130126953125, 142.68141174316406, 81.81440734863281, 80.60475158691406, 68.83984375, 68.30633544921875, 62.78923416137695, 57.358768463134766, 54.56638717651367, 54.040042877197266, 48.57908248901367, 47.6591796875, 45.86830139160156, 45.35068130493164, 44.75654602050781, 43.97419738769531, 43.933433532714844, 41.90516662597656, 40.3489875793457, 39.289772033691406, 38.56124496459961, 38.10460662841797, 37.607513427734375, 37.41606521606445, 36.66057205200195, 35.67059326171875, 35.25611114501953, 34.53030014038086, 33.07130813598633, 91.26712036132812, 69.00462341308594, 44.927677154541016, 50.08967971801758, 101.65412902832031, 76.43537902832031, 72.33941650390625, 53.1207275390625, 63.05631637573242, 111.33041381835938, 90.36027526855469, 182.81301879882812, 71.19334411621094, 65.0224609375, 62.652156829833984, 373.695068359375, 144.95785522460938, 143.88650512695312, 76.00224304199219, 198.74302673339844, 372.91168212890625, 66.91531372070312, 259.0379333496094, 1321.3841552734375, 896.5048217773438, 284.01153564453125, 230.6962127685547, 190.0011444091797, 284.74237060546875, 3182.963134765625, 364.4855041503906, 1564.929931640625, 395.0547180175781, 1124.455322265625, 2076.59765625, 318.35858154296875, 421.4297180175781, 1368.2109375, 873.97412109375, 177.02452087402344, 63.12099075317383, 49.6728515625, 48.747615814208984, 36.23086166381836, 34.92699432373047, 34.406837463378906, 31.240083694458008, 31.103710174560547, 30.242572784423828, 28.723388671875, 28.53975486755371, 27.519092559814453, 26.63456153869629, 26.58922004699707, 26.0166015625, 25.27459144592285, 24.545015335083008, 23.56195068359375, 23.195106506347656, 22.539918899536133, 22.494585037231445, 22.26975440979004, 22.485349655151367, 21.912389755249023, 21.80044937133789, 21.367298126220703, 21.339492797851562, 21.06920051574707, 20.946706771850586, 35.87662887573242, 25.490964889526367, 209.27622985839844, 1522.17431640625, 356.2417297363281, 275.9700927734375, 1283.1348876953125, 333.9521789550781, 823.74560546875, 144.85687255859375, 111.935791015625, 496.4831237792969, 191.48109436035156, 1205.93359375, 1660.25244140625, 295.74346923828125, 179.326904296875, 118.06585693359375, 780.9840087890625, 876.6542358398438, 262.4878845214844, 540.8460083007812, 712.4295043945312, 441.0731201171875, 401.2554931640625, 1241.0596923828125, 3664.592529296875, 641.357177734375, 1007.226806640625, 1054.15625, 6447.81494140625, 625.8232421875, 850.5647583007812, 809.905029296875, 2664.8583984375, 1409.8568115234375, 1593.047119140625, 4191.29345703125, 1135.2724609375, 243.63674926757812, 182.65902709960938, 103.91596984863281, 97.66670227050781, 93.24238586425781, 186.04653930664062, 83.63493347167969, 70.62504577636719, 66.75665283203125, 61.436378479003906, 55.7545166015625, 53.74953842163086, 52.08620071411133, 50.11280822753906, 45.53695297241211, 45.07157897949219, 41.99610137939453, 40.556861877441406, 40.467411041259766, 40.111351013183594, 38.599239349365234, 37.96636962890625, 37.919090270996094, 35.71748733520508, 34.402801513671875, 34.10068893432617, 33.50070571899414, 32.909828186035156, 32.31142044067383, 32.26620864868164, 226.13418579101562, 64.18258666992188, 71.68074035644531, 199.52552795410156, 424.6187438964844, 330.4915466308594, 138.61074829101562, 125.25022888183594, 183.35589599609375, 255.64950561523438, 355.2991943359375, 98.42970275878906, 426.4520263671875, 178.25588989257812, 300.66424560546875, 168.5264129638672, 263.78729248046875, 434.8736572265625, 998.1851806640625, 799.594482421875, 338.3404541015625, 353.5147705078125, 660.5239868164062, 332.1360778808594, 1970.470703125, 1942.597900390625, 1046.5440673828125, 510.19696044921875, 94.10430908203125, 72.57368469238281, 61.4752311706543, 59.09052276611328, 56.9984130859375, 50.700462341308594, 43.656837463378906, 42.45226287841797, 41.5868034362793, 37.647335052490234, 37.516387939453125, 37.31658172607422, 33.5097770690918, 33.36019515991211, 31.713886260986328, 30.26827049255371, 30.060985565185547, 29.808372497558594, 28.666263580322266, 26.408647537231445, 26.102428436279297, 25.529476165771484, 25.506752014160156, 24.740516662597656, 24.465211868286133, 23.409029006958008, 22.758880615234375, 101.42074584960938, 21.880441665649414, 20.347156524658203, 47.76228713989258, 68.33883666992188, 50.693153381347656, 46.775238037109375, 73.14608764648438, 159.47764587402344, 58.584041595458984, 176.263427734375, 64.5367431640625, 85.14476013183594, 349.38763427734375, 473.90863037109375, 77.56649780273438, 81.99958801269531, 225.79916381835938, 116.48738098144531, 331.3028564453125, 215.9066162109375, 560.8171997070312, 358.5311279296875, 322.64324951171875, 112.47264099121094, 86.43472290039062, 69.22720336914062, 58.815895080566406, 51.629337310791016, 50.711509704589844, 49.54642105102539, 43.42607879638672, 42.99506378173828, 40.43252182006836, 39.25038528442383, 38.99045944213867, 37.157257080078125, 36.9590950012207, 36.06901550292969, 35.838836669921875, 34.93264389038086, 34.1936149597168, 32.95922088623047, 32.35227966308594, 32.05863571166992, 30.933134078979492, 30.86083984375, 29.528013229370117, 28.93697166442871, 28.37252426147461, 28.318490982055664, 27.45296287536621, 27.282133102416992, 26.903961181640625, 127.06350708007812, 133.92576599121094, 80.97441101074219, 56.92781066894531, 164.27017211914062, 257.6616516113281, 90.99493408203125, 162.64845275878906, 96.14047241210938, 42.02402877807617, 43.13772201538086, 95.76582336425781, 87.81390380859375, 1124.455322265625, 105.36924743652344, 100.63658142089844, 75.82341003417969, 69.40638732910156, 66.6104736328125, 65.99264526367188, 64.895751953125, 64.72280883789062, 63.723636627197266, 63.13555145263672, 41.48346710205078, 34.42307662963867, 34.11774826049805, 33.30467224121094, 31.966075897216797, 26.657299041748047, 26.543622970581055, 23.69270896911621, 23.30846405029297, 22.914766311645508, 22.475662231445312, 22.013654708862305, 21.211576461791992, 20.738887786865234, 20.538042068481445, 20.261606216430664, 18.894086837768555, 18.794565200805664, 18.24162483215332, 18.148670196533203, 90.62635803222656, 56.122711181640625, 117.43972778320312, 41.56346893310547, 62.01804733276367, 66.96867370605469, 47.992279052734375, 30.341081619262695, 43.42272186279297, 349.1875915527344, 51.64629364013672, 187.42193603515625, 46.82468795776367, 253.89236450195312, 88.11053466796875, 49.806766510009766, 117.77557373046875, 58.27509689331055, 35.71002197265625, 31.78936767578125, 31.531583786010742, 28.894845962524414, 28.54232406616211, 28.40788459777832, 24.844512939453125, 24.737472534179688, 22.350610733032227, 22.22171974182129, 22.08975601196289, 21.78313636779785, 20.07503890991211, 19.652074813842773, 19.591997146606445, 18.66363525390625, 18.142362594604492, 17.015180587768555, 16.888656616210938, 16.2304630279541, 16.209808349609375, 15.783284187316895, 15.685829162597656, 15.547877311706543, 15.015009880065918, 14.961736679077148, 14.838655471801758, 14.383793830871582, 13.700342178344727, 29.552610397338867, 20.350378036499023, 29.1934871673584, 33.92755126953125, 59.343589782714844, 53.659366607666016, 87.40953063964844, 22.75002098083496, 40.32242965698242, 33.564849853515625, 31.334848403930664, 29.054208755493164, 28.73725128173828, 25.00062370300293, 16.950881958007812, 15.393383026123047, 15.086156845092773, 13.788444519042969, 13.4976167678833, 13.2240629196167, 11.358684539794922, 11.211511611938477, 11.164694786071777, 11.04360294342041, 10.954147338867188, 10.798036575317383, 10.687076568603516, 10.625543594360352, 9.894857406616211, 9.653623580932617, 9.504737854003906, 8.905607223510742, 7.894787788391113, 7.81102180480957, 7.51719331741333, 7.5132927894592285, 7.4289422035217285, 52.31904220581055, 7.413936614990234, 7.276160717010498, 55.27724838256836, 17.0008602142334, 22.705881118774414, 10.44406509399414, 33.363731384277344, 19.06279182434082, 15.994245529174805, 96.28292846679688, 325.7034912109375, 82.91606140136719, 34.47205352783203, 306.18707275390625, 42.548038482666016, 31.47532844543457, 28.75989532470703, 27.717302322387695, 26.69597625732422, 14.785801887512207, 13.481773376464844, 12.749485969543457, 12.159465789794922, 12.001286506652832, 11.096726417541504, 10.53991985321045, 10.478020668029785, 10.420040130615234, 9.780926704406738, 9.587342262268066, 9.440149307250977, 8.323066711425781, 8.072338104248047, 7.98012113571167, 7.765797138214111, 18.716203689575195, 7.334700584411621, 6.959001064300537, 6.918447017669678, 6.223617076873779, 6.026671886444092, 5.966538906097412, 5.9469099044799805, 5.727910041809082, 14.219240188598633, 200.5856475830078, 14.652128219604492, 34.342960357666016, 28.03368377685547, 33.45595932006836, 28.55666160583496, 77.78665161132812, 22.01811981201172, 20.402198791503906, 18.004236221313477, 17.220638275146484, 15.95890998840332, 15.73569393157959, 15.368596076965332, 14.80823040008545, 13.872872352600098, 12.84604263305664, 24.944644927978516, 11.436246871948242, 11.209704399108887, 11.114445686340332, 11.072714805603027, 11.057615280151367, 10.7992525100708, 10.67534351348877, 10.586939811706543, 10.551770210266113, 10.45137882232666, 9.9237699508667, 9.321409225463867, 8.841073989868164, 8.050722122192383, 8.047024726867676, 7.876739501953125, 7.773944854736328, 7.704107284545898, 7.461738109588623, 7.384230136871338, 7.265946865081787, 47.682701110839844, 13.371787071228027, 53.33510208129883, 11.91840934753418, 18.952653884887695], \"Category\": [\"Default\", \"Default\", \"Default\", \"Default\", \"Default\", \"Default\", \"Default\", \"Default\", \"Default\", \"Default\", \"Default\", \"Default\", \"Default\", \"Default\", \"Default\", \"Default\", \"Default\", \"Default\", \"Default\", \"Default\", \"Default\", \"Default\", \"Default\", \"Default\", \"Default\", \"Default\", \"Default\", \"Default\", \"Default\", \"Default\", \"Topic1\", \"Topic1\", \"Topic1\", \"Topic1\", \"Topic1\", \"Topic1\", \"Topic1\", \"Topic1\", \"Topic1\", \"Topic1\", \"Topic1\", \"Topic1\", \"Topic1\", \"Topic1\", \"Topic1\", \"Topic1\", \"Topic1\", \"Topic1\", \"Topic1\", \"Topic1\", \"Topic1\", \"Topic1\", \"Topic1\", \"Topic1\", \"Topic1\", \"Topic1\", \"Topic1\", \"Topic1\", \"Topic1\", \"Topic1\", \"Topic1\", \"Topic1\", \"Topic1\", \"Topic1\", \"Topic1\", \"Topic1\", \"Topic1\", \"Topic1\", \"Topic1\", \"Topic1\", \"Topic1\", \"Topic1\", \"Topic1\", \"Topic1\", \"Topic1\", \"Topic1\", \"Topic1\", \"Topic1\", \"Topic1\", \"Topic1\", \"Topic1\", \"Topic1\", \"Topic1\", \"Topic1\", \"Topic1\", \"Topic1\", \"Topic1\", \"Topic1\", \"Topic1\", \"Topic1\", \"Topic1\", \"Topic1\", \"Topic1\", \"Topic1\", \"Topic1\", \"Topic1\", \"Topic1\", \"Topic1\", \"Topic1\", \"Topic1\", \"Topic1\", \"Topic1\", \"Topic1\", \"Topic1\", \"Topic1\", \"Topic1\", \"Topic1\", \"Topic1\", \"Topic1\", \"Topic2\", \"Topic2\", \"Topic2\", \"Topic2\", \"Topic2\", \"Topic2\", \"Topic2\", \"Topic2\", \"Topic2\", \"Topic2\", \"Topic2\", \"Topic2\", \"Topic2\", \"Topic2\", \"Topic2\", \"Topic2\", \"Topic2\", \"Topic2\", \"Topic2\", \"Topic2\", \"Topic2\", \"Topic2\", \"Topic2\", \"Topic2\", \"Topic2\", \"Topic2\", \"Topic2\", \"Topic2\", \"Topic2\", \"Topic2\", \"Topic2\", \"Topic2\", \"Topic2\", \"Topic2\", \"Topic2\", \"Topic2\", \"Topic2\", \"Topic2\", \"Topic2\", \"Topic2\", \"Topic2\", \"Topic2\", \"Topic2\", \"Topic2\", \"Topic2\", \"Topic2\", \"Topic2\", \"Topic2\", \"Topic2\", \"Topic2\", \"Topic2\", \"Topic2\", \"Topic2\", \"Topic2\", \"Topic2\", \"Topic2\", \"Topic2\", \"Topic2\", \"Topic2\", \"Topic2\", \"Topic2\", \"Topic2\", \"Topic2\", \"Topic2\", \"Topic2\", \"Topic2\", \"Topic2\", \"Topic2\", \"Topic2\", \"Topic2\", \"Topic2\", \"Topic2\", \"Topic2\", \"Topic2\", \"Topic2\", \"Topic2\", \"Topic2\", \"Topic2\", \"Topic2\", \"Topic2\", \"Topic2\", \"Topic2\", \"Topic2\", \"Topic2\", \"Topic2\", \"Topic2\", \"Topic2\", \"Topic2\", \"Topic3\", \"Topic3\", \"Topic3\", \"Topic3\", \"Topic3\", \"Topic3\", \"Topic3\", \"Topic3\", \"Topic3\", \"Topic3\", \"Topic3\", \"Topic3\", \"Topic3\", \"Topic3\", \"Topic3\", \"Topic3\", \"Topic3\", \"Topic3\", \"Topic3\", \"Topic3\", \"Topic3\", \"Topic3\", \"Topic3\", \"Topic3\", \"Topic3\", \"Topic3\", \"Topic3\", \"Topic3\", \"Topic3\", \"Topic3\", \"Topic3\", \"Topic3\", \"Topic3\", \"Topic3\", \"Topic3\", \"Topic3\", \"Topic3\", \"Topic3\", \"Topic3\", \"Topic3\", \"Topic3\", \"Topic3\", \"Topic3\", \"Topic3\", \"Topic3\", \"Topic3\", \"Topic3\", \"Topic3\", \"Topic3\", \"Topic3\", \"Topic3\", \"Topic3\", \"Topic3\", \"Topic3\", \"Topic3\", \"Topic3\", \"Topic3\", \"Topic3\", \"Topic3\", \"Topic3\", \"Topic3\", \"Topic3\", \"Topic3\", \"Topic3\", \"Topic4\", \"Topic4\", \"Topic4\", \"Topic4\", \"Topic4\", \"Topic4\", \"Topic4\", \"Topic4\", \"Topic4\", \"Topic4\", \"Topic4\", \"Topic4\", \"Topic4\", \"Topic4\", \"Topic4\", \"Topic4\", \"Topic4\", \"Topic4\", \"Topic4\", \"Topic4\", \"Topic4\", \"Topic4\", \"Topic4\", \"Topic4\", \"Topic4\", \"Topic4\", \"Topic4\", \"Topic4\", \"Topic4\", \"Topic4\", \"Topic4\", \"Topic4\", \"Topic4\", \"Topic4\", \"Topic4\", \"Topic4\", \"Topic4\", \"Topic4\", \"Topic4\", \"Topic4\", \"Topic4\", \"Topic4\", \"Topic4\", \"Topic4\", \"Topic4\", \"Topic4\", \"Topic4\", \"Topic4\", \"Topic4\", \"Topic4\", \"Topic4\", \"Topic4\", \"Topic4\", \"Topic4\", \"Topic4\", \"Topic4\", \"Topic4\", \"Topic4\", \"Topic4\", \"Topic4\", \"Topic4\", \"Topic4\", \"Topic4\", \"Topic5\", \"Topic5\", \"Topic5\", \"Topic5\", \"Topic5\", \"Topic5\", \"Topic5\", \"Topic5\", \"Topic5\", \"Topic5\", \"Topic5\", \"Topic5\", \"Topic5\", \"Topic5\", \"Topic5\", \"Topic5\", \"Topic5\", \"Topic5\", \"Topic5\", \"Topic5\", \"Topic5\", \"Topic5\", \"Topic5\", \"Topic5\", \"Topic5\", \"Topic5\", \"Topic5\", \"Topic5\", \"Topic5\", \"Topic5\", \"Topic5\", \"Topic5\", \"Topic5\", \"Topic5\", \"Topic5\", \"Topic5\", \"Topic5\", \"Topic5\", \"Topic5\", \"Topic5\", \"Topic5\", \"Topic5\", \"Topic5\", \"Topic5\", \"Topic5\", \"Topic5\", \"Topic5\", \"Topic5\", \"Topic5\", \"Topic5\", \"Topic5\", \"Topic5\", \"Topic5\", \"Topic5\", \"Topic5\", \"Topic5\", \"Topic5\", \"Topic5\", \"Topic5\", \"Topic5\", \"Topic5\", \"Topic5\", \"Topic5\", \"Topic5\", \"Topic5\", \"Topic5\", \"Topic5\", \"Topic5\", \"Topic5\", \"Topic5\", \"Topic5\", \"Topic5\", \"Topic6\", \"Topic6\", \"Topic6\", \"Topic6\", \"Topic6\", \"Topic6\", \"Topic6\", \"Topic6\", \"Topic6\", \"Topic6\", \"Topic6\", \"Topic6\", \"Topic6\", \"Topic6\", \"Topic6\", \"Topic6\", \"Topic6\", \"Topic6\", \"Topic6\", \"Topic6\", \"Topic6\", \"Topic6\", \"Topic6\", \"Topic6\", \"Topic6\", \"Topic6\", \"Topic6\", \"Topic6\", \"Topic6\", \"Topic6\", \"Topic6\", \"Topic6\", \"Topic6\", \"Topic6\", \"Topic6\", \"Topic6\", \"Topic6\", \"Topic6\", \"Topic6\", \"Topic6\", \"Topic6\", \"Topic6\", \"Topic6\", \"Topic6\", \"Topic6\", \"Topic6\", \"Topic6\", \"Topic6\", \"Topic6\", \"Topic6\", \"Topic6\", \"Topic6\", \"Topic6\", \"Topic6\", \"Topic6\", \"Topic6\", \"Topic6\", \"Topic6\", \"Topic6\", \"Topic6\", \"Topic6\", \"Topic7\", \"Topic7\", \"Topic7\", \"Topic7\", \"Topic7\", \"Topic7\", \"Topic7\", \"Topic7\", \"Topic7\", \"Topic7\", \"Topic7\", \"Topic7\", \"Topic7\", \"Topic7\", \"Topic7\", \"Topic7\", \"Topic7\", \"Topic7\", \"Topic7\", \"Topic7\", \"Topic7\", \"Topic7\", \"Topic7\", \"Topic7\", \"Topic7\", \"Topic7\", \"Topic7\", \"Topic7\", \"Topic7\", \"Topic7\", \"Topic7\", \"Topic7\", \"Topic7\", \"Topic7\", \"Topic7\", \"Topic7\", \"Topic7\", \"Topic7\", \"Topic7\", \"Topic7\", \"Topic7\", \"Topic7\", \"Topic7\", \"Topic7\", \"Topic7\", \"Topic7\", \"Topic7\", \"Topic7\", \"Topic7\", \"Topic7\", \"Topic7\", \"Topic7\", \"Topic7\", \"Topic7\", \"Topic7\", \"Topic7\", \"Topic7\", \"Topic7\", \"Topic7\", \"Topic7\", \"Topic7\", \"Topic7\", \"Topic7\", \"Topic7\", \"Topic8\", \"Topic8\", \"Topic8\", \"Topic8\", \"Topic8\", \"Topic8\", \"Topic8\", \"Topic8\", \"Topic8\", \"Topic8\", \"Topic8\", \"Topic8\", \"Topic8\", \"Topic8\", \"Topic8\", \"Topic8\", \"Topic8\", \"Topic8\", \"Topic8\", \"Topic8\", \"Topic8\", \"Topic8\", \"Topic8\", \"Topic8\", \"Topic8\", \"Topic8\", \"Topic8\", \"Topic8\", \"Topic8\", \"Topic8\", \"Topic8\", \"Topic8\", \"Topic8\", \"Topic8\", \"Topic8\", \"Topic8\", \"Topic8\", \"Topic8\", \"Topic8\", \"Topic8\", \"Topic8\", \"Topic8\", \"Topic8\", \"Topic8\", \"Topic8\", \"Topic8\", \"Topic8\", \"Topic8\", \"Topic8\", \"Topic8\", \"Topic8\", \"Topic8\", \"Topic8\", \"Topic9\", \"Topic9\", \"Topic9\", \"Topic9\", \"Topic9\", \"Topic9\", \"Topic9\", \"Topic9\", \"Topic9\", \"Topic9\", \"Topic9\", \"Topic9\", \"Topic9\", \"Topic9\", \"Topic9\", \"Topic9\", \"Topic9\", \"Topic9\", \"Topic9\", \"Topic9\", \"Topic9\", \"Topic9\", \"Topic9\", \"Topic9\", \"Topic9\", \"Topic9\", \"Topic9\", \"Topic9\", \"Topic9\", \"Topic9\", \"Topic9\", \"Topic9\", \"Topic9\", \"Topic9\", \"Topic9\", \"Topic9\", \"Topic9\", \"Topic9\", \"Topic9\", \"Topic9\", \"Topic9\", \"Topic9\", \"Topic9\", \"Topic9\", \"Topic9\", \"Topic9\", \"Topic9\", \"Topic9\", \"Topic9\", \"Topic9\", \"Topic9\", \"Topic9\", \"Topic9\", \"Topic9\", \"Topic9\", \"Topic9\", \"Topic9\", \"Topic9\", \"Topic9\", \"Topic9\", \"Topic9\", \"Topic9\", \"Topic9\", \"Topic9\", \"Topic10\", \"Topic10\", \"Topic10\", \"Topic10\", \"Topic10\", \"Topic10\", \"Topic10\", \"Topic10\", \"Topic10\", \"Topic10\", \"Topic10\", \"Topic10\", \"Topic10\", \"Topic10\", \"Topic10\", \"Topic10\", \"Topic10\", \"Topic10\", \"Topic10\", \"Topic10\", \"Topic10\", \"Topic10\", \"Topic10\", \"Topic10\", \"Topic10\", \"Topic10\", \"Topic10\", \"Topic10\", \"Topic10\", \"Topic10\", \"Topic10\", \"Topic10\", \"Topic10\", \"Topic10\", \"Topic10\", \"Topic10\", \"Topic10\", \"Topic10\", \"Topic10\", \"Topic10\", \"Topic10\", \"Topic10\", \"Topic10\", \"Topic10\", \"Topic10\", \"Topic10\", \"Topic10\", \"Topic10\", \"Topic10\", \"Topic10\", \"Topic10\", \"Topic10\", \"Topic10\", \"Topic10\", \"Topic10\", \"Topic10\", \"Topic11\", \"Topic11\", \"Topic11\", \"Topic11\", \"Topic11\", \"Topic11\", \"Topic11\", \"Topic11\", \"Topic11\", \"Topic11\", \"Topic11\", \"Topic11\", \"Topic11\", \"Topic11\", \"Topic11\", \"Topic11\", \"Topic11\", \"Topic11\", \"Topic11\", \"Topic11\", \"Topic11\", \"Topic11\", \"Topic11\", \"Topic11\", \"Topic11\", \"Topic11\", \"Topic11\", \"Topic11\", \"Topic11\", \"Topic11\", \"Topic11\", \"Topic11\", \"Topic11\", \"Topic11\", \"Topic11\", \"Topic11\", \"Topic11\", \"Topic11\", \"Topic11\", \"Topic11\", \"Topic11\", \"Topic11\", \"Topic11\", \"Topic11\", \"Topic11\", \"Topic11\", \"Topic11\", \"Topic11\", \"Topic11\", \"Topic11\", \"Topic11\", \"Topic11\", \"Topic11\", \"Topic11\", \"Topic11\", \"Topic11\", \"Topic11\", \"Topic11\", \"Topic11\", \"Topic11\", \"Topic11\", \"Topic11\", \"Topic11\", \"Topic11\", \"Topic11\", \"Topic11\", \"Topic11\", \"Topic11\", \"Topic11\", \"Topic12\", \"Topic12\", \"Topic12\", \"Topic12\", \"Topic12\", \"Topic12\", \"Topic12\", \"Topic12\", \"Topic12\", \"Topic12\", \"Topic12\", \"Topic12\", \"Topic12\", \"Topic12\", \"Topic12\", \"Topic12\", \"Topic12\", \"Topic12\", \"Topic12\", \"Topic12\", \"Topic12\", \"Topic12\", \"Topic12\", \"Topic12\", \"Topic12\", \"Topic12\", \"Topic12\", \"Topic12\", \"Topic12\", \"Topic12\", \"Topic12\", \"Topic12\", \"Topic12\", \"Topic12\", \"Topic12\", \"Topic12\", \"Topic12\", \"Topic12\", \"Topic12\", \"Topic12\", \"Topic12\", \"Topic12\", \"Topic12\", \"Topic12\", \"Topic12\", \"Topic12\", \"Topic12\", \"Topic12\", \"Topic12\", \"Topic12\", \"Topic12\", \"Topic12\", \"Topic12\", \"Topic12\", \"Topic12\", \"Topic12\", \"Topic12\", \"Topic12\", \"Topic12\", \"Topic12\", \"Topic12\", \"Topic12\", \"Topic12\", \"Topic12\", \"Topic12\", \"Topic12\", \"Topic12\", \"Topic12\", \"Topic12\", \"Topic13\", \"Topic13\", \"Topic13\", \"Topic13\", \"Topic13\", \"Topic13\", \"Topic13\", \"Topic13\", \"Topic13\", \"Topic13\", \"Topic13\", \"Topic13\", \"Topic13\", \"Topic13\", \"Topic13\", \"Topic13\", \"Topic13\", \"Topic13\", \"Topic13\", \"Topic13\", \"Topic13\", \"Topic13\", \"Topic13\", \"Topic13\", \"Topic13\", \"Topic13\", \"Topic13\", \"Topic13\", \"Topic13\", \"Topic13\", \"Topic13\", \"Topic13\", \"Topic13\", \"Topic13\", \"Topic13\", \"Topic13\", \"Topic13\", \"Topic13\", \"Topic13\", \"Topic13\", \"Topic13\", \"Topic13\", \"Topic13\", \"Topic13\", \"Topic13\", \"Topic13\", \"Topic13\", \"Topic13\", \"Topic13\", \"Topic13\", \"Topic13\", \"Topic13\", \"Topic13\", \"Topic13\", \"Topic13\", \"Topic13\", \"Topic13\", \"Topic13\", \"Topic14\", \"Topic14\", \"Topic14\", \"Topic14\", \"Topic14\", \"Topic14\", \"Topic14\", \"Topic14\", \"Topic14\", \"Topic14\", \"Topic14\", \"Topic14\", \"Topic14\", \"Topic14\", \"Topic14\", \"Topic14\", \"Topic14\", \"Topic14\", \"Topic14\", \"Topic14\", \"Topic14\", \"Topic14\", \"Topic14\", \"Topic14\", \"Topic14\", \"Topic14\", \"Topic14\", \"Topic14\", \"Topic14\", \"Topic14\", \"Topic14\", \"Topic14\", \"Topic14\", \"Topic14\", \"Topic14\", \"Topic14\", \"Topic14\", \"Topic14\", \"Topic14\", \"Topic14\", \"Topic14\", \"Topic14\", \"Topic14\", \"Topic14\", \"Topic14\", \"Topic14\", \"Topic14\", \"Topic14\", \"Topic14\", \"Topic14\", \"Topic14\", \"Topic15\", \"Topic15\", \"Topic15\", \"Topic15\", \"Topic15\", \"Topic15\", \"Topic15\", \"Topic15\", \"Topic15\", \"Topic15\", \"Topic15\", \"Topic15\", \"Topic15\", \"Topic15\", \"Topic15\", \"Topic15\", \"Topic15\", \"Topic15\", \"Topic15\", \"Topic15\", \"Topic15\", \"Topic15\", \"Topic15\", \"Topic15\", \"Topic15\", \"Topic15\", \"Topic15\", \"Topic15\", \"Topic15\", \"Topic15\", \"Topic15\", \"Topic15\", \"Topic15\", \"Topic15\", \"Topic15\", \"Topic15\", \"Topic15\", \"Topic15\", \"Topic15\", \"Topic15\", \"Topic15\", \"Topic15\", \"Topic15\", \"Topic15\", \"Topic16\", \"Topic16\", \"Topic16\", \"Topic16\", \"Topic16\", \"Topic16\", \"Topic16\", \"Topic16\", \"Topic16\", \"Topic16\", \"Topic16\", \"Topic16\", \"Topic16\", \"Topic16\", \"Topic16\", \"Topic16\", \"Topic16\", \"Topic16\", \"Topic16\", \"Topic16\", \"Topic16\", \"Topic16\", \"Topic16\", \"Topic16\", \"Topic16\", \"Topic16\", \"Topic16\", \"Topic16\", \"Topic16\", \"Topic16\", \"Topic16\", \"Topic16\", \"Topic16\", \"Topic16\", \"Topic16\", \"Topic16\", \"Topic16\", \"Topic16\", \"Topic16\", \"Topic16\", \"Topic16\", \"Topic16\", \"Topic16\", \"Topic16\", \"Topic16\", \"Topic16\", \"Topic16\", \"Topic17\", \"Topic17\", \"Topic17\", \"Topic17\", \"Topic17\", \"Topic17\", \"Topic17\", \"Topic17\", \"Topic17\", \"Topic17\", \"Topic17\", \"Topic17\", \"Topic17\", \"Topic17\", \"Topic17\", \"Topic17\", \"Topic17\", \"Topic17\", \"Topic17\", \"Topic17\", \"Topic17\", \"Topic17\", \"Topic17\", \"Topic17\", \"Topic17\", \"Topic17\", \"Topic17\", \"Topic17\", \"Topic17\", \"Topic17\", \"Topic17\", \"Topic17\", \"Topic17\", \"Topic17\", \"Topic17\", \"Topic17\", \"Topic17\", \"Topic17\", \"Topic17\", \"Topic17\", \"Topic18\", \"Topic18\", \"Topic18\", \"Topic18\", \"Topic18\", \"Topic18\", \"Topic18\", \"Topic18\", \"Topic18\", \"Topic18\", \"Topic18\", \"Topic18\", \"Topic18\", \"Topic18\", \"Topic18\", \"Topic18\", \"Topic18\", \"Topic18\", \"Topic18\", \"Topic18\", \"Topic18\", \"Topic18\", \"Topic18\", \"Topic18\", \"Topic18\", \"Topic18\", \"Topic18\", \"Topic18\", \"Topic18\", \"Topic18\", \"Topic18\", \"Topic18\", \"Topic18\", \"Topic18\", \"Topic18\", \"Topic18\", \"Topic18\", \"Topic18\", \"Topic18\", \"Topic18\", \"Topic18\", \"Topic18\", \"Topic19\", \"Topic19\", \"Topic19\", \"Topic19\", \"Topic19\", \"Topic19\", \"Topic19\", \"Topic19\", \"Topic19\", \"Topic19\", \"Topic19\", \"Topic19\", \"Topic19\", \"Topic19\", \"Topic19\", \"Topic19\", \"Topic19\", \"Topic19\", \"Topic19\", \"Topic19\", \"Topic19\", \"Topic19\", \"Topic19\", \"Topic19\", \"Topic19\", \"Topic19\", \"Topic19\", \"Topic19\", \"Topic19\", \"Topic19\", \"Topic19\", \"Topic19\", \"Topic19\", \"Topic19\", \"Topic19\", \"Topic19\", \"Topic19\", \"Topic19\", \"Topic19\", \"Topic19\", \"Topic20\", \"Topic20\", \"Topic20\", \"Topic20\", \"Topic20\", \"Topic20\", \"Topic20\", \"Topic20\", \"Topic20\", \"Topic20\", \"Topic20\", \"Topic20\", \"Topic20\", \"Topic20\", \"Topic20\", \"Topic20\", \"Topic20\", \"Topic20\", \"Topic20\", \"Topic20\", \"Topic20\", \"Topic20\", \"Topic20\", \"Topic20\", \"Topic20\", \"Topic20\", \"Topic20\", \"Topic20\", \"Topic20\", \"Topic20\", \"Topic20\", \"Topic20\", \"Topic20\", \"Topic20\", \"Topic20\"], \"logprob\": [30.0, 29.0, 28.0, 27.0, 26.0, 25.0, 24.0, 23.0, 22.0, 21.0, 20.0, 19.0, 18.0, 17.0, 16.0, 15.0, 14.0, 13.0, 12.0, 11.0, 10.0, 9.0, 8.0, 7.0, 6.0, 5.0, 4.0, 3.0, 2.0, 1.0, -6.120800018310547, -6.329500198364258, -6.859000205993652, -6.987100124359131, -7.199699878692627, -7.246099948883057, -7.253699779510498, -7.308899879455566, -7.43209981918335, -7.444699764251709, -7.592299938201904, -7.628699779510498, -7.66379976272583, -7.706099987030029, -7.712600231170654, -7.723700046539307, -7.7789998054504395, -7.826000213623047, -7.837900161743164, -7.849899768829346, -8.104100227355957, -8.13010025024414, -8.139300346374512, -8.147899627685547, -8.168899536132812, -8.208499908447266, -8.221799850463867, -8.229100227355957, -8.233400344848633, -8.249699592590332, -6.726200103759766, -7.6092000007629395, -7.5507001876831055, -6.414899826049805, -7.281000137329102, -7.166399955749512, -6.823699951171875, -4.916200160980225, -7.649199962615967, -5.615900039672852, -5.973899841308594, -5.3495001792907715, -5.405200004577637, -4.623199939727783, -5.087699890136719, -5.135900020599365, -5.831099987030029, -6.467199802398682, -4.277699947357178, -6.251200199127197, -6.565999984741211, -5.867000102996826, -5.888999938964844, -4.627600193023682, -5.395199775695801, -4.965799808502197, -4.586999893188477, -4.847599983215332, -5.292099952697754, -4.708899974822998, -5.542699813842773, -5.572800159454346, -5.3516998291015625, -5.665599822998047, -4.281199932098389, -5.25629997253418, -4.955100059509277, -5.037600040435791, -5.219200134277344, -5.509799957275391, -5.554800033569336, -5.432799816131592, -5.469099998474121, -5.579500198364258, -5.412399768829346, -5.2434000968933105, -5.421999931335449, -5.455399990081787, -5.563199996948242, -6.997499942779541, -7.215000152587891, -7.367700099945068, -7.464000225067139, -7.514800071716309, -7.549499988555908, -7.56879997253418, -7.605000019073486, -7.610899925231934, -7.6828999519348145, -7.671999931335449, -7.737800121307373, -7.74560022354126, -7.79610013961792, -7.7982001304626465, -6.780399799346924, -7.8790998458862305, -7.91540002822876, -7.9679999351501465, -7.712699890136719, -7.984499931335449, -7.990099906921387, -7.990099906921387, -8.021400451660156, -8.04800033569336, -8.059000015258789, -8.061100006103516, -8.046699523925781, -8.0802001953125, -8.089900016784668, -6.9131999015808105, -6.384699821472168, -7.713099956512451, -6.614999771118164, -6.839300155639648, -6.503499984741211, -7.060800075531006, -7.286300182342529, -6.542399883270264, -6.247099876403809, -6.020299911499023, -5.737500190734863, -4.065299987792969, -6.487500190734863, -6.013599872589111, -7.080399990081787, -6.3282999992370605, -7.327600002288818, -6.365699768066406, -6.8668999671936035, -4.651500225067139, -6.114999771118164, -4.127799987792969, -5.899499893188477, -6.238500118255615, -6.48769998550415, -6.18779993057251, -6.299799919128418, -6.079400062561035, -5.573500156402588, -6.552700042724609, -5.839399814605713, -5.192999839782715, -5.683800220489502, -5.572199821472168, -6.098199844360352, -5.540800094604492, -5.7631001472473145, -5.393799781799316, -5.243199825286865, -5.686299800872803, -5.358500003814697, -5.654900074005127, -5.404300212860107, -5.83620023727417, -5.591800212860107, -5.675300121307373, -5.55049991607666, -5.2667999267578125, -5.3354997634887695, -5.823699951171875, -5.567800045013428, -6.001299858093262, -5.853400230407715, -5.765500068664551, -5.72130012512207, -5.875100135803223, -5.861599922180176, -5.066999912261963, -5.402900218963623, -5.530300140380859, -5.9120001792907715, -5.993599891662598, -6.013000011444092, -6.039100170135498, -6.20550012588501, -6.293799877166748, -6.309899806976318, -6.358099937438965, -6.481200218200684, -6.492300033569336, -6.527299880981445, -6.563000202178955, -6.601399898529053, -6.6178998947143555, -6.6946001052856445, -6.719200134277344, -6.752900123596191, -6.758900165557861, -6.803100109100342, -6.8119001388549805, -6.8460001945495605, -6.882299900054932, -6.882800102233887, -6.889100074768066, -6.8892998695373535, -6.985300064086914, -7.043600082397461, -5.6545000076293945, -5.645199775695801, -4.754300117492676, -5.000400066375732, -4.828400135040283, -5.071700096130371, -4.0883002281188965, -5.692500114440918, -5.216300010681152, -4.933700084686279, -5.276400089263916, -5.445899963378906, -6.161300182342529, -4.885499954223633, -5.151000022888184, -5.671999931335449, -5.549900054931641, -4.485199928283691, -5.883500099182129, -4.905700206756592, -4.702400207519531, -4.944799900054932, -5.276299953460693, -5.758900165557861, -5.223100185394287, -5.4791998863220215, -5.6168999671936035, -5.207499980926514, -5.236299991607666, -5.046599864959717, -5.436200141906738, -5.426000118255615, -5.559899806976318, -5.62060022354126, -5.186500072479248, -5.333099842071533, -5.474599838256836, -5.646699905395508, -6.003499984741211, -6.006800174713135, -6.021100044250488, -6.095600128173828, -6.186100006103516, -6.274199962615967, -6.409200191497803, -6.459199905395508, -6.46619987487793, -6.533400058746338, -6.588799953460693, -6.734300136566162, -6.841599941253662, -6.850800037384033, -6.8780999183654785, -6.893199920654297, -6.980000019073486, -6.98960018157959, -6.992000102996826, -7.019700050354004, -7.080599784851074, -7.0920000076293945, -7.127099990844727, -7.182300090789795, -7.20550012588501, -7.232800006866455, -6.093699932098389, -5.893400192260742, -5.6996002197265625, -5.309500217437744, -6.3282999992370605, -5.490200042724609, -6.7399001121521, -6.348899841308594, -4.959499835968018, -5.776500225067139, -6.493199825286865, -5.4197998046875, -6.401199817657471, -6.1346001625061035, -5.225100040435791, -5.314700126647949, -5.926000118255615, -6.104800224304199, -5.953400135040283, -5.32450008392334, -5.481800079345703, -6.188600063323975, -5.512400150299072, -6.1869001388549805, -5.761000156402588, -5.685999870300293, -5.93149995803833, -5.680300235748291, -5.806700229644775, -5.954500198364258, -6.006400108337402, -5.964300155639648, -6.065400123596191, -5.016300201416016, -5.6092000007629395, -5.861000061035156, -6.050899982452393, -6.475200176239014, -6.606200218200684, -6.6529998779296875, -6.704100131988525, -6.750199794769287, -6.798399925231934, -6.798699855804443, -6.80620002746582, -6.851900100708008, -6.894000053405762, -5.922299861907959, -7.014500141143799, -7.104599952697754, -7.219399929046631, -7.2204999923706055, -7.231100082397461, -7.270299911499023, -7.27400016784668, -7.291600227355957, -7.291999816894531, -7.307700157165527, -7.314899921417236, -7.315700054168701, -7.332399845123291, -7.35860013961792, -6.398600101470947, -6.455900192260742, -6.800300121307373, -6.988500118255615, -5.8119001388549805, -5.9984002113342285, -4.110000133514404, -6.86329984664917, -6.152699947357178, -4.917300224304199, -6.784999847412109, -6.646999835968018, -6.818699836730957, -6.032700061798096, -5.885200023651123, -6.348899841308594, -5.255199909210205, -5.353300094604492, -5.2617998123168945, -5.689599990844727, -5.568900108337402, -6.229700088500977, -5.267300128936768, -6.055500030517578, -5.768400192260742, -6.070899963378906, -6.359399795532227, -6.0746002197265625, -5.854300022125244, -5.122099876403809, -5.9095001220703125, -5.296800136566162, -5.332600116729736, -5.7322001457214355, -5.868299961090088, -5.903600215911865, -5.316500186920166, -5.810800075531006, -5.9019999504089355, -5.688600063323975, -5.901100158691406, -5.833700180053711, -5.947000026702881, -4.29580020904541, -4.848700046539307, -4.986299991607666, -5.070499897003174, -5.177999973297119, -5.633900165557861, -5.820499897003174, -5.877099990844727, -6.176599979400635, -6.179200172424316, -6.216899871826172, -6.216300010681152, -6.2571001052856445, -6.425899982452393, -6.48390007019043, -6.5680999755859375, -6.572199821472168, -6.607699871063232, -6.616000175476074, -6.640699863433838, -6.6631999015808105, -6.707200050354004, -6.736199855804443, -6.775400161743164, -5.1844000816345215, -6.789299964904785, -6.796800136566162, -6.886600017547607, -6.892899990081787, -6.894499778747559, -4.763899803161621, -5.920499801635742, -6.093200206756592, -5.8471999168396, -5.842899799346924, -6.001699924468994, -5.294300079345703, -6.411200046539307, -5.49429988861084, -5.807799816131592, -5.707099914550781, -5.349599838256836, -6.244200229644775, -5.265100002288818, -4.950300216674805, -5.696499824523926, -5.458600044250488, -6.1402997970581055, -5.644599914550781, -5.85290002822876, -5.539000034332275, -5.292399883270264, -5.5254998207092285, -5.243500232696533, -5.5808000564575195, -5.334400177001953, -5.475100040435791, -5.358500003814697, -5.616600036621094, -5.673799991607666, -5.766499996185303, -4.605999946594238, -5.239500045776367, -5.302000045776367, -4.037799835205078, -5.893700122833252, -5.898399829864502, -6.05210018157959, -6.083700180053711, -6.2505998611450195, -6.298399925231934, -6.368000030517578, -6.465000152587891, -6.521599769592285, -6.57450008392334, -6.575399875640869, -6.604700088500977, -6.617700099945068, -6.639100074768066, -6.667500019073486, -6.6697998046875, -6.692200183868408, -6.72130012512207, -6.736599922180176, -6.766900062561035, -6.775100231170654, -6.786200046539307, -6.8557000160217285, -6.85890007019043, -6.888700008392334, -5.540999889373779, -4.488500118255615, -4.389400005340576, -4.731800079345703, -5.172800064086914, -5.037700176239014, -5.426199913024902, -5.464799880981445, -5.2027997970581055, -4.966300010681152, -5.542699813842773, -5.1834001541137695, -6.3933000564575195, -6.407800197601318, -5.417699813842773, -5.38700008392334, -5.563899993896484, -5.2393999099731445, -5.624499797821045, -4.696700096130371, -4.406199932098389, -5.009900093078613, -5.352200031280518, -4.723499774932861, -5.68779993057251, -5.369100093841553, -5.070899963378906, -5.148900032043457, -5.2480998039245605, -5.211599826812744, -5.058499813079834, -5.060999870300293, -4.987400054931641, -5.1753997802734375, -5.297399997711182, -4.172999858856201, -4.299499988555908, -4.522500038146973, -4.984799861907959, -5.243100166320801, -5.281499862670898, -5.337399959564209, -5.390900135040283, -5.51039981842041, -5.51039981842041, -5.636499881744385, -5.80019998550415, -5.846700191497803, -5.851200103759766, -5.855199813842773, -5.983399868011475, -6.048699855804443, -6.051599979400635, -6.0980000495910645, -6.098400115966797, -6.1290998458862305, -6.140999794006348, -6.164100170135498, -6.175899982452393, -6.177199840545654, -6.192299842834473, -6.195899963378906, -6.274400234222412, -6.321400165557861, -6.322500228881836, -5.563399791717529, -5.379499912261963, -4.5279998779296875, -4.939000129699707, -5.885000228881836, -6.087500095367432, -5.259900093078613, -5.260300159454346, -5.638299942016602, -4.395299911499023, -5.363800048828125, -5.504499912261963, -4.4552998542785645, -5.327099800109863, -5.735899925231934, -5.343699932098389, -5.5559000968933105, -5.687600135803223, -5.541999816894531, -5.670199871063232, -5.6631999015808105, -5.632400035858154, -5.673299789428711, -4.775700092315674, -5.096399784088135, -4.612599849700928, -5.619200229644775, -5.649600028991699, -5.769499778747559, -5.792399883270264, -5.819200038909912, -5.856599807739258, -5.958899974822998, -6.167099952697754, -6.186500072479248, -6.304500102996826, -6.35290002822876, -6.35830020904541, -6.3734002113342285, -6.544099807739258, -6.554699897766113, -6.664999961853027, -6.709400177001953, -6.732699871063232, -6.795899868011475, -6.796000003814697, -6.807700157165527, -6.812399864196777, -6.8566999435424805, -6.853099822998047, -6.882699966430664, -6.889500141143799, -6.8907999992370605, -5.020400047302246, -5.171899795532227, -4.720699787139893, -5.807300090789795, -5.9375, -6.294300079345703, -4.889800071716309, -6.076300144195557, -4.422100067138672, -5.707900047302246, -5.644899845123291, -6.187399864196777, -5.388599872589111, -4.9629998207092285, -5.232399940490723, -5.094600200653076, -5.051799774169922, -5.7515997886657715, -5.844299793243408, -5.81279993057251, -4.777900218963623, -4.718800067901611, -5.285799980163574, -5.210599899291992, -5.575900077819824, -5.417099952697754, -5.19980001449585, -5.318399906158447, -5.203800201416016, -5.532100200653076, -5.418399810791016, -5.5619001388549805, -5.6793999671936035, -5.655799865722656, -4.029600143432617, -4.314000129699707, -4.46589994430542, -4.499599933624268, -4.802199840545654, -5.214300155639648, -5.491300106048584, -5.503600120544434, -5.533599853515625, -5.627399921417236, -5.6554999351501465, -5.723499774932861, -5.7855000495910645, -5.847700119018555, -5.867800235748291, -5.878200054168701, -5.929699897766113, -5.963200092315674, -5.973599910736084, -5.986299991607666, -5.98799991607666, -5.996099948883057, -6.020500183105469, -6.026299953460693, -6.049600124359131, -6.085100173950195, -6.0858001708984375, -6.185800075531006, -6.202400207519531, -6.273900032043457, -3.6821000576019287, -3.8001999855041504, -5.509300231933594, -5.074399948120117, -5.396699905395508, -4.145899772644043, -4.598999977111816, -5.189799785614014, -4.896699905395508, -5.404799938201904, -5.318699836730957, -5.21619987487793, -5.362500190734863, -4.65939998626709, -5.3846001625061035, -4.349699974060059, -5.339600086212158, -5.447199821472168, -5.371500015258789, -4.859799861907959, -5.39300012588501, -5.188000202178955, -5.165500164031982, -5.352499961853027, -5.250199794769287, -5.3993000984191895, -4.6975998878479, -5.25570011138916, -5.310800075531006, -5.871699810028076, -5.88670015335083, -6.04640007019043, -6.054299831390381, -6.139699935913086, -6.231500148773193, -6.282199859619141, -6.292099952697754, -6.4004998207092285, -6.420000076293945, -6.459099769592285, -6.470600128173828, -6.484099864959717, -6.502099990844727, -6.502999782562256, -6.551300048828125, -6.590000152587891, -6.617199897766113, -6.63640022277832, -6.648600101470947, -6.6620001792907715, -6.667300224304199, -6.6880998611450195, -6.71619987487793, -6.7281999588012695, -6.749599933624268, -6.793900012969971, -5.783199787139893, -6.068900108337402, -6.491399765014648, -6.405099868774414, -5.772500038146973, -6.033599853515625, -6.0929999351501465, -6.366700172424316, -6.228899955749512, -5.764800071716309, -5.93720006942749, -5.371600151062012, -6.131999969482422, -6.209700107574463, -6.244699954986572, -5.000199794769287, -5.672399997711182, -5.691299915313721, -6.125999927520752, -5.497799873352051, -5.137800216674805, -6.2266998291015625, -5.499199867248535, -4.673999786376953, -5.061500072479248, -5.594699859619141, -5.759799957275391, -5.842899799346924, -5.7083001136779785, -4.939300060272217, -5.684800148010254, -5.327199935913086, -5.714700222015381, -5.485599994659424, -5.514999866485596, -5.821000099182129, -5.840400218963623, -5.740799903869629, -5.8506999015808105, -5.028900146484375, -6.069399833679199, -6.312900066375732, -6.332099914550781, -6.635300159454346, -6.672900199890137, -6.688300132751465, -6.787600040435791, -6.792099952697754, -6.821000099182129, -6.874199867248535, -6.880799770355225, -6.918399810791016, -6.952199935913086, -6.953999996185303, -6.976500034332275, -7.006499767303467, -7.036900043487549, -7.079400062561035, -7.095699787139893, -7.125500202178955, -7.127600193023682, -7.1381001472473145, -7.128699779510498, -7.154900074005127, -7.160299777984619, -7.18120002746582, -7.182600021362305, -7.195899963378906, -7.202000141143799, -6.686600208282471, -7.014400005340576, -5.021699905395508, -3.3015999794006348, -4.6620001792907715, -4.90939998626709, -3.584199905395508, -4.761300086975098, -3.990499973297119, -5.526299953460693, -5.7484002113342285, -4.50439977645874, -5.307199954986572, -3.82669997215271, -3.6454999446868896, -5.042600154876709, -5.459499835968018, -5.807600021362305, -4.455100059509277, -4.382599830627441, -5.270899772644043, -4.773799896240234, -4.606100082397461, -4.967299938201904, -5.1178998947143555, -4.423299789428711, -3.7927000522613525, -4.881800174713135, -4.639400005340576, -4.679999828338623, -3.7228000164031982, -4.958600044250488, -4.82859992980957, -4.88730001449585, -4.531199932098389, -4.887499809265137, -4.88640022277832, -4.772799968719482, -5.011600017547607, -4.5605998039245605, -4.849899768829346, -5.417600154876709, -5.480199813842773, -5.5269999504089355, -4.837299823760986, -5.636899948120117, -5.8078999519348145, -5.864999771118164, -5.94920015335083, -6.047699928283691, -6.085000038146973, -6.1168999671936035, -6.156199932098389, -6.253799915313721, -6.2642998695373535, -6.336400032043457, -6.372099876403809, -6.374300003051758, -6.383399963378906, -6.422699928283691, -6.439599990844727, -6.440899848937988, -6.502200126647949, -6.5406999588012695, -6.549699783325195, -6.56790018081665, -6.58620023727417, -6.605100154876709, -6.606500148773193, -4.668799877166748, -5.930600166320801, -5.850800037384033, -4.934999942779541, -4.28380012512207, -4.586699962615967, -5.342800140380859, -5.445400238037109, -5.1707000732421875, -4.983099937438965, -4.87060022354126, -5.7870001792907715, -4.861299991607666, -5.433199882507324, -5.1178998947143555, -5.500100135803223, -5.244699954986572, -4.9741997718811035, -4.585100173950195, -4.8119001388549805, -5.2164998054504395, -5.2083001136779785, -5.013700008392334, -5.2947001457214355, -4.720399856567383, -4.7515997886657715, -4.963399887084961, -5.240900039672852, -4.923600196838379, -5.186200141906738, -5.354499816894531, -5.394700050354004, -5.431300163269043, -5.5503997802734375, -5.702899932861328, -5.731400012969971, -5.752500057220459, -5.854300022125244, -5.857900142669678, -5.863399982452393, -5.973800182342529, -5.978400230407715, -6.0304999351501465, -6.078499794006348, -6.085599899291992, -6.094299793243408, -6.1346001625061035, -6.219399929046631, -6.231500148773193, -6.254499912261963, -6.25540018081665, -6.287099838256836, -6.298699855804443, -6.3445000648498535, -6.373899936676025, -4.879899978637695, -6.414899826049805, -6.490799903869629, -5.704999923706055, -5.4807000160217285, -5.747399806976318, -5.8180999755859375, -5.482999801635742, -4.972700119018555, -5.6809000968933105, -4.958399772644043, -5.6427998542785645, -5.472799777984619, -4.684999942779541, -4.586999893188477, -5.571899890899658, -5.578499794006348, -5.216100215911865, -5.548799991607666, -5.252299785614014, -5.412700176239014, -5.394499778747559, -5.567299842834473, -5.729100227355957, -4.60860013961792, -4.8744001388549805, -5.098999977111816, -5.264400005340576, -5.396900177001953, -5.41510009765625, -5.438799858093262, -5.573299884796143, -5.583499908447266, -5.646299839019775, -5.676599979400635, -5.6834001541137695, -5.732800006866455, -5.73829984664917, -5.763299942016602, -5.769800186157227, -5.79610013961792, -5.8180999755859375, -5.855899810791016, -5.875, -5.884399890899658, -5.921199798583984, -5.923600196838379, -5.969099998474121, -5.9899001121521, -6.010300159454346, -6.01230001449585, -6.044300079345703, -6.05079984664917, -6.065199851989746, -4.5177998542785645, -4.5278000831604, -5.008399963378906, -5.372900009155273, -4.499199867248535, -4.1722002029418945, -5.122099876403809, -4.979400157928467, -5.310500144958496, -5.771500110626221, -5.768199920654297, -5.514599800109863, -5.729300022125244, -5.567500114440918, -4.484499931335449, -4.530799865722656, -4.81689977645874, -4.906499862670898, -4.9481000900268555, -4.957600116729736, -4.974599838256836, -4.97730016708374, -4.993100166320801, -5.002500057220459, -5.430099964141846, -5.621300220489502, -5.63040018081665, -5.655200004577637, -5.697400093078613, -5.884799957275391, -5.8892998695373535, -6.007199764251709, -6.024199962615967, -6.041900157928467, -6.061999797821045, -6.083700180053711, -6.122399806976318, -6.145999908447266, -6.156199932098389, -6.170400142669678, -6.243599891662598, -6.249199867248535, -6.280600070953369, -6.285900115966797, -4.709700107574463, -5.232600212097168, -4.565100193023682, -5.530399799346924, -5.265699863433838, -5.209400177001953, -5.486299991607666, -5.8684000968933105, -5.692999839782715, -4.530300140380859, -5.600800037384033, -4.997900009155273, -5.6834001541137695, -4.9303998947143555, -5.522200107574463, -5.752500057220459, -5.698699951171875, -4.519100189208984, -5.018899917602539, -5.138400077819824, -5.1468000411987305, -5.236800193786621, -5.249499797821045, -5.25439977645874, -5.393199920654297, -5.39769983291626, -5.503200054168701, -5.509300231933594, -5.515500068664551, -5.53000020980835, -5.6153998374938965, -5.637700080871582, -5.640900135040283, -5.69189977645874, -5.721700191497803, -5.789400100708008, -5.7972002029418945, -5.839300155639648, -5.840700149536133, -5.868899822235107, -5.875500202178955, -5.884900093078613, -5.921999931335449, -5.92579984664917, -5.934500217437744, -5.967700004577637, -6.019800186157227, -5.258999824523926, -5.649600028991699, -5.3607001304626465, -5.256800174713135, -5.082099914550781, -5.2677001953125, -5.161200046539307, -5.7769999504089355, -5.652900218963623, -5.767499923706055, -4.622600078582764, -4.700500011444092, -4.7118000984191895, -4.856100082397461, -5.263000011444092, -5.365200042724609, -5.38670015335083, -5.482699871063232, -5.5055999755859375, -5.527599811553955, -5.691999912261963, -5.706200122833252, -5.7108001708984375, -5.722599983215332, -5.731500148773193, -5.747200012207031, -5.758500099182129, -5.764800071716309, -5.843100070953369, -5.870299816131592, -5.887499809265137, -5.95989990234375, -6.095200061798096, -6.1072998046875, -6.150899887084961, -6.151500225067139, -6.164299964904785, -4.212600231170654, -6.1666998863220215, -6.1880998611450195, -4.223199844360352, -5.395500183105469, -5.313000202178955, -5.920199871063232, -5.1203999519348145, -5.638500213623047, -5.75540018081665, -5.296000003814697, -5.082499980926514, -5.585999965667725, -5.800600051879883, -5.7606000900268555, -4.145899772644043, -4.4552001953125, -4.548299789428711, -4.586400032043457, -4.6255998611450195, -5.2453999519348145, -5.344200134277344, -5.404300212860107, -5.45550012588501, -5.469699859619141, -5.554900169372559, -5.611100196838379, -5.617599964141846, -5.623700141906738, -5.693399906158447, -5.7154998779296875, -5.732600212097168, -5.873199939727783, -5.907700061798096, -5.9207000732421875, -5.951499938964844, -5.0721001625061035, -6.016600131988525, -6.077000141143799, -6.083700180053711, -6.206900119781494, -6.244800090789795, -6.2565999031066895, -6.260499954223633, -6.305099964141846, -5.432799816131592, -3.7472000122070312, -5.616000175476074, -5.117599964141846, -5.331299781799316, -5.497799873352051, -5.580100059509277, -5.230800151824951, -5.722799777984619, -5.7494001388549805, -4.939700126647949, -4.986700057983398, -5.067200183868408, -5.082200050354004, -5.1072998046875, -5.146900177001953, -5.216599941253662, -5.299200057983398, -4.643099784851074, -5.425099849700928, -5.446899890899658, -5.456200122833252, -5.460299968719482, -5.4618000984191895, -5.487599849700928, -5.500199794769287, -5.509300231933594, -5.513000011444092, -5.523499965667725, -5.580399990081787, -5.649700164794922, -5.708600044250488, -5.813799858093262, -5.814300060272217, -5.838500022888184, -5.853400230407715, -5.863699913024902, -5.900100231170654, -5.9120001792907715, -5.930500030517578, -4.222799777984619, -5.654300212860107, -5.428500175476074, -5.8144001960754395, -5.80049991607666], \"loglift\": [30.0, 29.0, 28.0, 27.0, 26.0, 25.0, 24.0, 23.0, 22.0, 21.0, 20.0, 19.0, 18.0, 17.0, 16.0, 15.0, 14.0, 13.0, 12.0, 11.0, 10.0, 9.0, 8.0, 7.0, 6.0, 5.0, 4.0, 3.0, 2.0, 1.0, 1.7688000202178955, 1.7682000398635864, 1.7660000324249268, 1.7653000354766846, 1.7639000415802002, 1.7635999917984009, 1.7634999752044678, 1.763100028038025, 1.7619999647140503, 1.7618999481201172, 1.7604000568389893, 1.7599999904632568, 1.759600043296814, 1.7590999603271484, 1.7589999437332153, 1.7589000463485718, 1.7582000494003296, 1.7575000524520874, 1.7574000358581543, 1.757200002670288, 1.7532000541687012, 1.7526999711990356, 1.752500057220459, 1.7524000406265259, 1.7519999742507935, 1.7511999607086182, 1.7509000301361084, 1.7508000135421753, 1.7506999969482422, 1.7503999471664429, 1.736199975013733, 1.7367000579833984, 1.7336000204086304, 1.6859999895095825, 1.7210999727249146, 1.7098000049591064, 1.6618000268936157, 1.4945000410079956, 1.7148000001907349, 1.5263999700546265, 1.5174000263214111, 1.3984999656677246, 1.3983999490737915, 1.2797000408172607, 1.3406000137329102, 1.3432999849319458, 1.454800009727478, 1.5408999919891357, 1.1510000228881836, 1.4809000492095947, 1.5371999740600586, 1.3910000324249268, 1.3733999729156494, 1.076300024986267, 1.2430000305175781, 1.1055999994277954, 0.9760000109672546, 1.0370999574661255, 1.1683000326156616, 0.9876999855041504, 1.236199975013733, 1.238700032234192, 1.1583000421524048, 1.2644000053405762, 0.71670001745224, 1.079300045967102, 0.9264000058174133, 0.9369000196456909, 0.9642000198364258, 1.1220999956130981, 1.1477999687194824, 1.0236999988555908, 1.0377000570297241, 1.07260000705719, 0.8260999917984009, 0.33709999918937683, 0.5946000218391418, 0.6424000263214111, -0.17110000550746918, 1.878600001335144, 1.8769999742507935, 1.8753999471664429, 1.8743000030517578, 1.8739999532699585, 1.8736000061035156, 1.8732999563217163, 1.8730000257492065, 1.8729000091552734, 1.871999979019165, 1.8712999820709229, 1.8711999654769897, 1.8710999488830566, 1.8703999519348145, 1.8703999519348145, 1.8693000078201294, 1.8690999746322632, 1.868499994277954, 1.8675999641418457, 1.867400050163269, 1.867300033569336, 1.8672000169754028, 1.8672000169754028, 1.8667000532150269, 1.8661999702453613, 1.8660000562667847, 1.8659000396728516, 1.8655999898910522, 1.8654999732971191, 1.865399956703186, 1.864400029182434, 1.8345999717712402, 1.8595000505447388, 1.8151999711990356, 1.8214999437332153, 1.7919000387191772, 1.8121999502182007, 1.8210999965667725, 1.753100037574768, 1.6904000043869019, 1.6603000164031982, 1.597000002861023, 1.32669997215271, 1.6720999479293823, 1.580199956893921, 1.7509000301361084, 1.5530999898910522, 1.778499960899353, 1.5514999628067017, 1.662500023841858, 1.045199990272522, 1.455899953842163, 0.870199978351593, 1.3600000143051147, 1.461300015449524, 1.5198999643325806, 1.4114999771118164, 1.4471999406814575, 1.3631999492645264, 1.1613999605178833, 1.5372999906539917, 1.221500039100647, 0.904699981212616, 1.1181000471115112, 1.0520999431610107, 1.3169000148773193, 0.9699000120162964, 1.0635000467300415, 0.7896000146865845, 0.6413999795913696, 0.9466000199317932, 0.6158999800682068, 0.8932999968528748, 0.6370999813079834, 1.0273000001907349, 0.7437000274658203, 0.8327999711036682, 0.6880000233650208, 0.2962000072002411, 0.09319999814033508, 0.8585000038146973, 0.31380000710487366, 1.145400047302246, 0.6258000135421753, 0.3059999942779541, -0.017400000244379044, 0.3424000144004822, -0.28110000491142273, 2.2304999828338623, 2.2300000190734863, 2.2297000885009766, 2.2286999225616455, 2.2283999919891357, 2.228300094604492, 2.2281999588012695, 2.22760009765625, 2.2272000312805176, 2.227099895477295, 2.226799964904785, 2.2262001037597656, 2.226099967956543, 2.2258999347686768, 2.2256999015808105, 2.2255001068115234, 2.225399971008301, 2.2248001098632812, 2.2246999740600586, 2.224400043487549, 2.224400043487549, 2.2239999771118164, 2.2239999771118164, 2.2237000465393066, 2.223400115966797, 2.223400115966797, 2.223299980163574, 2.223299980163574, 2.2225000858306885, 2.22189998626709, 2.2156999111175537, 2.208400011062622, 2.1870999336242676, 2.1893999576568604, 2.182800054550171, 2.1517999172210693, 2.1094000339508057, 2.171999931335449, 2.105600118637085, 2.062700033187866, 2.091900110244751, 2.1064999103546143, 2.169100046157837, 2.0146000385284424, 2.0313000679016113, 2.091599941253662, 2.0683999061584473, 1.8630000352859497, 2.1085000038146973, 1.896299958229065, 1.7654000520706177, 1.6473000049591064, 1.7473000288009644, 1.962399959564209, 1.5836999416351318, 1.676900029182434, 1.8186999559402466, 1.2064000368118286, 1.1598000526428223, 0.5339000225067139, 1.2741999626159668, 1.0736000537872314, 1.0231000185012817, 1.246999979019165, 2.266700029373169, 2.2664999961853027, 2.266200065612793, 2.2657999992370605, 2.264699935913086, 2.264699935913086, 2.2646000385284424, 2.2643001079559326, 2.2639000415802, 2.2634999752044678, 2.2629001140594482, 2.2625999450683594, 2.262500047683716, 2.2620999813079834, 2.2618000507354736, 2.2607998847961426, 2.2599000930786133, 2.2597999572753906, 2.2595999240875244, 2.259399890899658, 2.2585999965667725, 2.2585999965667725, 2.258500099182129, 2.2583000659942627, 2.2576000690460205, 2.257499933242798, 2.2571001052856445, 2.256500005722046, 2.256200075149536, 2.2558999061584473, 2.251199960708618, 2.233099937438965, 2.223900079727173, 2.2074999809265137, 2.2262001037597656, 2.1496999263763428, 2.2256999015808105, 2.1761999130249023, 1.9763000011444092, 2.0532000064849854, 2.1600000858306885, 1.7997000217437744, 2.089200019836426, 1.95169997215271, 1.3991999626159668, 1.1849000453948975, 1.6152000427246094, 1.780900001525879, 1.5858999490737915, 0.8065000176429749, 0.9143000245094299, 1.8040000200271606, 0.6406000256538391, 1.7034000158309937, 0.28040000796318054, -0.10540000349283218, 0.6514999866485596, -0.6822999715805054, -0.4146000146865845, 0.4593999981880188, 0.6651999950408936, -0.08269999921321869, 0.3910999894142151, 2.5429000854492188, 2.5429000854492188, 2.5420000553131104, 2.541100025177002, 2.5383999347686768, 2.537400007247925, 2.5369999408721924, 2.5364999771118164, 2.5360000133514404, 2.5355000495910645, 2.5355000495910645, 2.535399913787842, 2.534899950027466, 2.5344998836517334, 2.5336999893188477, 2.532900094985962, 2.5316998958587646, 2.5299999713897705, 2.5299999713897705, 2.5297999382019043, 2.5292000770568848, 2.529099941253662, 2.5288000106811523, 2.5288000106811523, 2.5285000801086426, 2.52839994430542, 2.52839994430542, 2.52810001373291, 2.527600049972534, 2.527600049972534, 2.5274999141693115, 2.5244998931884766, 2.5253000259399414, 2.51200008392334, 2.495300054550171, 2.4346001148223877, 2.509700059890747, 2.460700035095215, 2.363600015640259, 2.483299970626831, 2.4642999172210693, 2.481100082397461, 2.3785998821258545, 2.3120999336242676, 2.392400026321411, 2.141200065612793, 2.1421000957489014, 2.111799955368042, 2.216200113296509, 2.130500078201294, 2.3336000442504883, 2.0088000297546387, 2.147599935531616, 1.9846999645233154, 2.1414999961853027, 2.278700113296509, 2.0861001014709473, 1.910099983215332, 1.226199984550476, 1.8350000381469727, 1.079699993133545, 1.0635000467300415, 1.5303000211715698, 1.6699999570846558, 1.6375000476837158, 0.26409998536109924, 1.347100019454956, 1.4313000440597534, 0.3278999924659729, 1.3583999872207642, 0.6341000199317932, 0.5095000267028809, 2.5899999141693115, 2.5892999172210693, 2.589099884033203, 2.588900089263916, 2.58870005607605, 2.587399959564209, 2.586699962615967, 2.586400032043457, 2.58489990234375, 2.58489990234375, 2.5845999717712402, 2.5845999717712402, 2.584399938583374, 2.583199977874756, 2.58270001411438, 2.5820000171661377, 2.5820000171661377, 2.581700086593628, 2.5815999507904053, 2.581399917602539, 2.5810999870300293, 2.580699920654297, 2.580399990081787, 2.5799999237060547, 2.5799999237060547, 2.5797998905181885, 2.5797998905181885, 2.578700065612793, 2.5785999298095703, 2.5785999298095703, 2.5769999027252197, 2.561800003051758, 2.562299966812134, 2.5490000247955322, 2.500699996948242, 2.498699903488159, 2.3886001110076904, 2.5243000984191895, 2.1733999252319336, 2.1842000484466553, 2.1238999366760254, 1.937399983406067, 2.3824000358581543, 1.767300009727478, 1.5604000091552734, 2.035799980163574, 1.7929999828338623, 2.3143999576568604, 1.7954000234603882, 1.8775999546051025, 1.287600040435791, 0.7490000128746033, 1.160099983215332, 0.3370000123977661, 1.01010000705719, 0.05770000070333481, 0.4993000030517578, -0.3605000078678131, 0.08730000257492065, 0.5436000227928162, 0.741599977016449, 2.731800079345703, 2.7304999828338623, 2.7298998832702637, 2.7284998893737793, 2.7279999256134033, 2.7279999256134033, 2.727099895477295, 2.726900100708008, 2.725800037384033, 2.725399971008301, 2.7248001098632812, 2.7239999771118164, 2.723400115966797, 2.722899913787842, 2.722899913787842, 2.722599983215332, 2.7225000858306885, 2.7221999168395996, 2.72189998626709, 2.72189998626709, 2.72160005569458, 2.721299886703491, 2.721100091934204, 2.7207000255584717, 2.720599889755249, 2.7204999923706055, 2.719599962234497, 2.719599962234497, 2.719099998474121, 2.7188000679016113, 2.71560001373291, 2.7018001079559326, 2.6791999340057373, 2.668299913406372, 2.6526999473571777, 2.6663999557495117, 2.6637001037597656, 2.644200086593628, 2.623800039291382, 2.6022000312805176, 2.5332000255584717, 2.675600051879883, 2.675299882888794, 2.4010000228881836, 2.3477001190185547, 2.390700101852417, 2.273699998855591, 2.3327999114990234, 1.895400047302246, 1.7246999740600586, 2.021699905395508, 2.1361000537872314, 1.6202000379562378, 2.2627999782562256, 1.7015999555587769, 1.2264000177383423, 1.2649999856948853, 1.364300012588501, 1.1015000343322754, 0.5044999718666077, 0.3677000105381012, 0.010499999858438969, 0.4050999879837036, 1.0573999881744385, 3.078900098800659, 3.078700065612793, 3.0782999992370605, 3.077199935913086, 3.0764000415802, 3.076200008392334, 3.0759999752044678, 3.075700044631958, 3.075200080871582, 3.075200080871582, 3.07450008392334, 3.073499917984009, 3.073199987411499, 3.0731000900268555, 3.0731000900268555, 3.0720999240875244, 3.0715999603271484, 3.0715999603271484, 3.071199893951416, 3.071199893951416, 3.0708999633789062, 3.0708000659942627, 3.070499897003174, 3.0703999996185303, 3.0703999996185303, 3.0703001022338867, 3.070199966430664, 3.0694000720977783, 3.0689001083374023, 3.0689001083374023, 3.0532000064849854, 3.0453999042510986, 2.827500104904175, 2.8652000427246094, 2.990799903869629, 3.03410005569458, 2.6907999515533447, 2.5683000087738037, 2.7776999473571777, 1.822100043296814, 2.426300048828125, 2.373300075531006, 0.9368000030517578, 2.0065999031066895, 2.5975000858306885, 1.9759000539779663, 2.273099899291992, 2.4377999305725098, 1.7964999675750732, 2.1240999698638916, 2.042799949645996, 0.9919999837875366, 0.3431999981403351, 3.3113999366760254, 3.3101999759674072, 3.3096001148223877, 3.307300090789795, 3.3071000576019287, 3.3060998916625977, 3.305999994277954, 3.305799961090088, 3.3053998947143555, 3.304500102996826, 3.3022000789642334, 3.3018999099731445, 3.3004000186920166, 3.2997000217437744, 3.2995998859405518, 3.2994000911712646, 3.296600103378296, 3.2964000701904297, 3.294300079345703, 3.2934000492095947, 3.2929000854492188, 3.2915000915527344, 3.2915000915527344, 3.291300058364868, 3.2911999225616455, 3.29010009765625, 3.289900064468384, 3.2894999980926514, 3.289299964904785, 3.289299964904785, 3.185499906539917, 3.176500082015991, 3.107800006866455, 3.1858999729156494, 3.198899984359741, 3.2339000701904297, 3.0627999305725098, 3.2093000411987305, 2.9302000999450684, 3.1184000968933105, 3.09089994430542, 3.1928000450134277, 3.0088000297546387, 2.903599977493286, 2.959399938583374, 2.880000114440918, 2.8657000064849854, 3.0510001182556152, 2.9865000247955322, 2.8952999114990234, 1.9665000438690186, 1.4342000484466553, 2.1250998973846436, 1.9853999614715576, 2.5007998943328857, 2.118799924850464, 1.6469999551773071, 1.3559999465942383, 0.6991000175476074, 1.9443000555038452, 0.6793000102043152, 0.8797000050544739, 2.1686999797821045, 1.4148999452590942, 3.343400001525879, 3.342900037765503, 3.342600107192993, 3.3424999713897705, 3.341599941253662, 3.3399999141693115, 3.338399887084961, 3.3382999897003174, 3.338099956512451, 3.3375000953674316, 3.3373000621795654, 3.336699962615967, 3.336199998855591, 3.335700035095215, 3.3355000019073486, 3.335400104522705, 3.33489990234375, 3.3345000743865967, 3.334399938583374, 3.3343000411987305, 3.3343000411987305, 3.334199905395508, 3.333899974822998, 3.333899974822998, 3.3336000442504883, 3.333199977874756, 3.333199977874756, 3.3320000171661377, 3.3317999839782715, 3.3308000564575195, 3.31820011138916, 3.2827000617980957, 3.3125998973846436, 3.27239990234375, 3.2869999408721924, 3.1745998859405518, 3.2109999656677246, 3.259500026702881, 3.2302000522613525, 3.2369000911712646, 3.129199981689453, 3.0782999992370605, 3.1110999584198, 2.8287999629974365, 3.0641000270843506, 2.0267999172210693, 2.839600086212158, 2.938800096511841, 2.7885000705718994, 1.1568000316619873, 2.4779999256134033, 1.6282000541687012, 1.3413000106811523, 2.2625999450683594, 1.4941999912261963, 2.4663000106811523, 3.500999927520752, 3.4983999729156494, 3.4981000423431396, 3.4934000968933105, 3.4932000637054443, 3.491300106048584, 3.4911999702453613, 3.490000009536743, 3.488600015640259, 3.487799882888794, 3.487600088119507, 3.48580002784729, 3.4853999614715576, 3.484600067138672, 3.4844000339508057, 3.484100103378296, 3.483799934387207, 3.483799934387207, 3.482800006866455, 3.4818999767303467, 3.481300115585327, 3.4809000492095947, 3.480600118637085, 3.480299949645996, 3.48009991645813, 3.479599952697754, 3.4788999557495117, 3.478600025177002, 3.478100061416626, 3.476900100708008, 3.4725000858306885, 3.466399908065796, 3.4730000495910645, 3.450500011444092, 3.3754000663757324, 3.399399995803833, 3.3951001167297363, 3.4302000999450684, 3.3965001106262207, 3.2922000885009766, 3.3285000324249268, 3.1893999576568604, 3.3721001148223877, 3.384999990463257, 3.3870999813079834, 2.8457999229431152, 3.1205999851226807, 3.109100103378296, 3.312700033187866, 2.979599952697754, 2.710400104522705, 3.3392999172210693, 2.7132999897003174, 1.90910005569458, 1.9093999862670898, 2.5257999897003174, 2.56850004196167, 2.679500102996826, 2.409600019454956, 0.7645999789237976, 2.186199903488159, 1.0866999626159668, 2.075700044631958, 1.2588000297546387, 0.6159999966621399, 2.18530011177063, 1.8854000568389893, 0.8075000047683716, 1.1456999778747559, 3.564300060272217, 3.555000066757202, 3.551100015640259, 3.550800085067749, 3.5441999435424805, 3.543299913406372, 3.5429000854492188, 3.5401999950408936, 3.5399999618530273, 3.5392000675201416, 3.537600040435791, 3.537400007247925, 3.5362000465393066, 3.5350000858306885, 3.534899950027466, 3.5341999530792236, 3.533099889755249, 3.532099962234497, 3.5304999351501465, 3.5297999382019043, 3.528700113296509, 3.528599977493286, 3.5281999111175537, 3.527899980545044, 3.5274999141693115, 3.5272998809814453, 3.526400089263916, 3.5262999534606934, 3.5257999897003174, 3.5255000591278076, 3.502700090408325, 3.5167999267578125, 3.404099941253662, 3.140000104904175, 3.2318999767303467, 3.239799976348877, 3.0281999111175537, 3.197200059890747, 3.0650999546051025, 3.267400026321411, 3.3032000064849854, 3.057499885559082, 3.20740008354187, 2.8478000164031982, 2.7093000411987305, 3.037400007247925, 3.120800018310547, 3.190700054168701, 2.6538000106811523, 2.61080002784729, 2.928299903869629, 2.702500104904175, 2.5947000980377197, 2.7130000591278076, 2.6570000648498535, 2.222399950027466, 1.770300030708313, 2.424099922180176, 2.2151999473571777, 2.128999948501587, 1.2752000093460083, 2.371799945831299, 2.1949000358581543, 2.18530011177063, 1.3502999544143677, 1.6306999921798706, 1.509600043296814, 0.6559000015258789, 1.7232999801635742, 3.713200092315674, 3.7119998931884766, 3.708199977874756, 3.70770001411438, 3.7072999477386475, 3.706199884414673, 3.706199884414673, 3.704200029373169, 3.703399896621704, 3.7023000717163086, 3.7007999420166016, 3.700200080871582, 3.6995999813079834, 3.6989998817443848, 3.6970999240875244, 3.696899890899658, 3.695499897003174, 3.694700002670288, 3.6946001052856445, 3.6944000720977783, 3.6935999393463135, 3.69320011138916, 3.6930999755859375, 3.691699981689453, 3.690700054168701, 3.6903998851776123, 3.690000057220459, 3.689500093460083, 3.688999891281128, 3.6888999938964844, 3.679500102996826, 3.6772000789642334, 3.6465001106262207, 3.5385000705718994, 3.434499979019165, 3.382200002670288, 3.494999885559082, 3.4937000274658203, 3.3873000144958496, 3.2425999641418457, 3.0260000228881836, 3.3931000232696533, 2.8526999950408936, 3.1530001163482666, 2.9456000328063965, 3.1422998905181885, 2.9495999813079834, 2.7202999591827393, 2.27839994430542, 2.273400068283081, 2.7288999557495117, 2.6933000087738037, 2.262700080871582, 2.6691999435424805, 1.4630999565124512, 1.4460999965667725, 1.8528000116348267, 2.2936999797821045, 4.301499843597412, 4.298600196838379, 4.296299934387207, 4.2957000732421875, 4.295199871063232, 4.2932000160217285, 4.290200233459473, 4.289599895477295, 4.2891998291015625, 4.286900043487549, 4.286799907684326, 4.2866997718811035, 4.28380012512207, 4.283699989318848, 4.282299995422363, 4.280900001525879, 4.280600070953369, 4.280399799346924, 4.279099941253662, 4.276400089263916, 4.275899887084961, 4.275100231170654, 4.275100231170654, 4.27400016784668, 4.273499965667725, 4.2718000411987305, 4.270699977874756, 4.270299911499023, 4.269000053405762, 4.2657999992370605, 4.198200225830078, 4.064199924468994, 4.09630012512207, 4.105999946594238, 3.99399995803833, 3.7248001098632812, 4.018199920654297, 3.6391000747680664, 3.9595000743865967, 3.852299928665161, 3.228300094604492, 3.021399974822998, 3.8464999198913574, 3.7843000888824463, 3.133699893951416, 3.4628000259399414, 2.714200019836426, 2.9818999767303467, 2.045599937438965, 2.320199966430664, 2.2637999057769775, 4.4380998611450195, 4.435699939727783, 4.433000087738037, 4.430699825286865, 4.428500175476074, 4.428199768066406, 4.427800178527832, 4.425099849700928, 4.424900054931641, 4.423600196838379, 4.422900199890137, 4.422699928283691, 4.421500205993652, 4.42140007019043, 4.42080020904541, 4.420599937438965, 4.419899940490723, 4.419400215148926, 4.418300151824951, 4.417799949645996, 4.417600154876709, 4.416500091552734, 4.416399955749512, 4.41510009765625, 4.414400100708008, 4.41379976272583, 4.413700103759766, 4.412700176239014, 4.412399768829346, 4.4120001792907715, 4.4070000648498535, 4.344399929046631, 4.3668999671936035, 4.354800224304199, 4.168700218200684, 4.045599937438965, 4.136499881744385, 3.698499917984009, 3.893199920654297, 4.259699821472168, 4.2368998527526855, 3.6928999423980713, 3.565000057220459, 1.1770000457763672, 4.627500057220459, 4.627099990844727, 4.624100208282471, 4.623000144958496, 4.622499942779541, 4.622300148010254, 4.622099876403809, 4.622099876403809, 4.621799945831299, 4.621699810028076, 4.614099979400635, 4.609499931335449, 4.6092000007629395, 4.60860013961792, 4.607399940490723, 4.601600170135498, 4.601399898529053, 4.5971999168396, 4.596499919891357, 4.595799922943115, 4.59499979019165, 4.594099998474121, 4.59250020980835, 4.5914998054504395, 4.591000080108643, 4.590400218963623, 4.586999893188477, 4.586699962615967, 4.58519983291626, 4.58489990234375, 4.552999973297119, 4.509300231933594, 4.438499927520752, 4.5117998123168945, 4.376399993896484, 4.355899810791016, 4.412099838256836, 4.48859977722168, 4.305500030517578, 3.3835999965667725, 4.224299907684326, 3.5381999015808105, 4.23960018157959, 3.3022000789642334, 3.768699884414673, 4.108799934387207, 3.302000045776367, 5.185200214385986, 5.175099849700928, 5.171899795532227, 5.1717000007629395, 5.169000148773193, 5.168600082397461, 5.168399810791016, 5.163599967956543, 5.16349983215332, 5.15939998626709, 5.159200191497803, 5.158899784088135, 5.158299922943115, 5.154600143432617, 5.153600215911865, 5.15339994430542, 5.151000022888184, 5.149499893188477, 5.145999908447266, 5.145599842071533, 5.1433000564575195, 5.143199920654297, 5.141600131988525, 5.141200065612793, 5.140699863433838, 5.138500213623047, 5.138199806213379, 5.137700080871582, 5.1356000900268555, 5.132199764251709, 5.124300003051758, 5.106800079345703, 5.034900188446045, 4.988399982452393, 4.604000091552734, 4.519100189208984, 4.137700080871582, 4.8678998947143555, 4.419600009918213, 4.488500118255615, 5.702199935913086, 5.69980001449585, 5.699399948120117, 5.694499969482422, 5.676199913024902, 5.670300006866455, 5.669000148773193, 5.662899971008301, 5.661399841308594, 5.659900188446045, 5.647500038146973, 5.646299839019775, 5.645999908447266, 5.644999980926514, 5.644199848175049, 5.642899990081787, 5.641900062561035, 5.64139986038208, 5.634399890899658, 5.631800174713135, 5.630199909210205, 5.622900009155273, 5.607999801635742, 5.606599807739258, 5.601399898529053, 5.60129976272583, 5.599699974060059, 5.5995001792907715, 5.5995001792907715, 5.596799850463867, 5.533899784088135, 5.5406999588012695, 5.333799839019775, 5.503200054168701, 5.141600131988525, 5.183199882507324, 5.2418999671936035, 3.9061999320983887, 2.9010000228881836, 3.765700101852417, 4.428699970245361, 2.2846999168395996, 5.872900009155273, 5.865099906921387, 5.862199783325195, 5.861000061035156, 5.859300136566162, 5.830399990081787, 5.82390022277832, 5.819699764251709, 5.815899848937988, 5.814799785614014, 5.808000087738037, 5.803199768066406, 5.802599906921387, 5.80210018157959, 5.7957000732421875, 5.793600082397461, 5.791900157928467, 5.777200222015381, 5.773399829864502, 5.771900177001953, 5.768199920654297, 5.767899990081787, 5.760300159454346, 5.752500057220459, 5.7515997886657715, 5.7342000007629395, 5.728499889373779, 5.7266998291015625, 5.726099967956543, 5.718999862670898, 5.68209981918335, 4.7210001945495605, 5.468900203704834, 5.115499973297119, 5.104800224304199, 4.76140022277832, 4.837399959564209, 4.184700012207031, 4.954800128936768, 5.004499912261963, 5.939199924468994, 5.936699867248535, 5.932199954986572, 5.931300163269043, 5.929800033569336, 5.9274001121521, 5.922900199890137, 5.917200088500977, 5.9096999168396, 5.907599925994873, 5.905799865722656, 5.90500020980835, 5.904699802398682, 5.904600143432617, 5.902400016784668, 5.901299953460693, 5.9004998207092285, 5.900199890136719, 5.8993000984191895, 5.894100189208984, 5.887400150299072, 5.881400108337402, 5.869900226593018, 5.869900226593018, 5.867000102996826, 5.865300178527832, 5.864099979400635, 5.859600067138672, 5.858099937438965, 5.855800151824951, 5.68209981918335, 5.521999835968018, 4.3643999099731445, 5.4770002365112305, 5.027100086212158]}, \"token.table\": {\"Topic\": [17, 16, 2, 14, 20, 19, 19, 2, 3, 4, 5, 8, 13, 7, 2, 3, 4, 5, 6, 7, 9, 12, 14, 18, 2, 4, 5, 8, 2, 2, 6, 16, 3, 7, 8, 12, 5, 1, 4, 5, 1, 2, 4, 6, 4, 5, 11, 3, 4, 11, 7, 2, 1, 2, 3, 4, 5, 6, 7, 8, 9, 10, 11, 12, 4, 10, 16, 4, 13, 1, 2, 4, 5, 8, 10, 13, 14, 1, 2, 3, 4, 5, 6, 7, 8, 10, 9, 4, 7, 11, 3, 6, 10, 14, 5, 3, 4, 5, 1, 2, 3, 7, 12, 18, 1, 2, 3, 4, 6, 7, 12, 8, 15, 3, 7, 3, 5, 7, 11, 13, 1, 2, 3, 7, 12, 1, 3, 7, 11, 12, 7, 4, 5, 7, 8, 10, 11, 14, 16, 18, 12, 8, 18, 11, 8, 2, 3, 6, 12, 11, 8, 8, 8, 1, 2, 8, 13, 2, 5, 8, 13, 1, 2, 3, 5, 6, 7, 8, 9, 11, 11, 2, 1, 2, 3, 4, 5, 6, 7, 8, 12, 13, 1, 2, 3, 9, 12, 2, 13, 2, 12, 5, 5, 14, 12, 6, 12, 5, 14, 11, 9, 11, 1, 9, 13, 13, 1, 3, 4, 5, 7, 9, 11, 14, 5, 8, 8, 8, 8, 8, 1, 2, 3, 4, 5, 6, 7, 8, 9, 10, 8, 17, 7, 17, 8, 5, 4, 16, 13, 2, 10, 14, 1, 2, 3, 4, 5, 6, 7, 11, 2, 9, 9, 18, 2, 6, 13, 20, 2, 6, 2, 6, 1, 2, 4, 6, 7, 12, 12, 6, 1, 2, 3, 4, 6, 7, 9, 10, 1, 2, 3, 4, 6, 7, 10, 6, 6, 1, 1, 1, 2, 4, 5, 10, 13, 14, 2, 5, 3, 7, 1, 2, 3, 4, 6, 8, 9, 11, 13, 14, 1, 5, 7, 9, 6, 10, 12, 18, 14, 9, 15, 1, 3, 4, 5, 6, 8, 9, 12, 7, 3, 20, 2, 1, 5, 8, 10, 15, 12, 13, 1, 2, 6, 16, 9, 10, 19, 20, 18, 8, 3, 7, 11, 14, 7, 9, 9, 7, 16, 19, 15, 1, 4, 5, 9, 13, 14, 1, 2, 6, 7, 8, 9, 10, 4, 15, 4, 15, 17, 15, 7, 9, 2, 7, 20, 1, 2, 4, 5, 13, 1, 1, 2, 3, 4, 6, 7, 9, 11, 13, 1, 19, 19, 6, 16, 1, 2, 4, 5, 10, 11, 14, 7, 1, 2, 3, 4, 6, 7, 20, 17, 17, 3, 3, 16, 15, 14, 1, 10, 13, 14, 2, 4, 6, 8, 4, 7, 9, 18, 6, 6, 10, 6, 6, 6, 12, 14, 4, 14, 11, 9, 1, 2, 5, 8, 10, 13, 14, 15, 2, 4, 5, 8, 1, 2, 6, 7, 15, 5, 17, 5, 7, 11, 3, 2, 4, 5, 9, 17, 4, 17, 10, 3, 4, 9, 13, 14, 16, 18, 3, 7, 14, 4, 5, 6, 7, 11, 13, 14, 3, 4, 9, 10, 3, 2, 3, 3, 4, 5, 7, 9, 12, 4, 13, 18, 1, 4, 8, 9, 9, 5, 10, 12, 7, 13, 17, 3, 4, 6, 9, 9, 2, 13, 9, 16, 5, 13, 3, 1, 2, 3, 4, 5, 7, 9, 11, 13, 7, 15, 15, 20, 19, 1, 2, 3, 4, 6, 7, 8, 12, 1, 2, 4, 5, 8, 1, 2, 3, 4, 6, 7, 4, 11, 2, 4, 13, 1, 2, 4, 5, 8, 9, 9, 11, 2, 4, 8, 13, 2, 4, 14, 20, 18, 18, 4, 4, 4, 4, 9, 19, 14, 15, 1, 2, 3, 4, 5, 6, 7, 9, 11, 14, 17, 1, 11, 9, 11, 8, 15, 3, 4, 5, 7, 11, 3, 20, 2, 3, 4, 5, 6, 10, 13, 14, 1, 1, 14, 1, 2, 6, 7, 8, 2, 4, 6, 8, 13, 16, 18, 19, 20, 10, 4, 13, 15, 1, 2, 3, 4, 5, 7, 9, 11, 1, 2, 4, 5, 6, 8, 11, 18, 11, 11, 10, 10, 7, 3, 4, 1, 16, 12, 4, 6, 16, 4, 3, 7, 11, 2, 3, 7, 6, 5, 10, 13, 14, 6, 16, 17, 5, 11, 20, 7, 9, 1, 5, 7, 10, 1, 5, 7, 7, 4, 2, 4, 2, 5, 6, 11, 1, 5, 6, 8, 14, 15, 16, 14, 15, 15, 17, 7, 9, 12, 9, 3, 5, 9, 12, 4, 12, 4, 2, 4, 5, 11, 1, 2, 3, 4, 6, 7, 9, 3, 3, 5, 10, 16, 18, 18, 4, 10, 6, 7, 18, 1, 2, 3, 4, 6, 7, 8, 12, 2, 3, 6, 11, 16, 18, 2, 4, 6, 20, 20, 3, 5, 6, 9, 10, 20, 16, 18, 5, 3, 4, 11, 18, 1, 2, 4, 5, 6, 7, 8, 2, 6, 5, 16, 17, 12, 10, 14, 15, 8, 16, 6, 8, 2, 4, 5, 13, 2, 1, 4, 5, 6, 10, 11, 18, 3, 4, 5, 13, 3, 3, 4, 7, 19, 1, 2, 3, 4, 6, 7, 8, 9, 11, 12, 16, 13, 13, 1, 2, 3, 4, 5, 6, 7, 8, 9, 10, 11, 13, 15, 16, 11, 18, 1, 12, 15, 14, 18, 5, 7, 10, 3, 3, 12, 3, 7, 3, 9, 13, 16, 2, 4, 5, 20, 16, 1, 8, 9, 5, 18, 3, 4, 11, 16, 3, 7, 10, 10, 14, 20, 14, 2, 2, 1, 1, 2, 3, 4, 5, 6, 7, 8, 9, 11, 13, 8, 5, 1, 2, 5, 8, 16, 1, 2, 3, 4, 7, 12, 12, 1, 13, 2, 4, 5, 7, 10, 12, 1, 2, 4, 7, 8, 1, 1, 2, 3, 4, 5, 6, 7, 9, 10, 12, 16, 16, 6, 2, 4, 5, 8, 18, 3, 7, 9, 16, 8, 6, 8, 18, 1, 2, 5, 6, 8, 9, 11, 2, 1, 2, 3, 4, 5, 6, 7, 8, 12, 14, 16, 18, 5, 17, 2, 8, 13, 1, 2, 4, 13, 13, 11, 13, 18, 2, 18, 1, 2, 6, 7, 9, 12, 20, 3, 4, 5, 7, 16, 10, 4, 20, 14, 10, 4, 1, 2, 3, 6, 7, 8, 17, 6, 8, 1, 2, 6, 3, 7, 9, 12, 1, 1, 2, 3, 4, 7, 8, 12, 19, 8, 18, 16, 1, 2, 4, 5, 6, 7, 9, 10, 11, 2, 11, 14, 1, 10, 6, 16, 2, 16, 2, 16, 8, 19, 5, 14, 13, 13, 5, 3, 5, 6, 8, 11, 2, 17, 1, 9, 4, 19, 1, 3, 5, 7, 9, 12, 2, 3, 4, 5, 7, 12, 14, 11, 12, 15, 1, 15, 3, 9, 11, 18, 4, 5, 12, 20, 16, 1, 2, 3, 4, 5, 7, 9, 12, 2, 3, 5, 8, 2, 11, 18, 4, 5, 15, 2, 6, 8, 12, 18, 2, 8, 10, 2, 5, 6, 8, 2, 8, 2, 5, 16, 2, 10, 12, 14, 14, 1, 9, 10, 14, 6, 10, 2, 6, 8, 2, 6, 8, 2, 5, 3, 4, 5, 6, 9, 10, 12, 14, 1, 15, 3, 6, 5, 13, 7, 1, 5, 14, 2, 2, 6, 8, 8, 5, 12, 4, 15, 3, 4, 13, 13, 2, 8, 12, 6, 10, 17, 12, 1, 2, 3, 4, 6, 7, 8, 12, 5, 12, 17, 3, 5, 19, 9, 9, 11, 1, 2, 3, 4, 5, 6, 7, 8, 10, 1, 5, 5, 5, 2, 4, 6, 13, 11, 20, 17, 10, 5, 10, 15, 2, 4, 9, 13, 15, 10, 13, 20, 17, 20, 20, 3, 5, 15, 18, 15, 2, 19, 2, 1, 2, 4, 5, 6, 1, 2, 3, 4, 6, 7, 8, 9, 12, 1, 2, 3, 4, 6, 7, 8, 9, 10, 11, 11, 1, 3, 4, 5, 7, 8, 9, 10, 11, 12, 5, 1, 2, 3, 4, 5, 6, 7, 9, 16, 11, 12, 1, 2, 3, 5, 6, 7, 8, 1, 2, 3, 7, 8, 1, 2, 3, 6, 7, 9, 12, 6, 1, 2, 5, 6, 7, 8, 10, 12, 14, 1, 1, 2, 6, 18, 6, 5, 15, 19, 16, 7, 1, 2, 3, 4, 5, 6, 7, 9, 10, 13, 3, 4, 5, 7, 9, 12, 14, 1, 2, 3, 4, 5, 7, 9, 11, 18, 2, 8, 1, 2, 3, 4, 5, 6, 7, 9, 8, 3, 9, 1, 2, 3, 4, 5, 6, 7, 8, 12, 12, 6, 6, 5, 3, 18, 8, 6, 14, 18, 1, 2, 6, 7, 8, 1, 2, 4, 6, 7, 9, 11, 4, 8, 16, 4, 3, 7, 11, 17, 19, 11, 1, 14, 3, 13, 1, 12, 17, 19, 2, 10, 20, 5, 13, 15, 19, 5, 6, 5, 11, 17, 3, 7, 11, 1, 6, 7, 9, 11, 14, 1, 2, 5, 7, 9, 11, 3, 7, 3, 11, 7, 9, 7, 14, 15, 5, 6, 11, 2, 6, 2, 6, 13, 7, 3, 1, 1, 3, 7, 18, 18, 1, 2, 3, 4, 6, 7, 11, 12, 16, 13, 1, 4, 12, 8, 12, 1, 2, 3, 4, 5, 6, 7, 9, 11, 14, 18, 1, 18, 20, 1, 2, 3, 4, 5, 6, 7, 8, 9, 10, 12, 15, 5, 11, 2, 4, 5, 14, 14, 18, 2, 8, 8, 4, 14, 1, 2, 3, 4, 6, 7, 9, 11, 12, 14, 16, 19, 4, 11, 14, 18, 2, 9, 10, 1, 2, 3, 4, 6, 7, 8, 9, 1, 2, 3, 4, 5, 6, 8, 10, 12, 2, 3, 4, 12, 4, 14, 15, 7, 9, 9, 19, 7, 3, 11, 1, 2, 3, 4, 5, 6, 7, 8, 9, 10, 11, 13, 17, 2, 3, 4, 11, 12, 17, 2, 5, 2, 3, 5, 6, 9, 1, 2, 3, 4, 5, 6, 8, 9, 11, 11, 12, 3, 5, 11, 1, 2, 3, 4, 5, 8, 13, 5, 16, 1, 2, 3, 4, 5, 6, 7, 9, 12, 14, 6, 20, 8, 9, 3, 9, 11, 5, 12, 16, 1, 2, 16, 2, 4, 7, 8, 9, 11, 11, 6, 20, 1, 1, 2, 3, 4, 5, 6, 7, 8, 9, 11, 13, 12, 20, 6, 3, 4, 4, 16, 1, 3, 5, 6, 10, 13, 14, 10, 17, 1, 2, 3, 4, 5, 6, 7, 8, 12, 1, 2, 3, 4, 6, 7, 11, 12, 1, 2, 3, 4, 5, 6, 8, 10, 11, 13, 15, 3, 10, 14, 14, 1, 3, 4, 5, 7, 9, 14, 4, 17, 1, 2, 3, 6, 12, 19, 13, 1, 1, 16, 10, 15, 3, 20, 4, 8, 11, 5, 4, 15, 15, 9, 1, 1, 2, 4, 6, 7, 10, 16, 1, 4, 5, 10, 1, 9, 10, 10, 10, 10, 1, 2, 3, 4, 5, 7, 9, 12, 13, 14, 11, 14, 18, 1, 2, 3, 4, 6, 7, 10, 11, 12, 14, 1, 2, 3, 5, 6, 10, 11, 1, 2, 4, 8, 13, 12, 19, 11, 19, 6, 2, 4, 8, 3, 7, 1, 2, 3, 4, 5, 6, 7, 10, 12, 19, 1, 2, 3, 4, 5, 7, 9, 10, 12, 14, 2, 3, 4, 5, 6, 9, 12, 2, 3, 4, 5, 12, 1, 5, 12, 3, 2, 18, 1, 2, 5, 6, 7, 8, 9, 10, 11, 15, 17, 17, 2, 5, 11, 2, 4, 5, 2, 17, 1, 2, 3, 6, 7, 1, 2, 3, 5, 7, 8, 9, 3, 9, 11, 2, 20, 4, 2, 4, 5, 1, 2, 3, 4, 6, 7, 9, 10, 12, 1, 2, 3, 4, 6, 7, 9, 11, 5, 14, 17, 13, 5, 11, 3, 4, 5, 7, 11, 3, 5, 16, 5, 11, 17, 20, 2, 3, 4, 5, 9, 10, 17, 7, 9, 15, 1, 2, 3, 4, 6, 7, 11, 12, 16, 18, 12, 11, 11, 19, 11, 10, 1, 2, 3, 4, 6, 7, 12, 1, 2, 3, 4, 6, 7, 5, 9, 14, 11, 10, 14, 13, 11, 12, 2, 6, 12, 6, 1, 2, 3, 6, 7, 8, 3, 4, 6, 7, 9, 12, 5, 8, 2, 2, 4, 5, 14, 3, 4, 7, 12, 2, 3, 4, 8, 13, 6, 11, 6, 1, 1, 1, 13, 1, 2, 3, 4, 6, 7, 8, 9, 10, 11, 12, 13, 2, 4, 5, 8, 13, 15, 4, 15, 13, 15, 14, 18, 4, 14, 3, 14, 17, 5, 8, 9, 5, 8, 14, 15, 1, 2, 4, 5, 6, 7, 8, 9, 13, 11, 6, 5, 11, 5, 11, 5, 15, 2, 4, 5, 6, 11, 12, 5, 10, 10, 10, 16, 7, 6, 7, 15, 10, 1, 1, 2, 3, 4, 5, 6, 7, 8, 10, 11, 13, 2, 4, 1, 3, 5, 8, 11, 13, 4, 2, 4, 8, 1, 2, 9, 1, 2, 4, 7, 9, 1, 4, 9, 1, 10, 13, 14, 2, 3, 4, 5, 7, 9, 10, 12, 5, 15, 2, 8, 3, 4, 7, 1, 3, 5, 7, 9, 10, 16, 19, 17, 3, 3, 2, 4, 6, 16, 14, 4, 6, 13, 16, 3, 15, 20, 9, 14, 1, 12, 2, 13, 5, 11, 1, 9, 11, 20, 7, 1, 2, 3, 4, 7, 8, 16, 7, 19, 19, 14, 7, 7, 5, 10, 13, 4, 15, 2, 5, 9, 3, 5, 7, 14, 8, 17, 1, 2, 3, 4, 6, 7, 12, 1, 2, 3, 6, 7, 1, 2, 3, 4, 5, 7, 8, 12, 16, 6, 19, 1, 2, 3, 4, 5, 6, 8, 9, 11, 12, 1, 4, 5, 8, 5, 8, 5, 7, 9, 11, 1, 7, 9, 11, 5, 6, 1, 4, 4, 5, 7, 13, 15, 16, 14, 15, 10, 1, 2, 3, 4, 5, 7, 8, 9, 13, 2, 4, 6, 7, 2, 4, 5, 6, 7, 8, 13, 11, 9, 4, 15, 1, 2, 3, 4, 5, 6, 7, 8, 9, 10, 12, 2, 8, 13, 19, 2, 3, 15, 20, 13, 4, 5, 6, 13, 17, 2, 8, 12, 3, 11, 4, 5, 7, 8, 9, 1, 2, 3, 4, 6, 7, 12, 16, 8, 16, 7, 3, 11, 4, 16, 19, 4, 2, 3, 4, 5, 7, 9, 11, 14, 1, 2, 3, 4, 6, 7, 8, 9, 11, 12, 3, 7, 8, 9, 12, 18, 5, 10, 10, 9, 4, 5, 7, 20, 5, 18, 11, 15, 1, 3, 4, 5, 6, 7, 11, 6, 5, 7, 13, 14, 17, 1, 2, 4, 7, 12, 1, 3, 7, 9, 12, 14, 16, 2, 4, 5, 6, 9, 11, 19, 1, 2, 3, 4, 6, 7, 9, 1, 2, 3, 4, 6, 7, 11, 1, 2, 4, 6, 7, 12, 16, 1, 2, 3, 4, 5, 6, 7, 8, 10, 15, 1, 18, 1, 2, 3, 4, 5, 6, 7, 8, 10, 11, 11, 17, 1, 1, 5, 4, 19, 3, 1, 3, 5, 10, 15, 9, 16, 14, 11, 15, 2, 4, 8, 13, 2, 8, 1, 1, 2, 3, 4, 6, 7, 10, 11, 2, 6, 8, 8, 8, 17, 18, 3, 14, 17, 19, 14, 2, 4, 5, 8, 13, 6, 11, 3, 4, 5, 7, 8, 10, 11, 12, 17, 3, 7, 11, 12, 7, 14, 1, 2, 3, 4, 6, 7, 9, 11, 12, 13, 3, 4, 7, 1, 2, 3, 4, 5, 7, 9, 11, 12, 3, 11, 12, 1, 2, 3, 4, 10, 11, 1, 4, 15, 5, 19, 15, 3, 4, 5, 6, 7, 13, 7, 20, 1, 3, 7, 14, 8, 8, 2, 16, 9, 2, 14, 7, 2, 14, 17, 13, 1, 1, 2, 3, 4, 6, 7, 8, 9, 12, 12, 4, 5, 8, 10, 13, 1, 2, 1, 2, 4, 6, 9, 15, 19, 4, 8, 11, 2, 13, 2, 8, 13, 5, 1, 1, 2, 4, 5, 8, 13, 17, 19, 1, 2, 3, 4, 5, 6, 7, 8, 9, 10, 11, 13, 1, 6, 7, 8, 10, 1, 2, 4, 5, 6, 8, 11, 14, 15, 1, 3, 3, 3, 3, 11, 19, 3, 8, 11, 1, 3, 7, 12, 10, 9, 9, 4, 9, 19, 1, 2, 4, 6, 8, 16, 1, 2, 3, 5, 6, 7, 9, 11, 1, 2, 3, 4, 5, 6, 7, 8, 9, 11, 14, 1, 2, 3, 4, 5, 6, 7, 8, 10, 12, 6, 1, 2, 3, 4, 5, 6, 7, 8, 9, 12, 9, 17, 3, 12, 3, 14, 1, 2, 1, 2, 3, 4, 5, 8, 10, 13, 1, 2, 4, 5, 6, 8, 9, 10, 1, 4, 5, 8, 10, 14, 15, 2], \"Freq\": [0.9701880216598511, 0.9438631534576416, 0.9781990647315979, 0.01358609739691019, 0.8694872260093689, 0.9011666774749756, 0.9046450257301331, 0.695110023021698, 0.08492294698953629, 0.02830764837563038, 0.06919647753238678, 0.022017059847712517, 0.10064941644668579, 0.9865087866783142, 0.017151130363345146, 0.2666220963001251, 0.010914355516433716, 0.26038533449172974, 0.020269516855478287, 0.07640048861503601, 0.015591936185956001, 0.3180754780769348, 0.012473548762500286, 0.9428184628486633, 0.12587615847587585, 0.5678413510322571, 0.2853192985057831, 0.01958073489367962, 0.9718812704086304, 0.17085003852844238, 0.1281375288963318, 0.6620439291000366, 0.019649578258395195, 0.24140910804271698, 0.022456660866737366, 0.7129989862442017, 0.9884237051010132, 0.9899617433547974, 0.9129035472869873, 0.08443038910627365, 0.19104167819023132, 0.6503546237945557, 0.012194149196147919, 0.14429743587970734, 0.9910237193107605, 0.9609537720680237, 0.02463984116911888, 0.20755760371685028, 0.7281529307365417, 0.06124650686979294, 0.980442225933075, 0.978381335735321, 0.23826874792575836, 0.11469113081693649, 0.1830059438943863, 0.09303034096956253, 0.10219451785087585, 0.10497154295444489, 0.09747357666492462, 0.014718232676386833, 0.025826333090662956, 0.0005554049857892096, 0.007775669917464256, 0.017495257779955864, 0.10418342798948288, 0.06251005828380585, 0.7917940020561218, 0.03095507249236107, 0.9640293717384338, 0.0192301943898201, 0.3189007043838501, 0.1762767732143402, 0.32851579785346985, 0.01762767694890499, 0.03525535389780998, 0.06410064548254013, 0.041665419936180115, 0.029537400230765343, 0.04529067873954773, 0.05119815841317177, 0.5060741305351257, 0.06498228013515472, 0.19494684040546417, 0.011814960278570652, 0.09451968222856522, 0.001969160046428442, 0.9863350987434387, 0.056185025721788406, 0.056185025721788406, 0.870867908000946, 0.24454838037490845, 0.018811414018273354, 0.1755731999874115, 0.5580719709396362, 0.9829986095428467, 0.7629498839378357, 0.1606210321187973, 0.07322429120540619, 0.2629949450492859, 0.12242867797613144, 0.02040478028357029, 0.16550543904304504, 0.4239659905433655, 0.0022671977058053017, 0.28007790446281433, 0.06264107674360275, 0.02108113095164299, 0.011444042436778545, 0.014455633237957954, 0.18732091784477234, 0.42282727360725403, 0.9922530055046082, 0.9708967208862305, 0.07558000832796097, 0.9229921698570251, 0.8481162190437317, 0.01917850784957409, 0.01065472699701786, 0.0831068679690361, 0.036226071417331696, 0.01911349408328533, 0.071675606071949, 0.01911349408328533, 0.03822698816657066, 0.8457720875740051, 0.0067626177333295345, 0.047338321805000305, 0.35165610909461975, 0.0033813088666647673, 0.5883477330207825, 0.9906901121139526, 0.1334756761789322, 0.6473569869995117, 0.015016012825071812, 0.061732497066259384, 0.07508006691932678, 0.0016684458823874593, 0.03837425634264946, 0.021689796820282936, 0.0050053377635777, 0.9734590649604797, 0.11764110624790192, 0.8234877586364746, 0.9702169299125671, 0.9952213764190674, 0.6447128057479858, 0.03150852024555206, 0.31023773550987244, 0.012118661776185036, 0.9808753132820129, 0.9967029094696045, 0.998647153377533, 0.9989489912986755, 0.9687960147857666, 0.15255261957645416, 0.22296151518821716, 0.6219452619552612, 0.13069744408130646, 0.19604617357254028, 0.6186345815658569, 0.05227898061275482, 0.6890673041343689, 0.06783564388751984, 0.07140593975782394, 0.011603465303778648, 0.059802472591400146, 0.05355445295572281, 0.012496039271354675, 0.01517376210540533, 0.017851484939455986, 0.9807541966438293, 0.9898585081100464, 0.07030738890171051, 0.2269011288881302, 0.10066740214824677, 0.10705897957086563, 0.03355580195784569, 0.01597895286977291, 0.05273054540157318, 0.001597895286977291, 0.3020022213459015, 0.08788423985242844, 0.03956222161650658, 0.2708490490913391, 0.02434598281979561, 0.6482117772102356, 0.015216238796710968, 0.26414790749549866, 0.721327006816864, 0.983068585395813, 0.9864543676376343, 0.9829105734825134, 0.9869108200073242, 0.9858896732330322, 0.9942125678062439, 0.9386476874351501, 0.05568249151110649, 0.20486155152320862, 0.7755473256111145, 0.9819813966751099, 0.8201935291290283, 0.17117081582546234, 0.1739072948694229, 0.25244608521461487, 0.5666012167930603, 0.9866757392883301, 0.008767252787947655, 0.6271958351135254, 0.12476475536823273, 0.14769449830055237, 0.04788269102573395, 0.02427854761481285, 0.013488082215189934, 0.005395232699811459, 0.9897418022155762, 0.9923144578933716, 0.9945739507675171, 0.9931876063346863, 0.9878382086753845, 0.9913592338562012, 0.7580413818359375, 0.06624899804592133, 0.028028421103954315, 0.028028421103954315, 0.007007105275988579, 0.01656224951148033, 0.04650169983506203, 0.01974729634821415, 0.018473278731107712, 0.010829162783920765, 0.13701686263084412, 0.8563553690910339, 0.9453837275505066, 0.04545114189386368, 0.9853705763816833, 0.9789881706237793, 0.17030012607574463, 0.8174405694007874, 0.9777939319610596, 0.034241609275341034, 0.9196317791938782, 0.04402492567896843, 0.01810571551322937, 0.21324509382247925, 0.3731789290904999, 0.04928778111934662, 0.1217106431722641, 0.08650508522987366, 0.09354619681835175, 0.04325254261493683, 0.9952879548072815, 0.9714364409446716, 0.9877395629882812, 0.9311985969543457, 0.1745239794254303, 0.0981697365641594, 0.7199113965034485, 0.8920841813087463, 0.08362005650997162, 0.9154195785522461, 0.08237722516059875, 0.9112980365753174, 0.18162286281585693, 0.4005558490753174, 0.005631716921925545, 0.3569100499153137, 0.04646166414022446, 0.009151539765298367, 0.9660272598266602, 0.986346960067749, 0.3320075571537018, 0.14088153839111328, 0.13300006091594696, 0.002955556847155094, 0.051229652017354965, 0.03349630907177925, 0.18915563821792603, 0.11625190079212189, 0.5893931984901428, 0.2327183485031128, 0.05997895449399948, 0.0047983163967728615, 0.007197474595159292, 0.07917222380638123, 0.02559102140367031, 0.9982815980911255, 0.9932637810707092, 0.9978211522102356, 0.9938654899597168, 0.10117881000041962, 0.21155570447444916, 0.05288892611861229, 0.11497592180967331, 0.10577785223722458, 0.3702224791049957, 0.04369084909558296, 0.23043540120124817, 0.7681180238723755, 0.9915815591812134, 0.9927226901054382, 0.2342892736196518, 0.01115663256496191, 0.07251811027526855, 0.09762053191661835, 0.04183737188577652, 0.08088558167219162, 0.26775917410850525, 0.04183737188577652, 0.013945790939033031, 0.13666874170303345, 0.020830798894166946, 0.20830798149108887, 0.7160587310791016, 0.05207699537277222, 0.27738896012306213, 0.4221136271953583, 0.14472468197345734, 0.14472468197345734, 0.9647055864334106, 0.9676255583763123, 0.9721057415008545, 0.0841786339879036, 0.10042362660169601, 0.0029536362271755934, 0.06793363392353058, 0.4504295289516449, 0.04135090485215187, 0.12552954256534576, 0.12700635194778442, 0.9905579686164856, 0.25166359543800354, 0.7340188026428223, 0.9845346212387085, 0.0300738625228405, 0.12530776858329773, 0.0300738625228405, 0.7919450402259827, 0.020049242302775383, 0.9583619236946106, 0.9745466709136963, 0.5434063673019409, 0.11887014657258987, 0.06792579591274261, 0.2632124722003937, 0.9934004545211792, 0.9843365550041199, 0.8180292844772339, 0.9568115472793579, 0.907436728477478, 0.9948462843894958, 0.13899844884872437, 0.1806979775428772, 0.6741424202919006, 0.9577652812004089, 0.11889201402664185, 0.8782668113708496, 0.981050968170166, 0.994392454624176, 0.9849582314491272, 0.8729187250137329, 0.9957977533340454, 0.01544052641838789, 0.14668498933315277, 0.6678027510643005, 0.05790197104215622, 0.01544052641838789, 0.09264315664768219, 0.4107750952243805, 0.027385005727410316, 0.14175768196582794, 0.04993736371397972, 0.27707183361053467, 0.04993736371397972, 0.0418829508125782, 0.9591761827468872, 0.0327923484146595, 0.989635169506073, 0.9582014083862305, 0.925365686416626, 0.9534406065940857, 0.9686909914016724, 0.030192965641617775, 0.06389316916465759, 0.933550238609314, 0.9069133996963501, 0.2560996115207672, 0.09977907687425613, 0.126386821269989, 0.05321550741791725, 0.46230971813201904, 0.9981487989425659, 0.1437428742647171, 0.3585214614868164, 0.1153285875916481, 0.16797858476638794, 0.050142861902713776, 0.050142861902713776, 0.09025715291500092, 0.018385715782642365, 0.005850000772625208, 0.05342963710427284, 0.8548741936683655, 0.862192690372467, 0.9949489235877991, 0.9377341270446777, 0.0018845814047381282, 0.0452299527823925, 0.0565374419093132, 0.6671417951583862, 0.0866907387971878, 0.090459905564785, 0.0508836954832077, 0.9810009002685547, 0.2425403743982315, 0.6230778694152832, 0.010454326868057251, 0.0041817305609583855, 0.1108158603310585, 0.008363461121916771, 0.9532468318939209, 0.9037949442863464, 0.9370334148406982, 0.9950681328773499, 0.995364248752594, 0.9888322353363037, 0.9650924801826477, 0.9337913990020752, 0.05866558477282524, 0.7668430209159851, 0.07961758226156235, 0.0921887755393982, 0.2829452157020569, 0.21497513353824615, 0.16913485527038574, 0.3319469094276428, 0.6263810396194458, 0.354663223028183, 0.018591217696666718, 0.9322924017906189, 0.9986532926559448, 0.9866259694099426, 0.012918179854750633, 0.9970128536224365, 0.9969308972358704, 0.9982874989509583, 0.9846635460853577, 0.9828053116798401, 0.9919202923774719, 0.986184298992157, 0.9952690601348877, 0.9903384447097778, 0.06745853275060654, 0.09072009474039078, 0.14189553260803223, 0.353575736284256, 0.20935405790805817, 0.11165549606084824, 0.01163078099489212, 0.01163078099489212, 0.8002591133117676, 0.11659403890371323, 0.015899186953902245, 0.06359674781560898, 0.05317831039428711, 0.6543244123458862, 0.25201892852783203, 0.036993607878685, 0.9889715313911438, 0.43812650442123413, 0.5560836791992188, 0.14591707289218903, 0.25661277770996094, 0.5937315225601196, 0.9946399331092834, 0.7069908976554871, 0.28689485788345337, 0.0034154150635004044, 0.1768474280834198, 0.7958133816719055, 0.9971358180046082, 0.9781193733215332, 0.991747260093689, 0.8185192346572876, 0.060631051659584045, 0.013779784552752972, 0.08681264519691467, 0.01791371963918209, 0.0013779784785583615, 0.8983104228973389, 0.6621861457824707, 0.32310423254966736, 0.014202384278178215, 0.039713285863399506, 0.20991308987140656, 0.05673326551914215, 0.04538661241531372, 0.039713285863399506, 0.09644655138254166, 0.5105993747711182, 0.984124481678009, 0.005482587497681379, 0.008223881013691425, 0.9929459095001221, 0.9906681180000305, 0.8962761163711548, 0.0943448543548584, 0.1355668008327484, 0.1478910595178604, 0.2008853554725647, 0.3561709523200989, 0.14912348985671997, 0.00862697884440422, 0.05580299347639084, 0.9347001910209656, 0.9316820502281189, 0.0029767616651952267, 0.15181484818458557, 0.06548875570297241, 0.776934802532196, 0.9833528995513916, 0.7908437848091125, 0.2053152173757553, 0.9777953028678894, 0.983465850353241, 0.9799121618270874, 0.9473814368247986, 0.14626608788967133, 0.05572041496634483, 0.027860207483172417, 0.7661557197570801, 0.9702346920967102, 0.16038048267364502, 0.8369856476783752, 0.329162061214447, 0.658324122428894, 0.9948517084121704, 0.9844753742218018, 0.9976488947868347, 0.023762045428156853, 0.16633431613445282, 0.05127599090337753, 0.21510903537273407, 0.046273455023765564, 0.10005071759223938, 0.08754437416791916, 0.07378740608692169, 0.23636981844902039, 0.9958102703094482, 0.9745973944664001, 0.9859694838523865, 0.9442222118377686, 0.9201582074165344, 0.4296663701534271, 0.20789097249507904, 0.012008142657577991, 0.0953146293759346, 0.043154262006282806, 0.08105496317148209, 0.022140013054013252, 0.10882379114627838, 0.04989195987582207, 0.7982713580131531, 0.00907126534730196, 0.043088510632514954, 0.09978391975164413, 0.7473549842834473, 0.042978882789611816, 0.02865258790552616, 0.023877156898379326, 0.09073319286108017, 0.06446832418441772, 0.0399283841252327, 0.938317060470581, 0.177315354347229, 0.3180418014526367, 0.5009862184524536, 0.1179640144109726, 0.13144561648368835, 0.08763041347265244, 0.08763041347265244, 0.12807521224021912, 0.44489285349845886, 0.965295672416687, 0.9783996343612671, 0.43447360396385193, 0.1507357507944107, 0.0413784384727478, 0.3724059462547302, 0.9352544546127319, 0.05668208748102188, 0.9597612619400024, 0.9370806217193604, 0.8961695432662964, 0.9260942935943604, 0.9954577684402466, 0.9962517023086548, 0.9869023561477661, 0.9940312504768372, 0.9665232300758362, 0.8637202978134155, 0.2527613341808319, 0.7363047003746033, 0.07822880893945694, 0.06565631926059723, 0.3143121898174286, 0.1410912424325943, 0.0768318623304367, 0.012572486884891987, 0.015366372652351856, 0.2654191851615906, 0.019557202234864235, 0.011175544001162052, 0.9562771320343018, 0.15789008140563965, 0.8289229273796082, 0.05647512897849083, 0.9224271178245544, 0.9903636574745178, 0.9765942096710205, 0.29892897605895996, 0.19827693700790405, 0.1256258487701416, 0.1740598976612091, 0.2028176337480545, 0.9902236461639404, 0.8997299671173096, 0.1455976814031601, 0.11605612933635712, 0.02743144892156124, 0.09917523711919785, 0.1962403655052185, 0.02743144892156124, 0.11183590441942215, 0.2743144929409027, 0.976148784160614, 0.1710306704044342, 0.8123956322669983, 0.25411540269851685, 0.05336423218250275, 0.28460925817489624, 0.022870386019349098, 0.3837142586708069, 0.2264823168516159, 0.047680485993623734, 0.4911090135574341, 0.16211365163326263, 0.07390475273132324, 0.9753426313400269, 0.9574005007743835, 0.9739295244216919, 0.82576984167099, 0.9916553497314453, 0.34324774146080017, 0.07281012833118439, 0.5720795392990112, 0.14788131415843964, 0.010562951676547527, 0.10210853070020676, 0.09154557436704636, 0.20069606602191925, 0.06689868867397308, 0.00704196747392416, 0.3767452538013458, 0.1350187361240387, 0.1350187361240387, 0.0830884575843811, 0.0830884575843811, 0.1661769151687622, 0.0830884575843811, 0.15579085052013397, 0.1661769151687622, 0.9900456666946411, 0.9861688613891602, 0.9942785501480103, 0.983322262763977, 0.9863906502723694, 0.9761337041854858, 0.021572016179561615, 0.979850172996521, 0.9877095222473145, 0.9810876250267029, 0.9826862812042236, 0.008813329972326756, 0.004406664986163378, 0.996303141117096, 0.009857995435595512, 0.9829829931259155, 0.0056331404484808445, 0.024896414950489998, 0.8697147369384766, 0.10290517657995224, 0.9853448867797852, 0.22344641387462616, 0.5750998258590698, 0.08425028622150421, 0.11355473846197128, 0.9885472059249878, 0.9539533853530884, 0.9488813877105713, 0.9780076742172241, 0.9830964207649231, 0.9454202055931091, 0.9953509569168091, 0.003635985078290105, 0.13167281448841095, 0.011756501160562038, 0.8182525038719177, 0.03526950255036354, 0.07232148200273514, 0.010714294388890266, 0.9160721302032471, 0.996630072593689, 0.9968993663787842, 0.15801337361335754, 0.835941731929779, 0.0024664008524268866, 0.5302761793136597, 0.3009009063243866, 0.16524885594844818, 0.0974317193031311, 0.2878664433956146, 0.07971686124801636, 0.1992921531200409, 0.31001001596450806, 0.02657228708267212, 0.9886441230773926, 0.9845259785652161, 0.9530046582221985, 0.987810492515564, 0.945021390914917, 0.9882060289382935, 0.8764248490333557, 0.10955310612916946, 0.9883595705032349, 0.3930938243865967, 0.05505874752998352, 0.15109144151210785, 0.4007764458656311, 0.9957270622253418, 0.9429830312728882, 0.999100387096405, 0.9703988432884216, 0.9976665377616882, 0.09576685726642609, 0.8938239812850952, 0.6027724742889404, 0.2216232717037201, 0.04603768512606621, 0.07815700024366379, 0.04282575100660324, 0.007494506426155567, 0.002141287550330162, 0.9973189830780029, 0.9578750133514404, 0.020823370665311813, 0.01943514496088028, 0.9795196652412415, 0.9128962755203247, 0.959976077079773, 0.9938473105430603, 0.9938132762908936, 0.9918388724327087, 0.985779881477356, 0.8092866539955139, 0.43400946259498596, 0.28082963824272156, 0.022235779091715813, 0.0732957124710083, 0.12353210151195526, 0.04982461407780647, 0.014823852106928825, 0.0008235473651438951, 0.19302192330360413, 0.1080922782421112, 0.20846368372440338, 0.451671302318573, 0.0077208769507706165, 0.0270230695605278, 0.5934492945671082, 0.09473738819360733, 0.31102463603019714, 0.8698867559432983, 0.9381192326545715, 0.052938010543584824, 0.018906431272625923, 0.09831344336271286, 0.699537992477417, 0.12478245049715042, 0.9043541550636292, 0.9600796103477478, 0.9055016040802002, 0.986760675907135, 0.8825437426567078, 0.11457585543394089, 0.9564576745033264, 0.02898356504738331, 0.1610642522573471, 0.46435484290122986, 0.12527219951152802, 0.012244651094079018, 0.19120493531227112, 0.003767584916204214, 0.040501534938812256, 0.009864440187811852, 0.9889100790023804, 0.17582401633262634, 0.08791200816631317, 0.7032960653305054, 0.982240617275238, 0.9656603932380676, 0.021301332861185074, 0.007100444287061691, 0.09887584298849106, 0.8569239377975464, 0.665727436542511, 0.3313155174255371, 0.22280023992061615, 0.40645989775657654, 0.01806488446891308, 0.35226526856422424, 0.991426408290863, 0.26454415917396545, 0.2122885137796402, 0.18942667543888092, 0.11430919915437698, 0.0424577035009861, 0.14370299875736237, 0.03265977278351784, 0.8848974704742432, 0.009780717082321644, 0.0015443237498402596, 0.10346969217061996, 0.9924380779266357, 0.9562861919403076, 0.04115387797355652, 0.0021659936755895615, 0.9848983883857727, 0.27236807346343994, 0.1539163440465927, 0.15178845822811127, 0.07163847982883453, 0.14540483057498932, 0.03972034528851509, 0.0007092918967828155, 0.0021278755739331245, 0.015604421496391296, 0.14398625493049622, 0.002837167587131262, 0.9911854863166809, 0.9973864555358887, 0.3083719313144684, 0.1185385137796402, 0.06485259532928467, 0.08933337032794952, 0.10866030305624008, 0.07473080605268478, 0.034788478165864944, 0.06485259532928467, 0.0034358990378677845, 0.11209620535373688, 0.01589103229343891, 0.0038653863593935966, 0.0008589747594669461, 0.9788365364074707, 0.6962161660194397, 0.2610810399055481, 0.16436336934566498, 0.07305038720369339, 0.7548540234565735, 0.9847872257232666, 0.9631329774856567, 0.012142442166805267, 0.9875852465629578, 0.9886656999588013, 0.9932430982589722, 0.9972456097602844, 0.9415100812911987, 0.869893491268158, 0.12814295291900635, 0.9937883019447327, 0.973835825920105, 0.9723539352416992, 0.9861970543861389, 0.8766802549362183, 0.05872499197721481, 0.05872499197721481, 0.8886925578117371, 0.9608261585235596, 0.7930259704589844, 0.11014249920845032, 0.09126092493534088, 0.09574815630912781, 0.7659852504730225, 0.6156579852104187, 0.11308003962039948, 0.26699453592300415, 0.9672384858131409, 0.011485906317830086, 0.014931678771972656, 0.974004864692688, 0.9988014101982117, 0.5803936719894409, 0.3693414032459259, 0.9882650375366211, 0.9798816442489624, 0.9901787638664246, 0.9926093816757202, 0.01075748447328806, 0.1909453570842743, 0.09412799030542374, 0.2675924301147461, 0.30120956897735596, 0.041685253381729126, 0.037651196122169495, 0.02689371071755886, 0.008068113587796688, 0.012102169916033745, 0.008068113587796688, 0.9955182075500488, 0.9893064498901367, 0.026677774265408516, 0.06402665376663208, 0.1600666493177414, 0.41083770990371704, 0.3361399471759796, 0.6837056279182434, 0.12187795341014862, 0.028240013867616653, 0.007431582547724247, 0.12782321870326996, 0.03269896283745766, 0.9881756901741028, 0.9874997735023499, 0.9722933769226074, 0.23896415531635284, 0.04107196256518364, 0.10828062891960144, 0.007467629853636026, 0.6048780083656311, 0.9372293949127197, 0.6520982980728149, 0.2837582528591156, 0.01909911446273327, 0.03888033702969551, 0.006139000877737999, 0.9802851676940918, 0.6118422150611877, 0.11960825324058533, 0.038719337433576584, 0.005750396754592657, 0.001916798995807767, 0.08127227425575256, 0.03488574177026749, 0.07322172075510025, 0.01111743412911892, 0.02108478918671608, 0.0003833597875200212, 0.9870052337646484, 0.9941743612289429, 0.4345889091491699, 0.4196030795574188, 0.021295644342899323, 0.12383022904396057, 0.9411283135414124, 0.8808817863464355, 0.10614942014217377, 0.006337278988212347, 0.0047529591247439384, 0.9956288933753967, 0.3149610757827759, 0.6774634122848511, 0.002971330890432, 0.1465863734483719, 0.040239397436380386, 0.07760455459356308, 0.022993942722678185, 0.054610613733530045, 0.6380819082260132, 0.01724545657634735, 0.984829843044281, 0.00864298827946186, 0.23706483840942383, 0.11235885322093964, 0.13828781247138977, 0.12223655730485916, 0.018520690500736237, 0.01728597655892372, 0.06667448580265045, 0.2506466805934906, 0.012347126379609108, 0.01481655240058899, 0.0012347126612439752, 0.9891942143440247, 0.9357202649116516, 0.22373011708259583, 0.018840430304408073, 0.7536172270774841, 0.9665358662605286, 0.00991318840533495, 0.0198263768106699, 0.9931737184524536, 0.992408275604248, 0.9896202087402344, 0.41961732506752014, 0.5395079851150513, 0.11468099802732468, 0.8792209625244141, 0.27257803082466125, 0.14695511758327484, 0.03436853736639023, 0.49064046144485474, 0.045034632086753845, 0.00829585362225771, 0.9341398477554321, 0.2627880275249481, 0.05179034546017647, 0.05179034546017647, 0.6310749053955078, 0.0019181609386578202, 0.9949178099632263, 0.29913726449012756, 0.5982745289802551, 0.9801326394081116, 0.9786403179168701, 0.997651219367981, 0.6717796325683594, 0.07016364485025406, 0.014928435906767845, 0.08210639655590057, 0.1134561151266098, 0.047770995646715164, 0.9324003458023071, 0.9739143252372742, 0.02404726669192314, 0.33211028575897217, 0.036901142448186874, 0.6273194551467896, 0.03903485834598541, 0.28439682722091675, 0.03345844894647598, 0.6412869095802307, 0.9909991025924683, 0.20385804772377014, 0.07010138034820557, 0.2183617800474167, 0.05318035930395126, 0.15228921175003052, 0.042705439031124115, 0.2602614462375641, 0.9387377500534058, 0.9914042949676514, 0.8866609334945679, 0.9738026857376099, 0.2922460436820984, 0.005577214993536472, 0.217511385679245, 0.07808100432157516, 0.008923543617129326, 0.1182369515299797, 0.04907948896288872, 0.025655187666416168, 0.20301061868667603, 0.21693068742752075, 0.07747524231672287, 0.6972771883010864, 0.9897795915603638, 0.9968963265419006, 0.9973919987678528, 0.9820140600204468, 0.23891767859458923, 0.7615500688552856, 0.20961640775203705, 0.7739682793617249, 0.6575809121131897, 0.32879045605659485, 0.25975415110588074, 0.7245773673057556, 0.976224958896637, 0.9791461229324341, 0.9806568622589111, 0.9232599139213562, 0.020102081820368767, 0.02871726080775261, 0.004307589028030634, 0.02153794653713703, 0.9799241423606873, 0.9434816837310791, 0.09928079694509506, 0.8811171054840088, 0.9876309633255005, 0.8671589493751526, 0.0011756893945857882, 0.616061270236969, 0.029392234981060028, 0.09523084759712219, 0.004702757578343153, 0.2527732253074646, 0.014437739737331867, 0.3421116769313812, 0.257996141910553, 0.22723747789859772, 0.0219704732298851, 0.12742875516414642, 0.007532733958214521, 0.9787534475326538, 0.9780131578445435, 0.9681433439254761, 0.14277546107769012, 0.8328568339347839, 0.5872604250907898, 0.17212805151939392, 0.24047301709651947, 0.9280030727386475, 0.14803482592105865, 0.805967390537262, 0.038379400968551636, 0.8125423789024353, 0.9797369241714478, 0.07395820319652557, 0.02773432619869709, 0.05177074298262596, 0.03328119218349457, 0.09059879928827286, 0.04807283356785774, 0.25330686569213867, 0.4197128117084503, 0.01420400757342577, 0.08806484192609787, 0.7187227606773376, 0.17612968385219574, 0.9745597839355469, 0.9643718004226685, 0.8956805467605591, 0.011741377413272858, 0.9745343327522278, 0.966978132724762, 0.19181732833385468, 0.7574325203895569, 0.009836786426603794, 0.03442875295877457, 0.004918393213301897, 0.9266571998596191, 0.06725737452507019, 0.9875162243843079, 0.7492367029190063, 0.006417444907128811, 0.004813083913177252, 0.23904982209205627, 0.5524563193321228, 0.44722655415534973, 0.9889169335365295, 0.40155187249183655, 0.58225017786026, 0.04878073185682297, 0.20731811225414276, 0.1463422030210495, 0.585368812084198, 0.9774897694587708, 0.011744704097509384, 0.03523411229252815, 0.3053623139858246, 0.6342139840126038, 0.9987590909004211, 0.9934046268463135, 0.03681494668126106, 0.360260546207428, 0.5995576977729797, 0.029492126777768135, 0.19169881939888, 0.7766259908676147, 0.9523399472236633, 0.04664522036910057, 0.04636091738939285, 0.06597515195608139, 0.07667382806539536, 0.45112738013267517, 0.04101157933473587, 0.19614234566688538, 0.017831122502684593, 0.10342051088809967, 0.031480319797992706, 0.9601497650146484, 0.9952437281608582, 0.9959797263145447, 0.1947900950908661, 0.8008037209510803, 0.9923179149627686, 0.052409954369068146, 0.8582130074501038, 0.08516617119312286, 0.9862980246543884, 0.977744460105896, 0.01504222210496664, 0.9952449798583984, 0.9951580762863159, 0.9849398136138916, 0.9761500954627991, 0.061747901141643524, 0.9262185096740723, 0.11105737090110779, 0.8884589672088623, 0.9862695932388306, 0.986467182636261, 0.19247667491436005, 0.8058357238769531, 0.9632828831672668, 0.09487254172563553, 0.8953595757484436, 0.9668190479278564, 0.9492529034614563, 0.451346218585968, 0.20411546528339386, 0.017464425414800644, 0.0010915265884250402, 0.0513017475605011, 0.10778824239969254, 0.0013644081773236394, 0.1653662770986557, 0.9832662343978882, 0.976046085357666, 0.9647619128227234, 0.525271475315094, 0.10505429655313492, 0.350180983543396, 0.9744091033935547, 0.9032076001167297, 0.09032076597213745, 0.4803602695465088, 0.048386652022600174, 0.03786781430244446, 0.047685395926237106, 0.11009716987609863, 0.041374094784259796, 0.02734897844493389, 0.07152809947729111, 0.1346411257982254, 0.9747828841209412, 0.9957908987998962, 0.9951972961425781, 0.9859290719032288, 0.57706218957901, 0.05940345674753189, 0.0028287360910326242, 0.359249472618103, 0.9874303936958313, 0.9004437327384949, 0.9395716190338135, 0.9877564907073975, 0.12390416115522385, 0.8750731348991394, 0.9835004210472107, 0.2137882262468338, 0.6289711594581604, 0.024787040427327156, 0.12083682417869568, 0.009295140393078327, 0.9926952719688416, 0.33561524748802185, 0.58732670545578, 0.9336435794830322, 0.04913913458585739, 0.9445599913597107, 0.14804033935070038, 0.43273329734802246, 0.4099578559398651, 0.9468961954116821, 0.9861279726028442, 0.9829009771347046, 0.8672466278076172, 0.9736849665641785, 0.17080886662006378, 0.34992095828056335, 0.002372345421463251, 0.03677135333418846, 0.438883900642395, 0.5377814769744873, 0.16653570532798767, 0.07348566502332687, 0.026244880631566048, 0.02409757301211357, 0.09400439262390137, 0.006203335709869862, 0.0174170583486557, 0.05439848080277443, 0.13251729309558868, 0.08424313366413116, 0.5224967002868652, 0.010412072762846947, 0.017984488978981972, 0.0009465520270168781, 0.007572416216135025, 0.08235003054141998, 0.0700448527932167, 0.0700448527932167, 0.9810696840286255, 0.04864842817187309, 0.3574170172214508, 0.041698653250932693, 0.1787085086107254, 0.005956950131803751, 0.04467712715268135, 0.023827800527215004, 0.03177040070295334, 0.00893542543053627, 0.25813451409339905, 0.9827530384063721, 0.6887466907501221, 0.14529724419116974, 0.0009434885578230023, 0.028304656967520714, 0.012265351600944996, 0.06887466460466385, 0.042456984519958496, 0.012265351600944996, 0.9526790380477905, 0.9665669798851013, 0.9778398871421814, 0.5364934802055359, 0.13220427930355072, 0.20726220309734344, 0.0008529308834113181, 0.0801755040884018, 0.0238820631057024, 0.019617410376667976, 0.9184783697128296, 0.0207175575196743, 0.0207175575196743, 0.0034529261756688356, 0.03452926129102707, 0.41267240047454834, 0.04351307824254036, 0.04351307824254036, 0.0028072954155504704, 0.057549554854631424, 0.061760496348142624, 0.3775812089443207, 0.9943687319755554, 0.34059590101242065, 0.04579440876841545, 0.0028621505480259657, 0.06582946330308914, 0.02575935423374176, 0.034345805644989014, 0.09731312096118927, 0.04579440876841545, 0.33773377537727356, 0.9719955325126648, 0.35345518589019775, 0.06686989963054657, 0.5731706023216248, 0.004776421468704939, 0.9941156506538391, 0.9930702447891235, 0.9821182489395142, 0.8380067944526672, 0.9428813457489014, 0.9887505769729614, 0.323781818151474, 0.39140209555625916, 0.02386598289012909, 0.027843646705150604, 0.05648282542824745, 0.10580585151910782, 0.020683851093053818, 0.02386598289012909, 0.025457046926021576, 0.9882916212081909, 0.2728176712989807, 0.05224168300628662, 0.03980318829417229, 0.0008292330312542617, 0.14096961915493011, 0.48593056201934814, 0.00746309757232666, 0.2456221729516983, 0.19035717844963074, 0.15658414363861084, 0.046054158359766006, 0.036843325942754745, 0.09824886918067932, 0.052194710820913315, 0.11052998155355453, 0.05833526700735092, 0.9311176538467407, 0.062394481152296066, 0.3232629895210266, 0.37496641278266907, 0.0950225442647934, 0.03959272801876068, 0.011644920334219933, 0.03819533810019493, 0.04518229141831398, 0.07173270732164383, 0.9890523552894592, 0.09725043922662735, 0.8947040438652039, 0.2108934074640274, 0.2870616018772125, 0.10610712319612503, 0.13692662119865417, 0.019372254610061646, 0.15850026905536652, 0.03478200361132622, 0.04138617962598801, 0.00440278509631753, 0.9645151495933533, 0.9926417469978333, 0.992508053779602, 0.9929254055023193, 0.1628156304359436, 0.814078152179718, 0.9870604872703552, 0.9707183241844177, 0.015167473815381527, 0.01011164952069521, 0.7824016213417053, 0.09796568751335144, 0.02912493422627449, 0.07148847728967667, 0.017210189253091812, 0.25019481778144836, 0.5150351524353027, 0.0012204624945297837, 0.1720852106809616, 0.03905479982495308, 0.003661387600004673, 0.01830693706870079, 0.9570935368537903, 0.034698255360126495, 0.008674563840031624, 0.9959273934364319, 0.04329663887619972, 0.9473304152488708, 0.008659327402710915, 0.9464489817619324, 0.946854293346405, 0.971011221408844, 0.23897293210029602, 0.7510578036308289, 0.9941822290420532, 0.996392011642456, 0.37272149324417114, 0.09318037331104279, 0.5031740069389343, 0.9013884663581848, 0.9877527356147766, 0.994745135307312, 0.9109485149383545, 0.07134274393320084, 0.35671374201774597, 0.07134274393320084, 0.4637278616428375, 0.9512255191802979, 0.0460270419716835, 0.9390555620193481, 0.05725948512554169, 0.9403367638587952, 0.23462772369384766, 0.6799415349960327, 0.08379561454057693, 0.0026816001627594233, 0.05899520218372345, 0.1448063999414444, 0.3191104233264923, 0.453190416097641, 0.024134401232004166, 0.060170769691467285, 0.00547007005661726, 0.01094014011323452, 0.06564083695411682, 0.1258116066455841, 0.7275192737579346, 0.06163587421178818, 0.9348107576370239, 0.021913696080446243, 0.9642026424407959, 0.9373445510864258, 0.06124694645404816, 0.9961978197097778, 0.08960187435150146, 0.9034855961799622, 0.916591465473175, 0.02882363088428974, 0.04611780866980553, 0.8091947436332703, 0.19039875268936157, 0.9862859845161438, 0.01195498090237379, 0.992897093296051, 0.9939202070236206, 0.998984158039093, 0.9927045702934265, 0.9872778654098511, 0.2863359749317169, 0.7098746299743652, 0.9095633625984192, 0.9439036846160889, 0.5140683650970459, 0.20599031448364258, 0.03584413230419159, 0.039473917335271835, 0.057622842490673065, 0.07804038375616074, 0.021324988454580307, 0.04537231847643852, 0.0018148926319554448, 0.9677223563194275, 0.23715578019618988, 0.06775879114866257, 0.6860578060150146, 0.964383602142334, 0.02864505723118782, 0.096895731985569, 0.3489650785923004, 0.15306717157363892, 0.1011085957288742, 0.014042859897017479, 0.15728002786636353, 0.05968215689063072, 0.0498521514236927, 0.0119364308193326, 0.0070214299485087395, 0.9637157917022705, 0.9971904158592224, 0.8919404149055481, 0.9031208753585815, 0.19427894055843353, 0.032666370272636414, 0.383400022983551, 0.005157847888767719, 0.0928412601351738, 0.14098116755485535, 0.003438565181568265, 0.04728027060627937, 0.010315695777535439, 0.00859641283750534, 0.07908700406551361, 0.0017192825907841325, 0.9963993430137634, 0.002008869545534253, 0.039349619299173355, 0.32085075974464417, 0.5841905474662781, 0.05297064408659935, 0.9564118385314941, 0.02957974746823311, 0.023132476955652237, 0.971563994884491, 0.9885025024414062, 0.9868360757827759, 0.9792602062225342, 0.24843207001686096, 0.15599222481250763, 0.15079247951507568, 0.07337412238121033, 0.017332470044493675, 0.19585691392421722, 0.06528563797473907, 0.002888744929805398, 0.08377360552549362, 0.004044243134558201, 0.002888744929805398, 0.9412144422531128, 0.29651975631713867, 0.06446082144975662, 0.6317160129547119, 0.9422606825828552, 0.18628360331058502, 0.7236402034759521, 0.08597704768180847, 0.4970911145210266, 0.2716566324234009, 0.009730984456837177, 0.0016218307428061962, 0.12569187581539154, 0.03892393782734871, 0.01540739182382822, 0.0397348515689373, 0.13883882761001587, 0.05672984570264816, 0.07613742351531982, 0.11495257914066315, 0.3627724349498749, 0.004478672053664923, 0.01642179675400257, 0.011943125165998936, 0.21646913886070251, 0.06884804368019104, 0.17393189668655396, 0.03261223062872887, 0.7174690365791321, 0.9937432408332825, 0.972881019115448, 0.9703619480133057, 0.9404974579811096, 0.04610281437635422, 0.9818379878997803, 0.840772807598114, 0.9939082264900208, 0.9382377862930298, 0.05646801367402077, 0.08493677526712418, 0.11000008136034012, 0.3139875829219818, 0.3383546769618988, 0.034810151904821396, 0.0006962030311115086, 0.06683549284934998, 0.03272154554724693, 0.0041772183030843735, 0.013227858580648899, 0.0006962030311115086, 0.965994119644165, 0.031161099672317505, 0.18205760419368744, 0.394458144903183, 0.017338819801807404, 0.3901234269142151, 0.008669409900903702, 0.004334704950451851, 0.9101025462150574, 0.08388041704893112, 0.0473313182592392, 0.04996083676815033, 0.04207228124141693, 0.0473313182592392, 0.8125209808349609, 0.19020038843154907, 0.007315399125218391, 0.0048769330605864525, 0.1414310485124588, 0.5706011652946472, 0.017069265246391296, 0.0268231313675642, 0.036576997488737106, 0.9763110876083374, 0.9812003970146179, 0.9784148335456848, 0.9921891093254089, 0.5578913688659668, 0.4368394613265991, 0.05498352646827698, 0.06598023325204849, 0.029324546456336975, 0.04398681968450546, 0.6304777264595032, 0.05498352646827698, 0.12096375226974487, 0.25332358479499817, 0.7139119505882263, 0.034636277705430984, 0.1420087367296219, 0.19223134219646454, 0.0034636277705430984, 0.0034636277705430984, 0.2008904069662094, 0.07793162763118744, 0.30479922890663147, 0.03983172029256821, 0.9580990076065063, 0.9891767501831055, 0.9477083086967468, 0.9948548078536987, 0.9788069128990173, 0.8444185853004456, 0.06064252927899361, 0.09496849030256271, 0.9873295426368713, 0.09623835980892181, 0.8902047872543335, 0.7010844945907593, 0.031509414315223694, 0.2638913691043854, 0.9969367980957031, 0.13307037949562073, 0.13940705358982086, 0.006336684338748455, 0.6590151786804199, 0.05703015998005867, 0.9676061272621155, 0.04008876532316208, 0.9220415949821472, 0.9811103343963623, 0.13890133798122406, 0.1992572844028473, 0.14551569521427155, 0.20091086626052856, 0.053741589188575745, 0.11327073723077774, 0.030591366812586784, 0.02315022237598896, 0.013228698633611202, 0.006614349316805601, 0.07523822784423828, 0.9609248638153076, 0.939913809299469, 0.9945923686027527, 0.9937800168991089, 0.9859689474105835, 0.9564916491508484, 0.038042280822992325, 0.030183862894773483, 0.06036772578954697, 0.05131256580352783, 0.5493463277816772, 0.09658835828304291, 0.00905515905469656, 0.20223188400268555, 0.9942191243171692, 0.9506669044494629, 0.14329418540000916, 0.5720266699790955, 0.008970261551439762, 0.06831199675798416, 0.00046001342707313597, 0.07935231178998947, 0.005750167649239302, 0.11730342358350754, 0.004370127338916063, 0.23480142652988434, 0.5670019388198853, 0.031306855380535126, 0.06609225273132324, 0.07131006568670273, 0.015653427690267563, 0.003478539641946554, 0.012174888513982296, 0.056132350116968155, 0.04677695780992508, 0.0018710782751441002, 0.06174558401107788, 0.04677695780992508, 0.04116372391581535, 0.028066175058484077, 0.5968739986419678, 0.024324018508195877, 0.08794067800045013, 0.005613234825432301, 0.024735895916819572, 0.9461480379104614, 0.024735895916819572, 0.9815448522567749, 0.05691063404083252, 0.08242229372262955, 0.3650130331516266, 0.1511075347661972, 0.025511663407087326, 0.3022150695323944, 0.017661919817328453, 0.9932534098625183, 0.9660080671310425, 0.2891532778739929, 0.049854014068841934, 0.18944525718688965, 0.09472262859344482, 0.06481022387742996, 0.3090949058532715, 0.9757618308067322, 0.9862849712371826, 0.9937680959701538, 0.9936744570732117, 0.9316171407699585, 0.0662287101149559, 0.9874476790428162, 0.9048674702644348, 0.9820632338523865, 0.17964543402194977, 0.8084044456481934, 0.9952776432037354, 0.07026442885398865, 0.91343754529953, 0.9893026351928711, 0.9924445152282715, 0.9885777831077576, 0.011074584908783436, 0.03322375565767288, 0.049044590443372726, 0.006328334100544453, 0.05062667280435562, 0.8432505130767822, 0.004746250342577696, 0.1515701562166214, 0.03422551974654198, 0.053782958537340164, 0.7529613971710205, 0.003543703118339181, 0.10276739299297333, 0.8930132389068604, 0.9974085688591003, 0.9837439060211182, 0.9913209080696106, 0.003941729664802551, 0.04007425531744957, 0.10511279851198196, 0.001313910004682839, 0.02167951501905918, 0.0650385394692421, 0.08737501502037048, 0.6510424017906189, 0.01839474029839039, 0.004598685074597597, 0.8518229722976685, 0.13449835777282715, 0.9357095956802368, 0.263848215341568, 0.37055689096450806, 0.05262346565723419, 0.039467599242925644, 0.1461762934923172, 0.011694103479385376, 0.01827203668653965, 0.06724109500646591, 0.024119088426232338, 0.005116170272231102, 0.030179526656866074, 0.1701027899980545, 0.038410305976867676, 0.008230780251324177, 0.06584624201059341, 0.4197697937488556, 0.26887214183807373, 0.009379718452692032, 0.14538563787937164, 0.20400887727737427, 0.21573352813720703, 0.42208734154701233, 0.9360097646713257, 0.9735779762268066, 0.5904228091239929, 0.40875425934791565, 0.9958245158195496, 0.30076953768730164, 0.1698463261127472, 0.5272313356399536, 0.11907027661800385, 0.8767902255058289, 0.13839223980903625, 0.11289893090724945, 0.026707274839282036, 0.03399107605218887, 0.04248884692788124, 0.008497769013047218, 0.001213966985233128, 0.03034917637705803, 0.604555606842041, 0.916568398475647, 0.012460888363420963, 0.05233573168516159, 0.2641708254814148, 0.14454631507396698, 0.05482790991663933, 0.0199374221265316, 0.0398748442530632, 0.00747653329744935, 0.40124061703681946, 0.00249217776581645, 0.130920872092247, 0.1450200378894806, 0.04229750856757164, 0.026184173300862312, 0.04834001138806343, 0.008056668564677238, 0.6002218127250671, 0.08974375575780869, 0.15187405049800873, 0.006903365720063448, 0.006903365720063448, 0.7386601567268372, 0.16189587116241455, 0.13578364253044128, 0.6945855617523193, 0.993277907371521, 0.36720749735832214, 0.5770403742790222, 0.048023249953985214, 0.2107687145471573, 0.034683458507061005, 0.04001937434077263, 0.08537466824054718, 0.019565027207136154, 0.2596812844276428, 0.15740954875946045, 0.10582901537418365, 0.038240738213062286, 0.9831412434577942, 0.950372576713562, 0.87445467710495, 0.10751492530107498, 0.014335323125123978, 0.5909141302108765, 0.10270295292139053, 0.3051319718360901, 0.4766891598701477, 0.4766891598701477, 0.7751362919807434, 0.05442845821380615, 0.04879792779684067, 0.05442845821380615, 0.06568951904773712, 0.07840101420879364, 0.040833860635757446, 0.009800126776099205, 0.008166772313416004, 0.1584353744983673, 0.024500316008925438, 0.6811087727546692, 0.12382227182388306, 0.8711780905723572, 0.9974660277366638, 0.9933984279632568, 0.929117739200592, 0.9980911612510681, 0.12900520861148834, 0.8056243658065796, 0.06318622827529907, 0.5854724645614624, 0.1804286241531372, 0.08008821308612823, 0.06535934656858444, 0.03590161353349686, 0.04418660327792168, 0.001841108431108296, 0.001841108431108296, 0.0046027712523937225, 0.22396908700466156, 0.20431222021579742, 0.14951127767562866, 0.03335709869861603, 0.03514408692717552, 0.32880568504333496, 0.009530599229037762, 0.015487223863601685, 0.9432116746902466, 0.05548303946852684, 0.9690309762954712, 0.9762811064720154, 0.1549353450536728, 0.8410775661468506, 0.6917617917060852, 0.018550705164670944, 0.2668907940387726, 0.019149115309119225, 0.0029920493252575397, 0.06638707965612411, 0.9199352860450745, 0.9697780609130859, 0.9786149859428406, 0.014182825572788715, 0.9801170229911804, 0.908606231212616, 0.060305166989564896, 0.10445716977119446, 0.7462764382362366, 0.08722712099552155, 0.9883589744567871, 0.992526650428772, 0.9241880774497986, 0.994792103767395, 0.9829004406929016, 0.9949705004692078, 0.09601219743490219, 0.48446521162986755, 0.017616916447877884, 0.049327366054058075, 0.11891418695449829, 0.0687059760093689, 0.006165920756757259, 0.15767140686511993, 0.9643718600273132, 0.824610710144043, 0.9495702385902405, 0.9952242374420166, 0.9888800382614136, 0.8296452760696411, 0.9878000617027283, 0.99261474609375, 0.6502202153205872, 0.20744812488555908, 0.0019448262173682451, 0.0032413769513368607, 0.06482753902673721, 0.05575168505311012, 0.015558609738945961, 0.23671235144138336, 0.47741422057151794, 0.043884873390197754, 0.0039895339868962765, 0.18085888028144836, 0.05718332156538963, 0.0719478651881218, 0.9209326505661011, 0.9849545359611511, 0.9854453802108765, 0.08374807983636856, 0.900291919708252, 0.9886655211448669, 0.9880796074867249, 0.9748153686523438, 0.1795666217803955, 0.8160052299499512, 0.002272995188832283, 0.9942888021469116, 0.7289551496505737, 0.06418472528457642, 0.015282077714800835, 0.1192002072930336, 0.03056415542960167, 0.0397334024310112, 0.005988881457597017, 0.00898332241922617, 0.16768868267536163, 0.04491661116480827, 0.08084990084171295, 0.6887213587760925, 0.03833027929067612, 0.9582569599151611, 0.9904376864433289, 0.08875738084316254, 0.22530719637870789, 0.6673872470855713, 0.01706872694194317, 0.03573477268218994, 0.15187278389930725, 0.03573477268218994, 0.7682976126670837, 0.9367983341217041, 0.03021930158138275, 0.02417544089257717, 0.006043860223144293, 0.9860549569129944, 0.9858447313308716, 0.9778461456298828, 0.9844532012939453, 0.9936366081237793, 0.9846364259719849, 0.989996612071991, 0.9594131112098694, 0.4460863173007965, 0.33443784713745117, 0.01471729576587677, 0.020807210355997086, 0.020299717783927917, 0.01979222521185875, 0.0005074929795227945, 0.0005074929795227945, 0.01725476048886776, 0.00862738024443388, 0.01217983104288578, 0.10505104064941406, 0.736108124256134, 0.12060528248548508, 0.006238204427063465, 0.0623820424079895, 0.07277905195951462, 0.9664004445075989, 0.9959156513214111, 0.9688551425933838, 0.9911497831344604, 0.9676202535629272, 0.30829018354415894, 0.6606218218803406, 0.9843413233757019, 0.9809847474098206, 0.9929705858230591, 0.9893465638160706, 0.9809992909431458, 0.8477209210395813, 0.14599637687206268, 0.004709560889750719, 0.5055091381072998, 0.49445974826812744, 0.9920951128005981, 0.9901884198188782, 0.32080698013305664, 0.21369630098342896, 0.007875785231590271, 0.031503140926361084, 0.12916287779808044, 0.01207620371133089, 0.28405332565307617, 0.9962638020515442, 0.002887721173465252, 0.9846424460411072, 0.9925052523612976, 0.966694176197052, 0.030209193006157875, 0.9847680926322937, 0.00834549218416214, 0.9940798282623291, 0.951624870300293, 0.38556545972824097, 0.007868682965636253, 0.4170401692390442, 0.12589892745018005, 0.02557321824133396, 0.035409070551395416, 0.9813874363899231, 0.9870648980140686, 0.9911947250366211, 0.9939731359481812, 0.9367077350616455, 0.9816287755966187, 0.9920627474784851, 0.9980657696723938, 0.9733016490936279, 0.998875617980957, 0.9847522377967834, 0.27328041195869446, 0.07070891559123993, 0.015288415364921093, 0.0592426098883152, 0.0296213049441576, 0.05733155459165573, 0.08981943875551224, 0.03822103887796402, 0.17963887751102448, 0.03153235465288162, 0.15479519963264465, 0.03187965974211693, 0.967016339302063, 0.009800137020647526, 0.6095685362815857, 0.0666409283876419, 0.027440382167696953, 0.045080628246068954, 0.24108336865901947, 0.9951010942459106, 0.0500665120780468, 0.9416355490684509, 0.007702540140599012, 0.9371432065963745, 0.05248001962900162, 0.9845682382583618, 0.14476145803928375, 0.09832853078842163, 0.07374639809131622, 0.01638808846473694, 0.6637175679206848, 0.14983807504177094, 0.045602891594171524, 0.8013079762458801, 0.18363240361213684, 0.01596803404390812, 0.7984017133712769, 0.9767579436302185, 0.9850798845291138, 0.3616020977497101, 0.006844203453511, 0.16882368922233582, 0.006844203453511, 0.0695827379822731, 0.0011407005367800593, 0.3832753896713257, 0.9851618409156799, 0.007881294935941696, 0.9769369959831238, 0.9857351183891296, 0.023926960304379463, 0.3050687611103058, 0.6699548959732056, 0.0027286505792289972, 0.043658409267663956, 0.2319353073835373, 0.08731681853532791, 0.21556340157985687, 0.4147548973560333, 0.2729978859424591, 0.6824946999549866, 0.9697837233543396, 0.9988580942153931, 0.9941763281822205, 0.44262585043907166, 0.03404814377427101, 0.09079504758119583, 0.41992709040641785, 0.9647185802459717, 0.056863997131586075, 0.47765758633613586, 0.4624938368797302, 0.9908351898193359, 0.9876644611358643, 0.9822728037834167, 0.9259900450706482, 0.9977542757987976, 0.9922695755958557, 0.9712648391723633, 0.023981848731637, 0.9901837706565857, 0.9850538969039917, 0.9898899793624878, 0.009849651716649532, 0.12417402118444443, 0.19315959513187408, 0.682957112789154, 0.8582393527030945, 0.9933595657348633, 0.14693602919578552, 0.7180458307266235, 0.05821993201971054, 0.0027723778039216995, 0.036040909588336945, 0.03881328925490379, 0.9891404509544373, 0.8099076151847839, 0.17997945845127106, 0.9871195554733276, 0.9862356781959534, 0.989477276802063, 0.9890441298484802, 0.1928710788488388, 0.6658644676208496, 0.1377650648355484, 0.9884026646614075, 0.9698338508605957, 0.7154296040534973, 0.28157469630241394, 0.9777155518531799, 0.7149691581726074, 0.022607721388339996, 0.25716283917427063, 0.004709941800683737, 0.9957534670829773, 0.9644423127174377, 0.44111108779907227, 0.1963655799627304, 0.00189725193195045, 0.000948625965975225, 0.05502030625939369, 0.06735244393348694, 0.23715649545192719, 0.5004733204841614, 0.3190739154815674, 0.06381478160619736, 0.043134067207574844, 0.07267794758081436, 0.39806684851646423, 0.020046532154083252, 0.03436548262834549, 0.08304991573095322, 0.028637902811169624, 0.08018612861633301, 0.040093064308166504, 0.025774111971259117, 0.28637900948524475, 0.14065448939800262, 0.7735996842384338, 0.008053912781178951, 0.016107825562357903, 0.5745124816894531, 0.060404349118471146, 0.04832347854971886, 0.10335855185985565, 0.08053912967443466, 0.006711594294756651, 0.06980057805776596, 0.032215651124715805, 0.12237413227558136, 0.06501126289367676, 0.6730577349662781, 0.14149509370326996, 0.25549912452697754, 0.7381085753440857, 0.894241988658905, 0.04150797426700592, 0.008738520555198193, 0.05388754606246948, 0.288177490234375, 0.5501570105552673, 0.03929692879319191, 0.11976207047700882, 0.037111613899469376, 0.9602630734443665, 0.95838862657547, 0.022550320252776146, 0.010442138649523258, 0.16707421839237213, 0.08353710919618607, 0.0626528337597847, 0.46989622712135315, 0.19840063154697418, 0.8087877035140991, 0.17753876745700836, 0.9825822710990906, 0.01903454400599003, 0.4237690567970276, 0.022039998322725296, 0.09316908568143845, 0.13223999738693237, 0.01202181726694107, 0.05409817770123482, 0.007012726739048958, 0.2374309003353119, 0.823908805847168, 0.05570913851261139, 0.10848621279001236, 0.008796179667115211, 0.29067832231521606, 0.16956235468387604, 0.25282958149909973, 0.021195294335484505, 0.010597647167742252, 0.01968134380877018, 0.2331482321023941, 0.9924973249435425, 0.9937396049499512, 0.16227096319198608, 0.8113548755645752, 0.5469175577163696, 0.1961405724287033, 0.03748761862516403, 0.014727278612554073, 0.008702483028173447, 0.07296697050333023, 0.055562008172273636, 0.03681819885969162, 0.02610744908452034, 0.0013388434890657663, 0.0013388434890657663, 0.9842408299446106, 0.3785346448421478, 0.14559024572372437, 0.46588876843452454, 0.5812307000160217, 0.18749378621578217, 0.018749378621578217, 0.18749378621578217, 0.9607574343681335, 0.6152697801589966, 0.18931378424167633, 0.19209781289100647, 0.0027840263210237026, 0.9751688241958618, 0.9910199642181396, 0.9911834001541138, 0.9589131474494934, 0.9847689867019653, 0.9838459491729736, 0.018578387796878815, 0.09753653407096863, 0.08360274136066437, 0.060379758477211, 0.738490879535675, 0.5220708250999451, 0.23520998656749725, 0.12396202236413956, 0.029401248320937157, 0.005562398582696915, 0.07231117784976959, 0.007151654921472073, 0.003178513376042247, 0.06620590388774872, 0.9158483743667603, 0.989548921585083, 0.09515303373336792, 0.9039538502693176, 0.10690858960151672, 0.8730868101119995, 0.9741207957267761, 0.9828426241874695, 0.10642408579587936, 0.1603584587574005, 0.231628879904747, 0.051526591181755066, 0.36453860998153687, 0.026485631242394447, 0.05586060509085655, 0.0033708985429257154, 0.5416726469993591, 0.2778710424900055, 0.02462148480117321, 0.037283964455127716, 0.059091564267873764, 0.03587702289223671, 0.0028138840571045876, 0.01125553622841835, 0.0021104130428284407, 0.006331238895654678, 0.11585990339517593, 0.6238610148429871, 0.017824601382017136, 0.23766134679317474, 0.9811369776725769, 0.9094817042350769, 0.058637719601392746, 0.9394510984420776, 0.9984074831008911, 0.9720683097839355, 0.5207880735397339, 0.40242716670036316, 0.07496192306280136, 0.9618540406227112, 0.9836777448654175, 0.8803836107254028, 0.9027233123779297, 0.09158062934875488, 0.08830729126930237, 0.14450284838676453, 0.12041903287172318, 0.016055870801210403, 0.05619554966688156, 0.05351957306265831, 0.5164638757705688, 0.9898290634155273, 0.21361637115478516, 0.05340409278869629, 0.5637098550796509, 0.16021227836608887, 0.005933788139373064, 0.09524249285459518, 0.20572377741336823, 0.03809699788689613, 0.12952978909015656, 0.525738537311554, 0.029614968225359917, 0.10521107167005539, 0.25406527519226074, 0.021821556612849236, 0.58216792345047, 0.006234730128198862, 0.9707627892494202, 0.2669079303741455, 0.22476458549499512, 0.04916725307703018, 0.10887034237384796, 0.010535839945077896, 0.3336349129676819, 0.9487738013267517, 0.5868244767189026, 0.24347983300685883, 0.007608744781464338, 0.0009510930976830423, 0.06182105466723442, 0.07989182323217392, 0.019021863117814064, 0.44546791911125183, 0.2662128508090973, 0.04119052737951279, 0.0015255750622600317, 0.20595262944698334, 0.03737659007310867, 0.0015255750622600317, 0.4566240906715393, 0.43167194724082947, 0.0006238034111447632, 0.06175653636455536, 0.043978139758110046, 0.0037428203504532576, 0.0009357050876133144, 0.11894889920949936, 0.08071532100439072, 0.008496349677443504, 0.0785912349820137, 0.063722625374794, 0.06584671139717102, 0.0785912349820137, 0.14656203985214233, 0.33985400199890137, 0.01699269935488701, 0.3126124441623688, 0.6252248883247375, 0.4992203712463379, 0.14923201501369476, 0.06252036243677139, 0.048068415373563766, 0.024819640442728996, 0.0816848948597908, 0.052152663469314575, 0.013823596760630608, 0.00408424437046051, 0.06471956521272659, 0.9793517589569092, 0.02225799486041069, 0.9809188842773438, 0.9887527823448181, 0.9880114793777466, 0.9963779449462891, 0.9543787240982056, 0.9938853979110718, 0.05373610928654671, 0.08304671198129654, 0.024425502866506577, 0.8060415983200073, 0.02931060455739498, 0.981738269329071, 0.9319345355033875, 0.9825268983840942, 0.8919994831085205, 0.09227580577135086, 0.053981974720954895, 0.8996995687484741, 0.04198598116636276, 0.9882084131240845, 0.08243272453546524, 0.914253830909729, 0.9848127961158752, 0.10717084258794785, 0.4393039047718048, 0.08110225945711136, 0.010620533488690853, 0.2713063657283783, 0.07530923932790756, 0.005793018266558647, 0.00868952739983797, 0.340316504240036, 0.6582437753677368, 0.996374249458313, 0.9989314675331116, 0.9954705238342285, 0.9504403471946716, 0.9743450880050659, 0.45761600136756897, 0.1944867968559265, 0.3432120084762573, 0.9533747434616089, 0.9700686931610107, 0.13296140730381012, 0.10395164787769318, 0.49074846506118774, 0.04593212157487869, 0.22240817546844482, 0.8118595480918884, 0.18106219172477722, 0.01672878861427307, 0.03345757722854614, 0.8333978652954102, 0.015207990072667599, 0.0060831960290670395, 0.012166392058134079, 0.010645593516528606, 0.05322796478867531, 0.019770387560129166, 0.9431309700012207, 0.05451624095439911, 0.027873298153281212, 0.9476921558380127, 0.9969346523284912, 0.9592270255088806, 0.18115635216236115, 0.08811680972576141, 0.15851180255413055, 0.19641681015491486, 0.05661135911941528, 0.11273044347763062, 0.15260453522205353, 0.035443633794784546, 0.0004922726657241583, 0.01722954399883747, 0.8818873167037964, 0.08379925042390823, 0.03192352131009102, 0.02364323101937771, 0.0952119305729866, 0.3584825098514557, 0.1635856032371521, 0.0006390062626451254, 0.2300422489643097, 0.03003329411149025, 0.08882186561822891, 0.008307081647217274, 0.9944349527359009, 0.9671728014945984, 0.954804003238678, 0.05220324918627739, 0.344066858291626, 0.334575355052948, 0.06406762450933456, 0.00474574975669384, 0.19694861769676208, 0.05533406510949135, 0.46726542711257935, 0.4734136760234833, 0.5391575694084167, 0.3921146094799042, 0.9740498065948486, 0.8043327927589417, 0.011431085877120495, 0.016627034172415733, 0.04884191229939461, 0.11327166855335236, 0.004156758543103933, 0.994240403175354, 0.9367380142211914, 0.03936164826154709, 0.049719974398612976, 0.8970312476158142, 0.010358327999711037, 0.9929264187812805, 0.9945836663246155, 0.9954315423965454, 0.9883455634117126, 0.990313708782196, 0.5665850043296814, 0.42923104763031006, 0.9917504787445068, 0.9853243231773376, 0.9666556119918823, 0.9640485048294067, 0.9884496927261353, 0.9729260206222534, 0.38876065611839294, 0.3018927574157715, 0.1308380663394928, 0.00214488641358912, 0.00857954565435648, 0.06488281488418579, 0.00214488641358912, 0.03592684864997864, 0.06381037086248398, 0.9484758973121643, 0.09937754273414612, 0.660976231098175, 0.013866634108126163, 0.14791075885295868, 0.07857759296894073, 0.952368438243866, 0.042516447603702545, 0.22510141134262085, 0.04657270386815071, 0.015524234622716904, 0.003881058655679226, 0.03881058841943741, 0.6714231371879578, 0.9642648100852966, 0.03934911638498306, 0.07869823276996613, 0.8755177855491638, 0.00537499925121665, 0.9889998435974121, 0.1270834356546402, 0.15431559085845947, 0.7171136736869812, 0.9910411834716797, 0.9890815615653992, 0.7925258874893188, 0.010382435284554958, 0.14881490170955658, 0.0311473049223423, 0.020764870569109917, 0.03383795917034149, 0.9136248826980591, 0.8033913373947144, 0.4799124002456665, 0.28832384943962097, 0.05156705901026726, 0.027853738516569138, 0.02521892637014389, 0.04516822472214699, 0.043286215513944626, 0.009033645503222942, 0.0037640188820660114, 0.010539252310991287, 0.00037640187656506896, 0.014303271658718586, 0.5547248721122742, 0.014429260045289993, 0.011222758330404758, 0.34149250388145447, 0.07535280287265778, 0.013894896022975445, 0.1343173235654831, 0.009263264015316963, 0.38442546129226685, 0.018526528030633926, 0.11115916818380356, 0.05094795301556587, 0.26400303840637207, 0.013894896022975445, 0.9401907920837402, 0.04884108155965805, 0.99688720703125, 0.9919243454933167, 0.09676605463027954, 0.8985419273376465, 0.8410361409187317, 0.9521282315254211, 0.04180075228214264, 0.005805660039186478, 0.009164301678538322, 0.5574950575828552, 0.43301326036453247, 0.9603047370910645, 0.9852703809738159, 0.9937338829040527, 0.9818620681762695, 0.9951435327529907, 0.9913026094436646, 0.8771796822547913, 0.11387255042791367, 0.11134205013513565, 0.10881154984235764, 0.14676906168460846, 0.5187526941299438, 0.9577236771583557, 0.06426305323839188, 0.16830798983573914, 0.13005617260932922, 0.04743225499987602, 0.5202246904373169, 0.05049239844083786, 0.016830800101161003, 0.003060145303606987, 0.32871320843696594, 0.15866951644420624, 0.14558924734592438, 0.039240848273038864, 0.03298506140708923, 0.03127893805503845, 0.22179611027240753, 0.0017061239341273904, 0.023885734379291534, 0.007961911149322987, 0.007393203675746918, 0.04947413504123688, 0.30942296981811523, 0.030187606811523438, 0.007546901702880859, 0.15932348370552063, 0.23898522555828094, 0.030187606811523438, 0.1073337122797966, 0.04863559082150459, 0.01760943792760372, 0.9899419546127319, 0.34833505749702454, 0.3622932732105255, 0.013492942787706852, 0.05226576700806618, 0.003256917232647538, 0.05226576700806618, 0.06575871258974075, 0.0006203652010299265, 0.0007754564867354929, 0.10080934315919876, 0.5208019614219666, 0.4464016854763031, 0.9960212707519531, 0.9761752486228943, 0.9963412880897522, 0.9824835062026978, 0.897831916809082, 0.10144993662834167, 0.346544086933136, 0.019696999341249466, 0.07078609615564346, 0.036931876093149185, 0.23082421720027924, 0.01723487488925457, 0.26775607466697693, 0.010464031249284744, 0.4734315872192383, 0.1040215864777565, 0.15269835293293, 0.13069379329681396, 0.030673032626509666, 0.07668258249759674, 0.022671371698379517, 0.009335270151495934, 0.024795187637209892, 0.06818676739931107, 0.427717000246048, 0.12707534432411194, 0.22315669059753418, 0.13017474114894867, 0.9768563508987427, 0.9861544370651245], \"Term\": [\"abort\", \"absent\", \"absolute\", \"absolute\", \"accessing\", \"accusing\", \"acids\", \"action\", \"action\", \"action\", \"action\", \"action\", \"action\", \"adaptec\", \"address\", \"address\", \"address\", \"address\", \"address\", \"address\", \"address\", \"address\", \"address\", \"adjective\", \"administration\", \"administration\", \"administration\", \"administration\", \"admitted\", \"adult\", \"adult\", \"adult\", \"advance\", \"advance\", \"advance\", \"advance\", \"aerospace\", \"afford\", \"agencies\", \"agencies\", \"agree\", \"agree\", \"agree\", \"agree\", \"aids\", \"aircraft\", \"aircraft\", \"algorithm\", \"algorithm\", \"algorithm\", \"allocation\", \"alomar\", \"also\", \"also\", \"also\", \"also\", \"also\", \"also\", \"also\", \"also\", \"also\", \"also\", \"also\", \"also\", \"aluminum\", \"aluminum\", \"aluminum\", \"amendment\", \"amendment\", \"american\", \"american\", \"american\", \"american\", \"american\", \"american\", \"american\", \"american\", \"among\", \"among\", \"among\", \"among\", \"among\", \"among\", \"among\", \"among\", \"among\", \"amplifier\", \"analog\", \"analog\", \"analog\", \"andrew\", \"andrew\", \"andrew\", \"andrew\", \"ankara\", \"anonymous\", \"anonymous\", \"anonymous\", \"anybody\", \"anybody\", \"anybody\", \"anybody\", \"anybody\", \"anybody\", \"anyone\", \"anyone\", \"anyone\", \"anyone\", \"anyone\", \"anyone\", \"anyone\", \"apartment\", \"apostles\", \"apple\", \"apple\", \"application\", \"application\", \"application\", \"application\", \"application\", \"appreciate\", \"appreciate\", \"appreciate\", \"appreciate\", \"appreciate\", \"appreciated\", \"appreciated\", \"appreciated\", \"appreciated\", \"appreciated\", \"apps\", \"april\", \"april\", \"april\", \"april\", \"april\", \"april\", \"april\", \"april\", \"april\", \"arafat\", \"archer\", \"archer\", \"argc\", \"argic\", \"argument\", \"argument\", \"argument\", \"argument\", \"argv\", \"armenia\", \"armenian\", \"armenians\", \"armored\", \"arms\", \"arms\", \"arms\", \"army\", \"army\", \"army\", \"army\", \"around\", \"around\", \"around\", \"around\", \"around\", \"around\", \"around\", \"around\", \"around\", \"array\", \"arrogance\", \"article\", \"article\", \"article\", \"article\", \"article\", \"article\", \"article\", \"article\", \"article\", \"article\", \"asking\", \"asking\", \"asking\", \"asking\", \"asking\", \"assault\", \"assault\", \"assert\", \"assertion\", \"astro\", \"astronomy\", \"astros\", \"atheism\", \"atheist\", \"atheist\", \"atlanta\", \"atlanta\", \"atmospheric\", \"audio\", \"audio\", \"auto\", \"auto\", \"auto\", \"autos\", \"available\", \"available\", \"available\", \"available\", \"available\", \"available\", \"available\", \"available\", \"avenue\", \"azerbaijan\", \"azerbaijani\", \"azerbaijanis\", \"azeri\", \"azeris\", \"back\", \"back\", \"back\", \"back\", \"back\", \"back\", \"back\", \"back\", \"back\", \"back\", \"backing\", \"backing\", \"backup\", \"backup\", \"baku\", \"balloon\", \"banks\", \"banks\", \"baptism\", \"baseball\", \"baseball\", \"baseball\", \"based\", \"based\", \"based\", \"based\", \"based\", \"based\", \"based\", \"based\", \"batf\", \"batteries\", \"battery\", \"beacon\", \"bear\", \"bear\", \"bear\", \"beleive\", \"belief\", \"belief\", \"beliefs\", \"beliefs\", \"believe\", \"believe\", \"believe\", \"believe\", \"believe\", \"believe\", \"believer\", \"believing\", \"best\", \"best\", \"best\", \"best\", \"best\", \"best\", \"best\", \"best\", \"better\", \"better\", \"better\", \"better\", \"better\", \"better\", \"better\", \"bible\", \"biblical\", \"bike\", \"bikes\", \"bill\", \"bill\", \"bill\", \"bill\", \"bill\", \"bill\", \"bill\", \"billion\", \"billion\", \"binaries\", \"bios\", \"black\", \"black\", \"black\", \"black\", \"black\", \"black\", \"black\", \"black\", \"black\", \"black\", \"board\", \"board\", \"board\", \"board\", \"bobby\", \"bobby\", \"bobby\", \"bobby\", \"boggs\", \"bolt\", \"bone\", \"book\", \"book\", \"book\", \"book\", \"book\", \"book\", \"book\", \"book\", \"boot\", \"borland\", \"borland\", \"bosnia\", \"boston\", \"boston\", \"boston\", \"boston\", \"boston\", \"bothers\", \"brady\", \"brain\", \"brain\", \"brain\", \"brain\", \"brand\", \"bruins\", \"buddhist\", \"buffering\", \"bullinger\", \"burned\", \"byte\", \"byte\", \"byte\", \"cabinet\", \"cable\", \"cable\", \"cables\", \"cache\", \"cadre\", \"cages\", \"calgary\", \"california\", \"california\", \"california\", \"california\", \"california\", \"california\", \"came\", \"came\", \"came\", \"came\", \"came\", \"came\", \"came\", \"cancer\", \"cancer\", \"candida\", \"canucks\", \"capacitor\", \"capitol\", \"card\", \"card\", \"cards\", \"cards\", \"careers\", \"carry\", \"carry\", \"carry\", \"carry\", \"carry\", \"cars\", \"case\", \"case\", \"case\", \"case\", \"case\", \"case\", \"case\", \"case\", \"case\", \"cassette\", \"cassette\", \"caste\", \"catholic\", \"celebrate\", \"center\", \"center\", \"center\", \"center\", \"center\", \"center\", \"center\", \"centris\", \"certainly\", \"certainly\", \"certainly\", \"certainly\", \"certainly\", \"certainly\", \"challenges\", \"champaign\", \"champions\", \"char\", \"characters\", \"chastity\", \"chest\", \"chevy\", \"chicago\", \"chicago\", \"chicago\", \"chicago\", \"children\", \"children\", \"children\", \"children\", \"chip\", \"chip\", \"chip\", \"chorion\", \"christ\", \"christian\", \"christian\", \"christianity\", \"christians\", \"church\", \"cica\", \"cincinnati\", \"cipher\", \"ciphertext\", \"circuit\", \"circuits\", \"city\", \"city\", \"city\", \"city\", \"city\", \"city\", \"city\", \"city\", \"civil\", \"civil\", \"civil\", \"civil\", \"claim\", \"claim\", \"claim\", \"claim\", \"clemens\", \"cleveland\", \"cleveland\", \"client\", \"client\", \"client\", \"clients\", \"clinton\", \"clinton\", \"clinton\", \"clip\", \"clip\", \"clipper\", \"clone\", \"coach\", \"code\", \"code\", \"code\", \"code\", \"code\", \"code\", \"colonel\", \"color\", \"color\", \"color\", \"colorado\", \"colorado\", \"colorado\", \"colorado\", \"colorado\", \"colorado\", \"colorado\", \"comp\", \"comp\", \"comp\", \"compass\", \"compile\", \"compound\", \"compound\", \"computer\", \"computer\", \"computer\", \"computer\", \"computer\", \"computer\", \"concealed\", \"concealed\", \"concordance\", \"condition\", \"condition\", \"condition\", \"condition\", \"conductor\", \"conference\", \"conference\", \"confess\", \"config\", \"confirmation\", \"conforms\", \"connected\", \"connected\", \"connected\", \"connected\", \"connectors\", \"constitution\", \"constitution\", \"contacts\", \"contacts\", \"contest\", \"contradictions\", \"contrib\", \"control\", \"control\", \"control\", \"control\", \"control\", \"control\", \"control\", \"control\", \"control\", \"controller\", \"cooling\", \"cooper\", \"copper\", \"corel\", \"could\", \"could\", \"could\", \"could\", \"could\", \"could\", \"could\", \"could\", \"country\", \"country\", \"country\", \"country\", \"country\", \"couple\", \"couple\", \"couple\", \"couple\", \"couple\", \"couple\", \"courses\", \"courses\", \"court\", \"court\", \"court\", \"cover\", \"cover\", \"cover\", \"cover\", \"cover\", \"cover\", \"crashes\", \"creed\", \"crime\", \"crime\", \"crime\", \"crime\", \"crimes\", \"crimes\", \"cripple\", \"crowley\", \"crown\", \"cruelties\", \"crypt\", \"crypto\", \"cryptographic\", \"cryptography\", \"cryptosystems\", \"cube\", \"cubs\", \"cubs\", \"current\", \"current\", \"current\", \"current\", \"current\", \"current\", \"current\", \"current\", \"current\", \"current\", \"cwru\", \"cycle\", \"cycle\", \"cylinder\", \"cylinder\", \"cyprus\", \"darren\", \"data\", \"data\", \"data\", \"data\", \"data\", \"database\", \"dated\", \"david\", \"david\", \"david\", \"david\", \"david\", \"david\", \"david\", \"david\", \"davidians\", \"davis\", \"davis\", \"dead\", \"dead\", \"dead\", \"dead\", \"dead\", \"death\", \"death\", \"death\", \"death\", \"death\", \"debugger\", \"decenso\", \"deck\", \"defaultscreen\", \"defensive\", \"dept\", \"dept\", \"dept\", \"design\", \"design\", \"design\", \"design\", \"design\", \"design\", \"design\", \"design\", \"detail\", \"detail\", \"detail\", \"detail\", \"detail\", \"detail\", \"detail\", \"detail\", \"detector\", \"detectors\", \"detroit\", \"devils\", \"diamond\", \"directory\", \"directory\", \"dirt\", \"disc\", \"discharge\", \"disease\", \"disease\", \"disease\", \"diseases\", \"disk\", \"disk\", \"disk\", \"display\", \"display\", \"display\", \"divine\", \"division\", \"division\", \"division\", \"division\", \"doctrine\", \"dortmund\", \"doubled\", \"douglas\", \"dram\", \"dreams\", \"drive\", \"drive\", \"driver\", \"driver\", \"driver\", \"driver\", \"drivers\", \"drivers\", \"drivers\", \"drives\", \"drug\", \"drugs\", \"drugs\", \"earth\", \"earth\", \"earth\", \"earth\", \"east\", \"east\", \"east\", \"east\", \"east\", \"east\", \"easter\", \"echl\", \"eddie\", \"edmonton\", \"eggs\", \"eisa\", \"electrical\", \"electrical\", \"electronics\", \"email\", \"email\", \"email\", \"email\", \"encrypted\", \"encrypting\", \"encryption\", \"enemies\", \"enforcement\", \"engines\", \"engines\", \"enough\", \"enough\", \"enough\", \"enough\", \"enough\", \"enough\", \"enough\", \"entries\", \"entry\", \"entry\", \"entry\", \"equation\", \"ergo\", \"erzurum\", \"escrow\", \"espn\", \"eternal\", \"ethernet\", \"evaluating\", \"even\", \"even\", \"even\", \"even\", \"even\", \"even\", \"even\", \"even\", \"event\", \"event\", \"event\", \"event\", \"event\", \"event\", \"evidence\", \"evidence\", \"evidence\", \"evolve\", \"examiner\", \"excellent\", \"excellent\", \"excellent\", \"excellent\", \"excellent\", \"executables\", \"execution\", \"exegisis\", \"exploration\", \"export\", \"export\", \"expose\", \"expose\", \"fact\", \"fact\", \"fact\", \"fact\", \"fact\", \"fact\", \"fact\", \"faith\", \"faith\", \"fake\", \"fake\", \"fake\", \"fallacy\", \"fans\", \"fans\", \"fans\", \"fantasy\", \"fantasy\", \"father\", \"father\", \"federal\", \"federal\", \"federal\", \"federal\", \"feelings\", \"field\", \"field\", \"field\", \"field\", \"field\", \"field\", \"field\", \"file\", \"file\", \"file\", \"file\", \"filename\", \"files\", \"files\", \"files\", \"financial\", \"find\", \"find\", \"find\", \"find\", \"find\", \"find\", \"find\", \"find\", \"find\", \"find\", \"find\", \"firearm\", \"firearms\", \"first\", \"first\", \"first\", \"first\", \"first\", \"first\", \"first\", \"first\", \"first\", \"first\", \"first\", \"first\", \"first\", \"fitting\", \"flags\", \"flags\", \"flames\", \"flames\", \"flames\", \"fleet\", \"flood\", \"floppy\", \"floppy\", \"flyers\", \"font\", \"fonts\", \"fools\", \"format\", \"format\", \"formats\", \"forsale\", \"forty\", \"france\", \"freedom\", \"freedom\", \"freedom\", \"freeman\", \"freeware\", \"front\", \"front\", \"front\", \"frozen\", \"frozen\", \"function\", \"function\", \"function\", \"fuse\", \"game\", \"game\", \"game\", \"games\", \"gangs\", \"gangs\", \"gateway\", \"gays\", \"gaza\", \"gear\", \"general\", \"general\", \"general\", \"general\", \"general\", \"general\", \"general\", \"general\", \"general\", \"general\", \"general\", \"genocide\", \"georgia\", \"germany\", \"germany\", \"germany\", \"germany\", \"germany\", \"getting\", \"getting\", \"getting\", \"getting\", \"getting\", \"getting\", \"ghetto\", \"giants\", \"gifs\", \"goal\", \"goal\", \"goal\", \"goal\", \"goal\", \"goddess\", \"going\", \"going\", \"going\", \"going\", \"going\", \"gonna\", \"good\", \"good\", \"good\", \"good\", \"good\", \"good\", \"good\", \"good\", \"good\", \"good\", \"good\", \"gordon\", \"gospel\", \"government\", \"government\", \"government\", \"government\", \"grammar\", \"graphics\", \"graphics\", \"graphics\", \"graphics\", \"greece\", \"greek\", \"greek\", \"greek\", \"ground\", \"ground\", \"ground\", \"ground\", \"ground\", \"ground\", \"ground\", \"grounded\", \"group\", \"group\", \"group\", \"group\", \"group\", \"group\", \"group\", \"group\", \"group\", \"group\", \"group\", \"group\", \"guidelines\", \"guitar\", \"guns\", \"guns\", \"guns\", \"guys\", \"guys\", \"guys\", \"handgun\", \"handguns\", \"handler\", \"hang\", \"hang\", \"hanging\", \"hanging\", \"hard\", \"hard\", \"hard\", \"hard\", \"hard\", \"hard\", \"harddisk\", \"hardware\", \"hardware\", \"hardware\", \"hardware\", \"hardware\", \"hartford\", \"hassle\", \"hassle\", \"hawk\", \"hawks\", \"health\", \"heard\", \"heard\", \"heard\", \"heard\", \"heard\", \"heard\", \"heating\", \"heaven\", \"heaven\", \"hell\", \"hell\", \"hell\", \"hello\", \"hello\", \"hello\", \"hello\", \"helmet\", \"help\", \"help\", \"help\", \"help\", \"help\", \"help\", \"help\", \"helper\", \"henrik\", \"herrings\", \"heterosexual\", \"high\", \"high\", \"high\", \"high\", \"high\", \"high\", \"high\", \"high\", \"high\", \"highway\", \"highway\", \"highway\", \"hitting\", \"hockey\", \"holy\", \"homosexual\", \"homosexuality\", \"homosexuality\", \"homosexuals\", \"homosexuals\", \"horse\", \"horse\", \"houston\", \"houston\", \"icons\", \"idaho\", \"ieee\", \"image\", \"image\", \"image\", \"image\", \"image\", \"immoral\", \"inaccurate\", \"inch\", \"inch\", \"income\", \"induce\", \"info\", \"info\", \"info\", \"info\", \"info\", \"info\", \"information\", \"information\", \"information\", \"information\", \"information\", \"information\", \"information\", \"init\", \"inkjet\", \"inning\", \"innings\", \"innings\", \"input\", \"input\", \"input\", \"inquiry\", \"institute\", \"institute\", \"institute\", \"insulated\", \"intellect\", \"interested\", \"interested\", \"interested\", \"interested\", \"interested\", \"interested\", \"interested\", \"interested\", \"international\", \"international\", \"international\", \"international\", \"intervention\", \"intrinsics\", \"investigated\", \"investment\", \"investment\", \"ireland\", \"islam\", \"islam\", \"islam\", \"islam\", \"islam\", \"islamic\", \"islamic\", \"islanders\", \"israel\", \"israel\", \"israel\", \"israel\", \"israeli\", \"israeli\", \"israelis\", \"italy\", \"italy\", \"jack\", \"jack\", \"jack\", \"jack\", \"jacket\", \"jeff\", \"jeff\", \"jeff\", \"jeff\", \"jesus\", \"jets\", \"jewish\", \"jewish\", \"jewish\", \"jews\", \"jews\", \"jews\", \"jobs\", \"jobs\", \"john\", \"john\", \"john\", \"john\", \"john\", \"john\", \"john\", \"john\", \"jose\", \"jose\", \"jpeg\", \"judas\", \"judges\", \"judges\", \"jumper\", \"june\", \"june\", \"june\", \"justification\", \"justified\", \"justified\", \"karabakh\", \"karina\", \"karl\", \"keller\", \"kent\", \"kent\", \"keys\", \"keys\", \"keywords\", \"kidney\", \"killed\", \"killed\", \"kingman\", \"kings\", \"kings\", \"kirlian\", \"kkeller\", \"know\", \"know\", \"know\", \"know\", \"know\", \"know\", \"know\", \"know\", \"kong\", \"koran\", \"lamps\", \"languages\", \"languages\", \"languages\", \"laptop\", \"laser\", \"laser\", \"last\", \"last\", \"last\", \"last\", \"last\", \"last\", \"last\", \"last\", \"last\", \"latin\", \"launch\", \"launched\", \"launches\", \"laws\", \"laws\", \"laws\", \"laws\", \"layout\", \"lazy\", \"lciii\", \"leafs\", \"league\", \"league\", \"lefebvre\", \"legal\", \"legal\", \"legal\", \"legal\", \"legal\", \"lemieux\", \"lemon\", \"lemon\", \"lens\", \"lens\", \"lenses\", \"lewis\", \"lewis\", \"lewis\", \"lexicon\", \"liar\", \"liberal\", \"libertarianism\", \"libertarians\", \"life\", \"life\", \"life\", \"life\", \"life\", \"like\", \"like\", \"like\", \"like\", \"like\", \"like\", \"like\", \"like\", \"like\", \"line\", \"line\", \"line\", \"line\", \"line\", \"line\", \"line\", \"line\", \"line\", \"line\", \"liquid\", \"list\", \"list\", \"list\", \"list\", \"list\", \"list\", \"list\", \"list\", \"list\", \"list\", \"listserv\", \"little\", \"little\", \"little\", \"little\", \"little\", \"little\", \"little\", \"little\", \"loans\", \"locations\", \"logos\", \"look\", \"look\", \"look\", \"look\", \"look\", \"look\", \"look\", \"looked\", \"looked\", \"looked\", \"looked\", \"looked\", \"looking\", \"looking\", \"looking\", \"looking\", \"looking\", \"looking\", \"looking\", \"lord\", \"lost\", \"lost\", \"lost\", \"lost\", \"lost\", \"lost\", \"lost\", \"lost\", \"lost\", \"loud\", \"love\", \"love\", \"love\", \"love\", \"luke\", \"lunar\", \"lyme\", \"machinery\", \"mack\", \"macs\", \"made\", \"made\", \"made\", \"made\", \"made\", \"made\", \"made\", \"made\", \"made\", \"madison\", \"mail\", \"mail\", \"mail\", \"mail\", \"mail\", \"mail\", \"mail\", \"main\", \"main\", \"main\", \"main\", \"main\", \"main\", \"main\", \"main\", \"main\", \"majority\", \"majority\", \"make\", \"make\", \"make\", \"make\", \"make\", \"make\", \"make\", \"make\", \"mamma\", \"manuals\", \"manuals\", \"many\", \"many\", \"many\", \"many\", \"many\", \"many\", \"many\", \"many\", \"many\", \"marijuana\", \"marriage\", \"married\", \"mars\", \"mask\", \"mask\", \"massacre\", \"matthew\", \"matthew\", \"matthew\", \"maybe\", \"maybe\", \"maybe\", \"maybe\", \"maybe\", \"mean\", \"mean\", \"mean\", \"mean\", \"mean\", \"mean\", \"mean\", \"medical\", \"medical\", \"medical\", \"medicine\", \"memory\", \"memory\", \"memory\", \"mercedes\", \"messenger\", \"meter\", \"mets\", \"mets\", \"microsoft\", \"militia\", \"milwaukee\", \"milwaukee\", \"milwaukee\", \"mindset\", \"minister\", \"minnesota\", \"mint\", \"miracles\", \"miracles\", \"miracles\", \"miracles\", \"mission\", \"mission\", \"missions\", \"missions\", \"mixer\", \"mode\", \"mode\", \"mode\", \"model\", \"model\", \"model\", \"model\", \"model\", \"model\", \"models\", \"models\", \"models\", \"models\", \"models\", \"models\", \"modem\", \"modem\", \"module\", \"module\", \"monitor\", \"monitor\", \"monitors\", \"montreal\", \"montreal\", \"moon\", \"moon\", \"moon\", \"moral\", \"moral\", \"morality\", \"morality\", \"mormons\", \"motherboard\", \"motif\", \"motorcycle\", \"motorcycles\", \"mouse\", \"mouse\", \"mozumder\", \"mpeg\", \"much\", \"much\", \"much\", \"much\", \"much\", \"much\", \"much\", \"much\", \"much\", \"muscles\", \"music\", \"music\", \"music\", \"muslim\", \"muslim\", \"must\", \"must\", \"must\", \"must\", \"must\", \"must\", \"must\", \"must\", \"must\", \"must\", \"mydisplay\", \"myers\", \"myhint\", \"nail\", \"name\", \"name\", \"name\", \"name\", \"name\", \"name\", \"name\", \"name\", \"name\", \"name\", \"name\", \"name\", \"nasa\", \"nasa\", \"national\", \"national\", \"national\", \"national\", \"navy\", \"navy\", \"nazi\", \"nazi\", \"nazis\", \"ncsl\", \"ncsu\", \"need\", \"need\", \"need\", \"need\", \"need\", \"need\", \"need\", \"need\", \"need\", \"need\", \"need\", \"nervous\", \"netcom\", \"netcom\", \"netcom\", \"nets\", \"neutral\", \"neutral\", \"neutral\", \"never\", \"never\", \"never\", \"never\", \"never\", \"never\", \"never\", \"never\", \"news\", \"news\", \"news\", \"news\", \"news\", \"news\", \"news\", \"news\", \"news\", \"newsgroup\", \"newsgroup\", \"newsgroup\", \"newsgroup\", \"nist\", \"nixon\", \"nolan\", \"norton\", \"norton\", \"norway\", \"novice\", \"nubus\", \"null\", \"null\", \"number\", \"number\", \"number\", \"number\", \"number\", \"number\", \"number\", \"number\", \"number\", \"number\", \"number\", \"obfuscate\", \"obfuscate\", \"object\", \"object\", \"object\", \"object\", \"object\", \"object\", \"objective\", \"objective\", \"offer\", \"offer\", \"offer\", \"offer\", \"offer\", \"office\", \"office\", \"office\", \"office\", \"office\", \"office\", \"office\", \"office\", \"offset\", \"olwm\", \"oneself\", \"openwindows\", \"orbit\", \"orbit\", \"organization\", \"organization\", \"organization\", \"organization\", \"organization\", \"organization\", \"organization\", \"orientation\", \"orientation\", \"original\", \"original\", \"original\", \"original\", \"original\", \"original\", \"original\", \"original\", \"original\", \"orioles\", \"orthodox\", \"oscillator\", \"ottoman\", \"outlets\", \"output\", \"output\", \"output\", \"ozone\", \"pagan\", \"pagan\", \"pain\", \"pain\", \"pain\", \"palestinian\", \"panel\", \"panel\", \"panel\", \"panel\", \"panel\", \"panels\", \"paradox\", \"paradox\", \"paranoid\", \"part\", \"part\", \"part\", \"part\", \"part\", \"part\", \"part\", \"part\", \"part\", \"part\", \"part\", \"particle\", \"partition\", \"passages\", \"patch\", \"patient\", \"patients\", \"patients\", \"paul\", \"paul\", \"paul\", \"paul\", \"paul\", \"paul\", \"paul\", \"pens\", \"pentium\", \"people\", \"people\", \"people\", \"people\", \"people\", \"people\", \"people\", \"people\", \"people\", \"perhaps\", \"perhaps\", \"perhaps\", \"perhaps\", \"perhaps\", \"perhaps\", \"perhaps\", \"perhaps\", \"period\", \"period\", \"period\", \"period\", \"period\", \"period\", \"period\", \"period\", \"period\", \"period\", \"period\", \"philadelphia\", \"philadelphia\", \"philadelphia\", \"phillies\", \"phone\", \"phone\", \"phone\", \"phone\", \"phone\", \"phone\", \"phone\", \"phones\", \"photography\", \"picture\", \"picture\", \"picture\", \"picture\", \"picture\", \"picture\", \"pistol\", \"pitcher\", \"pitching\", \"pitt\", \"pittsburgh\", \"pittsburgh\", \"pixel\", \"plains\", \"plaintext\", \"plane\", \"plane\", \"planetary\", \"plant\", \"plant\", \"plants\", \"plastic\", \"plate\", \"play\", \"play\", \"play\", \"play\", \"play\", \"play\", \"play\", \"played\", \"played\", \"played\", \"played\", \"player\", \"player\", \"player\", \"players\", \"playoff\", \"playoffs\", \"please\", \"please\", \"please\", \"please\", \"please\", \"please\", \"please\", \"please\", \"please\", \"please\", \"plot\", \"plot\", \"pockets\", \"point\", \"point\", \"point\", \"point\", \"point\", \"point\", \"point\", \"point\", \"point\", \"point\", \"points\", \"points\", \"points\", \"points\", \"points\", \"points\", \"points\", \"police\", \"police\", \"police\", \"police\", \"police\", \"polite\", \"polygon\", \"polygons\", \"polygons\", \"pope\", \"population\", \"population\", \"population\", \"port\", \"port\", \"post\", \"post\", \"post\", \"post\", \"post\", \"post\", \"post\", \"post\", \"post\", \"postage\", \"posted\", \"posted\", \"posted\", \"posted\", \"posted\", \"posted\", \"posted\", \"posted\", \"posted\", \"posted\", \"posting\", \"posting\", \"posting\", \"posting\", \"posting\", \"posting\", \"posting\", \"postings\", \"postings\", \"postings\", \"postings\", \"postings\", \"posts\", \"posts\", \"posts\", \"postscript\", \"potter\", \"potter\", \"power\", \"power\", \"power\", \"power\", \"power\", \"power\", \"power\", \"power\", \"power\", \"power\", \"powerpc\", \"prefix\", \"presented\", \"presented\", \"presented\", \"president\", \"president\", \"president\", \"pressing\", \"pressing\", \"pretty\", \"pretty\", \"pretty\", \"pretty\", \"pretty\", \"price\", \"price\", \"price\", \"price\", \"price\", \"price\", \"price\", \"printer\", \"printer\", \"printf\", \"prison\", \"prisoners\", \"privacy\", \"private\", \"private\", \"private\", \"probably\", \"probably\", \"probably\", \"probably\", \"probably\", \"probably\", \"probably\", \"probably\", \"probably\", \"problem\", \"problem\", \"problem\", \"problem\", \"problem\", \"problem\", \"problem\", \"problem\", \"proceedings\", \"proceedings\", \"processors\", \"profile\", \"prog\", \"prog\", \"program\", \"program\", \"program\", \"program\", \"program\", \"projects\", \"projects\", \"promo\", \"propulsion\", \"propulsion\", \"pseudo\", \"pseudocolor\", \"public\", \"public\", \"public\", \"public\", \"publisher\", \"puck\", \"pulse\", \"quadra\", \"quantum\", \"quebec\", \"question\", \"question\", \"question\", \"question\", \"question\", \"question\", \"question\", \"question\", \"questioning\", \"questionnaire\", \"quran\", \"radar\", \"radiation\", \"radiologist\", \"radius\", \"rangers\", \"really\", \"really\", \"really\", \"really\", \"really\", \"really\", \"really\", \"reason\", \"reason\", \"reason\", \"reason\", \"reason\", \"reason\", \"receiver\", \"receiver\", \"recognition\", \"redesign\", \"reds\", \"reds\", \"regulated\", \"reilly\", \"rejecting\", \"religion\", \"religion\", \"religion\", \"religions\", \"remember\", \"remember\", \"remember\", \"remember\", \"remember\", \"remember\", \"reply\", \"reply\", \"reply\", \"reply\", \"reply\", \"reply\", \"republic\", \"republic\", \"republicans\", \"research\", \"research\", \"research\", \"research\", \"responses\", \"responses\", \"responses\", \"responses\", \"responsibility\", \"responsibility\", \"responsibility\", \"responsibility\", \"restaurant\", \"resurrection\", \"retail\", \"revelation\", \"ride\", \"riders\", \"riding\", \"rifle\", \"right\", \"right\", \"right\", \"right\", \"right\", \"right\", \"right\", \"right\", \"right\", \"right\", \"right\", \"right\", \"rights\", \"rights\", \"rights\", \"rights\", \"rights\", \"riley\", \"ripem\", \"river\", \"rkba\", \"roberts\", \"robinson\", \"robinson\", \"rockefeller\", \"rockies\", \"routines\", \"rows\", \"rumor\", \"russia\", \"russia\", \"russia\", \"russian\", \"russian\", \"sabbath\", \"sabres\", \"said\", \"said\", \"said\", \"said\", \"said\", \"said\", \"said\", \"sale\", \"sale\", \"sampling\", \"satan\", \"satellite\", \"satellite\", \"satellites\", \"satellites\", \"saturn\", \"schism\", \"science\", \"science\", \"science\", \"science\", \"science\", \"science\", \"sciences\", \"scored\", \"scorer\", \"scoring\", \"scratches\", \"screens\", \"scripture\", \"scsi\", \"seagate\", \"season\", \"seat\", \"second\", \"second\", \"second\", \"second\", \"second\", \"second\", \"second\", \"second\", \"second\", \"second\", \"second\", \"secret\", \"secret\", \"section\", \"section\", \"section\", \"section\", \"section\", \"section\", \"secure\", \"security\", \"security\", \"security\", \"seemed\", \"seemed\", \"segment\", \"sell\", \"sell\", \"sell\", \"sell\", \"sell\", \"selling\", \"selling\", \"selling\", \"semi\", \"semi\", \"semi\", \"seminar\", \"senator\", \"send\", \"send\", \"send\", \"send\", \"send\", \"send\", \"send\", \"senior\", \"senior\", \"serbs\", \"serdar\", \"serial\", \"serial\", \"serial\", \"series\", \"series\", \"series\", \"series\", \"series\", \"series\", \"serpent\", \"serpent\", \"servant\", \"server\", \"servers\", \"sexual\", \"sexual\", \"sexual\", \"sexual\", \"shaft\", \"shall\", \"shall\", \"shall\", \"shameful\", \"shareware\", \"sharks\", \"shine\", \"shipping\", \"ships\", \"shit\", \"shit\", \"shoot\", \"shotgun\", \"shuttle\", \"shuttle\", \"signal\", \"signal\", \"signal\", \"similarity\", \"simms\", \"situation\", \"situation\", \"situation\", \"situation\", \"situation\", \"situation\", \"skepticism\", \"slave\", \"slave\", \"sleeve\", \"slip\", \"slots\", \"slower\", \"smith\", \"smith\", \"smith\", \"smokeless\", \"smythe\", \"society\", \"society\", \"socket\", \"software\", \"software\", \"software\", \"software\", \"soldiers\", \"somalia\", \"someone\", \"someone\", \"someone\", \"someone\", \"someone\", \"someone\", \"someone\", \"something\", \"something\", \"something\", \"something\", \"something\", \"soon\", \"soon\", \"soon\", \"soon\", \"soon\", \"soon\", \"soon\", \"soon\", \"soon\", \"sounded\", \"sounded\", \"source\", \"source\", \"source\", \"source\", \"source\", \"source\", \"source\", \"source\", \"source\", \"source\", \"south\", \"south\", \"south\", \"south\", \"soviet\", \"soviet\", \"space\", \"space\", \"space\", \"space\", \"speed\", \"speed\", \"speed\", \"speed\", \"spirit\", \"spirit\", \"sport\", \"sport\", \"spring\", \"spring\", \"spring\", \"spring\", \"spring\", \"spring\", \"standings\", \"standings\", \"stanley\", \"state\", \"state\", \"state\", \"state\", \"state\", \"state\", \"state\", \"state\", \"state\", \"statement\", \"statement\", \"statement\", \"statement\", \"states\", \"states\", \"states\", \"states\", \"states\", \"states\", \"states\", \"stealth\", \"stereo\", \"stewart\", \"stewart\", \"still\", \"still\", \"still\", \"still\", \"still\", \"still\", \"still\", \"still\", \"still\", \"still\", \"still\", \"stimulus\", \"stones\", \"stones\", \"stones\", \"strip\", \"strip\", \"strip\", \"strip\", \"studio\", \"study\", \"study\", \"study\", \"study\", \"suck\", \"suicide\", \"sumgait\", \"summarize\", \"sunos\", \"sunview\", \"supply\", \"supply\", \"supply\", \"supply\", \"supply\", \"sure\", \"sure\", \"sure\", \"sure\", \"sure\", \"sure\", \"sure\", \"sure\", \"surrender\", \"surrender\", \"svga\", \"switches\", \"switches\", \"switzerland\", \"switzerland\", \"sync\", \"syndrome\", \"system\", \"system\", \"system\", \"system\", \"system\", \"system\", \"system\", \"system\", \"take\", \"take\", \"take\", \"take\", \"take\", \"take\", \"take\", \"take\", \"take\", \"take\", \"tape\", \"tape\", \"tape\", \"tape\", \"targa\", \"taurus\", \"team\", \"team\", \"teams\", \"technician\", \"technology\", \"technology\", \"technology\", \"telepathy\", \"telescope\", \"telix\", \"temperature\", \"temperature\", \"test\", \"test\", \"test\", \"test\", \"test\", \"test\", \"test\", \"testament\", \"texas\", \"texas\", \"texas\", \"texas\", \"texas\", \"thank\", \"thank\", \"thank\", \"thank\", \"thank\", \"thanks\", \"thanks\", \"thanks\", \"thanks\", \"thanks\", \"thanks\", \"theist\", \"theory\", \"theory\", \"theory\", \"theory\", \"theory\", \"theory\", \"theta\", \"thing\", \"thing\", \"thing\", \"thing\", \"thing\", \"thing\", \"thing\", \"things\", \"things\", \"things\", \"things\", \"things\", \"things\", \"things\", \"think\", \"think\", \"think\", \"think\", \"think\", \"think\", \"think\", \"third\", \"third\", \"third\", \"third\", \"third\", \"third\", \"third\", \"third\", \"third\", \"third\", \"tiger\", \"tiger\", \"time\", \"time\", \"time\", \"time\", \"time\", \"time\", \"time\", \"time\", \"time\", \"time\", \"timer\", \"timer\", \"tire\", \"tires\", \"titan\", \"tobacco\", \"tongues\", \"toolkit\", \"toronto\", \"toronto\", \"toronto\", \"toronto\", \"toronto\", \"torque\", \"toss\", \"totals\", \"tower\", \"tower\", \"treatment\", \"treatment\", \"treatment\", \"trinity\", \"troops\", \"troops\", \"truck\", \"true\", \"true\", \"true\", \"true\", \"true\", \"true\", \"true\", \"true\", \"truth\", \"truth\", \"turkey\", \"turkish\", \"turks\", \"twins\", \"tyre\", \"uiuc\", \"uiuc\", \"uiuc\", \"ultrasound\", \"unbreakable\", \"united\", \"united\", \"united\", \"united\", \"united\", \"universe\", \"universe\", \"university\", \"university\", \"university\", \"university\", \"university\", \"university\", \"university\", \"university\", \"university\", \"unix\", \"unix\", \"upenn\", \"upenn\", \"upgrade\", \"upgrading\", \"used\", \"used\", \"used\", \"used\", \"used\", \"used\", \"used\", \"used\", \"used\", \"used\", \"user\", \"user\", \"user\", \"using\", \"using\", \"using\", \"using\", \"using\", \"using\", \"using\", \"using\", \"using\", \"uuencode\", \"vacuum\", \"vain\", \"value\", \"value\", \"value\", \"value\", \"value\", \"value\", \"vancouver\", \"vancouver\", \"vancouver\", \"vector\", \"vector\", \"vernon\", \"version\", \"version\", \"version\", \"version\", \"version\", \"version\", \"vesa\", \"victor\", \"video\", \"video\", \"video\", \"video\", \"village\", \"villages\", \"violent\", \"vitamin\", \"voltage\", \"vote\", \"vote\", \"vram\", \"waco\", \"wade\", \"wagon\", \"wales\", \"walls\", \"want\", \"want\", \"want\", \"want\", \"want\", \"want\", \"want\", \"want\", \"want\", \"warsaw\", \"washington\", \"washington\", \"washington\", \"washington\", \"washington\", \"watching\", \"watching\", \"water\", \"water\", \"water\", \"water\", \"water\", \"water\", \"waters\", \"wave\", \"wave\", \"wave\", \"weapon\", \"weapon\", \"weapons\", \"weapons\", \"weapons\", \"weaver\", \"weekend\", \"weeks\", \"weeks\", \"weeks\", \"weeks\", \"weeks\", \"weiss\", \"weiss\", \"welch\", \"well\", \"well\", \"well\", \"well\", \"well\", \"well\", \"well\", \"well\", \"well\", \"well\", \"well\", \"well\", \"went\", \"went\", \"went\", \"went\", \"went\", \"west\", \"west\", \"west\", \"west\", \"west\", \"west\", \"west\", \"west\", \"west\", \"wheel\", \"wheel\", \"widget\", \"widgets\", \"width\", \"width\", \"wierd\", \"window\", \"window\", \"window\", \"windows\", \"windows\", \"windows\", \"winfield\", \"winnipeg\", \"wire\", \"wires\", \"wiretap\", \"wiring\", \"womb\", \"women\", \"women\", \"women\", \"women\", \"women\", \"wont\", \"word\", \"word\", \"word\", \"word\", \"word\", \"word\", \"word\", \"word\", \"work\", \"work\", \"work\", \"work\", \"work\", \"work\", \"work\", \"work\", \"work\", \"work\", \"work\", \"world\", \"world\", \"world\", \"world\", \"world\", \"world\", \"world\", \"world\", \"world\", \"world\", \"worship\", \"would\", \"would\", \"would\", \"would\", \"would\", \"would\", \"would\", \"would\", \"would\", \"would\", \"wrap\", \"wrap\", \"xlib\", \"xputimage\", \"xterm\", \"yankees\", \"yeah\", \"yeah\", \"year\", \"year\", \"year\", \"year\", \"year\", \"year\", \"year\", \"year\", \"years\", \"years\", \"years\", \"years\", \"years\", \"years\", \"years\", \"years\", \"york\", \"york\", \"york\", \"york\", \"york\", \"york\", \"zionism\", \"zionist\"]}, \"R\": 30, \"lambda.step\": 0.01, \"plot.opts\": {\"xlab\": \"PC1\", \"ylab\": \"PC2\"}, \"topic.order\": [16, 10, 17, 7, 2, 13, 4, 6, 18, 5, 19, 8, 11, 3, 12, 14, 15, 20, 1, 9]};\n",
       "\n",
       "function LDAvis_load_lib(url, callback){\n",
       "  var s = document.createElement('script');\n",
       "  s.src = url;\n",
       "  s.async = true;\n",
       "  s.onreadystatechange = s.onload = callback;\n",
       "  s.onerror = function(){console.warn(\"failed to load library \" + url);};\n",
       "  document.getElementsByTagName(\"head\")[0].appendChild(s);\n",
       "}\n",
       "\n",
       "if(typeof(LDAvis) !== \"undefined\"){\n",
       "   // already loaded: just create the visualization\n",
       "   !function(LDAvis){\n",
       "       new LDAvis(\"#\" + \"ldavis_el2516831949835258321701329593\", ldavis_el2516831949835258321701329593_data);\n",
       "   }(LDAvis);\n",
       "}else if(typeof define === \"function\" && define.amd){\n",
       "   // require.js is available: use it to load d3/LDAvis\n",
       "   require.config({paths: {d3: \"https://cdnjs.cloudflare.com/ajax/libs/d3/3.5.5/d3.min\"}});\n",
       "   require([\"d3\"], function(d3){\n",
       "      window.d3 = d3;\n",
       "      LDAvis_load_lib(\"https://cdn.rawgit.com/bmabey/pyLDAvis/files/ldavis.v1.0.0.js\", function(){\n",
       "        new LDAvis(\"#\" + \"ldavis_el2516831949835258321701329593\", ldavis_el2516831949835258321701329593_data);\n",
       "      });\n",
       "    });\n",
       "}else{\n",
       "    // require.js not available: dynamically load d3 & LDAvis\n",
       "    LDAvis_load_lib(\"https://cdnjs.cloudflare.com/ajax/libs/d3/3.5.5/d3.min.js\", function(){\n",
       "         LDAvis_load_lib(\"https://cdn.rawgit.com/bmabey/pyLDAvis/files/ldavis.v1.0.0.js\", function(){\n",
       "                 new LDAvis(\"#\" + \"ldavis_el2516831949835258321701329593\", ldavis_el2516831949835258321701329593_data);\n",
       "            })\n",
       "         });\n",
       "}\n",
       "</script>"
      ],
      "text/plain": [
       "<IPython.core.display.HTML object>"
      ]
     },
     "execution_count": 32,
     "metadata": {},
     "output_type": "execute_result"
    }
   ],
   "source": [
    "import pyLDAvis.gensim\n",
    "pyLDAvis.enable_notebook()\n",
    "vis = pyLDAvis.gensim.prepare(ldamodel, corpus, dictionary)\n",
    "pyLDAvis.display(vis)\n",
    "# LDA 시각화에서는 토픽의 번호가 1부터 시작하므로 각 토픽 번호는  +1이 된 값인 1~20까지의 값을 가진다"
   ]
  },
  {
   "cell_type": "markdown",
   "metadata": {},
   "source": [
    "####  문서 별 토픽 분포 보기"
   ]
  },
  {
   "cell_type": "code",
   "execution_count": 33,
   "metadata": {},
   "outputs": [
    {
     "name": "stdout",
     "output_type": "stream",
     "text": [
      "0 번째 문서의 topic 비율은 [(5, 0.23090488), (9, 0.5131503), (11, 0.18564694), (15, 0.057380285)]\n",
      "1 번째 문서의 topic 비율은 [(7, 0.23753099), (9, 0.23313601), (11, 0.027568897), (12, 0.11368302), (15, 0.30721742), (17, 0.062424354)]\n",
      "2 번째 문서의 topic 비율은 [(1, 0.114492424), (5, 0.024591275), (9, 0.69146395), (15, 0.15630062)]\n",
      "3 번째 문서의 topic 비율은 [(3, 0.09142341), (6, 0.5936945), (15, 0.30137187)]\n",
      "4 번째 문서의 topic 비율은 [(4, 0.4218959), (7, 0.21326368), (15, 0.3333461)]\n"
     ]
    }
   ],
   "source": [
    "for i, topic_list in enumerate(ldamodel[corpus]):\n",
    "    if i==5:\n",
    "        break\n",
    "    print(i,'번째 문서의 topic 비율은',topic_list)\n",
    "# (숫자, 확률)은 각각 토픽 번호와 해당 토픽이 해당 문서에서 차지하는 분포도를 의미"
   ]
  },
  {
   "cell_type": "code",
   "execution_count": 34,
   "metadata": {},
   "outputs": [],
   "source": [
    "def make_topictable_per_doc(ldamodel, corpus):\n",
    "    topic_table = pd.DataFrame()\n",
    "\n",
    "    # 몇 번째 문서인지를 의미하는 문서 번호와 해당 문서의 토픽 비중을 한 줄씩 꺼내온다.\n",
    "    for i, topic_list in enumerate(ldamodel[corpus]):\n",
    "        doc = topic_list[0] if ldamodel.per_word_topics else topic_list            \n",
    "        doc = sorted(doc, key=lambda x: (x[1]), reverse=True)\n",
    "        # 각 문서에 대해서 비중이 높은 토픽순으로 토픽을 정렬한다.\n",
    "        # EX) 정렬 전 0번 문서 : (2번 토픽, 48.5%), (8번 토픽, 25%), (10번 토픽, 5%), (12번 토픽, 21.5%), \n",
    "        # Ex) 정렬 후 0번 문서 : (2번 토픽, 48.5%), (8번 토픽, 25%), (12번 토픽, 21.5%), (10번 토픽, 5%)\n",
    "        # 48 > 25 > 21 > 5 순으로 정렬이 된 것.\n",
    "\n",
    "        # 모든 문서에 대해서 각각 아래를 수행\n",
    "        for j, (topic_num, prop_topic) in enumerate(doc): #  몇 번 토픽인지와 비중을 나눠서 저장한다.\n",
    "            if j == 0:  # 정렬을 한 상태이므로 가장 앞에 있는 것이 가장 비중이 높은 토픽\n",
    "                topic_table = topic_table.append(pd.Series([int(topic_num), round(prop_topic,4), topic_list]), ignore_index=True)\n",
    "                # 가장 비중이 높은 토픽과, 가장 비중이 높은 토픽의 비중과, 전체 토픽의 비중을 저장한다.\n",
    "            else:\n",
    "                break\n",
    "    return(topic_table)"
   ]
  },
  {
   "cell_type": "code",
   "execution_count": 35,
   "metadata": {},
   "outputs": [
    {
     "data": {
      "text/html": [
       "<div>\n",
       "<style scoped>\n",
       "    .dataframe tbody tr th:only-of-type {\n",
       "        vertical-align: middle;\n",
       "    }\n",
       "\n",
       "    .dataframe tbody tr th {\n",
       "        vertical-align: top;\n",
       "    }\n",
       "\n",
       "    .dataframe thead th {\n",
       "        text-align: right;\n",
       "    }\n",
       "</style>\n",
       "<table border=\"1\" class=\"dataframe\">\n",
       "  <thead>\n",
       "    <tr style=\"text-align: right;\">\n",
       "      <th></th>\n",
       "      <th>문서 번호</th>\n",
       "      <th>가장 비중이 높은 토픽</th>\n",
       "      <th>가장 높은 토픽의 비중</th>\n",
       "      <th>각 토픽의 비중</th>\n",
       "    </tr>\n",
       "  </thead>\n",
       "  <tbody>\n",
       "    <tr>\n",
       "      <th>0</th>\n",
       "      <td>0</td>\n",
       "      <td>9.0</td>\n",
       "      <td>0.5131</td>\n",
       "      <td>[(5, 0.23087397), (9, 0.5130918), (11, 0.18563...</td>\n",
       "    </tr>\n",
       "    <tr>\n",
       "      <th>1</th>\n",
       "      <td>1</td>\n",
       "      <td>15.0</td>\n",
       "      <td>0.3073</td>\n",
       "      <td>[(7, 0.2375306), (9, 0.23306672), (11, 0.02756...</td>\n",
       "    </tr>\n",
       "    <tr>\n",
       "      <th>2</th>\n",
       "      <td>2</td>\n",
       "      <td>9.0</td>\n",
       "      <td>0.6915</td>\n",
       "      <td>[(1, 0.11449242), (5, 0.02458592), (9, 0.69147...</td>\n",
       "    </tr>\n",
       "    <tr>\n",
       "      <th>3</th>\n",
       "      <td>3</td>\n",
       "      <td>6.0</td>\n",
       "      <td>0.5937</td>\n",
       "      <td>[(3, 0.091439694), (6, 0.59370226), (15, 0.301...</td>\n",
       "    </tr>\n",
       "    <tr>\n",
       "      <th>4</th>\n",
       "      <td>4</td>\n",
       "      <td>4.0</td>\n",
       "      <td>0.4219</td>\n",
       "      <td>[(4, 0.42189628), (7, 0.2132659), (15, 0.33334...</td>\n",
       "    </tr>\n",
       "    <tr>\n",
       "      <th>5</th>\n",
       "      <td>5</td>\n",
       "      <td>10.0</td>\n",
       "      <td>0.3514</td>\n",
       "      <td>[(10, 0.35137677), (12, 0.32564983), (15, 0.28...</td>\n",
       "    </tr>\n",
       "    <tr>\n",
       "      <th>6</th>\n",
       "      <td>6</td>\n",
       "      <td>3.0</td>\n",
       "      <td>0.5233</td>\n",
       "      <td>[(1, 0.019374022), (2, 0.01494117), (3, 0.5233...</td>\n",
       "    </tr>\n",
       "    <tr>\n",
       "      <th>7</th>\n",
       "      <td>7</td>\n",
       "      <td>15.0</td>\n",
       "      <td>0.5059</td>\n",
       "      <td>[(6, 0.047417477), (9, 0.39998895), (11, 0.033...</td>\n",
       "    </tr>\n",
       "    <tr>\n",
       "      <th>8</th>\n",
       "      <td>8</td>\n",
       "      <td>9.0</td>\n",
       "      <td>0.2472</td>\n",
       "      <td>[(1, 0.03596415), (3, 0.13737412), (9, 0.24723...</td>\n",
       "    </tr>\n",
       "    <tr>\n",
       "      <th>9</th>\n",
       "      <td>9</td>\n",
       "      <td>15.0</td>\n",
       "      <td>0.5325</td>\n",
       "      <td>[(1, 0.0610189), (3, 0.040366177), (6, 0.07430...</td>\n",
       "    </tr>\n",
       "  </tbody>\n",
       "</table>\n",
       "</div>"
      ],
      "text/plain": [
       "   문서 번호  가장 비중이 높은 토픽  가장 높은 토픽의 비중  \\\n",
       "0      0           9.0        0.5131   \n",
       "1      1          15.0        0.3073   \n",
       "2      2           9.0        0.6915   \n",
       "3      3           6.0        0.5937   \n",
       "4      4           4.0        0.4219   \n",
       "5      5          10.0        0.3514   \n",
       "6      6           3.0        0.5233   \n",
       "7      7          15.0        0.5059   \n",
       "8      8           9.0        0.2472   \n",
       "9      9          15.0        0.5325   \n",
       "\n",
       "                                            각 토픽의 비중  \n",
       "0  [(5, 0.23087397), (9, 0.5130918), (11, 0.18563...  \n",
       "1  [(7, 0.2375306), (9, 0.23306672), (11, 0.02756...  \n",
       "2  [(1, 0.11449242), (5, 0.02458592), (9, 0.69147...  \n",
       "3  [(3, 0.091439694), (6, 0.59370226), (15, 0.301...  \n",
       "4  [(4, 0.42189628), (7, 0.2132659), (15, 0.33334...  \n",
       "5  [(10, 0.35137677), (12, 0.32564983), (15, 0.28...  \n",
       "6  [(1, 0.019374022), (2, 0.01494117), (3, 0.5233...  \n",
       "7  [(6, 0.047417477), (9, 0.39998895), (11, 0.033...  \n",
       "8  [(1, 0.03596415), (3, 0.13737412), (9, 0.24723...  \n",
       "9  [(1, 0.0610189), (3, 0.040366177), (6, 0.07430...  "
      ]
     },
     "execution_count": 35,
     "metadata": {},
     "output_type": "execute_result"
    }
   ],
   "source": [
    "topictable = make_topictable_per_doc(ldamodel, corpus)\n",
    "topictable = topictable.reset_index() # 문서 번호을 의미하는 열(column)로 사용하기 위해서 인덱스 열을 하나 더 만든다.\n",
    "topictable.columns = ['문서 번호', '가장 비중이 높은 토픽', '가장 높은 토픽의 비중', '각 토픽의 비중']\n",
    "topictable[:10]"
   ]
  },
  {
   "cell_type": "markdown",
   "metadata": {},
   "source": [
    "###  잠재 디리클레 할당(LDA) 구현 : 뉴스 기사 헤드라인 "
   ]
  },
  {
   "cell_type": "code",
   "execution_count": 36,
   "metadata": {},
   "outputs": [],
   "source": [
    "import pandas as pd\n",
    "import urllib.request\n",
    "urllib.request.urlretrieve(\"https://raw.githubusercontent.com/franciscadias/data/master/abcnews-date-text.csv\", filename=\"abcnews-date-text.csv\")\n",
    "data = pd.read_csv('abcnews-date-text.csv', error_bad_lines=False)\n",
    "# 약 15년 동안 발행되었던 뉴스 기사 제목을 모아놓은 영어 데이터"
   ]
  },
  {
   "cell_type": "code",
   "execution_count": 37,
   "metadata": {},
   "outputs": [
    {
     "name": "stdout",
     "output_type": "stream",
     "text": [
      "1082168\n"
     ]
    }
   ],
   "source": [
    "print(len(data))"
   ]
  },
  {
   "cell_type": "code",
   "execution_count": 38,
   "metadata": {},
   "outputs": [
    {
     "name": "stdout",
     "output_type": "stream",
     "text": [
      "   publish_date                                      headline_text\n",
      "0      20030219  aba decides against community broadcasting lic...\n",
      "1      20030219     act fire witnesses must be aware of defamation\n",
      "2      20030219     a g calls for infrastructure protection summit\n",
      "3      20030219           air nz staff in aust strike for pay rise\n",
      "4      20030219      air nz strike to affect australian travellers\n"
     ]
    }
   ],
   "source": [
    "print(data.head(5))"
   ]
  },
  {
   "cell_type": "code",
   "execution_count": 39,
   "metadata": {},
   "outputs": [
    {
     "data": {
      "text/html": [
       "<div>\n",
       "<style scoped>\n",
       "    .dataframe tbody tr th:only-of-type {\n",
       "        vertical-align: middle;\n",
       "    }\n",
       "\n",
       "    .dataframe tbody tr th {\n",
       "        vertical-align: top;\n",
       "    }\n",
       "\n",
       "    .dataframe thead th {\n",
       "        text-align: right;\n",
       "    }\n",
       "</style>\n",
       "<table border=\"1\" class=\"dataframe\">\n",
       "  <thead>\n",
       "    <tr style=\"text-align: right;\">\n",
       "      <th></th>\n",
       "      <th>headline_text</th>\n",
       "    </tr>\n",
       "  </thead>\n",
       "  <tbody>\n",
       "    <tr>\n",
       "      <th>0</th>\n",
       "      <td>aba decides against community broadcasting lic...</td>\n",
       "    </tr>\n",
       "    <tr>\n",
       "      <th>1</th>\n",
       "      <td>act fire witnesses must be aware of defamation</td>\n",
       "    </tr>\n",
       "    <tr>\n",
       "      <th>2</th>\n",
       "      <td>a g calls for infrastructure protection summit</td>\n",
       "    </tr>\n",
       "    <tr>\n",
       "      <th>3</th>\n",
       "      <td>air nz staff in aust strike for pay rise</td>\n",
       "    </tr>\n",
       "    <tr>\n",
       "      <th>4</th>\n",
       "      <td>air nz strike to affect australian travellers</td>\n",
       "    </tr>\n",
       "  </tbody>\n",
       "</table>\n",
       "</div>"
      ],
      "text/plain": [
       "                                       headline_text\n",
       "0  aba decides against community broadcasting lic...\n",
       "1     act fire witnesses must be aware of defamation\n",
       "2     a g calls for infrastructure protection summit\n",
       "3           air nz staff in aust strike for pay rise\n",
       "4      air nz strike to affect australian travellers"
      ]
     },
     "execution_count": 39,
     "metadata": {},
     "output_type": "execute_result"
    }
   ],
   "source": [
    "text = data[['headline_text']]\n",
    "text.head(5)"
   ]
  },
  {
   "cell_type": "code",
   "execution_count": 40,
   "metadata": {},
   "outputs": [
    {
     "name": "stderr",
     "output_type": "stream",
     "text": [
      "C:\\ProgramData\\Anaconda3\\envs\\tf20\\lib\\site-packages\\ipykernel_launcher.py:3: SettingWithCopyWarning: \n",
      "A value is trying to be set on a copy of a slice from a DataFrame.\n",
      "Try using .loc[row_indexer,col_indexer] = value instead\n",
      "\n",
      "See the caveats in the documentation: https://pandas.pydata.org/pandas-docs/stable/user_guide/indexing.html#returning-a-view-versus-a-copy\n",
      "  This is separate from the ipykernel package so we can avoid doing imports until\n"
     ]
    }
   ],
   "source": [
    "# 텍스트 전처리\n",
    "import nltk\n",
    "text['headline_text'] = text.apply(lambda row: nltk.word_tokenize(row['headline_text']), axis=1) "
   ]
  },
  {
   "cell_type": "code",
   "execution_count": 41,
   "metadata": {},
   "outputs": [
    {
     "name": "stdout",
     "output_type": "stream",
     "text": [
      "                                       headline_text\n",
      "0  [aba, decides, against, community, broadcastin...\n",
      "1  [act, fire, witnesses, must, be, aware, of, de...\n",
      "2  [a, g, calls, for, infrastructure, protection,...\n",
      "3  [air, nz, staff, in, aust, strike, for, pay, r...\n",
      "4  [air, nz, strike, to, affect, australian, trav...\n"
     ]
    }
   ],
   "source": [
    "print(text.head(5))"
   ]
  },
  {
   "cell_type": "code",
   "execution_count": 42,
   "metadata": {},
   "outputs": [
    {
     "name": "stderr",
     "output_type": "stream",
     "text": [
      "C:\\ProgramData\\Anaconda3\\envs\\tf20\\lib\\site-packages\\ipykernel_launcher.py:3: SettingWithCopyWarning: \n",
      "A value is trying to be set on a copy of a slice from a DataFrame.\n",
      "Try using .loc[row_indexer,col_indexer] = value instead\n",
      "\n",
      "See the caveats in the documentation: https://pandas.pydata.org/pandas-docs/stable/user_guide/indexing.html#returning-a-view-versus-a-copy\n",
      "  This is separate from the ipykernel package so we can avoid doing imports until\n"
     ]
    }
   ],
   "source": [
    "from nltk.corpus import stopwords\n",
    "stop = stopwords.words('english')\n",
    "text['headline_text'] = text['headline_text'].apply(lambda x: [word for word in x if word not in (stop)]) # 불용어 제거"
   ]
  },
  {
   "cell_type": "code",
   "execution_count": 43,
   "metadata": {},
   "outputs": [
    {
     "name": "stdout",
     "output_type": "stream",
     "text": [
      "                                       headline_text\n",
      "0   [aba, decides, community, broadcasting, licence]\n",
      "1    [act, fire, witnesses, must, aware, defamation]\n",
      "2     [g, calls, infrastructure, protection, summit]\n",
      "3          [air, nz, staff, aust, strike, pay, rise]\n",
      "4  [air, nz, strike, affect, australian, travellers]\n"
     ]
    }
   ],
   "source": [
    "print(text.head(5))"
   ]
  },
  {
   "cell_type": "code",
   "execution_count": 44,
   "metadata": {},
   "outputs": [
    {
     "name": "stdout",
     "output_type": "stream",
     "text": [
      "                                       headline_text\n",
      "0       [aba, decide, community, broadcast, licence]\n",
      "1      [act, fire, witness, must, aware, defamation]\n",
      "2      [g, call, infrastructure, protection, summit]\n",
      "3          [air, nz, staff, aust, strike, pay, rise]\n",
      "4  [air, nz, strike, affect, australian, travellers]\n"
     ]
    },
    {
     "name": "stderr",
     "output_type": "stream",
     "text": [
      "C:\\ProgramData\\Anaconda3\\envs\\tf20\\lib\\site-packages\\ipykernel_launcher.py:2: SettingWithCopyWarning: \n",
      "A value is trying to be set on a copy of a slice from a DataFrame.\n",
      "Try using .loc[row_indexer,col_indexer] = value instead\n",
      "\n",
      "See the caveats in the documentation: https://pandas.pydata.org/pandas-docs/stable/user_guide/indexing.html#returning-a-view-versus-a-copy\n",
      "  \n"
     ]
    }
   ],
   "source": [
    "from nltk.stem import WordNetLemmatizer\n",
    "text['headline_text'] = text['headline_text'].apply(lambda x: [WordNetLemmatizer().lemmatize(word, pos='v') for word in x]) # 표제어 추출\n",
    "print(text.head(5))"
   ]
  },
  {
   "cell_type": "code",
   "execution_count": 45,
   "metadata": {},
   "outputs": [
    {
     "name": "stdout",
     "output_type": "stream",
     "text": [
      "0       [decide, community, broadcast, licence]\n",
      "1      [fire, witness, must, aware, defamation]\n",
      "2    [call, infrastructure, protection, summit]\n",
      "3                   [staff, aust, strike, rise]\n",
      "4      [strike, affect, australian, travellers]\n",
      "Name: headline_text, dtype: object\n"
     ]
    }
   ],
   "source": [
    "tokenized_doc = text['headline_text'].apply(lambda x: [word for word in x if len(word) > 3])  # 길이가 3이하인 단어에 제거\n",
    "print(tokenized_doc[:5])"
   ]
  },
  {
   "cell_type": "markdown",
   "metadata": {},
   "source": [
    "#### TF-IDF 행렬 만들기"
   ]
  },
  {
   "cell_type": "code",
   "execution_count": 46,
   "metadata": {},
   "outputs": [
    {
     "name": "stderr",
     "output_type": "stream",
     "text": [
      "C:\\ProgramData\\Anaconda3\\envs\\tf20\\lib\\site-packages\\ipykernel_launcher.py:7: SettingWithCopyWarning: \n",
      "A value is trying to be set on a copy of a slice from a DataFrame.\n",
      "Try using .loc[row_indexer,col_indexer] = value instead\n",
      "\n",
      "See the caveats in the documentation: https://pandas.pydata.org/pandas-docs/stable/user_guide/indexing.html#returning-a-view-versus-a-copy\n",
      "  import sys\n"
     ]
    }
   ],
   "source": [
    "# 역토큰화 (토큰화 작업을 되돌림)\n",
    "detokenized_doc = []\n",
    "for i in range(len(text)):\n",
    "    t = ' '.join(tokenized_doc[i])\n",
    "    detokenized_doc.append(t)\n",
    "\n",
    "text['headline_text'] = detokenized_doc # 다시 text['headline_text']에 재저장"
   ]
  },
  {
   "cell_type": "code",
   "execution_count": 47,
   "metadata": {},
   "outputs": [
    {
     "data": {
      "text/plain": [
       "0       decide community broadcast licence\n",
       "1       fire witness must aware defamation\n",
       "2    call infrastructure protection summit\n",
       "3                   staff aust strike rise\n",
       "4      strike affect australian travellers\n",
       "Name: headline_text, dtype: object"
      ]
     },
     "execution_count": 47,
     "metadata": {},
     "output_type": "execute_result"
    }
   ],
   "source": [
    "text['headline_text'][:5]"
   ]
  },
  {
   "cell_type": "code",
   "execution_count": 48,
   "metadata": {},
   "outputs": [
    {
     "data": {
      "text/plain": [
       "(1082168, 1000)"
      ]
     },
     "execution_count": 48,
     "metadata": {},
     "output_type": "execute_result"
    }
   ],
   "source": [
    "from sklearn.feature_extraction.text import TfidfVectorizer\n",
    "vectorizer = TfidfVectorizer(stop_words='english', \n",
    "max_features= 1000) # 상위 1,000개의 단어를 보존 \n",
    "X = vectorizer.fit_transform(text['headline_text'])\n",
    "X.shape # TF-IDF 행렬의 크기 확인"
   ]
  },
  {
   "cell_type": "markdown",
   "metadata": {},
   "source": [
    "####  토픽 모델링"
   ]
  },
  {
   "cell_type": "code",
   "execution_count": 49,
   "metadata": {},
   "outputs": [],
   "source": [
    "from sklearn.decomposition import LatentDirichletAllocation\n",
    "lda_model=LatentDirichletAllocation(n_components=10,learning_method='online',random_state=777,max_iter=1)"
   ]
  },
  {
   "cell_type": "code",
   "execution_count": 50,
   "metadata": {},
   "outputs": [],
   "source": [
    "lda_top = lda_model.fit_transform(X)"
   ]
  },
  {
   "cell_type": "code",
   "execution_count": 51,
   "metadata": {},
   "outputs": [
    {
     "name": "stdout",
     "output_type": "stream",
     "text": [
      "[[1.00001533e-01 1.00001269e-01 1.00004179e-01 ... 1.00006124e-01\n",
      "  1.00003111e-01 1.00003064e-01]\n",
      " [1.00001199e-01 1.13513398e+03 3.50170830e+03 ... 1.00009349e-01\n",
      "  1.00001896e-01 1.00002937e-01]\n",
      " [1.00001811e-01 1.00001151e-01 1.00003566e-01 ... 1.00002693e-01\n",
      "  1.00002061e-01 7.53381835e+02]\n",
      " ...\n",
      " [1.00001065e-01 1.00001689e-01 1.00003278e-01 ... 1.00006721e-01\n",
      "  1.00004902e-01 1.00004759e-01]\n",
      " [1.00002401e-01 1.00000732e-01 1.00002989e-01 ... 1.00003517e-01\n",
      "  1.00001428e-01 1.00005266e-01]\n",
      " [1.00003427e-01 1.00002313e-01 1.00007340e-01 ... 1.00003732e-01\n",
      "  1.00001207e-01 1.00005153e-01]]\n",
      "(10, 1000)\n"
     ]
    }
   ],
   "source": [
    "print(lda_model.components_)\n",
    "print(lda_model.components_.shape) "
   ]
  },
  {
   "cell_type": "code",
   "execution_count": 52,
   "metadata": {},
   "outputs": [
    {
     "name": "stdout",
     "output_type": "stream",
     "text": [
      "Topic 1: [('government', 8725.19), ('sydney', 8393.29), ('queensland', 7720.12), ('change', 5874.27), ('home', 5674.38)]\n",
      "Topic 2: [('australia', 13691.08), ('australian', 11088.95), ('melbourne', 7528.43), ('world', 6707.7), ('south', 6677.03)]\n",
      "Topic 3: [('death', 5935.06), ('interview', 5924.98), ('kill', 5851.6), ('jail', 4632.85), ('life', 4275.27)]\n",
      "Topic 4: [('house', 6113.49), ('2016', 5488.19), ('state', 4923.41), ('brisbane', 4857.21), ('tasmania', 4610.97)]\n",
      "Topic 5: [('court', 7542.74), ('attack', 6959.64), ('open', 5663.0), ('face', 5193.63), ('warn', 5115.01)]\n",
      "Topic 6: [('market', 5545.86), ('rural', 5502.89), ('plan', 4828.71), ('indigenous', 4223.4), ('power', 3968.26)]\n",
      "Topic 7: [('charge', 8428.8), ('election', 7561.63), ('adelaide', 6758.36), ('make', 5658.99), ('test', 5062.69)]\n",
      "Topic 8: [('police', 12092.44), ('crash', 5281.14), ('drug', 4290.87), ('beat', 3257.58), ('rise', 2934.92)]\n",
      "Topic 9: [('fund', 4693.03), ('labor', 4047.69), ('national', 4038.68), ('council', 4006.62), ('claim', 3604.75)]\n",
      "Topic 10: [('trump', 11966.41), ('perth', 6456.53), ('report', 5611.33), ('school', 5465.06), ('woman', 5456.76)]\n"
     ]
    }
   ],
   "source": [
    "terms = vectorizer.get_feature_names() # 단어 집합. 1,000개의 단어가 저장됨.\n",
    "\n",
    "def get_topics(components, feature_names, n=5):\n",
    "    for idx, topic in enumerate(components):\n",
    "        print(\"Topic %d:\" % (idx+1), [(feature_names[i], topic[i].round(2)) for i in topic.argsort()[:-n - 1:-1]])\n",
    "        \n",
    "get_topics(lda_model.components_,terms)"
   ]
  },
  {
   "cell_type": "code",
   "execution_count": null,
   "metadata": {},
   "outputs": [],
   "source": [
    "# 20개 주제의 뉴스그룹\n",
    "# from sklearn.datasets import fetch_20newsgroups\n",
    "# newsgroups_train = fetch_20newsgroups(subset='train')\n",
    "\n",
    "# from pprint import pprint\n",
    "# pprint(list(newsgroups_train.target_names))\n",
    "\n",
    "# ['alt.atheism',\n",
    "# 'comp.graphics',\n",
    "# 'comp.os.ms-windows.misc',\n",
    "# 'comp.sys.ibm.pc.hardware',\n",
    "# 'comp.sys.mac.hardware',\n",
    "# 'comp.windows.x',\n",
    "# 'misc.forsale',\n",
    "# 'rec.autos',\n",
    "# 'rec.motorcycles',\n",
    "# 'rec.sport.baseball',\n",
    "# 'rec.sport.hockey',\n",
    "# 'sci.crypt',\n",
    "# 'sci.electronics',\n",
    "# 'sci.med',\n",
    "# 'sci.space',\n",
    "# 'soc.religion.christian',\n",
    "# 'talk.politics.guns',\n",
    "# 'talk.politics.mideast',\n",
    "# 'talk.politics.misc',\n",
    "# 'talk.religion.misc']\n"
   ]
  }
 ],
 "metadata": {
  "kernelspec": {
   "display_name": "Python 3",
   "language": "python",
   "name": "python3"
  },
  "language_info": {
   "codemirror_mode": {
    "name": "ipython",
    "version": 3
   },
   "file_extension": ".py",
   "mimetype": "text/x-python",
   "name": "python",
   "nbconvert_exporter": "python",
   "pygments_lexer": "ipython3",
   "version": "3.7.7"
  }
 },
 "nbformat": 4,
 "nbformat_minor": 4
}
