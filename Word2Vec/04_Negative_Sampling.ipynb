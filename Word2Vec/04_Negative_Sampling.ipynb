{
 "cells": [
  {
   "cell_type": "markdown",
   "metadata": {},
   "source": [
    "# Negative Sampling  : 네거티브 샘플링\n",
    "\n",
    "### Embedding과 EmbeddingDot 계층"
   ]
  },
  {
   "cell_type": "code",
   "execution_count": 1,
   "metadata": {},
   "outputs": [],
   "source": [
    "import numpy as np\n",
    "\n",
    "# Embedding 계층\n",
    "class Embedding :\n",
    "    def __init__(self,W):\n",
    "        self.params =[W]\n",
    "        self.grads = [np.zeros_like(W)]\n",
    "        self.idx = None\n",
    "    \n",
    "    # 순전파\n",
    "    def forward(self,idx):\n",
    "        W, = self.params\n",
    "        self.idx = idx\n",
    "        out = W[idx]\n",
    "        return out\n",
    "    \n",
    "    # 역전파 \n",
    "    def backward(self,dout):   \n",
    "        dW, = self.grads\n",
    "        dW[...] = 0\n",
    "        np.add.at(dW, self.idx, dout)  "
   ]
  },
  {
   "cell_type": "code",
   "execution_count": 2,
   "metadata": {},
   "outputs": [],
   "source": [
    "# EembeddingDot 계층\n",
    "class EmbeddingDot:\n",
    "    def __init__(self, W):\n",
    "        self.embed = Embedding(W)\n",
    "        self.params = self.embed.params\n",
    "        self.grads = self.embed.grads\n",
    "        self.cache = None\n",
    "\n",
    "    def forward(self, h, idx):\n",
    "        target_W = self.embed.forward(idx)\n",
    "        out = np.sum(target_W * h, axis=1)\n",
    "\n",
    "        self.cache = (h, target_W)\n",
    "        return out\n",
    "\n",
    "    def backward(self, dout):  \n",
    "        h, target_W = self.cache\n",
    "        dout = dout.reshape(dout.shape[0], 1) # \n",
    "\n",
    "        dtarget_W = dout * h\n",
    "        self.embed.backward(dtarget_W)\n",
    "        dh = dout * target_W\n",
    "        return dh    \n"
   ]
  },
  {
   "cell_type": "code",
   "execution_count": 3,
   "metadata": {},
   "outputs": [
    {
     "name": "stdout",
     "output_type": "stream",
     "text": [
      "W:\n",
      " [[ 0  1  2]\n",
      " [ 3  4  5]\n",
      " [ 6  7  8]\n",
      " [ 9 10 11]\n",
      " [12 13 14]\n",
      " [15 16 17]\n",
      " [18 19 20]]\n",
      "idx:\n",
      " [[0 3 1]]\n",
      "h:\n",
      " [[0 1 2]\n",
      " [3 4 5]\n",
      " [6 7 8]]\n",
      "target_W:\n",
      " [[ 0  1  2]\n",
      " [ 9 10 11]\n",
      " [ 3  4  5]]\n",
      "target_W*h:\n",
      " [[ 0  1  4]\n",
      " [27 40 55]\n",
      " [18 28 40]]\n",
      "out:\n",
      " [  5 122  86]\n"
     ]
    }
   ],
   "source": [
    "# EmbeddingDot 내의 forward 함수내에서 변수의 값 변화 정보\n",
    "W = np.arange(21).reshape(7,3)\n",
    "print('W:\\n',W)\n",
    "\n",
    "idx = np.array([[0,3,1]])\n",
    "print('idx:\\n',idx)\n",
    "\n",
    "h = W[[0,1,2]]\n",
    "print('h:\\n',h)\n",
    "\n",
    "embed = Embedding(W)\n",
    "target_W = embed.forward(idx) # W에서 임베딩 처리\n",
    "print('target_W:\\n',target_W.reshape(-1,3))  # 2차원으로 변환\n",
    "print('target_W*h:\\n',target_W.reshape(-1,3)*h)  \n",
    "\n",
    "out = np.sum(target_W.reshape(-1,3) * h, axis=1) # 수평방향 합\n",
    "print('out:\\n',out)"
   ]
  },
  {
   "cell_type": "markdown",
   "metadata": {},
   "source": [
    "### 네거티브 샘플링 기법"
   ]
  },
  {
   "cell_type": "code",
   "execution_count": null,
   "metadata": {},
   "outputs": [],
   "source": []
  }
 ],
 "metadata": {
  "kernelspec": {
   "display_name": "Python 3",
   "language": "python",
   "name": "python3"
  },
  "language_info": {
   "codemirror_mode": {
    "name": "ipython",
    "version": 3
   },
   "file_extension": ".py",
   "mimetype": "text/x-python",
   "name": "python",
   "nbconvert_exporter": "python",
   "pygments_lexer": "ipython3",
   "version": "3.7.7"
  }
 },
 "nbformat": 4,
 "nbformat_minor": 4
}
