{
 "cells": [
  {
   "cell_type": "markdown",
   "metadata": {},
   "source": [
    "## 미니배치 버전 파이썬 구현"
   ]
  },
  {
   "cell_type": "code",
   "execution_count": 1,
   "metadata": {},
   "outputs": [
    {
     "data": {
      "text/plain": [
       "array([[0.49245153, 0.29936207],\n",
       "       [0.51507954, 0.57353508],\n",
       "       [0.91865324, 0.18584518],\n",
       "       [0.95608476, 0.06134847],\n",
       "       [0.15862142, 0.87726553],\n",
       "       [0.25644014, 0.10089399],\n",
       "       [0.77960883, 0.23456657],\n",
       "       [0.59708145, 0.33011794],\n",
       "       [0.18723584, 0.03071016],\n",
       "       [0.45845458, 0.66160418]])"
      ]
     },
     "execution_count": 1,
     "metadata": {},
     "output_type": "execute_result"
    }
   ],
   "source": [
    "import numpy as np\n",
    "\n",
    "X = np.random.rand(10,2)\n",
    "X"
   ]
  },
  {
   "cell_type": "code",
   "execution_count": 2,
   "metadata": {},
   "outputs": [
    {
     "data": {
      "text/plain": [
       "array([[0.98336992, 0.40926849, 0.56466295, 0.11931062],\n",
       "       [0.20916166, 0.34283544, 0.48043931, 0.04074205]])"
      ]
     },
     "execution_count": 2,
     "metadata": {},
     "output_type": "execute_result"
    }
   ],
   "source": [
    "W1 = np.random.rand(2,4)\n",
    "W1"
   ]
  },
  {
   "cell_type": "code",
   "execution_count": 3,
   "metadata": {},
   "outputs": [
    {
     "data": {
      "text/plain": [
       "array([0.02678612, 0.11958098, 0.15116207, 0.80350072])"
      ]
     },
     "execution_count": 3,
     "metadata": {},
     "output_type": "execute_result"
    }
   ],
   "source": [
    "b1 = np.random.rand(4)\n",
    "b1"
   ]
  },
  {
   "cell_type": "code",
   "execution_count": 4,
   "metadata": {},
   "outputs": [
    {
     "data": {
      "text/plain": [
       "array([[0.57366321, 0.4237578 , 0.57305651, 0.87445205],\n",
       "       [0.65326139, 0.52701496, 0.7175572 , 0.88832218],\n",
       "       [0.96903378, 0.55927112, 0.75917885, 0.92067753],\n",
       "       [0.97980286, 0.53190878, 0.72050193, 0.92007125],\n",
       "       [0.36625997, 0.48525745, 0.66220255, 0.85816754],\n",
       "       [0.30006479, 0.25912389, 0.34443775, 0.83820738],\n",
       "       [0.84249233, 0.51906805, 0.7040733 , 0.90607306],\n",
       "       [0.68298607, 0.47712373, 0.64691348, 0.88818856],\n",
       "       [0.2173316 , 0.20673924, 0.27164158, 0.82709114],\n",
       "       [0.61599879, 0.53403336, 0.72789504, 0.88515433]])"
      ]
     },
     "execution_count": 4,
     "metadata": {},
     "output_type": "execute_result"
    }
   ],
   "source": [
    "H = np.matmul(X,W1) + b1\n",
    "H"
   ]
  },
  {
   "cell_type": "markdown",
   "metadata": {},
   "source": [
    "## 시그모이드 함수"
   ]
  },
  {
   "cell_type": "code",
   "execution_count": 5,
   "metadata": {},
   "outputs": [],
   "source": [
    "def sigmoid(x):\n",
    "    return 1 /(1 + np.exp(-x))"
   ]
  },
  {
   "cell_type": "code",
   "execution_count": 8,
   "metadata": {},
   "outputs": [
    {
     "data": {
      "image/png": "[encoded data removed]",
      "text/plain": [
       "<Figure size 432x288 with 1 Axes>"
      ]
     },
     "metadata": {
      "needs_background": "light"
     },
     "output_type": "display_data"
    }
   ],
   "source": [
    "import matplotlib.pyplot as plt\n",
    "zs = np.arange(-10,10,0.1)\n",
    "gs = [sigmoid(z) for z in zs]\n",
    "plt.plot(zs,gs)\n",
    "plt.xlabel('z')  # z= -(XW + b)\n",
    "plt.ylabel('1/(1+e^z)')  \n",
    "plt.show()"
   ]
  },
  {
   "cell_type": "code",
   "execution_count": 10,
   "metadata": {},
   "outputs": [
    {
     "data": {
      "text/plain": [
       "array([[0.71289182, 0.62568551, 0.70897353, 0.61895666],\n",
       "       [0.74464895, 0.6376724 , 0.74030141, 0.6509234 ],\n",
       "       [0.84710204, 0.65718104, 0.81143114, 0.72235301],\n",
       "       [0.8222872 , 0.64736928, 0.78738324, 0.69588583],\n",
       "       [0.85797972, 0.65923978, 0.81915256, 0.73042472],\n",
       "       [0.7504929 , 0.62188071, 0.71882243, 0.62457683],\n",
       "       [0.80073699, 0.62681985, 0.74896359, 0.65194783],\n",
       "       [0.84711426, 0.662031  , 0.81728857, 0.73013591],\n",
       "       [0.8179344 , 0.66651752, 0.80994022, 0.72581634],\n",
       "       [0.69294727, 0.62312678, 0.69685248, 0.60797974]])"
      ]
     },
     "execution_count": 10,
     "metadata": {},
     "output_type": "execute_result"
    }
   ],
   "source": [
    "# 1 layer logistic Regression(Binary Classification)\n",
    "X = np.random.rand(10,2)\n",
    "W1 = np.random.rand(2,4)\n",
    "b1 = np.random.rand(4)\n",
    "a = np.matmul(X,W1) + b1\n",
    "h = sigmoid(a)\n",
    "h"
   ]
  },
  {
   "cell_type": "code",
   "execution_count": 11,
   "metadata": {},
   "outputs": [
    {
     "data": {
      "text/plain": [
       "array([[0.84567828, 0.85797332, 0.94763233],\n",
       "       [0.84260219, 0.85714026, 0.94675249],\n",
       "       [0.84110161, 0.85508393, 0.94554507],\n",
       "       [0.84298674, 0.85575161, 0.94616135],\n",
       "       [0.82870327, 0.84151671, 0.93674679],\n",
       "       [0.82557859, 0.8425755 , 0.93682723],\n",
       "       [0.84044271, 0.85240287, 0.94414375],\n",
       "       [0.85026662, 0.86259326, 0.95045656],\n",
       "       [0.83597709, 0.84993314, 0.94222298],\n",
       "       [0.83772353, 0.85420063, 0.94458881]])"
      ]
     },
     "execution_count": 11,
     "metadata": {},
     "output_type": "execute_result"
    }
   ],
   "source": [
    "# 2 layer logistic Regression(Binary Classification)\n",
    "X = np.random.rand(10,2)\n",
    "W1 = np.random.rand(2,4)\n",
    "b1 = np.random.rand(4)\n",
    "\n",
    "W2 = np.random.rand(4,3)\n",
    "b2 = np.random.rand(3)\n",
    "\n",
    "# layer1\n",
    "a1 = np.matmul(X,W1) + b1\n",
    "s1 = sigmoid(a1)\n",
    "\n",
    "# layer2\n",
    "a2 = np.matmul(s1,W2) + b2\n",
    "h = sigmoid(a2)\n",
    "h"
   ]
  },
  {
   "cell_type": "code",
   "execution_count": null,
   "metadata": {},
   "outputs": [],
   "source": []
  }
 ],
 "metadata": {
  "kernelspec": {
   "display_name": "Python 3",
   "language": "python",
   "name": "python3"
  },
  "language_info": {
   "codemirror_mode": {
    "name": "ipython",
    "version": 3
   },
   "file_extension": ".py",
   "mimetype": "text/x-python",
   "name": "python",
   "nbconvert_exporter": "python",
   "pygments_lexer": "ipython3",
   "version": "3.7.7"
  }
 },
 "nbformat": 4,
 "nbformat_minor": 4
}
