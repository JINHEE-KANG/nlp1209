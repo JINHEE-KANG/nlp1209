{
 "cells": [
  {
   "cell_type": "markdown",
   "metadata": {},
   "source": [
    "## Repeat 노드"
   ]
  },
  {
   "cell_type": "code",
   "execution_count": 1,
   "metadata": {},
   "outputs": [
    {
     "name": "stdout",
     "output_type": "stream",
     "text": [
      "[[0.98464139 0.49048847 0.42607336 0.98316331 0.37831603 0.88626599\n",
      "  0.10978689 0.29821793]] (1, 8)\n",
      "----------------------------------------------------------------------\n",
      "[[0.98464139 0.49048847 0.42607336 0.98316331 0.37831603 0.88626599\n",
      "  0.10978689 0.29821793]\n",
      " [0.98464139 0.49048847 0.42607336 0.98316331 0.37831603 0.88626599\n",
      "  0.10978689 0.29821793]\n",
      " [0.98464139 0.49048847 0.42607336 0.98316331 0.37831603 0.88626599\n",
      "  0.10978689 0.29821793]\n",
      " [0.98464139 0.49048847 0.42607336 0.98316331 0.37831603 0.88626599\n",
      "  0.10978689 0.29821793]\n",
      " [0.98464139 0.49048847 0.42607336 0.98316331 0.37831603 0.88626599\n",
      "  0.10978689 0.29821793]\n",
      " [0.98464139 0.49048847 0.42607336 0.98316331 0.37831603 0.88626599\n",
      "  0.10978689 0.29821793]\n",
      " [0.98464139 0.49048847 0.42607336 0.98316331 0.37831603 0.88626599\n",
      "  0.10978689 0.29821793]] (7, 8)\n"
     ]
    }
   ],
   "source": [
    "import numpy as np\n",
    "\n",
    "# 순전파\n",
    "\n",
    "D = 8\n",
    "N = 7\n",
    "x = np.random.rand(1,D)  # (1,8)\n",
    "print(x,x.shape)\n",
    "print('-'*70)\n",
    "y = np.repeat(x,N,axis=0) # 수직(행) 방향, axis=0\n",
    "print(y,y.shape)  # (7, 8)"
   ]
  },
  {
   "cell_type": "code",
   "execution_count": 2,
   "metadata": {},
   "outputs": [
    {
     "name": "stdout",
     "output_type": "stream",
     "text": [
      "[[0.92942619 0.88428578 0.7815684  0.23331843 0.68659236 0.50835045\n",
      "  0.87847553 0.30686912]\n",
      " [0.40213774 0.68305346 0.71574115 0.26705852 0.23877958 0.77569125\n",
      "  0.64786764 0.61605516]\n",
      " [0.25052868 0.73648266 0.76678539 0.4353342  0.95079563 0.66886276\n",
      "  0.65992732 0.62046873]\n",
      " [0.11484573 0.69195357 0.69274725 0.36464462 0.61243722 0.36790793\n",
      "  0.65526439 0.77894261]\n",
      " [0.02197094 0.45748985 0.5626363  0.72881775 0.22739487 0.14350542\n",
      "  0.08924889 0.59530961]\n",
      " [0.59422574 0.11156782 0.30013335 0.80947428 0.03458263 0.2219526\n",
      "  0.78129459 0.48524591]\n",
      " [0.04522572 0.6929016  0.66870805 0.31988421 0.01306605 0.41252246\n",
      "  0.24946558 0.12969223]] (7, 8)\n",
      "----------------------------------------------------------------------\n",
      "[[2.35836074 4.25773473 4.48831989 3.15853201 2.76364834 3.09879287\n",
      "  3.96154394 3.53258338]] (1, 8)\n"
     ]
    }
   ],
   "source": [
    "# 역전파\n",
    "dy = np.random.rand(N,D)\n",
    "print(dy,dy.shape) # (7,8)\n",
    "print('-'*70)\n",
    "dx = np.sum(dy,axis=0,keepdims=True) # 수직방향 합, keepdims=True이면 2차원, False면 1차원\n",
    "print(dx,dx.shape)  # (1, 8)"
   ]
  },
  {
   "cell_type": "markdown",
   "metadata": {},
   "source": [
    "## Sum 노드"
   ]
  },
  {
   "cell_type": "code",
   "execution_count": 3,
   "metadata": {},
   "outputs": [
    {
     "name": "stdout",
     "output_type": "stream",
     "text": [
      "[[0.14538154 0.75266704 0.13197914 0.48909148 0.16032056 0.91163882\n",
      "  0.36734968 0.25321796]\n",
      " [0.07042295 0.60189344 0.67767471 0.64685268 0.87968682 0.95223929\n",
      "  0.25440498 0.17842315]\n",
      " [0.19917434 0.85799823 0.65063199 0.51839233 0.81366655 0.00335559\n",
      "  0.75276476 0.17299372]\n",
      " [0.54600705 0.56527184 0.33828113 0.9562252  0.2259496  0.43367956\n",
      "  0.93500879 0.6657254 ]\n",
      " [0.6660561  0.84180756 0.92952239 0.41996266 0.70512114 0.46046351\n",
      "  0.93153965 0.51962901]\n",
      " [0.78538897 0.41095538 0.74110791 0.28575719 0.56584264 0.38847871\n",
      "  0.40817188 0.31820304]\n",
      " [0.74712394 0.44106787 0.45521308 0.45560096 0.34987415 0.96508964\n",
      "  0.06156707 0.17341111]] (7, 8)\n",
      "----------------------------------------------------------------------\n",
      "[[3.15955488 4.47166135 3.92441035 3.7718825  3.70046147 4.11494513\n",
      "  3.71080682 2.28160339]] (1, 8)\n"
     ]
    }
   ],
   "source": [
    "# 순전파\n",
    "\n",
    "D,N = 8,7\n",
    "x = np.random.rand(N,D)  # (7,8)\n",
    "print(x,x.shape)\n",
    "print('-'*70)\n",
    "y = np.sum(x,axis=0,keepdims=True) # 수직방향 합, keepdims=True이면 2차원, False면 1차원\n",
    "print(y,y.shape)  # (1, 8)"
   ]
  },
  {
   "cell_type": "code",
   "execution_count": 4,
   "metadata": {},
   "outputs": [
    {
     "name": "stdout",
     "output_type": "stream",
     "text": [
      "[[0.01812258 0.35396635 0.79576305 0.05420123 0.86834065 0.5021818\n",
      "  0.39468069 0.07935902]] (1, 8)\n",
      "----------------------------------------------------------------------\n",
      "[[0.01812258 0.35396635 0.79576305 0.05420123 0.86834065 0.5021818\n",
      "  0.39468069 0.07935902]\n",
      " [0.01812258 0.35396635 0.79576305 0.05420123 0.86834065 0.5021818\n",
      "  0.39468069 0.07935902]\n",
      " [0.01812258 0.35396635 0.79576305 0.05420123 0.86834065 0.5021818\n",
      "  0.39468069 0.07935902]\n",
      " [0.01812258 0.35396635 0.79576305 0.05420123 0.86834065 0.5021818\n",
      "  0.39468069 0.07935902]\n",
      " [0.01812258 0.35396635 0.79576305 0.05420123 0.86834065 0.5021818\n",
      "  0.39468069 0.07935902]\n",
      " [0.01812258 0.35396635 0.79576305 0.05420123 0.86834065 0.5021818\n",
      "  0.39468069 0.07935902]\n",
      " [0.01812258 0.35396635 0.79576305 0.05420123 0.86834065 0.5021818\n",
      "  0.39468069 0.07935902]] (7, 8)\n"
     ]
    }
   ],
   "source": [
    "#역전파\n",
    "\n",
    "D = 8\n",
    "N = 7\n",
    "x = np.random.rand(1,D)  # (1,8)\n",
    "print(x,x.shape)\n",
    "print('-'*70)\n",
    "y = np.repeat(x,N,axis=0) # 수직(행) 방향, axis=0\n",
    "print(y,y.shape)  # (7, 8)"
   ]
  },
  {
   "cell_type": "markdown",
   "metadata": {},
   "source": [
    "## MatMul 노드"
   ]
  },
  {
   "cell_type": "code",
   "execution_count": 5,
   "metadata": {},
   "outputs": [],
   "source": [
    "class MatMul:\n",
    "    def __init__(self,W):\n",
    "        self.params = [W]\n",
    "        self.grads = [np.zeros_like(W)]\n",
    "        self.x = None\n",
    "        \n",
    "    def forward(self,x):\n",
    "        W = self.params\n",
    "        out = np.dot(x,W)\n",
    "        self.x = x\n",
    "        return out\n",
    "    \n",
    "    def backward(self,dout):\n",
    "        W = self.params\n",
    "        dx = np.dot(dout,W.T)\n",
    "        dW = np.dot(self.x.T,dout)\n",
    "        self.grads[0][...] = dw  # 깊은 복사\n",
    "        return dx        "
   ]
  },
  {
   "cell_type": "code",
   "execution_count": 6,
   "metadata": {},
   "outputs": [
    {
     "name": "stdout",
     "output_type": "stream",
     "text": [
      "[4 5 6]\n"
     ]
    },
    {
     "data": {
      "text/plain": [
       "True"
      ]
     },
     "execution_count": 6,
     "metadata": {},
     "output_type": "execute_result"
    }
   ],
   "source": [
    "a = np.array([1, 2, 3])\n",
    "b = np.array([4, 5, 6])\n",
    "a = b\n",
    "print(a)\n",
    "id(a) == id(b)"
   ]
  },
  {
   "cell_type": "code",
   "execution_count": 7,
   "metadata": {},
   "outputs": [
    {
     "name": "stdout",
     "output_type": "stream",
     "text": [
      "[4 5 6]\n"
     ]
    },
    {
     "data": {
      "text/plain": [
       "False"
      ]
     },
     "execution_count": 7,
     "metadata": {},
     "output_type": "execute_result"
    }
   ],
   "source": [
    "a = np.array([1, 2, 3])\n",
    "b = np.array([4, 5, 6])\n",
    "a[...] = b\n",
    "print(a)\n",
    "id(a) == id(b)"
   ]
  },
  {
   "cell_type": "code",
   "execution_count": 8,
   "metadata": {},
   "outputs": [
    {
     "data": {
      "text/plain": [
       "array([[0, 0, 0, 0],\n",
       "       [0, 0, 0, 0],\n",
       "       [0, 0, 0, 0]])"
      ]
     },
     "execution_count": 8,
     "metadata": {},
     "output_type": "execute_result"
    }
   ],
   "source": [
    "# np.zeros_like\n",
    "a = np.arange(12).reshape(3,4)\n",
    "b = np.zeros_like(a)\n",
    "b"
   ]
  },
  {
   "cell_type": "markdown",
   "metadata": {},
   "source": [
    "## 시그모이드 계층"
   ]
  },
  {
   "cell_type": "code",
   "execution_count": 9,
   "metadata": {},
   "outputs": [],
   "source": [
    "class Sigmoid:\n",
    "    def __init__(self):\n",
    "        self.params,self.grads = [],[]\n",
    "        self.out = None\n",
    "        \n",
    "    def forward(self,x):\n",
    "        out = 1 / (1 + np.exp(-x))\n",
    "        self.out = out\n",
    "        return out\n",
    "    \n",
    "    def backward(self,dout):\n",
    "        dx = dout * self.out * (1 - self.out)  # 공식 도출은 참고서적 참조\n",
    "        return dx"
   ]
  },
  {
   "cell_type": "markdown",
   "metadata": {},
   "source": [
    "## Affine 계층 : MatMul 노드 에 bias를  더한 계층 "
   ]
  },
  {
   "cell_type": "code",
   "execution_count": 10,
   "metadata": {},
   "outputs": [],
   "source": [
    "class Affine:\n",
    "    def __init__(self,W,b):\n",
    "        self.params = [W,b]\n",
    "        self.grads = [np.zeros_like(W),np.zeros_like(b)]\n",
    "        self.x = None\n",
    "        \n",
    "    def forward(self,x):\n",
    "        W, b = self.params\n",
    "        out = np.dot(x,W) + b\n",
    "        self.x = x\n",
    "        return out \n",
    "    \n",
    "    def backward(self,dout):\n",
    "        W, = self.params\n",
    "        dx = np.dot(dout,W.T)\n",
    "        dW = np.dot(self.x.T,dout)\n",
    "        db = np.sum(dout,axis=0)\n",
    "        \n",
    "        self.grads[0][...] = dW\n",
    "        self.grads[1][...] = db\n",
    "        return dx"
   ]
  },
  {
   "cell_type": "code",
   "execution_count": 11,
   "metadata": {},
   "outputs": [
    {
     "name": "stdout",
     "output_type": "stream",
     "text": [
      "[[0 0 0]] <class 'numpy.ndarray'>\n"
     ]
    }
   ],
   "source": [
    "a = np.zeros_like([[1,2,3]]) # 인자와 shape이 같은 배열을 모든 요소를 0으로 생성\n",
    "print(a,type(a))"
   ]
  },
  {
   "cell_type": "markdown",
   "metadata": {},
   "source": [
    "## Softmax with Loss 계층"
   ]
  },
  {
   "cell_type": "code",
   "execution_count": 12,
   "metadata": {},
   "outputs": [],
   "source": [
    "class SoftmaxWithLoss:\n",
    "    def __init__(self):\n",
    "        self.params,self.grads = [], []\n",
    "        self.y = None    # softmax의 출력 값\n",
    "        self.t = None    # 정답 레이블\n",
    "        \n",
    "    def softmax(self,x):\n",
    "        if x.ndim == 2:\n",
    "            x = x - x.max(axis=1, keepdims=True)\n",
    "            x = np.exp(x)\n",
    "            x /= x.sum(axis=1, keepdims=True)\n",
    "        elif x.ndim == 1:\n",
    "            x = x - np.max(x)\n",
    "            x = np.exp(x) / np.sum(np.exp(x))\n",
    "        return x \n",
    "    \n",
    "    def cross_entropy_error(self,y, t):\n",
    "        if y.ndim == 1:\n",
    "            t = t.reshape(1, t.size)\n",
    "            y = y.reshape(1, y.size)\n",
    "\n",
    "        # 정답 데이터가 원핫 벡터일 경우 정답 레이블 인덱스로 변환\n",
    "        if t.size == y.size:\n",
    "            t = t.argmax(axis=1)\n",
    "\n",
    "        batch_size = y.shape[0]\n",
    "\n",
    "        return -np.sum(np.log(y[np.arange(batch_size), t] + 1e-7)) / batch_size\n",
    "          \n",
    "    \n",
    "    def forward(self, x, t):\n",
    "        self.t = t\n",
    "        self.y = self.softmax(x)\n",
    "\n",
    "        # 정답 레이블이 원핫 벡터일 경우 정답의 인덱스로 변환\n",
    "        if self.t.size == self.y.size:\n",
    "            self.t = self.t.argmax(axis=1)\n",
    "\n",
    "        loss = self.cross_entropy_error(self.y, self.t)\n",
    "        return loss\n",
    "     \n",
    "    def backward(self,dout=1):\n",
    "        batch_size = self.t.shape[0]\n",
    "\n",
    "        # dx = (self.y - self.t)/batch_size # 순수 Softmax계층 일경우\n",
    "        \n",
    "        dx = self.y.copy()\n",
    "        dx[np.arange(batch_size), self.t] -= 1\n",
    "        dx *= dout\n",
    "        dx = dx / batch_size\n",
    "        return dx"
   ]
  },
  {
   "cell_type": "markdown",
   "metadata": {},
   "source": [
    "## 가중치 갱신"
   ]
  },
  {
   "cell_type": "code",
   "execution_count": 13,
   "metadata": {},
   "outputs": [],
   "source": [
    "# 확률적 경사하강법(Stochastic Gradient Descent)\n",
    "class SGD :\n",
    "    def __init__(self,lr=0.01):\n",
    "        self.lr = lr\n",
    "        \n",
    "    def update(self,params,grads):\n",
    "        for i in range(len(params)):\n",
    "            params[i] -= self.lr*grads[i]"
   ]
  },
  {
   "cell_type": "code",
   "execution_count": 14,
   "metadata": {},
   "outputs": [],
   "source": [
    "class Adam:\n",
    "    '''\n",
    "    Adam (http://arxiv.org/abs/1412.6980v8)\n",
    "    \n",
    "    '''\n",
    "    def __init__(self, lr=0.001, beta1=0.9, beta2=0.999):\n",
    "        self.lr = lr\n",
    "        self.beta1 = beta1\n",
    "        self.beta2 = beta2\n",
    "        self.iter = 0\n",
    "        self.m = None\n",
    "        self.v = None\n",
    "        \n",
    "    def update(self, params, grads):\n",
    "        if self.m is None:\n",
    "            self.m, self.v = [], []\n",
    "            for param in params:\n",
    "                self.m.append(np.zeros_like(param))\n",
    "                self.v.append(np.zeros_like(param))\n",
    "        \n",
    "        self.iter += 1\n",
    "        lr_t = self.lr * np.sqrt(1.0 - self.beta2**self.iter) / (1.0 - self.beta1**self.iter)\n",
    "\n",
    "        for i in range(len(params)):\n",
    "            self.m[i] += (1 - self.beta1) * (grads[i] - self.m[i])\n",
    "            self.v[i] += (1 - self.beta2) * (grads[i]**2 - self.v[i])\n",
    "            \n",
    "            params[i] -= lr_t * self.m[i] / (np.sqrt(self.v[i]) + 1e-7)\n",
    "            \n",
    "# https://dalpo0814.tistory.com/29"
   ]
  }
 ],
 "metadata": {
  "kernelspec": {
   "display_name": "Python 3",
   "language": "python",
   "name": "python3"
  },
  "language_info": {
   "codemirror_mode": {
    "name": "ipython",
    "version": 3
   },
   "file_extension": ".py",
   "mimetype": "text/x-python",
   "name": "python",
   "nbconvert_exporter": "python",
   "pygments_lexer": "ipython3",
   "version": "3.7.7"
  }
 },
 "nbformat": 4,
 "nbformat_minor": 4
}
