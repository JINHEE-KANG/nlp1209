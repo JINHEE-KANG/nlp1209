{
 "cells": [
  {
   "cell_type": "markdown",
   "metadata": {},
   "source": [
    "## Repeat 노드"
   ]
  },
  {
   "cell_type": "code",
   "execution_count": 1,
   "metadata": {},
   "outputs": [
    {
     "name": "stdout",
     "output_type": "stream",
     "text": [
      "[[0.52781263 0.97286701 0.38888237 0.53222858 0.2224099  0.38495747\n",
      "  0.12059257 0.76510621]] (1, 8)\n",
      "----------------------------------------------------------------------\n",
      "[[0.52781263 0.97286701 0.38888237 0.53222858 0.2224099  0.38495747\n",
      "  0.12059257 0.76510621]\n",
      " [0.52781263 0.97286701 0.38888237 0.53222858 0.2224099  0.38495747\n",
      "  0.12059257 0.76510621]\n",
      " [0.52781263 0.97286701 0.38888237 0.53222858 0.2224099  0.38495747\n",
      "  0.12059257 0.76510621]\n",
      " [0.52781263 0.97286701 0.38888237 0.53222858 0.2224099  0.38495747\n",
      "  0.12059257 0.76510621]\n",
      " [0.52781263 0.97286701 0.38888237 0.53222858 0.2224099  0.38495747\n",
      "  0.12059257 0.76510621]\n",
      " [0.52781263 0.97286701 0.38888237 0.53222858 0.2224099  0.38495747\n",
      "  0.12059257 0.76510621]\n",
      " [0.52781263 0.97286701 0.38888237 0.53222858 0.2224099  0.38495747\n",
      "  0.12059257 0.76510621]] (7, 8)\n"
     ]
    }
   ],
   "source": [
    "import numpy as np\n",
    "\n",
    "# 순전파\n",
    "\n",
    "D = 8\n",
    "N = 7\n",
    "x = np.random.rand(1,D)  # (1,8)\n",
    "print(x,x.shape)\n",
    "print('-'*70)\n",
    "y = np.repeat(x,N,axis=0) # 수직(행) 방향, axis=0\n",
    "print(y,y.shape)  # (7, 8)"
   ]
  },
  {
   "cell_type": "code",
   "execution_count": 2,
   "metadata": {},
   "outputs": [
    {
     "name": "stdout",
     "output_type": "stream",
     "text": [
      "[[0.05051161 0.92046602 0.74464169 0.11493337 0.31160336 0.11636491\n",
      "  0.86639924 0.24619157]\n",
      " [0.31855904 0.00735901 0.92810823 0.94930472 0.08278947 0.87219092\n",
      "  0.7095227  0.06142227]\n",
      " [0.15357785 0.32640322 0.82331333 0.9836446  0.58166202 0.0111699\n",
      "  0.01353731 0.86140361]\n",
      " [0.40436167 0.62460307 0.41230121 0.65390828 0.21233881 0.27445325\n",
      "  0.48096127 0.41496532]\n",
      " [0.02149247 0.86799273 0.0014539  0.8337664  0.77688202 0.38300503\n",
      "  0.04646075 0.52660719]\n",
      " [0.512755   0.45123398 0.1870406  0.33081956 0.36481371 0.68229871\n",
      "  0.63401982 0.94995147]\n",
      " [0.26522045 0.16140957 0.95686626 0.78619958 0.85361849 0.07642411\n",
      "  0.74091676 0.9360373 ]] (7, 8)\n",
      "----------------------------------------------------------------------\n",
      "[[1.7264781  3.35946762 4.05372521 4.65257652 3.18370788 2.41590682\n",
      "  3.49181786 3.99657872]] (1, 8)\n"
     ]
    }
   ],
   "source": [
    "# 역전파\n",
    "dy = np.random.rand(N,D)\n",
    "print(dy,dy.shape) # (7,8)\n",
    "print('-'*70)\n",
    "dx = np.sum(dy,axis=0,keepdims=True) # 수직방향 합, keepdims=True이면 2차원, False면 1차원\n",
    "print(dx,dx.shape)  # (1, 8)"
   ]
  },
  {
   "cell_type": "markdown",
   "metadata": {},
   "source": [
    "## Sum 노드"
   ]
  },
  {
   "cell_type": "code",
   "execution_count": 3,
   "metadata": {},
   "outputs": [
    {
     "name": "stdout",
     "output_type": "stream",
     "text": [
      "[[0.50363913 0.42285661 0.50033386 0.15786793 0.41346745 0.82639798\n",
      "  0.52089699 0.65303515]\n",
      " [0.9520493  0.02816572 0.15816886 0.47118711 0.61270055 0.34575245\n",
      "  0.19411853 0.31812849]\n",
      " [0.62114003 0.47145639 0.85532117 0.24643182 0.53705214 0.34009574\n",
      "  0.24686807 0.37382494]\n",
      " [0.14363399 0.30855732 0.20444118 0.13451595 0.4236308  0.53324504\n",
      "  0.16026627 0.57449044]\n",
      " [0.19068842 0.40921259 0.35856784 0.97704517 0.75484719 0.3954346\n",
      "  0.78287182 0.19587096]\n",
      " [0.53672052 0.82493644 0.97268654 0.06290922 0.87102271 0.24115837\n",
      "  0.26034133 0.63262435]\n",
      " [0.92428693 0.1889949  0.36977863 0.43300551 0.12818967 0.96454601\n",
      "  0.31569538 0.10105209]] (7, 8)\n",
      "----------------------------------------------------------------------\n",
      "[[3.87215832 2.65417997 3.41929808 2.48296271 3.74091052 3.64663018\n",
      "  2.48105839 2.84902642]] (1, 8)\n"
     ]
    }
   ],
   "source": [
    "# 순전파\n",
    "\n",
    "D,N = 8,7\n",
    "x = np.random.rand(N,D)  # (7,8)\n",
    "print(x,x.shape)\n",
    "print('-'*70)\n",
    "y = np.sum(x,axis=0,keepdims=True) # 수직방향 합, keepdims=True이면 2차원, False면 1차원\n",
    "print(y,y.shape)  # (1, 8)"
   ]
  },
  {
   "cell_type": "code",
   "execution_count": 4,
   "metadata": {},
   "outputs": [
    {
     "name": "stdout",
     "output_type": "stream",
     "text": [
      "[[0.06190169 0.21432366 0.41796928 0.48630209 0.6765318  0.40324439\n",
      "  0.99919614 0.94452115]] (1, 8)\n",
      "----------------------------------------------------------------------\n",
      "[[0.06190169 0.21432366 0.41796928 0.48630209 0.6765318  0.40324439\n",
      "  0.99919614 0.94452115]\n",
      " [0.06190169 0.21432366 0.41796928 0.48630209 0.6765318  0.40324439\n",
      "  0.99919614 0.94452115]\n",
      " [0.06190169 0.21432366 0.41796928 0.48630209 0.6765318  0.40324439\n",
      "  0.99919614 0.94452115]\n",
      " [0.06190169 0.21432366 0.41796928 0.48630209 0.6765318  0.40324439\n",
      "  0.99919614 0.94452115]\n",
      " [0.06190169 0.21432366 0.41796928 0.48630209 0.6765318  0.40324439\n",
      "  0.99919614 0.94452115]\n",
      " [0.06190169 0.21432366 0.41796928 0.48630209 0.6765318  0.40324439\n",
      "  0.99919614 0.94452115]\n",
      " [0.06190169 0.21432366 0.41796928 0.48630209 0.6765318  0.40324439\n",
      "  0.99919614 0.94452115]] (7, 8)\n"
     ]
    }
   ],
   "source": [
    "#역전파\n",
    "\n",
    "D = 8\n",
    "N = 7\n",
    "x = np.random.rand(1,D)  # (1,8)\n",
    "print(x,x.shape)\n",
    "print('-'*70)\n",
    "y = np.repeat(x,N,axis=0) # 수직(행) 방향, axis=0\n",
    "print(y,y.shape)  # (7, 8)"
   ]
  },
  {
   "cell_type": "markdown",
   "metadata": {},
   "source": [
    "## MatMul 노드"
   ]
  },
  {
   "cell_type": "code",
   "execution_count": 5,
   "metadata": {},
   "outputs": [],
   "source": [
    "class MatMul:\n",
    "    def __init__(self,W):\n",
    "        self.params = [W]\n",
    "        self.grads = [np.zeros_like(W)]\n",
    "        self.x = None\n",
    "        \n",
    "    def forward(self,x):\n",
    "        W = self.params\n",
    "        out = np.dot(x,W)\n",
    "        self.x = x\n",
    "        return out\n",
    "    \n",
    "    def backward(self,dout):\n",
    "        W = self.params\n",
    "        dx = np.dot(dout,W.T)\n",
    "        dW = np.dot(self.x.T,dout)\n",
    "        self.grads[0][...] = dw  # 깊은 복사\n",
    "        return dx        "
   ]
  },
  {
   "cell_type": "code",
   "execution_count": 6,
   "metadata": {},
   "outputs": [
    {
     "name": "stdout",
     "output_type": "stream",
     "text": [
      "[4 5 6]\n"
     ]
    },
    {
     "data": {
      "text/plain": [
       "True"
      ]
     },
     "execution_count": 6,
     "metadata": {},
     "output_type": "execute_result"
    }
   ],
   "source": [
    "a = np.array([1, 2, 3])\n",
    "b = np.array([4, 5, 6])\n",
    "a = b\n",
    "print(a)\n",
    "id(a) == id(b)"
   ]
  },
  {
   "cell_type": "code",
   "execution_count": 7,
   "metadata": {},
   "outputs": [
    {
     "name": "stdout",
     "output_type": "stream",
     "text": [
      "[4 5 6]\n"
     ]
    },
    {
     "data": {
      "text/plain": [
       "False"
      ]
     },
     "execution_count": 7,
     "metadata": {},
     "output_type": "execute_result"
    }
   ],
   "source": [
    "a = np.array([1, 2, 3])\n",
    "b = np.array([4, 5, 6])\n",
    "a[...] = b\n",
    "print(a)\n",
    "id(a) == id(b)"
   ]
  },
  {
   "cell_type": "code",
   "execution_count": 8,
   "metadata": {},
   "outputs": [
    {
     "data": {
      "text/plain": [
       "array([[0, 0, 0, 0],\n",
       "       [0, 0, 0, 0],\n",
       "       [0, 0, 0, 0]])"
      ]
     },
     "execution_count": 8,
     "metadata": {},
     "output_type": "execute_result"
    }
   ],
   "source": [
    "# np.zeros_like\n",
    "a = np.arange(12).reshape(3,4)\n",
    "b = np.zeros_like(a)\n",
    "b"
   ]
  },
  {
   "cell_type": "markdown",
   "metadata": {},
   "source": [
    "## 시그모이드 계층"
   ]
  },
  {
   "cell_type": "code",
   "execution_count": 9,
   "metadata": {},
   "outputs": [],
   "source": [
    "class Sigmoid:\n",
    "    def __init__(self):\n",
    "        self.params,self.grads = [],[]\n",
    "        self.out = None\n",
    "        \n",
    "    def forward(self,x):\n",
    "        out = 1 / (1 + np.exp(-x))\n",
    "        self.out = out\n",
    "        return out\n",
    "    \n",
    "    def backward(self,dout):\n",
    "        dx = dout * self.out * (1 - self.out)  # 공식 도출은 참고서적 참조\n",
    "        return dx"
   ]
  },
  {
   "cell_type": "markdown",
   "metadata": {},
   "source": [
    "## Affine 계층 : MatMul 노드 에 bias를  더한 계층 "
   ]
  },
  {
   "cell_type": "code",
   "execution_count": 11,
   "metadata": {},
   "outputs": [],
   "source": [
    "class Affine:\n",
    "    def __init__(self,W,b):\n",
    "        self.params = [W,b]\n",
    "        self.grads = [np.zeros_like(W),np.zeros_like(b)]\n",
    "        self.x = None\n",
    "        \n",
    "    def forward(self,x):\n",
    "        W, b = self.params\n",
    "        out = np.dot(x,W) + b\n",
    "        self.x = x\n",
    "        return out \n",
    "    \n",
    "    def backward(self,dout):\n",
    "        W, = self.params\n",
    "        dx = np.dot(dout,W.T)\n",
    "        dW = np.dot(self.x.T,dout)\n",
    "        db = np.sum(dout,axis=0)\n",
    "        \n",
    "        self.grads[0][...] = dW\n",
    "        self.grads[1][...] = db\n",
    "        return dx"
   ]
  },
  {
   "cell_type": "code",
   "execution_count": 12,
   "metadata": {},
   "outputs": [
    {
     "name": "stdout",
     "output_type": "stream",
     "text": [
      "[[0 0 0]] <class 'numpy.ndarray'>\n"
     ]
    }
   ],
   "source": [
    "a = np.zeros_like([[1,2,3]]) # 인자와 shape이 같은 배열을 모든 요소를 0으로 생성\n",
    "print(a,type(a))"
   ]
  },
  {
   "cell_type": "markdown",
   "metadata": {},
   "source": [
    "## Softmax with Loss 계층"
   ]
  },
  {
   "cell_type": "code",
   "execution_count": 13,
   "metadata": {},
   "outputs": [],
   "source": [
    "class SoftmaxWithLoss:\n",
    "    def __init__(self):\n",
    "        self.params,self.grads = [], []\n",
    "        self.y = None    # softmax의 출력 값\n",
    "        self.t = None    # 정답 레이블\n",
    "        \n",
    "    def softmax(self,x):\n",
    "        if x.ndim == 2:\n",
    "            x = x - x.max(axis=1, keepdims=True)\n",
    "            x = np.exp(x)\n",
    "            x /= x.sum(axis=1, keepdims=True)\n",
    "        elif x.ndim == 1:\n",
    "            x = x - np.max(x)\n",
    "            x = np.exp(x) / np.sum(np.exp(x))\n",
    "        return x \n",
    "    \n",
    "    def cross_entropy_error(self,y, t):\n",
    "        if y.ndim == 1:\n",
    "            t = t.reshape(1, t.size)\n",
    "            y = y.reshape(1, y.size)\n",
    "\n",
    "        # 정답 데이터가 원핫 벡터일 경우 정답 레이블 인덱스로 변환\n",
    "        if t.size == y.size:\n",
    "            t = t.argmax(axis=1)\n",
    "\n",
    "        batch_size = y.shape[0]\n",
    "\n",
    "        return -np.sum(np.log(y[np.arange(batch_size), t] + 1e-7)) / batch_size\n",
    "          \n",
    "    \n",
    "    def forward(self, x, t):\n",
    "        self.t = t\n",
    "        self.y = self.softmax(x)\n",
    "\n",
    "        # 정답 레이블이 원핫 벡터일 경우 정답의 인덱스로 변환\n",
    "        if self.t.size == self.y.size:\n",
    "            self.t = self.t.argmax(axis=1)\n",
    "\n",
    "        loss = self.cross_entropy_error(self.y, self.t)\n",
    "        return loss\n",
    "     "
   ]
  },
  {
   "cell_type": "code",
   "execution_count": null,
   "metadata": {},
   "outputs": [],
   "source": []
  }
 ],
 "metadata": {
  "kernelspec": {
   "display_name": "Python 3",
   "language": "python",
   "name": "python3"
  },
  "language_info": {
   "codemirror_mode": {
    "name": "ipython",
    "version": 3
   },
   "file_extension": ".py",
   "mimetype": "text/x-python",
   "name": "python",
   "nbconvert_exporter": "python",
   "pygments_lexer": "ipython3",
   "version": "3.7.7"
  }
 },
 "nbformat": 4,
 "nbformat_minor": 4
}
