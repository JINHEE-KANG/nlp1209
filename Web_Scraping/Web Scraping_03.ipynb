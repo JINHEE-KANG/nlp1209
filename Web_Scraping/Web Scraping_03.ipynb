{
 "cells": [
  {
   "cell_type": "markdown",
   "metadata": {},
   "source": [
    "## 동적 웹 페이지 1"
   ]
  },
  {
   "cell_type": "markdown",
   "metadata": {},
   "source": [
    "# selenium\n",
    "#### : 웹페이지를 원격으로 다양한 조작을 자동화"
   ]
  },
  {
   "cell_type": "code",
   "execution_count": 16,
   "metadata": {},
   "outputs": [
    {
     "name": "stdout",
     "output_type": "stream",
     "text": [
      "HTML 요소:  <selenium.webdriver.remote.webelement.WebElement (session=\"f5e314aa465882a2fb3c7be6cb13d297\", element=\"39214ae6-cfe9-48fc-99b6-5e7ac04e6e18\")>\n",
      "태그 이름:  a\n",
      "문자열:  로그인\n",
      "href 속성:  https://auth.danawa.com/login?url=http%3A%2F%2Fwww.danawa.com%2F\n"
     ]
    }
   ],
   "source": [
    "#! pip install selenium\n",
    "from selenium import webdriver\n",
    "\n",
    "driver = webdriver.Chrome(\"chromedriver\")\n",
    "driver.implicitly_wait(3) # 드라이버가 초기화 될때가지 3초 대기\n",
    "\n",
    "driver.get(\"https://www.danawa.com/\") #  웹브라우저를 새로 연다\n",
    "\n",
    "# 크롬 개발자도구로 로그인 소스를 찾는다\n",
    "# \t\t<li class=\"my_page_service\">\n",
    "# \t\t\t<a href=\"https://auth.danawa.com/login?url=http%3A%2F%2Fwww.danawa.com%2F\">\n",
    "# \t\t\t\t<span class=\"my_serv_tit\">로그인</span>\n",
    "\n",
    "# \t\t\t</a>\n",
    "# \t\t</li>\n",
    "\n",
    "# # 로그인 스크립트 소스를 찾아냄\n",
    "login = driver.find_element_by_css_selector('li.my_page_service > a')\n",
    "\n",
    "print(\"HTML 요소: \", login)\n",
    "print(\"태그 이름: \", login.tag_name)\n",
    "print(\"문자열: \", login.text)\n",
    "print(\"href 속성: \", login.get_attribute('href'))\n",
    "\n",
    "# input()\n",
    "\n",
    "driver.close() # 웹브라우저를 닫음"
   ]
  },
  {
   "cell_type": "code",
   "execution_count": 20,
   "metadata": {},
   "outputs": [],
   "source": [
    "### 로그인 하기\n",
    "from selenium import webdriver\n",
    "\n",
    "driver = webdriver.Chrome(\"chromedriver\")\n",
    "driver.implicitly_wait(3) # 드라이버가 초기화 될때가지 3초 대기\n",
    "\n",
    "driver.get(\"https://www.danawa.com/\") #  웹브라우저를 새로 연다\n",
    "\n",
    "# 크롬 개발자도구로 로그인 소스를 찾는다\n",
    "# \t\t<li class=\"my_page_service\">\n",
    "# \t\t\t<a href=\"https://auth.danawa.com/login?url=http%3A%2F%2Fwww.danawa.com%2F\">\n",
    "# \t\t\t\t<span class=\"my_serv_tit\">로그인</span>\n",
    "\n",
    "# \t\t\t</a>\n",
    "# \t\t</li>\n",
    "\n",
    "# # 로그인 스크립트 소스를 찾아냄\n",
    "login = driver.find_element_by_css_selector('li.my_page_service > a')\n",
    "login.click()\n",
    "driver.implicitly_wait(3)\n",
    "\n",
    "my_id = \"----본인 아이디 입력하세요----\"\n",
    "my_pw = \"----본인 패스워드 입력하세요----\"\n",
    "\n",
    "\n",
    "\n",
    "# <input type=\"text\" id=\"danawa-member-login-input-id\" maxlength=\"40\" name=\"id\" class=\"int\" placeholder=\"아이디/인증 이메일\" value=\"\" style=\"z-index: 8;\">\n",
    "driver.find_element_by_id('danawa-member-login-input-id').send_keys(my_id)\n",
    "driver.implicitly_wait(2)\n",
    "\n",
    "# <input type=\"password\" maxlength=\"20\" id=\"danawa-member-login-input-pwd\" name=\"password\" class=\"int\" placeholder=\"비밀번호\" style=\"z-index: 8;\">\n",
    "driver.find_element_by_name('password').send_keys(my_pw)\n",
    "driver.implicitly_wait(2)\n",
    "\n",
    "# <button class=\"btn_login\" id=\"danawa-member-login-loginButton\" onclick=\"return false;\">로그인</button>\n",
    "driver.find_element_by_css_selector('button.btn_login').click()\n",
    "driver.implicitly_wait(2)\n",
    "\n"
   ]
  },
  {
   "cell_type": "code",
   "execution_count": null,
   "metadata": {},
   "outputs": [],
   "source": []
  },
  {
   "cell_type": "code",
   "execution_count": null,
   "metadata": {},
   "outputs": [],
   "source": []
  }
 ],
 "metadata": {
  "kernelspec": {
   "display_name": "Python 3",
   "language": "python",
   "name": "python3"
  },
  "language_info": {
   "codemirror_mode": {
    "name": "ipython",
    "version": 3
   },
   "file_extension": ".py",
   "mimetype": "text/x-python",
   "name": "python",
   "nbconvert_exporter": "python",
   "pygments_lexer": "ipython3",
   "version": "3.7.6"
  }
 },
 "nbformat": 4,
 "nbformat_minor": 4
}
