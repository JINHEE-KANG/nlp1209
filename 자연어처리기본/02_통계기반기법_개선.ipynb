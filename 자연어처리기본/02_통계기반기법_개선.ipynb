{
 "cells": [
  {
   "cell_type": "markdown",
   "metadata": {},
   "source": [
    "## 통계 기반 기법 개선하기"
   ]
  },
  {
   "cell_type": "markdown",
   "metadata": {},
   "source": [
    "## PMI : 점별 상호 정보량(Pointwise Mutual Information), log 함수"
   ]
  },
  {
   "cell_type": "markdown",
   "metadata": {},
   "source": [
    "### PPMI(Positive PMI) : 양의 상호 정보량,  PPMI(x,y) = max(0,PMI(x,y))"
   ]
  },
  {
   "cell_type": "code",
   "execution_count": 6,
   "metadata": {},
   "outputs": [],
   "source": [
    "from mynlp import preprocess,create_co_matrix,cos_similarity,most_similar\n",
    "import numpy as np\n"
   ]
  },
  {
   "cell_type": "code",
   "execution_count": 7,
   "metadata": {},
   "outputs": [
    {
     "name": "stdout",
     "output_type": "stream",
     "text": [
      "[0 1 2 3 4 1 5 6]\n",
      "{'you': 0, 'say': 1, 'goodbye': 2, 'and': 3, 'i': 4, 'hello': 5, '.': 6}\n",
      "동시발생행렬:\n",
      " [[0 1 0 0 0 0 0]\n",
      " [1 0 1 0 1 1 0]\n",
      " [0 1 0 1 0 0 0]\n",
      " [0 0 1 0 1 0 0]\n",
      " [0 1 0 1 0 0 0]\n",
      " [0 1 0 0 0 0 1]\n",
      " [0 0 0 0 0 1 0]]\n"
     ]
    },
    {
     "data": {
      "text/plain": [
       "(7, 7)"
      ]
     },
     "execution_count": 7,
     "metadata": {},
     "output_type": "execute_result"
    }
   ],
   "source": [
    "text = 'You say goodbye and I say hello.' \n",
    "corpus, word_to_id,id_to_word = preprocess(text)\n",
    "print(corpus)     # 8 개\n",
    "print(word_to_id) # 7 개\n",
    "vocab_size = len(word_to_id)   \n",
    "C = create_co_matrix(corpus,vocab_size)\n",
    "print('동시발생행렬:\\n',C)\n",
    "C.shape  # (7,7)"
   ]
  },
  {
   "cell_type": "code",
   "execution_count": 17,
   "metadata": {},
   "outputs": [
    {
     "name": "stdout",
     "output_type": "stream",
     "text": [
      "14\n",
      "[1 4 2 2 2 2 1]\n",
      "동시발생행렬:\n",
      " [[0 1 0 0 0 0 0]\n",
      " [1 0 1 0 1 1 0]\n",
      " [0 1 0 1 0 0 0]\n",
      " [0 0 1 0 1 0 0]\n",
      " [0 1 0 1 0 0 0]\n",
      " [0 1 0 0 0 0 1]\n",
      " [0 0 0 0 0 1 0]]\n",
      "PPMI:\n",
      " [[0.        1.8073549 0.        0.        0.        0.        0.       ]\n",
      " [1.8073549 0.        0.8073549 0.        0.8073549 0.8073549 0.       ]\n",
      " [0.        0.8073549 0.        1.8073549 0.        0.        0.       ]\n",
      " [0.        0.        1.8073549 0.        1.8073549 0.        0.       ]\n",
      " [0.        0.8073549 0.        1.8073549 0.        0.        0.       ]\n",
      " [0.        0.8073549 0.        0.        0.        0.        2.807355 ]\n",
      " [0.        0.        0.        0.        0.        2.807355  0.       ]]\n"
     ]
    }
   ],
   "source": [
    "M = np.zeros_like(C,dtype=np.float32) # (7,7)\n",
    "\n",
    "N = np.sum(C)        # 14 , 동시발생행렬 요소전체의 합 \n",
    "print(N)\n",
    "S = np.sum(C,axis=0) # 동시발생행렬 요소의 수직 방향 합\n",
    "print(S)  # [1 4 2 2 2 2 1]\n",
    "print('동시발생행렬:\\n',C)\n",
    "total = C.shape[0] * C.shape[1] #  49, 동시발생행렬 요소의 총갯수\n",
    "\n",
    "for i in range(C.shape[0]): # 7회\n",
    "    for j in range(C.shape[1]) : # 7회\n",
    "        # C[i,j] : 동시발생행렬의 요소한개의 값, 비교하려는 두 단어의 동시발생횟수\n",
    "        # S[0] : 동시발생행렬에서 열의 'you' 단어의 동시 발생횟수\n",
    "        # S[i] : 동시발생행렬에서 열의 한 단어의 동시 발생횟수 , 비교하려는 두단어 중 하나 ,x\n",
    "        # S[j] : 동시발생행렬에서 열 한 단어에 대해 비교하려는 나머지 단어들의 동시 발생횟수\n",
    "        # print(i,j,C[i,j])\n",
    "        # print('S[%d]:'%i,S[i],'S[%d]:'%j,S[j])\n",
    "        \n",
    "        pmi = np.log2(C[i,j]*N /(S[i]*S[j]) + 1e-8 )\n",
    "        M[i,j] = max(0,pmi) \n",
    "print('PPMI:\\n',M)  # PPMI 행렬로 변환"
   ]
  },
  {
   "cell_type": "code",
   "execution_count": 63,
   "metadata": {},
   "outputs": [],
   "source": [
    "# PPMI 행렬 변환 함수 구현 \n",
    "def ppmi(C, verbose=False, eps = 1e-8):\n",
    "    M = np.zeros_like(C, dtype=np.float32)\n",
    "    N = np.sum(C)\n",
    "    S = np.sum(C, axis=0)\n",
    "    total = C.shape[0] * C.shape[1]\n",
    "    cnt = 0\n",
    "\n",
    "    for i in range(C.shape[0]):\n",
    "        for j in range(C.shape[1]):\n",
    "            pmi = np.log2(C[i, j] * N / (S[i]*S[j]) + eps)\n",
    "            M[i, j] = max(0, pmi)\n",
    "\n",
    "            if verbose:\n",
    "                cnt += 1\n",
    "                if cnt % (total//100) == 0:  # total이 100 보다 작으면 오류!!\n",
    "                    print('%.1f%% 완료' % (100*cnt/total))\n",
    "    return M"
   ]
  },
  {
   "cell_type": "code",
   "execution_count": 35,
   "metadata": {},
   "outputs": [
    {
     "name": "stdout",
     "output_type": "stream",
     "text": [
      "[[0.        1.8073549 0.        0.        0.        0.        0.       ]\n",
      " [1.8073549 0.        0.8073549 0.        0.8073549 0.8073549 0.       ]\n",
      " [0.        0.8073549 0.        1.8073549 0.        0.        0.       ]\n",
      " [0.        0.        1.8073549 0.        1.8073549 0.        0.       ]\n",
      " [0.        0.8073549 0.        1.8073549 0.        0.        0.       ]\n",
      " [0.        0.8073549 0.        0.        0.        0.        2.807355 ]\n",
      " [0.        0.        0.        0.        0.        2.807355  0.       ]]\n"
     ]
    }
   ],
   "source": [
    "text = 'You say goodbye and I say hello.'\n",
    "corpus, word_to_id, id_to_word = preprocess(text)\n",
    "vocab_size = len(word_to_id)\n",
    "C = create_co_matrix(corpus, vocab_size)\n",
    "W = ppmi(C)\n",
    "print(W)  # 동시발생행렬보다 좀더 나은 확률에 기반한 PPMI행렬로 변환되었다"
   ]
  },
  {
   "cell_type": "markdown",
   "metadata": {},
   "source": [
    "### SVD(Singular Value Decomposition, 특잇값분해) 에 의한 차원의 축소"
   ]
  },
  {
   "attachments": {},
   "cell_type": "markdown",
   "metadata": {},
   "source": [
    "#### 차원 축소 알고리즘 정리\n",
    "- PCA(Principal Component Analysis,주성분 분석) : 데이터의 분산(variance)을 최대한 보존하면서 서로 직교하는 새 기저(축)를 찾아, 고차원 공간의 표본들을 선형 연관성이 없는 저차원 공간으로 변환하는 기법, 정방행렬인 공분산행렬(covariance matrix)을 고유벡터(eigenvector)로 분해한다\n",
    "\n",
    " https://ratsgo.github.io/machine%20learning/2017/04/24/PCA/ \n",
    "<br>\n",
    "\n",
    "- SVD(Singular Value Decomposition, 특잇값분해) : 임의의 행렬을 세 행렬의 곱으로 분해\n",
    "\n",
    "$$ X=USV^T $$\n",
    "      \n",
    "   https://angeloyeo.github.io/2019/08/01/SVD.html\n",
    "  \n",
    "   https://darkpgmr.tistory.com/106 \n",
    "\n",
    "[노트북문서화작업]\n",
    "http://www.onemathematicalcat.org/MathJaxDocumentation/MathJaxKorean/TeXSyntax_ko.html"
   ]
  },
  {
   "cell_type": "code",
   "execution_count": 38,
   "metadata": {},
   "outputs": [
    {
     "name": "stdout",
     "output_type": "stream",
     "text": [
      "[[0.        1.8073549 0.        0.        0.        0.        0.       ]\n",
      " [1.8073549 0.        0.8073549 0.        0.8073549 0.8073549 0.       ]\n",
      " [0.        0.8073549 0.        1.8073549 0.        0.        0.       ]\n",
      " [0.        0.        1.8073549 0.        1.8073549 0.        0.       ]\n",
      " [0.        0.8073549 0.        1.8073549 0.        0.        0.       ]\n",
      " [0.        0.8073549 0.        0.        0.        0.        2.807355 ]\n",
      " [0.        0.        0.        0.        0.        2.807355  0.       ]]\n"
     ]
    }
   ],
   "source": [
    "text = 'You say goodbye and I say hello.'\n",
    "corpus, word_to_id, id_to_word = preprocess(text)\n",
    "vocab_size = len(word_to_id)\n",
    "C = create_co_matrix(corpus, vocab_size)\n",
    "W = ppmi(C)\n",
    "print(W)  # (7,7)"
   ]
  },
  {
   "cell_type": "code",
   "execution_count": 46,
   "metadata": {},
   "outputs": [
    {
     "name": "stdout",
     "output_type": "stream",
     "text": [
      "[[-3.41e-01 -1.11e-16 -3.89e-16 -1.21e-01  0.00e+00  9.32e-01  2.23e-16]\n",
      " [ 0.00e+00 -5.98e-01  1.80e-01  0.00e+00 -7.81e-01  0.00e+00  0.00e+00]\n",
      " [-4.36e-01 -4.24e-17 -2.17e-16 -5.09e-01 -1.77e-17 -2.25e-01 -7.07e-01]\n",
      " [-2.61e-16 -4.98e-01  6.80e-01 -6.57e-17  5.38e-01  9.95e-17  1.20e-17]\n",
      " [-4.36e-01 -3.23e-17 -1.65e-16 -5.09e-01 -1.35e-17 -2.25e-01  7.07e-01]\n",
      " [-7.09e-01 -3.23e-17 -1.65e-16  6.84e-01 -1.35e-17 -1.71e-01  5.89e-17]\n",
      " [ 3.06e-16 -6.28e-01 -7.10e-01  8.85e-17  3.17e-01 -2.85e-16 -1.55e-17]]\n"
     ]
    }
   ],
   "source": [
    "# SVD\n",
    "U, S, V = np.linalg.svd(W)  #  PPMI 행렬 W을 밀집벡터 U로 변환\n",
    "\n",
    "np.set_printoptions(precision=2)\n",
    "print(U)"
   ]
  },
  {
   "cell_type": "code",
   "execution_count": 47,
   "metadata": {},
   "outputs": [
    {
     "name": "stdout",
     "output_type": "stream",
     "text": [
      "[[-3.41e-01 -1.11e-16]\n",
      " [ 0.00e+00 -5.98e-01]\n",
      " [-4.36e-01 -4.24e-17]\n",
      " [-2.61e-16 -4.98e-01]\n",
      " [-4.36e-01 -3.23e-17]\n",
      " [-7.09e-01 -3.23e-17]\n",
      " [ 3.06e-16 -6.28e-01]]\n"
     ]
    }
   ],
   "source": [
    "# 차원을 줄이려면 처음 2개의 요소를 꺼내면 된다\n",
    "print(U[:,:2])  # (7,7)  --> (7,2)로 축소됨"
   ]
  },
  {
   "cell_type": "code",
   "execution_count": 56,
   "metadata": {},
   "outputs": [
    {
     "name": "stdout",
     "output_type": "stream",
     "text": [
      "{'you': 0, 'say': 1, 'goodbye': 2, 'and': 3, 'i': 4, 'hello': 5, '.': 6}\n",
      "[('you', 0), ('say', 1), ('goodbye', 2), ('and', 3), ('i', 4), ('hello', 5), ('.', 6)]\n",
      "you 0\n",
      "say 1\n",
      "goodbye 2\n",
      "and 3\n",
      "i 4\n",
      "hello 5\n",
      ". 6\n"
     ]
    },
    {
     "data": {
      "image/png": "[encoded data removed]",
      "text/plain": [
       "<Figure size 432x288 with 1 Axes>"
      ]
     },
     "metadata": {
      "needs_background": "light"
     },
     "output_type": "display_data"
    }
   ],
   "source": [
    "# 시각화\n",
    "import matplotlib.pyplot as plt\n",
    "print(word_to_id)\n",
    "print(list(word_to_id.items()))\n",
    "# plt.figure(figsize=(15,5))\n",
    "\n",
    "for word, word_id in word_to_id.items(): # 7 회\n",
    "    print(word,word_id)\n",
    "    plt.annotate(word, (U[word_id, 0], U[word_id, 1]))\n",
    "\n",
    "plt.scatter(U[:,0], U[:,1], alpha=0.5) # x축이 차원 축소된 값의 0번 컬럼, y축이 차원 축소된 값의 1번 컬럼\n",
    "plt.xlabel('component_0')\n",
    "plt.ylabel('component_1')\n",
    "plt.show()\n",
    "\n",
    "# ('goodbye', 2) : [-4.363e-01 -4.241e-17]\n",
    "#     ('i', 4)   : [-4.363e-01 -3.229e-17] , 두 개의 좌표값이 거의 동일하여 그래프에 i가 안보임\n",
    "\n",
    "# 'goodbye'와 'hello', 'you'와 'i' 가 비교적 가까이 있음, 말뭉치 데이터셋이 아주 적어서 신뢰할 수 없음"
   ]
  },
  {
   "cell_type": "markdown",
   "metadata": {},
   "source": [
    "### PTB 데이터셋  : Pen Treebank 말뭉치 , word2vec의 발명자 토마스미콜로프의 웹에 게시\n",
    " https://raw.githubusercontent.com/tomsercu/lstm/master/data/ptb.train.txt"
   ]
  },
  {
   "cell_type": "code",
   "execution_count": 62,
   "metadata": {},
   "outputs": [
    {
     "name": "stdout",
     "output_type": "stream",
     "text": [
      "10000\n",
      "929589\n",
      "동시발생 수 계산 ...\n",
      "(10000, 10000)\n"
     ]
    },
    {
     "data": {
      "text/plain": [
       "array([[0, 1, 1, ..., 0, 0, 0],\n",
       "       [1, 0, 1, ..., 0, 0, 0],\n",
       "       [1, 1, 0, ..., 0, 0, 0],\n",
       "       ...,\n",
       "       [0, 0, 0, ..., 0, 0, 0],\n",
       "       [0, 0, 0, ..., 0, 0, 0],\n",
       "       [0, 0, 0, ..., 0, 0, 0]])"
      ]
     },
     "execution_count": 62,
     "metadata": {},
     "output_type": "execute_result"
    }
   ],
   "source": [
    "from dataset import ptb\n",
    "\n",
    "window_size = 2\n",
    "wordvec_size = 100  # 축소할 차원 수\n",
    "\n",
    "corpus, word_to_id, id_to_word = ptb.load_data('train')\n",
    "vocab_size = len(word_to_id)\n",
    "print(vocab_size)  # 10000\n",
    "print(len(corpus)) # 929589\n",
    "print('동시발생 수 계산 ...')\n",
    "C = create_co_matrix(corpus,vocab_size,window_size)\n",
    "print(C.shape)  # (10000, 10000)\n",
    "C"
   ]
  },
  {
   "cell_type": "code",
   "execution_count": 64,
   "metadata": {},
   "outputs": [
    {
     "name": "stdout",
     "output_type": "stream",
     "text": [
      "PPMI 계산 ....\n"
     ]
    },
    {
     "name": "stderr",
     "output_type": "stream",
     "text": [
      "C:\\ProgramData\\Anaconda3\\lib\\site-packages\\ipykernel_launcher.py:11: RuntimeWarning: overflow encountered in long_scalars\n",
      "  # This is added back by InteractiveShellApp.init_path()\n",
      "C:\\ProgramData\\Anaconda3\\lib\\site-packages\\ipykernel_launcher.py:11: RuntimeWarning: invalid value encountered in log2\n",
      "  # This is added back by InteractiveShellApp.init_path()\n"
     ]
    },
    {
     "name": "stdout",
     "output_type": "stream",
     "text": [
      "1.0% 완료\n",
      "2.0% 완료\n",
      "3.0% 완료\n",
      "4.0% 완료\n",
      "5.0% 완료\n",
      "6.0% 완료\n",
      "7.0% 완료\n",
      "8.0% 완료\n",
      "9.0% 완료\n",
      "10.0% 완료\n",
      "11.0% 완료\n",
      "12.0% 완료\n",
      "13.0% 완료\n",
      "14.0% 완료\n",
      "15.0% 완료\n",
      "16.0% 완료\n",
      "17.0% 완료\n",
      "18.0% 완료\n",
      "19.0% 완료\n",
      "20.0% 완료\n",
      "21.0% 완료\n",
      "22.0% 완료\n",
      "23.0% 완료\n",
      "24.0% 완료\n",
      "25.0% 완료\n",
      "26.0% 완료\n",
      "27.0% 완료\n",
      "28.0% 완료\n",
      "29.0% 완료\n",
      "30.0% 완료\n",
      "31.0% 완료\n",
      "32.0% 완료\n",
      "33.0% 완료\n",
      "34.0% 완료\n",
      "35.0% 완료\n",
      "36.0% 완료\n",
      "37.0% 완료\n",
      "38.0% 완료\n",
      "39.0% 완료\n",
      "40.0% 완료\n",
      "41.0% 완료\n",
      "42.0% 완료\n",
      "43.0% 완료\n",
      "44.0% 완료\n",
      "45.0% 완료\n",
      "46.0% 완료\n",
      "47.0% 완료\n",
      "48.0% 완료\n",
      "49.0% 완료\n",
      "50.0% 완료\n",
      "51.0% 완료\n",
      "52.0% 완료\n",
      "53.0% 완료\n",
      "54.0% 완료\n",
      "55.0% 완료\n",
      "56.0% 완료\n",
      "57.0% 완료\n",
      "58.0% 완료\n",
      "59.0% 완료\n",
      "60.0% 완료\n",
      "61.0% 완료\n",
      "62.0% 완료\n",
      "63.0% 완료\n",
      "64.0% 완료\n",
      "65.0% 완료\n",
      "66.0% 완료\n",
      "67.0% 완료\n",
      "68.0% 완료\n",
      "69.0% 완료\n",
      "70.0% 완료\n",
      "71.0% 완료\n",
      "72.0% 완료\n",
      "73.0% 완료\n",
      "74.0% 완료\n",
      "75.0% 완료\n",
      "76.0% 완료\n",
      "77.0% 완료\n",
      "78.0% 완료\n",
      "79.0% 완료\n",
      "80.0% 완료\n",
      "81.0% 완료\n",
      "82.0% 완료\n",
      "83.0% 완료\n",
      "84.0% 완료\n",
      "85.0% 완료\n",
      "86.0% 완료\n",
      "87.0% 완료\n",
      "88.0% 완료\n",
      "89.0% 완료\n",
      "90.0% 완료\n",
      "91.0% 완료\n",
      "92.0% 완료\n",
      "93.0% 완료\n",
      "94.0% 완료\n",
      "95.0% 완료\n",
      "96.0% 완료\n",
      "97.0% 완료\n",
      "98.0% 완료\n",
      "99.0% 완료\n",
      "100.0% 완료\n"
     ]
    }
   ],
   "source": [
    "print('PPMI 계산 ....')\n",
    "W = ppmi(C,verbose=True)"
   ]
  },
  {
   "cell_type": "code",
   "execution_count": 67,
   "metadata": {},
   "outputs": [
    {
     "name": "stdout",
     "output_type": "stream",
     "text": [
      "(10000, 10000)\n"
     ]
    },
    {
     "data": {
      "text/plain": [
       "array([[ 0.  , 19.24, 18.83, ...,  0.  ,  0.  ,  0.  ],\n",
       "       [19.24,  0.  , 18.24, ...,  0.  ,  0.  ,  0.  ],\n",
       "       [18.83, 18.24,  0.  , ...,  0.  ,  0.  ,  0.  ],\n",
       "       ...,\n",
       "       [ 0.  ,  0.  ,  0.  , ...,  0.  ,  0.  ,  0.  ],\n",
       "       [ 0.  ,  0.  ,  0.  , ...,  0.  ,  0.  ,  0.  ],\n",
       "       [ 0.  ,  0.  ,  0.  , ...,  0.  ,  0.  ,  0.  ]], dtype=float32)"
      ]
     },
     "execution_count": 67,
     "metadata": {},
     "output_type": "execute_result"
    }
   ],
   "source": [
    "print(W.shape) #  (10000, 10000)\n",
    "W"
   ]
  },
  {
   "cell_type": "code",
   "execution_count": 78,
   "metadata": {},
   "outputs": [
    {
     "name": "stdout",
     "output_type": "stream",
     "text": [
      "calculating SVD ...\n",
      "(10000, 100)\n",
      "(10000, 100)\n"
     ]
    },
    {
     "data": {
      "text/plain": [
       "array([[-1.53e-10,  1.89e-07, -4.83e-07, ...,  5.71e-05, -5.98e-05,\n",
       "         1.60e-04],\n",
       "       [ 2.77e-11, -8.73e-08,  2.48e-07, ...,  8.47e-05, -8.30e-05,\n",
       "         2.42e-04],\n",
       "       [ 2.19e-12,  3.03e-08, -6.06e-08, ...,  1.20e-04, -1.03e-04,\n",
       "         3.36e-04],\n",
       "       ...,\n",
       "       [ 4.43e-03, -6.48e-03,  1.15e-02, ...,  2.19e-03,  2.30e-03,\n",
       "         3.33e-03],\n",
       "       [ 2.46e-03, -4.92e-03,  8.03e-03, ..., -5.65e-03, -5.16e-03,\n",
       "        -8.72e-03],\n",
       "       [ 3.89e-03, -7.84e-03,  8.08e-03, ..., -9.25e-03, -3.60e-03,\n",
       "        -4.16e-03]], dtype=float32)"
      ]
     },
     "execution_count": 78,
     "metadata": {},
     "output_type": "execute_result"
    }
   ],
   "source": [
    "# SVD 사용 차원 축소\n",
    "print('calculating SVD ...')\n",
    "\n",
    "# truncated SVD : 속도가 빠르다\n",
    "from sklearn.utils.extmath import randomized_svd\n",
    "\n",
    "U,S,V = randomized_svd(W,n_components=wordvec_size, n_iter=5,random_state=None)\n",
    "\n",
    "# numpy : 속도가 느리다\n",
    "# U,S,V = np.linalg.svd(W)\n",
    "\n",
    "print(U.shape)\n",
    "word_vecs = U[:,:wordvec_size]\n",
    "print(word_vecs.shape)  # (1000,100)\n",
    "word_vecs"
   ]
  },
  {
   "cell_type": "code",
   "execution_count": 79,
   "metadata": {},
   "outputs": [
    {
     "name": "stdout",
     "output_type": "stream",
     "text": [
      "\n",
      "[query] say\n",
      " believe: 0.5495587587356567\n",
      " contend: 0.5216240882873535\n",
      " agree: 0.4993257522583008\n",
      " predict: 0.49829721450805664\n",
      " alike: 0.48113489151000977\n"
     ]
    }
   ],
   "source": [
    "most_similar('say',word_to_id,id_to_word,word_vecs,top=5)"
   ]
  },
  {
   "cell_type": "code",
   "execution_count": 81,
   "metadata": {},
   "outputs": [
    {
     "name": "stdout",
     "output_type": "stream",
     "text": [
      "\n",
      "[query] i\n",
      " we: 0.7312958240509033\n",
      " 'm: 0.7298867702484131\n",
      " you: 0.6612789630889893\n",
      " 've: 0.5399323105812073\n",
      " am: 0.5349516868591309\n"
     ]
    }
   ],
   "source": [
    "most_similar('i',word_to_id,id_to_word,word_vecs,top=5)"
   ]
  },
  {
   "cell_type": "code",
   "execution_count": null,
   "metadata": {},
   "outputs": [],
   "source": []
  }
 ],
 "metadata": {
  "kernelspec": {
   "display_name": "Python 3",
   "language": "python",
   "name": "python3"
  },
  "language_info": {
   "codemirror_mode": {
    "name": "ipython",
    "version": 3
   },
   "file_extension": ".py",
   "mimetype": "text/x-python",
   "name": "python",
   "nbconvert_exporter": "python",
   "pygments_lexer": "ipython3",
   "version": "3.7.6"
  }
 },
 "nbformat": 4,
 "nbformat_minor": 4
}
